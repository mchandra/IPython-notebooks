{
 "metadata": {
  "name": ""
 },
 "nbformat": 3,
 "nbformat_minor": 0,
 "worksheets": [
  {
   "cells": [
    {
     "cell_type": "code",
     "collapsed": false,
     "input": [
      "#%matplotlib inline\n",
      "import numpy as np\n",
      "import pylab as pl\n",
      "import scipy.special as sps\n",
      "from scipy.integrate import quad\n",
      "#from scipy.special import kn"
     ],
     "language": "python",
     "metadata": {},
     "outputs": [],
     "prompt_number": 1
    },
    {
     "cell_type": "code",
     "collapsed": false,
     "input": [
      "# Maxwell-Juettner and Kappa distributions\n",
      "m = 1.\n",
      "c = 1.\n",
      "theta = 10.\n",
      "\n",
      "p = np.arange(-100., 100., 0.01)\n",
      "\n",
      "#normalized Maxwell-Juettner distribution\n",
      "def maxwell_juettner(p, theta): \n",
      "    gamma = np.sqrt(1. + (p/(m*c))**2.)\n",
      "    f = 1./(4. * np.pi * m**3. * c**3. * theta * sps.kn(2., 1./theta)) * np.exp(-gamma/theta)\n",
      "    return f\n",
      "\n",
      "#unnormalized kappa distribution\n",
      "def kappa_notnormed(p, theta, kappa):\n",
      "    #normalization = (4 * np.pi)**-1 * 1/((8. * sps.beta(3./2. , kappa - 2.)/(2. * kappa - 1.)) * (3. * sps.hyp2f1(kappa + 1., 5./2., kappa + 1./2., 1. - 2./(kappa * theta**2)) + (kappa - 2.) * sps.hyp2f1(kappa + 1., 3./2., kappa + 1./2., 1. - 2./(kappa * theta**2.))))\n",
      "    f = (1. + (np.sqrt(1. + p**2.) - 1.)/(kappa * theta**2.))**(-(kappa + 1.))\n",
      "    return f\n",
      "\n",
      "#kappa distribution with numerical normalization\n",
      "def kappa_distribution_n(p, theta, kappa):\n",
      "    norm = quad(lambda p: 4. * np.pi * p**2 * kappa_notnormed(p, theta, kappa), 0, np.inf)\n",
      "    f = (1./norm[0]) * kappa_notnormed(p, theta, kappa)\n",
      "    return f\n",
      "\n",
      "#kappa distribution with analytic normalization\n",
      "def kappa_distribution_a(p, theta, kappa):\n",
      "    norm = (4. * np.pi)**-1. * 1./((8. * sps.beta(3./2. , kappa - 2.)/(2. * kappa - 1.)) * (3. * sps.hyp2f1(kappa + 1., 5./2., kappa + 1./2., 1. - 2./(kappa * theta**2)) + (kappa - 2.) * sps.hyp2f1(kappa + 1., 3./2., kappa + 1./2., 1. - 2./(kappa * theta**2.))))\n",
      "    f = (norm) * kappa_notnormed(p, theta, kappa)\n",
      "    return f\n",
      "\n",
      "#for some reason, the center of the M-J seems to be e03 higher than that of kappa...?\n",
      "print kappa_distribution_a(0., theta, 150.)\n",
      "print kappa_distribution_n(0., theta, 150.)\n",
      "print maxwell_juettner(0., theta)\n",
      "\n",
      "#testing that all three distributions are normalized\n",
      "test1 = quad(lambda p: 4. * np.pi * p**2. * maxwell_juettner(p, theta), 0, np.inf)\n",
      "print test1[0]\n",
      "test2 = quad(lambda p: 4. * np.pi * p**2. * kappa_distribution_a(p, theta, 100), 0, np.inf)\n",
      "print test2[0]\n",
      "test3 = quad(lambda p: 4. * np.pi * p**2. * kappa_distribution_a(p, theta, 100), 0, np.inf)\n",
      "print test3[0]\n"
     ],
     "language": "python",
     "metadata": {},
     "outputs": [
      {
       "output_type": "stream",
       "stream": "stdout",
       "text": [
        "3.86145577758e-08\n",
        "3.86145577758e-08\n",
        "3.60918511152e-05\n",
        "1.0\n",
        "1.0\n",
        "1.0"
       ]
      },
      {
       "output_type": "stream",
       "stream": "stdout",
       "text": [
        "\n"
       ]
      }
     ],
     "prompt_number": 28
    },
    {
     "cell_type": "code",
     "collapsed": false,
     "input": [
      "#two sample Maxwell-Juettner distributions at different theta\n",
      "\n",
      "pl.semilogy(p, maxwell_juettner(p, 1), label='$\\\\theta = 1$')\n",
      "pl.semilogy(p, maxwell_juettner(p, 2), label='$\\\\theta = 2$')\n",
      "pl.legend()"
     ],
     "language": "python",
     "metadata": {},
     "outputs": [
      {
       "metadata": {},
       "output_type": "pyout",
       "prompt_number": 3,
       "text": [
        "<matplotlib.legend.Legend at 0x7f82f40eadd0>"
       ]
      },
      {
       "metadata": {},
       "output_type": "display_data",
       "png": "[encoded data removed]",
       "text": [
        "<matplotlib.figure.Figure at 0x7f82f416b390>"
       ]
      }
     ],
     "prompt_number": 3
    },
    {
     "cell_type": "code",
     "collapsed": false,
     "input": [
      "#three sample Kappa distributions for various values of kappa\n",
      "\n",
      "pl.semilogy(p, kappa_distribution(p, 1, 3), label='$\\\\kappa = 3$')\n",
      "pl.semilogy(p, kappa_distribution(p, 1, 10), label='$\\\\kappa = 10$')\n",
      "pl.semilogy(p, kappa_distribution(p, 1, 100), label='$\\\\kappa = 100$')\n",
      "pl.legend()"
     ],
     "language": "python",
     "metadata": {},
     "outputs": [
      {
       "ename": "NameError",
       "evalue": "name 'kappa_distribution' is not defined",
       "output_type": "pyerr",
       "traceback": [
        "\u001b[0;31m---------------------------------------------------------------------------\u001b[0m\n\u001b[0;31mNameError\u001b[0m                                 Traceback (most recent call last)",
        "\u001b[0;32m<ipython-input-6-19236f000f34>\u001b[0m in \u001b[0;36m<module>\u001b[0;34m()\u001b[0m\n\u001b[1;32m      1\u001b[0m \u001b[0;31m#three sample Kappa distributions for various values of kappa\u001b[0m\u001b[0;34m\u001b[0m\u001b[0;34m\u001b[0m\u001b[0m\n\u001b[1;32m      2\u001b[0m \u001b[0;34m\u001b[0m\u001b[0m\n\u001b[0;32m----> 3\u001b[0;31m \u001b[0mpl\u001b[0m\u001b[0;34m.\u001b[0m\u001b[0msemilogy\u001b[0m\u001b[0;34m(\u001b[0m\u001b[0mp\u001b[0m\u001b[0;34m,\u001b[0m \u001b[0mkappa_distribution\u001b[0m\u001b[0;34m(\u001b[0m\u001b[0mp\u001b[0m\u001b[0;34m,\u001b[0m \u001b[0;36m1\u001b[0m\u001b[0;34m,\u001b[0m \u001b[0;36m3\u001b[0m\u001b[0;34m)\u001b[0m\u001b[0;34m,\u001b[0m \u001b[0mlabel\u001b[0m\u001b[0;34m=\u001b[0m\u001b[0;34m'$\\\\kappa = 3$'\u001b[0m\u001b[0;34m)\u001b[0m\u001b[0;34m\u001b[0m\u001b[0m\n\u001b[0m\u001b[1;32m      4\u001b[0m \u001b[0mpl\u001b[0m\u001b[0;34m.\u001b[0m\u001b[0msemilogy\u001b[0m\u001b[0;34m(\u001b[0m\u001b[0mp\u001b[0m\u001b[0;34m,\u001b[0m \u001b[0mkappa_distribution\u001b[0m\u001b[0;34m(\u001b[0m\u001b[0mp\u001b[0m\u001b[0;34m,\u001b[0m \u001b[0;36m1\u001b[0m\u001b[0;34m,\u001b[0m \u001b[0;36m10\u001b[0m\u001b[0;34m)\u001b[0m\u001b[0;34m,\u001b[0m \u001b[0mlabel\u001b[0m\u001b[0;34m=\u001b[0m\u001b[0;34m'$\\\\kappa = 10$'\u001b[0m\u001b[0;34m)\u001b[0m\u001b[0;34m\u001b[0m\u001b[0m\n\u001b[1;32m      5\u001b[0m \u001b[0mpl\u001b[0m\u001b[0;34m.\u001b[0m\u001b[0msemilogy\u001b[0m\u001b[0;34m(\u001b[0m\u001b[0mp\u001b[0m\u001b[0;34m,\u001b[0m \u001b[0mkappa_distribution\u001b[0m\u001b[0;34m(\u001b[0m\u001b[0mp\u001b[0m\u001b[0;34m,\u001b[0m \u001b[0;36m1\u001b[0m\u001b[0;34m,\u001b[0m \u001b[0;36m100\u001b[0m\u001b[0;34m)\u001b[0m\u001b[0;34m,\u001b[0m \u001b[0mlabel\u001b[0m\u001b[0;34m=\u001b[0m\u001b[0;34m'$\\\\kappa = 100$'\u001b[0m\u001b[0;34m)\u001b[0m\u001b[0;34m\u001b[0m\u001b[0m\n",
        "\u001b[0;31mNameError\u001b[0m: name 'kappa_distribution' is not defined"
       ]
      }
     ],
     "prompt_number": 6
    },
    {
     "cell_type": "code",
     "collapsed": false,
     "input": [
      "#Kappa (with high kappa) and Maxwell-Juettner distribution \n",
      "clf()\n",
      "pl.semilogy(p, maxwell_juettner(p, 0.5), label='M-J')\n",
      "#pl.semilogy(p, kappa_distribution_a(p, 2., 100.), label='$\\\\kappa=150$')\n",
      "pl.semilogy(p, kappa_distribution_n(p, .5, 50.), label='$\\\\kappa=150$')\n",
      "pl.semilogy(p, kappa_distribution_n(p, .5, 100.), label='$\\\\kappa=150$')\n",
      "pl.semilogy(p, kappa_distribution_n(p, .5, 150.), label='$\\\\kappa=150$')\n",
      "pl.semilogy(p, kappa_distribution_n(p, .5, 200.), label='$\\\\kappa=150$')\n",
      "\n",
      "\n",
      "#pl.legend()"
     ],
     "language": "python",
     "metadata": {},
     "outputs": [
      {
       "metadata": {},
       "output_type": "pyout",
       "prompt_number": 42,
       "text": [
        "[<matplotlib.lines.Line2D at 0x7f9e2db633d0>]"
       ]
      }
     ],
     "prompt_number": 42
    },
    {
     "cell_type": "code",
     "collapsed": false,
     "input": [
      "#Maxwell-Juettner, kappa with numerical normalization, and kappa with analytic normalization\n",
      "#figure(figsize=(12, 7.5))\n",
      "pl.semilogy(p, kappa_distribution_n(p, 1, 10), label='$\\\\kappa = 10$, Numerical normalization')\n",
      "pl.semilogy(p, kappa_distribution_a(p, 1, 10), '--', linewidth=2, color='black', label='$\\\\kappa = 10$, Analytic normalization')\n",
      "pl.semilogy(p, maxwell_juettner(p, 1), label='Maxwell-Juettner')\n",
      "pl.legend(loc='lower center')\n",
      "pl.xlabel('$p$')\n",
      "pl.ylabel('$\\\\log_{10}(f)$')"
     ],
     "language": "python",
     "metadata": {},
     "outputs": [
      {
       "metadata": {},
       "output_type": "pyout",
       "prompt_number": 13,
       "text": [
        "<matplotlib.text.Text at 0x7f9e45ff41d0>"
       ]
      }
     ],
     "prompt_number": 13
    },
    {
     "cell_type": "code",
     "collapsed": false,
     "input": [
      "kappa_distribution_a(0., 10., 150)"
     ],
     "language": "python",
     "metadata": {},
     "outputs": [
      {
       "metadata": {},
       "output_type": "pyout",
       "prompt_number": 21,
       "text": [
        "3.8614557775811439e-08"
       ]
      }
     ],
     "prompt_number": 21
    },
    {
     "cell_type": "code",
     "collapsed": false,
     "input": [
      "kappa_distribution_n(0., 10., 150)"
     ],
     "language": "python",
     "metadata": {},
     "outputs": [
      {
       "metadata": {},
       "output_type": "pyout",
       "prompt_number": 22,
       "text": [
        "3.8614557775821822e-08"
       ]
      }
     ],
     "prompt_number": 22
    },
    {
     "cell_type": "code",
     "collapsed": false,
     "input": [
      "maxwell_juettner(0., 10.)"
     ],
     "language": "python",
     "metadata": {},
     "outputs": [
      {
       "metadata": {},
       "output_type": "pyout",
       "prompt_number": 23,
       "text": [
        "3.6091851115156011e-05"
       ]
      }
     ],
     "prompt_number": 23
    },
    {
     "cell_type": "code",
     "collapsed": false,
     "input": [],
     "language": "python",
     "metadata": {},
     "outputs": []
    }
   ],
   "metadata": {}
  }
 ]
}