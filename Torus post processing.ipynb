{
 "metadata": {
  "name": ""
 },
 "nbformat": 3,
 "nbformat_minor": 0,
 "worksheets": [
  {
   "cells": [
    {
     "cell_type": "code",
     "collapsed": false,
     "input": [
      "import glob\n",
      "import h5py\n",
      "\n",
      "filepath = '/home/mc/data/mc/PhD/stampede_data/N512-EMHD_2'\n",
      "\n",
      "data_files = np.sort(glob.glob(filepath+'/data*.h5'))\n",
      "\n",
      "N1 = 560\n",
      "N2 = 512\n",
      "dof = 10\n",
      "NG = 3\n",
      "A_SPIN = 0.9375\n",
      "H_SLOPE = 0.3\n",
      "R_IN = 0.98*(1. + sqrt(1. - A_SPIN**2.))\n",
      "R_OUT = 63.\n",
      "X1_START = log(R_IN)\n",
      "X2_START = 1e-20\n",
      "DX1 = (log((R_OUT)/(R_IN))/N1)\n",
      "DX2 = ((1. - 2.*X2_START)/N2)\n",
      "i = arange(-NG, N1+NG, 1)\n",
      "j = arange(-NG, N2+NG, 1)\n",
      "X1 = (X1_START + (i + 0.5)*DX1)\n",
      "X2 = (X2_START + (j + 0.5)*DX2)\n",
      "R = exp(X1)\n",
      "THETA = pi*(X2) + ((1 - H_SLOPE)/2.)*sin(2.*pi*(X2))\n",
      "\n",
      "data = zeros([N2, N1, dof, data_files.size]) \n",
      "\n",
      "# Load the primitive variables\n",
      "for i, dumpfile in enumerate(data_files):\n",
      "    print \"i = \", i\n",
      "    datafile = h5py.File(dumpfile, \"r\")\n",
      "    data[:, :, :, i] = datafile[datafile.items()[0][0]][:]\n",
      "    datafile.close()\n",
      "    \n",
      "# Load the geometry\n",
      "gcov = zeros([N2, N1, 4, 4])\n",
      "gcon = zeros([N2, N1, 4, 4])\n",
      "gammaDownDownDown = zeros([N2, N1, 4, 4, 4])\n",
      "gammaUpDownDown = zeros([N2, N1, 4, 4, 4])\n",
      "\n",
      "dumpfile = filepath + '/gcov.h5'\n",
      "datafile = h5py.File(dumpfile, \"r\")\n",
      "for mu in xrange(4):\n",
      "    for nu in xrange(4):\n",
      "        gcov[:, :, mu, nu] = datafile[datafile.items()[0][0]][:][:, :, nu + 4*mu]\n",
      "        \n",
      "dumpfile = filepath + '/gcon.h5'\n",
      "datafile = h5py.File(dumpfile, \"r\")\n",
      "for mu in xrange(4):\n",
      "    for nu in xrange(4):\n",
      "        gcon[:, :, mu, nu] = datafile[datafile.items()[0][0]][:][:, :, nu + 4*mu]\n",
      "        \n",
      "dumpfile = filepath + '/gammaUpdowndown.h5'\n",
      "datafile = h5py.File(dumpfile, \"r\")\n",
      "for eta in xrange(4):\n",
      "    for mu in xrange(4):\n",
      "        for nu in xrange(4):\n",
      "            gammaDownDownDown[:, :, eta, mu, nu] = \\\n",
      "                datafile[datafile.items()[0][0]][:][:, :, nu + 4*(mu + 4*eta)]\n",
      "                \n",
      "g = zeros([N2, N1])\n",
      "for j in xrange(N2):\n",
      "    for i in xrange(N1):\n",
      "        g[j, i] = sqrt(-linalg.det(gcov[j, i, :, :]))"
     ],
     "language": "python",
     "metadata": {},
     "outputs": [
      {
       "output_type": "stream",
       "stream": "stdout",
       "text": [
        "i =  0\n",
        "i = "
       ]
      },
      {
       "output_type": "stream",
       "stream": "stdout",
       "text": [
        " 1\n",
        "i = "
       ]
      },
      {
       "output_type": "stream",
       "stream": "stdout",
       "text": [
        " 2\n",
        "i = "
       ]
      },
      {
       "output_type": "stream",
       "stream": "stdout",
       "text": [
        " 3\n",
        "i = "
       ]
      },
      {
       "output_type": "stream",
       "stream": "stdout",
       "text": [
        " 4\n",
        "i = "
       ]
      },
      {
       "output_type": "stream",
       "stream": "stdout",
       "text": [
        " 5\n",
        "i = "
       ]
      },
      {
       "output_type": "stream",
       "stream": "stdout",
       "text": [
        " 6\n",
        "i = "
       ]
      },
      {
       "output_type": "stream",
       "stream": "stdout",
       "text": [
        " 7\n",
        "i = "
       ]
      },
      {
       "output_type": "stream",
       "stream": "stdout",
       "text": [
        " 8\n",
        "i = "
       ]
      },
      {
       "output_type": "stream",
       "stream": "stdout",
       "text": [
        " 9\n",
        "i = "
       ]
      },
      {
       "output_type": "stream",
       "stream": "stdout",
       "text": [
        " 10\n",
        "i = "
       ]
      },
      {
       "output_type": "stream",
       "stream": "stdout",
       "text": [
        " 11\n",
        "i = "
       ]
      },
      {
       "output_type": "stream",
       "stream": "stdout",
       "text": [
        " 12\n",
        "i = "
       ]
      },
      {
       "output_type": "stream",
       "stream": "stdout",
       "text": [
        " 13\n",
        "i = "
       ]
      },
      {
       "output_type": "stream",
       "stream": "stdout",
       "text": [
        " 14\n",
        "i = "
       ]
      },
      {
       "output_type": "stream",
       "stream": "stdout",
       "text": [
        " 15\n",
        "i = "
       ]
      },
      {
       "output_type": "stream",
       "stream": "stdout",
       "text": [
        " 16\n",
        "i = "
       ]
      },
      {
       "output_type": "stream",
       "stream": "stdout",
       "text": [
        " 17\n",
        "i = "
       ]
      },
      {
       "output_type": "stream",
       "stream": "stdout",
       "text": [
        " 18\n",
        "i = "
       ]
      },
      {
       "output_type": "stream",
       "stream": "stdout",
       "text": [
        " 19\n",
        "i = "
       ]
      },
      {
       "output_type": "stream",
       "stream": "stdout",
       "text": [
        " 20\n",
        "i = "
       ]
      },
      {
       "output_type": "stream",
       "stream": "stdout",
       "text": [
        " 21\n",
        "i = "
       ]
      },
      {
       "output_type": "stream",
       "stream": "stdout",
       "text": [
        " 22\n",
        "i = "
       ]
      }
     ],
     "prompt_number": "*"
    },
    {
     "cell_type": "code",
     "collapsed": false,
     "input": [
      "# Execute this to compute the magnetic vector potential. Needed to plot the magnetic field lines.\n",
      "# Warning: Computation is expensive. To compute for just the last step, set start = data_files.size - 1\n",
      "\n",
      "from scipy.integrate import trapz\n",
      "\n",
      "A_phi = zeros([N2, N1, data_files.size])\n",
      "\n",
      "start = data_files.size-1\n",
      "end   = data_files.size\n",
      "\n",
      "for step in xrange(start, end):\n",
      "    print \"step = \", step\n",
      "    B1 = data[:, :, 5, step]\n",
      "    B2 = data[:, :, 6, step]\n",
      "\n",
      "    for j in xrange(N2):\n",
      "        for i in xrange(N1):\n",
      "            A_phi[j, i, step] = trapz(g[j, :i]*B2[j, :i], dx=DX1) - trapz(g[:j, i]*B1[:j, i], dx=DX2)"
     ],
     "language": "python",
     "metadata": {},
     "outputs": [
      {
       "output_type": "stream",
       "stream": "stdout",
       "text": [
        "step =  40\n"
       ]
      }
     ],
     "prompt_number": 6
    },
    {
     "cell_type": "code",
     "collapsed": false,
     "input": [
      "# Plotting...\n",
      "#figure(figsize=(14, 10))\n",
      "figure(figsize=(24, 10))\n",
      "#figure(figsize=(24, 20))\n",
      "\n",
      "xmin = 0.1\n",
      "xmax = 20\n",
      "ymin = -20\n",
      "ymax = 20\n",
      "\n",
      "clf()\n",
      "\n",
      "step = -1\n",
      "\n",
      "R_grid, THETA_grid = meshgrid(R[NG:-NG], THETA[NG:-NG])\n",
      "X = R_grid*sin(THETA_grid)\n",
      "Y = R_grid*cos(THETA_grid)\n",
      "\n",
      "alpha = sqrt(-gcon[:,:,0,0])**(-1)\n",
      "rho   = data[:, :, 0, step]\n",
      "u     = data[:, :, 1, step]\n",
      "gammaAdiabatic = 4./3\n",
      "P     = (gammaAdiabatic - 1.)*u\n",
      "cs    = sqrt(gammaAdiabatic*P/(rho + gammaAdiabatic*u) )\n",
      "T     = P/rho\n",
      "betaC = 1/(rho * cs**2 * T)\n",
      "betaV = 0.5/cs**2./rho\n",
      "phi   = data[:, :, 8, step]\n",
      "psi   = data[:, :, 9, step]\n",
      "q     = phi * sqrt(T/betaC)\n",
      "DeltaP= psi * sqrt(T/betaV)\n",
      "ans   = abs(q/(rho * cs**3.))\n",
      "\n",
      "uGrid = data[:, :, 2:5, step]\n",
      "bGrid = data[:, :, 5:8, step]\n",
      "gamma = rho*0.+1\n",
      "for i in xrange(0, 3):\n",
      "    for j in xrange(0, 3):\n",
      "        gamma += gcov[:,:,i+1,j+1]*uGrid[:,:,i]*uGrid[:,:,j]\n",
      "gamma = sqrt(gamma)\n",
      "\n",
      "uCon = zeros([N2, N1, 4])\n",
      "uCon[:,:,0] = gamma / alpha\n",
      "for i in xrange(1, 4):\n",
      "    uCon[:,:,i] = uGrid[:,:,i-1]-gamma*alpha*gcon[:,:,0,i]\n",
      "\n",
      "uCov = zeros([N2, N1, 4])\n",
      "for i in xrange(0, 4):\n",
      "    for j in xrange(0, 4):\n",
      "        uCov[:,:,i]+=gcov[:,:,i,j]*uCon[:,:,j]\n",
      "\n",
      "bCon = zeros([N2, N1, 4])    \n",
      "for i in xrange(0, 3):\n",
      "    bCon[:,:,0]+=bGrid[:,:,i]*uCov[:,:,i+1]\n",
      "\n",
      "for i in xrange(0, 3):\n",
      "    bCon[:,:,i+1]=(bGrid[:,:,i]+bCon[:,:,0]*uCon[:,:,i+1])/uCon[:,:,0]\n",
      "\n",
      "bCov = zeros([N2, N1, 4])\n",
      "for i in xrange(0, 4):\n",
      "    for j in xrange(0, 4):\n",
      "        bCov[:,:,i]+=gcov[:,:,i,j]*bCon[:,:,j]\n",
      "        \n",
      "bSqr = zeros([N2, N1])\n",
      "for i in xrange(0, 4):\n",
      "    bSqr += bCov[:,:,i]*bCon[:,:,i]\n",
      "\n",
      "    \n",
      "subplot(131)\n",
      "#contourf(X, Y, log10(abs(data[:, :, 0, step]) ), 100)\n",
      "contourf(X, Y, log10(rho), linspace(-6, 0, 100))\n",
      "ax = gca()\n",
      "ax.patch.set_facecolor('black')\n",
      "\n",
      "xlim(xmin=xmin)\n",
      "xlim(xmax=xmax)\n",
      "ylim(ymax=ymax)\n",
      "ylim(ymin=ymin)\n",
      "colorbar()\n",
      "N_start = 1\n",
      "# Uncomment below lines to plot magnetic field lines. Must execute above code block to do so.\n",
      "#contour(X[N_start:-N_start, N_start:-N_start],\n",
      "#        Y[N_start:-N_start, N_start:-N_start],\n",
      "#        A_phi[N_start:-N_start, N_start:-N_start, step],\n",
      "#        100, colors='black', linestyles='solid', alpha=0.25)\n",
      "\n",
      "title('$\\\\log_{10}(\\\\rho)$')\n",
      "#title('$\\\\log_{10}(q/\\\\rho c_s^3)$')\n",
      "\n",
      "subplot(132)\n",
      "ax = gca()\n",
      "ax.patch.set_facecolor('black')\n",
      "\n",
      "#ans = log10(abs(data[:, :, -1, step]))\n",
      "#ans   = log10(abs(data[:, :, -1, step])/(rho*cs**3.) )\n",
      "#indices = where(ans>0.)\n",
      "#ans[indices] = 0.\n",
      "contourf(X, Y, ((DeltaP/bSqr)), linspace(-1.1, 0.6, 100))\n",
      "ax = gca()\n",
      "ax.patch.set_facecolor('black')\n",
      "\n",
      "xlim(xmin=xmin)\n",
      "xlim(xmax=xmax)\n",
      "ylim(ymax=ymax)\n",
      "ylim(ymin=ymin)\n",
      "\n",
      "colorbar()\n",
      "\n",
      "contour(X[N_start:-N_start, N_start:-N_start],\n",
      "        Y[N_start:-N_start, N_start:-N_start],\n",
      "        A_phi[N_start:-N_start, N_start:-N_start, step],\n",
      "        100, colors='black', linestyles='solid', alpha=0.25)\n",
      "\n",
      "\n",
      "#title('$\\\\log_{10}(q/\\\\rho c_s^3)$')\n",
      "title('${\\Delta P/b^2}$')\n",
      "\n",
      "subplot(133)\n",
      "contourf(X, Y, log10(abs(q/rho/cs**3.) ), 100)\n",
      "ax = gca()\n",
      "ax.patch.set_facecolor('black')\n",
      "\n",
      "xlim(xmin=xmin)\n",
      "xlim(xmax=xmax)\n",
      "ylim(ymax=ymax)\n",
      "ylim(ymin=ymin)\n",
      "\n",
      "title('$\\\\log_{10}(q/\\\\rho c_s^3)$')\n",
      "colorbar()\n",
      "contour(X[N_start:-N_start, N_start:-N_start],\n",
      "        Y[N_start:-N_start, N_start:-N_start],\n",
      "        A_phi[N_start:-N_start, N_start:-N_start, step],\n",
      "        100, colors='black', linestyles='solid', alpha=0.25)\n",
      "\n",
      "\n",
      "\n",
      "#suptitle('t = 1500 M')\n",
      "tight_layout()"
     ],
     "language": "python",
     "metadata": {},
     "outputs": [],
     "prompt_number": 66
    },
    {
     "cell_type": "code",
     "collapsed": false,
     "input": [
      "# Sample code to make movie\n",
      "figure(figsize=(7, 12))\n",
      "for i in xrange(data_files.size):\n",
      "    print \"File number = \", i\n",
      "    ax = gca()\n",
      "    ax.patch.set_facecolor('black')\n",
      "    contourf(X, Y, log10(data[:, :, 0, i]), 500)\n",
      "    j = i + 1001\n",
      "    title('$\\\\log_{10}(\\\\rho)$ at t = ' + str(j)+' M')\n",
      "    #colorbar()\n",
      "    savefig('/home/mc/data/mc/bh27/plot_torus_256x256_' + '%04d'%j + '.png')\n",
      "    clf()"
     ],
     "language": "python",
     "metadata": {},
     "outputs": []
    }
   ],
   "metadata": {}
  }
 ]
}