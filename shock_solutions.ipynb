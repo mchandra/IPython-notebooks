{
 "metadata": {
  "name": "",
  "signature": "sha256:f80c692a6be3447731fdd4c7ed1c96186f9a25aa7ae0eb53adc8ea31e9900212"
 },
 "nbformat": 3,
 "nbformat_minor": 0,
 "worksheets": [
  {
   "cells": [
    {
     "cell_type": "code",
     "collapsed": false,
     "input": [
      "%qtconsole"
     ],
     "language": "python",
     "metadata": {},
     "outputs": [],
     "prompt_number": 43
    },
    {
     "cell_type": "code",
     "collapsed": false,
     "input": [
      ".2from scipy.integrate import odeint\n",
      "from scipy.optimize  import root\n",
      "from scipy.interpolate import splrep, splev\n",
      "from scipy.integrate import trapz\n",
      "\n",
      "# Inputs for obtaining the Rankine-Hugoniot jump conditions\n",
      "\n",
      "rhoLeft   = 1.\n",
      "uLeft     = 1.\n",
      "u1Left    = 1.\n",
      "amplitude = 100.\n",
      "nTrials   = 100\n",
      "tol       = 1e-5 # Right solution must be different than the left solution by atleast tol.\n",
      "\n",
      "# Inputs for shock integration\n",
      "nIter        = 5\n",
      "phi          = 0.01\n",
      "tauDynamical = 1.\n",
      "#sharpness    = 86.2417285\n",
      "sharpness = 100.\n",
      "Gamma        = 4./3\n",
      "B1           = 0.00001\n",
      "B2           = 0.\n",
      "B3           = 0.\n",
      "\n",
      "N      = 512 # Grid points in x1\n",
      "xStart = -.2\n",
      "xEnd   =  .2 # Shock is assumed to be located at the center\n",
      "\n",
      "dx1    = (xEnd - xStart)/N\n",
      "iGlobal      = arange(0, N, 1)\n",
      "x1     = xStart + (iGlobal + 0.5)*dx1\n",
      "\n",
      "rhoBackground = np.zeros([x1.size, nIter])\n",
      "uBackground   = np.zeros([x1.size, nIter])\n",
      "u1Background  = np.zeros([x1.size, nIter])\n",
      "qBackground   = np.zeros([x1.size, nIter])\n",
      "visBackground   = np.zeros([x1.size, nIter])\n",
      "temperatureBackground = np.zeros([x1.size, nIter])\n",
      "gammaBackground = np.zeros([x1.size, nIter])"
     ],
     "language": "python",
     "metadata": {},
     "outputs": [],
     "prompt_number": 113
    },
    {
     "cell_type": "markdown",
     "metadata": {},
     "source": [
      "First get the left and right states: "
     ]
    },
    {
     "cell_type": "code",
     "collapsed": false,
     "input": [
      "def delta(mu, nu):\n",
      "    if (mu==nu):\n",
      "        return 1\n",
      "    else:\n",
      "        return 0\n",
      "\n",
      "def TUpDownIdeal(mu, nu, Y):\n",
      "    rho = Y[0]\n",
      "    u   = Y[1]\n",
      "    u1  = Y[2]\n",
      "\n",
      "    P   = (Gamma - 1)*u\n",
      "\n",
      "    gamma = sqrt(1 + u1*u1)\n",
      "    ucon  = [gamma, u1, 0, 0]\n",
      "    ucov  = [-gamma, u1, 0, 0]\n",
      "    \n",
      "    bcon0 = B1*ucov[1] + B2*ucov[2] + B3*ucov[3]\n",
      "    bcon1 = (B1 + bcon0*ucon[1])/ucon[0]\n",
      "    bcon2 = (B2 + bcon0*ucon[2])/ucon[0]\n",
      "    bcon3 = (B3 + bcon0*ucon[3])/ucon[0]\n",
      "    \n",
      "    bcon = [bcon0, bcon1, bcon2, bcon3]\n",
      "    bcov = [-bcon0, bcon1, bcon2, bcon3]\n",
      "    bsqr = bcon[0]*bcov[0] + bcon[1]*bcov[1] + bcon[2]*bcov[2] + bcon[3]*bcov[3]\n",
      "\n",
      "    ans  =   (rho + u + P + bsqr)*ucon[mu]*ucov[nu] + (P + bsqr/2.)*delta(mu, nu) - bcon[mu]*bcov[nu]\n",
      "\n",
      "    return ans\n",
      "\n",
      "def jumpConditions(YRight, YLeft):\n",
      "    rhoLeft  = YLeft[0]\n",
      "    u1Left   = YLeft[2]\n",
      "\n",
      "    rhoRight = YRight[0]\n",
      "    u1Right  = YRight[2]    \n",
      "    \n",
      "    Eqn_rho = rhoLeft*u1Left            - rhoRight*u1Right\n",
      "    Eqn_u   = TUpDownIdeal(1, 0, YLeft) - TUpDownIdeal(1, 0, YRight)\n",
      "    Eqn_u1  = TUpDownIdeal(1, 1, YLeft) - TUpDownIdeal(1, 1, YRight)\n",
      "\n",
      "    return [Eqn_rho, Eqn_u, Eqn_u1]\n",
      "\n",
      "solnLeftIdeal  = array([rhoLeft, uLeft, u1Left])\n",
      "\n",
      "for n in xrange(nTrials): \n",
      "    solnRightIdeal = amplitude*random.rand(3)\n",
      "    soln   = root(jumpConditions, solnRightIdeal, args=(solnLeftIdeal))\n",
      "    solnRightIdeal = array(soln.x)\n",
      "    diff = sum(solnRightIdeal - solnLeftIdeal)\n",
      "    if ((diff > tol) and soln.message=='The solution converged.'):\n",
      "        break\n",
      "\n",
      "solnRightIdeal = array(soln.x)\n",
      "rhoRight = solnRightIdeal[0]\n",
      "uRight   = solnRightIdeal[1]\n",
      "u1Right  = solnRightIdeal[2]\n",
      "\n",
      "fluxRhoLeft = rhoLeft*u1Left\n",
      "fluxULeft   = TUpDownIdeal(1, 0, solnLeftIdeal)\n",
      "fluxU1Left  = TUpDownIdeal(1, 1, solnLeftIdeal)\n",
      "\n",
      "fluxRhoRight = rhoRight*u1Right\n",
      "fluxURight   = TUpDownIdeal(1, 0, solnRightIdeal)\n",
      "fluxU1Right  = TUpDownIdeal(1, 1, solnRightIdeal)\n",
      "\n",
      "fluxesLeft  = array([fluxRhoLeft, fluxULeft, fluxU1Left])\n",
      "fluxesRight = array([fluxRhoRight, fluxURight, fluxU1Right])\n",
      "\n",
      "if (n+1==nTrials or sum(abs(solnLeftIdeal - solnRightIdeal)) < tol):\n",
      "    print \"SOLUTION NOT FOUND: increase nTrials\"\n",
      "else:\n",
      "    print \"Solution found!\"\n",
      "    \n",
      "print \"Number of trials = \", n+1\n",
      "print \"Left solution    = \", solnLeftIdeal\n",
      "print \"Right solution   = \", soln.x\n",
      "print \"Left fluxes      = \", fluxesLeft\n",
      "print \"Right fluxes     = \", fluxesRight\n",
      "\n",
      "rhoBackground[:, 0] = rhoRight + 0.5*(rhoLeft - rhoRight)*(tanh(sharpness*-x1) + 1.)\n",
      "uBackground[:, 0]   = uRight   + 0.5*(uLeft   - uRight)  *(tanh(sharpness*-x1) + 1.)\n",
      "u1Background[:, 0]  = u1Right  + 0.5*(u1Left  - u1Right) *(tanh(sharpness*-x1) + 1.)\n",
      "gammaBackground[:, 0] = sqrt(1. + u1Background[:, 0]**2.)\n",
      "temperatureBackground[:, 0] = (Gamma - 1.)*uBackground[:, 0]/rhoBackground[:, 0]"
     ],
     "language": "python",
     "metadata": {},
     "outputs": [
      {
       "output_type": "stream",
       "stream": "stdout",
       "text": [
        "Solution found!\n",
        "Number of trials =  1\n",
        "Left solution    =  [ 1.  1.  1.]\n",
        "Right solution   =  [ 3.08312999  4.94577705  0.32434571]\n",
        "Left fluxes      =  [ 1.         -3.29983165  2.66666667]\n",
        "Right fluxes     =  [ 1.         -3.29983165  2.66666667]\n"
       ]
      }
     ],
     "prompt_number": 114
    },
    {
     "cell_type": "markdown",
     "metadata": {},
     "source": [
      "Is the shock solution path dependent? We build intuition on this by first integrating the heat flux across the shock by assuming a background flow with an interpolation between the left and the right states.\n",
      "\n",
      "\n",
      "$\\frac{\\partial q}{\\partial x} = -\\frac{q - q_0}{\\tau u^1}$\n",
      "\n",
      "where\n",
      "\n",
      "$q_0 = -\\kappa \\frac{\\partial T}{\\partial x} + $"
     ]
    },
    {
     "cell_type": "code",
     "collapsed": false,
     "input": [
      "step = 0\n",
      "temperatureTck  = splrep(x1, temperatureBackground[:, step])\n",
      "rhoTck          = splrep(x1, rhoBackground[:, step])\n",
      "uTck            = splrep(x1, uBackground[:, step])\n",
      "u1Tck           = splrep(x1, u1Background[:, step])\n",
      "gammaTck        = splrep(x1, gammaBackground[:, step])\n",
      "\n",
      "gcon = array([ [-1, 0, 0, 0],\n",
      "               [ 0, 1, 0, 0],\n",
      "               [ 0, 0, 1, 0],\n",
      "               [ 0, 0, 0, 1]\n",
      "             ]\n",
      "            )\n",
      "\n",
      "def dvis_dx1(Y, x1, tcks):\n",
      "    vis = Y[0]\n",
      "    \n",
      "    rhoTck = tcks[0]\n",
      "    uTck   = tcks[1]\n",
      "    u1Tck  = tcks[2]\n",
      "    temperatureTck = tcks[3]\n",
      "    gammaTck = tcks[4] \n",
      "\n",
      "    u1 = splev(x1, u1Tck)\n",
      "    du1_dx1 = splev(x1, u1Tck, der=1)\n",
      "    \n",
      "    zeta = 10.\n",
      "    tau = 0.01\n",
      "    vis0 = -zeta*du1_dx1\n",
      "    \n",
      "    return -(vis - vis0)/(tau*u1)\n",
      "\n",
      "def dq_dx1(Y, x1, tcks):\n",
      "    q = Y[0]\n",
      "    \n",
      "    rhoTck = tcks[0]\n",
      "    uTck   = tcks[1]\n",
      "    u1Tck  = tcks[2]\n",
      "    temperatureTck = tcks[3]\n",
      "    gammaTck = tcks[4] \n",
      "    \n",
      "    rho     = splev(x1, rhoTck)\n",
      "    u       = splev(x1, uTck)\n",
      "    u1      = splev(x1, u1Tck)\n",
      "    T       = splev(x1, temperatureTck)\n",
      "    dT_dx1  = splev(x1, temperatureTck, der=1)\n",
      "    du1_dx1 = splev(x1, u1Tck, der=1)\n",
      "    \n",
      "    gamma      = splev(x1, gammaTck)\n",
      "    ucon       = [gamma, u1, 0., 0.]\n",
      "    ucov       = [-gamma, u1, 0., 0.]\n",
      "    dgamma_dx1 = splev(x1, gammaTck, der=1)\n",
      "    ducon_dx1  = [dgamma_dx1, du1_dx1, 0., 0.]\n",
      "    ducov_dx1  = [-dgamma_dx1, du1_dx1, 0., 0.]\n",
      "    \n",
      "    acon0 = ucon[1]*ducon_dx1[0]\n",
      "    acon1 = ucon[1]*ducon_dx1[1]\n",
      "    acon2 = ucon[1]*ducon_dx1[2]\n",
      "    acon3 = ucon[1]*ducon_dx1[3]\n",
      "\n",
      "    acon = [acon0, acon1, acon2, acon3]\n",
      "    acov = [-acon0, acon1, acon2, acon3]\n",
      "    \n",
      "    bcon0 = B1*ucov[1] + B2*ucov[2] + B3*ucov[3]\n",
      "    bcon1 = (B1 + bcon0*ucon[1])/ucon[0]\n",
      "    bcon2 = (B2 + bcon0*ucon[2])/ucon[0]\n",
      "    bcon3 = (B3 + bcon0*ucon[3])/ucon[0]\n",
      "    \n",
      "    bcon = [bcon0, bcon1, bcon2, bcon3]\n",
      "    bcov = [-bcon0, bcon1, bcon2, bcon3]\n",
      "    bsqr = bcon[0]*bcov[0] + bcon[1]*bcov[1] + bcon[2]*bcov[2] + bcon[3]*bcov[3]\n",
      "\n",
      "    P      = (Gamma-1.)*u\n",
      "    cs     = (Gamma*P/(rho + u))**0.5\n",
      "    qCeil  = rho*cs**3.\n",
      "    y      = q/qCeil\n",
      "    lamda  = 0.01\n",
      "    fermiDirac = 1./(exp((y-1.)/lamda) + 1.) + 1e-3\n",
      "\n",
      "    tau   = tauDynamical*fermiDirac\n",
      "    kappa = phi*cs*cs*tau*rho\n",
      "    \n",
      "    qConEckart = np.zeros([4])\n",
      "    dT = np.zeros([4])\n",
      "    dT[0] = 0.; dT[1] = dT_dx1; dT[2] = 0.; dT[3] = 0.\n",
      "    for mu in xrange(4):\n",
      "        for nu in xrange(4):\n",
      "            qConEckart[mu] = qConEckart[mu] -kappa*(ucon[mu]*ucon[nu] + gcon[mu, nu])*(dT[nu] + T*acov[nu])\n",
      "         \n",
      "    q0 = 0.\n",
      "    for mu in xrange(4):\n",
      "         q0 = q0 + bcov[mu]*qConEckart[mu]/sqrt(bsqr)\n",
      "\n",
      "    return -(q - q0)/(tau*u1)\n",
      "\n",
      "tcks = [rhoTck, uTck, u1Tck, temperatureTck, gammaTck]\n",
      "visBackground[:, step] = odeint(dvis_dx1, [0.], x1, args=(tcks,), atol=1e-15)[:, 0]\n",
      "#qBackground[:, step] = odeint(dq_dx1, [0.], x1, args=(tcks,), atol=1e-18)[:, 0]"
     ],
     "language": "python",
     "metadata": {},
     "outputs": [],
     "prompt_number": 115
    },
    {
     "cell_type": "code",
     "collapsed": false,
     "input": [
      "plot(x1, visBackground[:, 0])\n",
      "\n",
      "#du1_dx1 = splev(x1, u1Tck, der=1)\n",
      "#plot(x1, du1_dx1)"
     ],
     "language": "python",
     "metadata": {},
     "outputs": [
      {
       "metadata": {},
       "output_type": "pyout",
       "prompt_number": 116,
       "text": [
        "[<matplotlib.lines.Line2D at 0x7f0b241a6b50>]"
       ]
      }
     ],
     "prompt_number": 116
    },
    {
     "cell_type": "code",
     "collapsed": false,
     "input": [
      "0def TUpDown(mu, nu, Y):\n",
      "    rho = Y[:N]\n",
      "    u   = Y[N:2*N]\n",
      "    u1  = Y[2*N:3*N]\n",
      "    vis = Y[3*N:]\n",
      "\n",
      "    P   = (Gamma - 1)*u\n",
      "\n",
      "    gamma = sqrt(1 + u1*u1)\n",
      "    ucon  = [gamma, u1, 0, 0]\n",
      "    ucov  = [-gamma, u1, 0, 0]\n",
      "\n",
      "    bcon0 = B1*ucov[1] + B2*ucov[2] + B3*ucov[3]\n",
      "    bcon1 = (B1 + bcon0*ucon[1])/ucon[0]\n",
      "    bcon2 = (B2 + bcon0*ucon[2])/ucon[0]\n",
      "    bcon3 = (B3 + bcon0*ucon[3])/ucon[0]\n",
      "    \n",
      "    bcon = [bcon0, bcon1, bcon2, bcon3]\n",
      "    bcov = [-bcon0, bcon1, bcon2, bcon3]\n",
      "    bsqr = bcon[0]*bcov[0] + bcon[1]*bcov[1] + bcon[2]*bcov[2] + bcon[3]*bcov[3]\n",
      "\n",
      "    #ans  =   (rho + u + P + vis + 0.*bsqr)*ucon[mu]*ucov[nu] + (P + vis + 0.*bsqr/2.)*delta(mu, nu) - 0.*bcon[mu]*bcov[nu] \\\n",
      "    #        + q/sqrt(bsqr)*(bcon[mu]*ucov[nu] + ucon[mu]*bcov[nu])\n",
      "        \n",
      "    ans  =   (rho + u + P + vis)*ucon[mu]*ucov[nu] + (P + vis)*delta(mu, nu)\n",
      "    \n",
      "    return ans\n",
      "\n",
      "def globalResidual(Y):\n",
      "    rho = Y[:N]\n",
      "    u   = Y[N:2*N]\n",
      "    u1  = Y[2*N:3*N]\n",
      "    vis = Y[3*N:]\n",
      "    \n",
      "    du1_dx1 = gradient(u1, dx1)\n",
      "    dvis_dx1 = gradient(vis, dx1)\n",
      "\n",
      "    zeta = 10.\n",
      "    tau = 0.01\n",
      "    \n",
      "    vis0 = -zeta*du1_dx1\n",
      "\n",
      "    Eqn_rho = rho*u1 - fluxRhoLeft\n",
      "    Eqn_u   = TUpDown(1, 0, Y) - fluxULeft\n",
      "    Eqn_u1  = TUpDown(1, 1, Y) - fluxU1Left\n",
      "    Eqn_vis = u1*dvis_dx1 + (vis - vis0)/tau\n",
      "\n",
      "    return concatenate([Eqn_rho, Eqn_u, Eqn_u1, Eqn_vis])"
     ],
     "language": "python",
     "metadata": {},
     "outputs": [],
     "prompt_number": 117
    },
    {
     "cell_type": "code",
     "collapsed": false,
     "input": [
      "initialGuess = concatenate([rhoBackground[:, 0], uBackground[:, 0], u1Background[:, 0], visBackground[:, 0]])\n",
      "\n",
      "soln = root(globalResidual, initialGuess, method='krylov', options={'disp': True, 'maxiter': 100})\n",
      "rhoSoln = soln.x[:N]\n",
      "uSoln   = soln.x[N:2*N]\n",
      "u1Soln  = soln.x[2*N:3*N]\n",
      "visSoln = soln.x[3*N:]"
     ],
     "language": "python",
     "metadata": {},
     "outputs": [
      {
       "output_type": "stream",
       "stream": "stdout",
       "text": [
        "0:  |F(x)| = 1666.54; step 1; tol 0.883641\n"
       ]
      },
      {
       "output_type": "stream",
       "stream": "stdout",
       "text": [
        "1:  |F(x)| = 1653.28; step 1; tol 0.885738\n"
       ]
      },
      {
       "output_type": "stream",
       "stream": "stdout",
       "text": [
        "2:  |F(x)| = 1644.39; step 1; tol 0.890341\n"
       ]
      },
      {
       "output_type": "stream",
       "stream": "stdout",
       "text": [
        "3:  |F(x)| = 1638.57; step 1; tol 0.893646\n"
       ]
      },
      {
       "output_type": "stream",
       "stream": "stdout",
       "text": [
        "4:  |F(x)| = 1637.31; step 1; tol 0.89861\n"
       ]
      },
      {
       "output_type": "stream",
       "stream": "stdout",
       "text": [
        "5:  |F(x)| = 1636.59; step 1; tol 0.899217\n"
       ]
      },
      {
       "output_type": "stream",
       "stream": "stdout",
       "text": [
        "6:  |F(x)| = 1635.79; step 1; tol 0.899112\n"
       ]
      },
      {
       "output_type": "stream",
       "stream": "stdout",
       "text": [
        "7:  |F(x)| = 1635.32; step 1; tol 0.899489\n"
       ]
      },
      {
       "output_type": "stream",
       "stream": "stdout",
       "text": [
        "8:  |F(x)| = 1634.48; step 1; tol 0.899075\n"
       ]
      },
      {
       "output_type": "stream",
       "stream": "stdout",
       "text": [
        "9:  |F(x)| = 1634.35; step 1; tol 0.899853\n"
       ]
      },
      {
       "output_type": "stream",
       "stream": "stdout",
       "text": [
        "10:  |F(x)| = 1634.25; step 1; tol 0.899888\n"
       ]
      },
      {
       "output_type": "stream",
       "stream": "stdout",
       "text": [
        "11:  |F(x)| = 1632.82; step 1; tol 0.898429\n"
       ]
      },
      {
       "output_type": "stream",
       "stream": "stdout",
       "text": [
        "12:  |F(x)| = 1632.23; step 1; tol 0.899351\n"
       ]
      },
      {
       "output_type": "stream",
       "stream": "stdout",
       "text": [
        "13:  |F(x)| = 1631.9; step 1; tol 0.899632\n"
       ]
      },
      {
       "output_type": "stream",
       "stream": "stdout",
       "text": [
        "14:  |F(x)| = 1631.37; step 1; tol 0.899421\n"
       ]
      },
      {
       "output_type": "stream",
       "stream": "stdout",
       "text": [
        "15:  |F(x)| = 1629.75; step 1; tol 0.898218\n"
       ]
      },
      {
       "output_type": "stream",
       "stream": "stdout",
       "text": [
        "16:  |F(x)| = 1629.4; step 1; tol 0.899605\n"
       ]
      },
      {
       "output_type": "stream",
       "stream": "stdout",
       "text": [
        "17:  |F(x)| = 1628.98; step 1; tol 0.899538\n"
       ]
      },
      {
       "output_type": "stream",
       "stream": "stdout",
       "text": [
        "18:  |F(x)| = 1628.61; step 1; tol 0.899594\n"
       ]
      },
      {
       "output_type": "stream",
       "stream": "stdout",
       "text": [
        "19:  |F(x)| = 1627.94; step 1; tol 0.899262\n"
       ]
      },
      {
       "output_type": "stream",
       "stream": "stdout",
       "text": [
        "20:  |F(x)| = 1627.76; step 1; tol 0.899795\n"
       ]
      },
      {
       "output_type": "stream",
       "stream": "stdout",
       "text": [
        "21:  |F(x)| = 1627.35; step 1; tol 0.899551\n"
       ]
      },
      {
       "output_type": "stream",
       "stream": "stdout",
       "text": [
        "22:  |F(x)| = 1627.24; step 1; tol 0.899876\n"
       ]
      },
      {
       "output_type": "stream",
       "stream": "stdout",
       "text": [
        "23:  |F(x)| = 1626.96; step 1; tol 0.899694\n"
       ]
      },
      {
       "output_type": "stream",
       "stream": "stdout",
       "text": [
        "24:  |F(x)| = 1626.73; step 1; tol 0.899739\n"
       ]
      },
      {
       "output_type": "stream",
       "stream": "stdout",
       "text": [
        "25:  |F(x)| = 1626.57; step 1; tol 0.899822\n"
       ]
      },
      {
       "output_type": "stream",
       "stream": "stdout",
       "text": [
        "26:  |F(x)| = 1626.39; step 1; tol 0.899809\n"
       ]
      },
      {
       "output_type": "stream",
       "stream": "stdout",
       "text": [
        "27:  |F(x)| = 1626.01; step 1; tol 0.899571\n"
       ]
      },
      {
       "output_type": "stream",
       "stream": "stdout",
       "text": [
        "28:  |F(x)| = 1625.8; step 1; tol 0.899773\n"
       ]
      },
      {
       "output_type": "stream",
       "stream": "stdout",
       "text": [
        "29:  |F(x)| = 1625.66; step 1; tol 0.89985\n"
       ]
      },
      {
       "output_type": "stream",
       "stream": "stdout",
       "text": [
        "30:  |F(x)| = 1625.34; step 1; tol 0.89964\n"
       ]
      },
      {
       "output_type": "stream",
       "stream": "stdout",
       "text": [
        "31:  |F(x)| = 1625.15; step 1; tol 0.899787\n"
       ]
      },
      {
       "output_type": "stream",
       "stream": "stdout",
       "text": [
        "32:  |F(x)| = 1624.87; step 1; tol 0.899697\n"
       ]
      },
      {
       "output_type": "stream",
       "stream": "stdout",
       "text": [
        "33:  |F(x)| = 1624.69; step 1; tol 0.899799\n"
       ]
      },
      {
       "output_type": "stream",
       "stream": "stdout",
       "text": [
        "34:  |F(x)| = 1624.55; step 1; tol 0.899843\n"
       ]
      },
      {
       "output_type": "stream",
       "stream": "stdout",
       "text": [
        "35:  |F(x)| = 1624.43; step 1; tol 0.899865\n"
       ]
      },
      {
       "output_type": "stream",
       "stream": "stdout",
       "text": [
        "36:  |F(x)| = 1624.3; step 1; tol 0.899854\n"
       ]
      },
      {
       "output_type": "stream",
       "stream": "stdout",
       "text": [
        "37:  |F(x)| = 1624.07; step 1; tol 0.899745\n"
       ]
      },
      {
       "output_type": "stream",
       "stream": "stdout",
       "text": [
        "38:  |F(x)| = 1623.85; step 1; tol 0.899763\n"
       ]
      },
      {
       "output_type": "stream",
       "stream": "stdout",
       "text": [
        "39:  |F(x)| = 1623.72; step 1; tol 0.899856\n"
       ]
      },
      {
       "output_type": "stream",
       "stream": "stdout",
       "text": [
        "40:  |F(x)| = 1623.62; step 1; tol 0.899889\n"
       ]
      },
      {
       "output_type": "stream",
       "stream": "stdout",
       "text": [
        "41:  |F(x)| = 1623.45; step 1; tol 0.899814\n"
       ]
      },
      {
       "output_type": "stream",
       "stream": "stdout",
       "text": [
        "42:  |F(x)| = 1623.23; step 1; tol 0.899748\n"
       ]
      },
      {
       "output_type": "stream",
       "stream": "stdout",
       "text": [
        "43:  |F(x)| = 1623.06; step 1; tol 0.899817\n"
       ]
      },
      {
       "output_type": "stream",
       "stream": "stdout",
       "text": [
        "44:  |F(x)| = 1622.84; step 1; tol 0.899748\n"
       ]
      },
      {
       "output_type": "stream",
       "stream": "stdout",
       "text": [
        "45:  |F(x)| = 1622.6; step 1; tol 0.89974\n"
       ]
      },
      {
       "output_type": "stream",
       "stream": "stdout",
       "text": [
        "46:  |F(x)| = 1622.55; step 0.500044; tol 0.899941\n"
       ]
      },
      {
       "output_type": "stream",
       "stream": "stdout",
       "text": [
        "47:  |F(x)| = 1622.4; step 1; tol 0.899838\n"
       ]
      },
      {
       "output_type": "stream",
       "stream": "stdout",
       "text": [
        "48:  |F(x)| = 1622.28; step 1; tol 0.899866\n"
       ]
      },
      {
       "output_type": "stream",
       "stream": "stdout",
       "text": [
        "49:  |F(x)| = 1622.1; step 1; tol 0.8998\n"
       ]
      },
      {
       "output_type": "stream",
       "stream": "stdout",
       "text": [
        "50:  |F(x)| = 1621.99; step 1; tol 0.899874\n"
       ]
      },
      {
       "output_type": "stream",
       "stream": "stdout",
       "text": [
        "51:  |F(x)| = 1621.78; step 1; tol 0.899773\n"
       ]
      },
      {
       "output_type": "stream",
       "stream": "stdout",
       "text": [
        "52:  |F(x)| = 1621.66; step 1; tol 0.899865\n"
       ]
      },
      {
       "output_type": "stream",
       "stream": "stdout",
       "text": [
        "53:  |F(x)| = 1621.52; step 1; tol 0.899847\n"
       ]
      },
      {
       "output_type": "stream",
       "stream": "stdout",
       "text": [
        "54:  |F(x)| = 1621.33; step 1; tol 0.89978\n"
       ]
      },
      {
       "output_type": "stream",
       "stream": "stdout",
       "text": [
        "55:  |F(x)| = 1621.26; step 0.50005; tol 0.899933\n"
       ]
      },
      {
       "output_type": "stream",
       "stream": "stdout",
       "text": [
        "56:  |F(x)| = 1621.05; step 1; tol 0.899766\n"
       ]
      },
      {
       "output_type": "stream",
       "stream": "stdout",
       "text": [
        "57:  |F(x)| = 1620.86; step 1; tol 0.899788\n"
       ]
      },
      {
       "output_type": "stream",
       "stream": "stdout",
       "text": [
        "58:  |F(x)| = 1620.76; step 1; tol 0.899888\n"
       ]
      },
      {
       "output_type": "stream",
       "stream": "stdout",
       "text": [
        "59:  |F(x)| = 1620.63; step 1; tol 0.899856\n"
       ]
      },
      {
       "output_type": "stream",
       "stream": "stdout",
       "text": [
        "60:  |F(x)| = 1620.48; step 1; tol 0.899833\n"
       ]
      },
      {
       "output_type": "stream",
       "stream": "stdout",
       "text": [
        "61:  |F(x)| = 1620.36; step 1; tol 0.899866\n"
       ]
      },
      {
       "output_type": "stream",
       "stream": "stdout",
       "text": [
        "62:  |F(x)| = 1620.26; step 1; tol 0.899892\n"
       ]
      },
      {
       "output_type": "stream",
       "stream": "stdout",
       "text": [
        "63:  |F(x)| = 1620.11; step 1; tol 0.899833\n"
       ]
      },
      {
       "output_type": "stream",
       "stream": "stdout",
       "text": [
        "64:  |F(x)| = 1619.86; step 1; tol 0.899713\n"
       ]
      },
      {
       "output_type": "stream",
       "stream": "stdout",
       "text": [
        "65:  |F(x)| = 1619.76; step 1; tol 0.899893\n"
       ]
      },
      {
       "output_type": "stream",
       "stream": "stdout",
       "text": [
        "66:  |F(x)| = 1619.71; step 0.500042; tol 0.899943\n"
       ]
      },
      {
       "output_type": "stream",
       "stream": "stdout",
       "text": [
        "67:  |F(x)| = 1619.59; step 1; tol 0.89987\n"
       ]
      },
      {
       "output_type": "stream",
       "stream": "stdout",
       "text": [
        "68:  |F(x)| = 1619.48; step 1; tol 0.899878\n"
       ]
      },
      {
       "output_type": "stream",
       "stream": "stdout",
       "text": [
        "69:  |F(x)| = 1619.39; step 1; tol 0.899894\n"
       ]
      },
      {
       "output_type": "stream",
       "stream": "stdout",
       "text": [
        "70:  |F(x)| = 1619.24; step 1; tol 0.899838\n"
       ]
      },
      {
       "output_type": "stream",
       "stream": "stdout",
       "text": [
        "71:  |F(x)| = 1619.16; step 1; tol 0.899908\n"
       ]
      },
      {
       "output_type": "stream",
       "stream": "stdout",
       "text": [
        "72:  |F(x)| = 1618.85; step 1; tol 0.899662\n"
       ]
      },
      {
       "output_type": "stream",
       "stream": "stdout",
       "text": [
        "73:  |F(x)| = 1618.8; step 0.500044; tol 0.899941\n"
       ]
      },
      {
       "output_type": "stream",
       "stream": "stdout",
       "text": [
        "74:  |F(x)| = 1618.65; step 1; tol 0.899838\n"
       ]
      },
      {
       "output_type": "stream",
       "stream": "stdout",
       "text": [
        "75:  |F(x)| = 1618.2; step 1; tol 0.899498\n"
       ]
      },
      {
       "output_type": "stream",
       "stream": "stdout",
       "text": [
        "76:  |F(x)| = 1618.17; step 1; tol 0.899959\n"
       ]
      },
      {
       "output_type": "stream",
       "stream": "stdout",
       "text": [
        "77:  |F(x)| = 1617.98; step 1; tol 0.899788\n"
       ]
      },
      {
       "output_type": "stream",
       "stream": "stdout",
       "text": [
        "78:  |F(x)| = 1617.85; step 1; tol 0.89986\n"
       ]
      },
      {
       "output_type": "stream",
       "stream": "stdout",
       "text": [
        "79:  |F(x)| = 1617.75; step 1; tol 0.899894\n"
       ]
      },
      {
       "output_type": "stream",
       "stream": "stdout",
       "text": [
        "80:  |F(x)| = 1617.65; step 1; tol 0.899887\n"
       ]
      },
      {
       "output_type": "stream",
       "stream": "stdout",
       "text": [
        "81:  |F(x)| = 1617.41; step 1; tol 0.899733\n"
       ]
      },
      {
       "output_type": "stream",
       "stream": "stdout",
       "text": [
        "82:  |F(x)| = 1617.33; step 1; tol 0.899904\n"
       ]
      },
      {
       "output_type": "stream",
       "stream": "stdout",
       "text": [
        "83:  |F(x)| = 1617.14; step 1; tol 0.899792\n"
       ]
      },
      {
       "output_type": "stream",
       "stream": "stdout",
       "text": [
        "84:  |F(x)| = 1617.04; step 1; tol 0.899887\n"
       ]
      },
      {
       "output_type": "stream",
       "stream": "stdout",
       "text": [
        "85:  |F(x)| = 1616.95; step 1; tol 0.899896\n"
       ]
      },
      {
       "output_type": "stream",
       "stream": "stdout",
       "text": [
        "86:  |F(x)| = 1616.94; step 0.05284; tol 0.899995\n"
       ]
      },
      {
       "output_type": "stream",
       "stream": "stdout",
       "text": [
        "87:  |F(x)| = 1616.88; step 0.500048; tol 0.899935\n"
       ]
      },
      {
       "output_type": "stream",
       "stream": "stdout",
       "text": [
        "88:  |F(x)| = 1616.86; step 0.211366; tol 0.899978\n"
       ]
      },
      {
       "output_type": "stream",
       "stream": "stdout",
       "text": [
        "89:  |F(x)| = 1616.71; step 1; tol 0.899829\n"
       ]
      },
      {
       "output_type": "stream",
       "stream": "stdout",
       "text": [
        "90:  |F(x)| = 1616.65; step 0.500049; tol 0.899934\n"
       ]
      },
      {
       "output_type": "stream",
       "stream": "stdout",
       "text": [
        "91:  |F(x)| = 1616.46; step 1; tol 0.899786\n"
       ]
      },
      {
       "output_type": "stream",
       "stream": "stdout",
       "text": [
        "92:  |F(x)| = 1616.41; step 0.50004; tol 0.899946\n"
       ]
      },
      {
       "output_type": "stream",
       "stream": "stdout",
       "text": [
        "93:  |F(x)| = 1616.35; step 0.500049; tol 0.899934\n"
       ]
      },
      {
       "output_type": "stream",
       "stream": "stdout",
       "text": [
        "94:  |F(x)| = 1616.17; step 1; tol 0.899796\n"
       ]
      },
      {
       "output_type": "stream",
       "stream": "stdout",
       "text": [
        "95:  |F(x)| = 1616.16; step 0.05284; tol 0.899995\n"
       ]
      },
      {
       "output_type": "stream",
       "stream": "stdout",
       "text": [
        "96:  |F(x)| = 1616.02; step 1; tol 0.899846\n"
       ]
      },
      {
       "output_type": "stream",
       "stream": "stdout",
       "text": [
        "97:  |F(x)| = 1615.98; step 0.50004; tol 0.899946\n"
       ]
      },
      {
       "output_type": "stream",
       "stream": "stdout",
       "text": [
        "98:  |F(x)| = 1615.93; step 0.50004; tol 0.899946\n"
       ]
      },
      {
       "output_type": "stream",
       "stream": "stdout",
       "text": [
        "99:  |F(x)| = 1615.82; step 1; tol 0.899878\n"
       ]
      }
     ],
     "prompt_number": 118
    },
    {
     "cell_type": "code",
     "collapsed": false,
     "input": [
      "rho#plot(x1, u1Background[:, 0])\n",
      "rhoSoln = soln.x[:N]\n",
      "uSoln   = soln.x[N:2*N]\n",
      "u1Soln  = soln.x[2*N:3*N]\n",
      "visSoln = soln.x[3*N:]\n",
      "\n",
      "plot(x1, rhoBackground[:, 0])\n",
      "plot(x1, rhoSoln)"
     ],
     "language": "python",
     "metadata": {},
     "outputs": [
      {
       "metadata": {},
       "output_type": "pyout",
       "prompt_number": 120,
       "text": [
        "[<matplotlib.lines.Line2D at 0x7f0b23e9c250>]"
       ]
      }
     ],
     "prompt_number": 120
    },
    {
     "cell_type": "code",
     "collapsed": false,
     "input": [
      "n = 0\n",
      "for i in xrange(x1.size):\n",
      "    if (i < N/2):\n",
      "        initialGuess = solnLeftIdeal - 0.1*random.rand(3)\n",
      "    else:\n",
      "        initialGuess = solnRightIdeal + 0.1*random.rand(3)\n",
      "\n",
      "    soln = root(residuals, initialGuess, args=(0., visBackground[i, n],))\n",
      "        \n",
      "    if (soln.success==True):\n",
      "        rhoBackground[i, n+1] = soln.x[0]\n",
      "        uBackground[i, n+1]   = soln.x[1]\n",
      "        u1Background[i, n+1]  = soln.x[2]\n",
      "    else:\n",
      "        print \"Failed at i = \", i, \" x1 = \", x1[i]\n",
      "        print soln.message\n",
      "        break"
     ],
     "language": "python",
     "metadata": {},
     "outputs": [],
     "prompt_number": 263
    },
    {
     "cell_type": "code",
     "collapsed": false,
     "input": [
      "n = 0\n",
      "nGuesses = 1\n",
      "amplitude = 0.1\n",
      "rhoGuessLeft = np.zeros([x1.size, nGuesses])\n",
      "uGuessLeft   = np.zeros([x1.size, nGuesses])\n",
      "u1GuessLeft  = np.zeros([x1.size, nGuesses])\n",
      "\n",
      "rhoGuessRight = np.zeros([x1.size, nGuesses])\n",
      "uGuessRight   = np.zeros([x1.size, nGuesses])\n",
      "u1GuessRight  = np.zeros([x1.size, nGuesses])\n",
      "\n",
      "for i in xrange(x1.size):\n",
      "    for nGuess in xrange(nGuesses):\n",
      "        \n",
      "        initialGuessleft = solnLeftIdeal - amplitude*random.rand(3)\n",
      "        \n",
      "        initialGuessRight = solnRightIdeal + amplitude*random.rand(3)\n",
      "\n",
      "        solnLeft  = root(residuals, initialGuessleft, args=(0., visBackground[i, n],))\n",
      "        solnRight = root(residuals, initialGuessRight, args=(0., visBackground[i, n],))\n",
      "        \n",
      "        if (solnLeft.success==True and solnRight.success==True):\n",
      "            rhoGuessLeft[i, nGuess] = solnLeft.x[0]\n",
      "            uGuessLeft[i, nGuess]   = solnLeft.x[1]\n",
      "            u1GuessLeft[i, nGuess]  = solnLeft.x[2]\n",
      "            \n",
      "            rhoGuessRight[i, nGuess] = solnRight.x[0]\n",
      "            uGuessRight[i, nGuess]   = solnRight.x[1]\n",
      "            u1GuessRight[i, nGuess]  = solnRight.x[2]\n",
      "\n",
      "        else:\n",
      "            print \"Failed at i = \", i, \" x1 = \", x1[i]\n",
      "            print soln.message\n",
      "            break"
     ],
     "language": "python",
     "metadata": {},
     "outputs": [],
     "prompt_number": 248
    },
    {
     "cell_type": "code",
     "collapsed": false,
     "input": [
      "plot(x1, rhoGuessLeft, color='blue')\n",
      "plot(x1, rhoGuessRight, color='blue')\n",
      "\n",
      "plot(x1, uGuessLeft, color='green')\n",
      "plot(x1, uGuessRight, color='green')\n",
      "\n",
      "plot(x1, u1GuessLeft, color='red')\n",
      "plot(x1, u1GuessRight, color='red')\n",
      "\n",
      "#axvline(0.00075, linestyle='--', color='black')"
     ],
     "language": "python",
     "metadata": {},
     "outputs": [
      {
       "metadata": {},
       "output_type": "pyout",
       "prompt_number": 250,
       "text": [
        "[<matplotlib.lines.Line2D at 0x7fef888e2f10>]"
       ]
      }
     ],
     "prompt_number": 250
    },
    {
     "cell_type": "code",
     "collapsed": false,
     "input": [
      "u1Tck1 = splrep(x1, u1Background[:, 1])\n",
      "u1Tck1Smooth = splrep(x1-0.0043, u1Background[:, 0])\n",
      "\n",
      "plot(x1, splev(x1, u1Tck, der=1))\n",
      "plot(x1, splev(x1, u1Tck1, der=1))"
     ],
     "language": "python",
     "metadata": {},
     "outputs": [
      {
       "metadata": {},
       "output_type": "pyout",
       "prompt_number": 270,
       "text": [
        "[<matplotlib.lines.Line2D at 0x7fef875deed0>]"
       ]
      }
     ],
     "prompt_number": 270
    },
    {
     "cell_type": "code",
     "collapsed": false,
     "input": [
      "u1Tck3 = splrep(x1, u1Background[:, 3])\n",
      "u1Tck3Smooth = splrep(x1-3.*0.0043, u1Background[:, 0])\n",
      "\n",
      "plot(x1, splev(x1, u1Tck3, der=1))\n",
      "plot(x1, splev(x1, u1Tck3Smooth, der=1))"
     ],
     "language": "python",
     "metadata": {},
     "outputs": [
      {
       "metadata": {},
       "output_type": "pyout",
       "prompt_number": 20,
       "text": [
        "[<matplotlib.lines.Line2D at 0x7f5f3d796950>]"
       ]
      }
     ],
     "prompt_number": 20
    },
    {
     "cell_type": "code",
     "collapsed": false,
     "input": [
      "for n in xrange(nIter-1):\n",
      "    print \"Iteration :\", n\n",
      "    \n",
      "    # First solve for q:\n",
      "#    gammaBackground[:, n] = sqrt(1. + u1Background[:, n]**2.)\n",
      "#    temperatureBackground[:, n] = (Gamma - 1.)*uBackground[:, n]/rhoBackground[:, n]\n",
      "    \n",
      "    temperatureTck  = splrep(x1, temperatureBackground[:, n])\n",
      "    rhoTck          = splrep(x1, rhoBackground[:, n])\n",
      "    uTck            = splrep(x1, uBackground[:, n])\n",
      "    u1Tck           = splrep(x1, u1Background[:, n])\n",
      "    gammaTck        = splrep(x1, gammaBackground[:, n])\n",
      "    \n",
      "    tcks = [rhoTck, uTck, u1Tck, temperatureTck, gammaTck]\n",
      "    visBackground[:, n] = odeint(dvis_dx1, [0.], x1, args=(tcks,), atol=1e-15)[:, 0]\n",
      "    \n",
      "    # Now invert the primitive variables:\n",
      "    for i in xrange(x1.size):\n",
      "        \n",
      "        initialGuess = [rhoBackground[i, n], uBackground[i, n], u1Background[i, n]]\n",
      "\n",
      "        soln = root(residuals, initialGuess, args=(0., visBackground[i, n],))\n",
      "        \n",
      "        if (soln.success==True):\n",
      "            rhoBackground[i, n+1], uBackground[i, n+1], u1Background[i, n+1] = soln.x\n",
      "        else:\n",
      "            print \"Failed at i = \", i, \" x1 = \", x1[i]\n",
      "            print soln.message\n",
      "            break"
     ],
     "language": "python",
     "metadata": {},
     "outputs": [
      {
       "output_type": "stream",
       "stream": "stdout",
       "text": [
        "Iteration : 0\n",
        "Iteration :"
       ]
      },
      {
       "output_type": "stream",
       "stream": "stdout",
       "text": [
        " 1\n",
        "Failed at i = "
       ]
      },
      {
       "output_type": "stream",
       "stream": "stdout",
       "text": [
        " 8206  x1 =  0.0035400390625\n",
        "The iteration is not making good progress, as measured by the \n",
        "  improvement from the last ten iterations.\n"
       ]
      }
     ],
     "prompt_number": 185
    },
    {
     "cell_type": "code",
     "collapsed": false,
     "input": [
      "uTckNew = splrep(x1, uSoln)\n",
      "uTckNew1 = splrep(x1-0.0043, uBackground[:, 0])\n",
      "\n",
      "\n",
      "u1TckNew = splrep(x1, u1Soln)\n",
      "u1TckNew1 = splrep(x1-0.0043, u1Background[:, 0])\n",
      "\n",
      "\n",
      "\n",
      "#du1_dx1 = splev(x1, u1Tck, der=1)\n",
      "#du1_dx1_new = splev(x1, u1TckNew, der=1)\n",
      "\n",
      "#plot(x1, du1_dx1_new)\n",
      "#plot(x1-0.0043, du1_dx1)"
     ],
     "language": "python",
     "metadata": {},
     "outputs": [],
     "prompt_number": 332
    },
    {
     "cell_type": "code",
     "collapsed": false,
     "input": [
      "plot(x1, splev(x1, uTckNew, der=1))\n",
      "plot(x1, splev(x1, uTckNew1, der=1))"
     ],
     "language": "python",
     "metadata": {},
     "outputs": [
      {
       "metadata": {},
       "output_type": "pyout",
       "prompt_number": 333,
       "text": [
        "[<matplotlib.lines.Line2D at 0x7fca374e7bd0>]"
       ]
      }
     ],
     "prompt_number": 333
    },
    {
     "cell_type": "code",
     "collapsed": false,
     "input": [
      "clf()"
     ],
     "language": "python",
     "metadata": {},
     "outputs": [],
     "prompt_number": 243
    }
   ],
   "metadata": {}
  }
 ]
}