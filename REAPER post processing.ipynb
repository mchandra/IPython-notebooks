{
 "metadata": {
  "name": "",
  "signature": "sha256:358b13f02bc84b792b973871ff07fed9aeb40f927340c9d4711543959f26344c"
 },
 "nbformat": 3,
 "nbformat_minor": 0,
 "worksheets": [
  {
   "cells": [
    {
     "cell_type": "code",
     "collapsed": false,
     "input": [
      "%qtconsole"
     ],
     "language": "python",
     "metadata": {},
     "outputs": []
    },
    {
     "cell_type": "code",
     "collapsed": false,
     "input": [
      "import h5py\n",
      "import glob\n",
      "filepath = '/home/mc/PhD/reaper/build'\n",
      "files = np.sort(glob.glob(filepath+'/data*.h5'))\n",
      "\n",
      "N1 = 64\n",
      "dof = 5\n",
      "X1 = linspace(0, 1, N1)\n",
      "data = zeros([N1, dof, files.size]) \n",
      "\n",
      "for i, dumpfile in enumerate(files):\n",
      "    print \"i = \", i\n",
      "    datafile = h5py.File(dumpfile, \"r\")\n",
      "    data[:, :, i] = datafile[datafile.items()[0][0]][:]\n",
      "    datafile.close()"
     ],
     "language": "python",
     "metadata": {},
     "outputs": [
      {
       "output_type": "stream",
       "stream": "stdout",
       "text": [
        "i =  0\n",
        "i =  1\n",
        "i =  2\n",
        "i =  3\n",
        "i =  4\n",
        "i =  5\n",
        "i =  6\n",
        "i =  7\n",
        "i =  8\n",
        "i =  9\n",
        "i =  10\n",
        "i =  11\n",
        "i =  12\n",
        "i =  13\n",
        "i =  14\n",
        "i =  15\n",
        "i = "
       ]
      },
      {
       "output_type": "stream",
       "stream": "stdout",
       "text": [
        " 16\n",
        "i =  17\n",
        "i =  18\n",
        "i =  19\n",
        "i =  20\n",
        "i =  21\n",
        "i =  22\n",
        "i =  23\n",
        "i =  24\n",
        "i =  25\n",
        "i =  26\n",
        "i =  27\n",
        "i =  28\n",
        "i =  29\n",
        "i =  30\n",
        "i =  31\n",
        "i = "
       ]
      },
      {
       "output_type": "stream",
       "stream": "stdout",
       "text": [
        " 32\n",
        "i =  33\n",
        "i =  34\n",
        "i =  35\n",
        "i =  36\n",
        "i =  37\n",
        "i =  38\n",
        "i =  39\n",
        "i =  40\n",
        "i =  41\n",
        "i =  42\n",
        "i =  43\n",
        "i =  44\n",
        "i =  45\n",
        "i =  46\n",
        "i =  47\n",
        "i = "
       ]
      },
      {
       "output_type": "stream",
       "stream": "stdout",
       "text": [
        " 48\n",
        "i =  49\n",
        "i =  50\n",
        "i =  51\n",
        "i =  52\n",
        "i =  53\n",
        "i =  54\n",
        "i =  55\n",
        "i =  56\n",
        "i =  57\n",
        "i =  58\n",
        "i =  59\n",
        "i =  60\n",
        "i =  61\n",
        "i =  62\n",
        "i =  63\n",
        "i = "
       ]
      },
      {
       "output_type": "stream",
       "stream": "stdout",
       "text": [
        " 64\n",
        "i =  65\n",
        "i =  66\n",
        "i =  67\n",
        "i =  68\n",
        "i =  69\n",
        "i =  70\n",
        "i =  71\n",
        "i =  72\n",
        "i =  73\n",
        "i =  74\n",
        "i =  75\n",
        "i =  76\n",
        "i =  77\n",
        "i =  78\n",
        "i =  79\n",
        "i =  80\n",
        "i =  81\n",
        "i = "
       ]
      },
      {
       "output_type": "stream",
       "stream": "stdout",
       "text": [
        " 82\n",
        "i =  83\n",
        "i =  84\n",
        "i =  85\n",
        "i =  86\n",
        "i =  87\n",
        "i =  88\n",
        "i =  89\n",
        "i =  90\n",
        "i =  91\n",
        "i =  92\n",
        "i =  93\n",
        "i =  94\n",
        "i =  95\n",
        "i =  96\n",
        "i =  97\n",
        "i = "
       ]
      },
      {
       "output_type": "stream",
       "stream": "stdout",
       "text": [
        " 98\n",
        "i =  99\n",
        "i =  100\n",
        "i =  101\n",
        "i =  102\n",
        "i =  103\n",
        "i =  104\n",
        "i =  105\n",
        "i =  106\n",
        "i =  107\n",
        "i =  108\n",
        "i =  109\n",
        "i =  110\n",
        "i =  111\n",
        "i =  112\n",
        "i =  113\n",
        "i = "
       ]
      },
      {
       "output_type": "stream",
       "stream": "stdout",
       "text": [
        " 114\n",
        "i =  115\n",
        "i =  116\n",
        "i =  117\n",
        "i =  118\n",
        "i =  119\n",
        "i =  120\n",
        "i =  121\n",
        "i =  122\n",
        "i =  123\n",
        "i =  124\n",
        "i =  125\n",
        "i =  126\n",
        "i =  127\n",
        "i =  128\n",
        "i =  129\n",
        "i =  130\n",
        "i = "
       ]
      },
      {
       "output_type": "stream",
       "stream": "stdout",
       "text": [
        " 131\n",
        "i =  132\n",
        "i =  133\n",
        "i =  134\n",
        "i =  135\n",
        "i =  136\n",
        "i =  137\n",
        "i =  138\n",
        "i =  139\n",
        "i =  140\n",
        "i =  141\n",
        "i =  142\n",
        "i =  143\n",
        "i =  144\n",
        "i =  145\n",
        "i =  146\n",
        "i =  147\n",
        "i =  148\n",
        "i =  149\n",
        "i =  150\n",
        "i = "
       ]
      },
      {
       "output_type": "stream",
       "stream": "stdout",
       "text": [
        " 151\n",
        "i =  152\n",
        "i =  153\n",
        "i =  154\n",
        "i =  155\n",
        "i =  156\n",
        "i =  157\n",
        "i =  158\n",
        "i =  159\n",
        "i =  160\n",
        "i =  161\n",
        "i =  162\n",
        "i =  163\n",
        "i =  164\n",
        "i =  165\n",
        "i =  166\n",
        "i =  167\n",
        "i =  168\n",
        "i =  169\n",
        "i = "
       ]
      },
      {
       "output_type": "stream",
       "stream": "stdout",
       "text": [
        " 170\n",
        "i =  171\n",
        "i =  172\n",
        "i =  173\n",
        "i =  174\n",
        "i =  175\n",
        "i =  176\n",
        "i =  177\n",
        "i =  178\n",
        "i =  179\n",
        "i =  180\n",
        "i =  181\n",
        "i =  182\n",
        "i =  183\n",
        "i =  184\n",
        "i =  185\n",
        "i =  186\n",
        "i =  187\n",
        "i =  188\n",
        "i = "
       ]
      },
      {
       "output_type": "stream",
       "stream": "stdout",
       "text": [
        " 189\n",
        "i =  190\n",
        "i =  191\n",
        "i =  192\n",
        "i =  193\n",
        "i =  194\n",
        "i =  195\n",
        "i =  196\n",
        "i =  197\n",
        "i =  198\n",
        "i =  199\n",
        "i =  200\n",
        "i =  201\n"
       ]
      }
     ],
     "prompt_number": 115
    },
    {
     "cell_type": "code",
     "collapsed": false,
     "input": [
      "plot(X1, data[:, 0, files.size/2])"
     ],
     "language": "python",
     "metadata": {},
     "outputs": [
      {
       "metadata": {},
       "output_type": "pyout",
       "prompt_number": 117,
       "text": [
        "[<matplotlib.lines.Line2D at 0x7fa196b2af10>]"
       ]
      }
     ],
     "prompt_number": 117
    },
    {
     "cell_type": "code",
     "collapsed": false,
     "input": [
      "clf()"
     ],
     "language": "python",
     "metadata": {},
     "outputs": [],
     "prompt_number": 111
    }
   ],
   "metadata": {}
  }
 ]
}