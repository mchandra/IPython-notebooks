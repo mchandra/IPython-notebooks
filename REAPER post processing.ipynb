{
 "metadata": {
  "name": "",
  "signature": "sha256:358b13f02bc84b792b973871ff07fed9aeb40f927340c9d4711543959f26344c"
 },
 "nbformat": 3,
 "nbformat_minor": 0,
 "worksheets": [
  {
   "cells": [
    {
     "cell_type": "code",
     "collapsed": false,
     "input": [
      "%qtconsole"
     ],
     "language": "python",
     "metadata": {},
     "outputs": [],
     "prompt_number": 2
    },
    {
     "cell_type": "code",
     "collapsed": false,
     "input": [
      "import h5py\n",
      "import glob\n",
      "#filepath = '/home/mc/data/mc/bh/grim_reaper/grim/build/data_files_const_temperature_init_tau_0.25_k_2pi/'\n",
      "filepath = '/home/mc/data/mc/bh/grim_reaper/grim/build/'\n",
      "files = np.sort(glob.glob(filepath+'/data*.h5'))[:]\n",
      "\n",
      "t = arange(0, files.size, 1)*0.01 \n",
      "\n",
      "N1 = 64\n",
      "#dof = 8\n",
      "#dof = 22\n",
      "dof = 38\n",
      "X1 = linspace(0, 1, N1)\n",
      "data = zeros([N1, dof, files.size]) \n",
      "for i, dumpfile in enumerate(files):\n",
      "    print \"i = \", i\n",
      "    datafile = h5py.File(dumpfile, \"r\")\n",
      "    data[:, :, i] = datafile[datafile.items()[0][0]][:]\n",
      "    datafile.close()\n",
      "    \n",
      "files = np.sort(glob.glob(filepath+'/moments*.h5'))[:]\n",
      "\n",
      "N1 = 64\n",
      "#dof = 84\n",
      "dof = 340\n",
      "X1 = linspace(0, 1, N1)\n",
      "moments = zeros([N1, dof, files.size]) \n",
      "for i, dumpfile in enumerate(files):\n",
      "    print \"i = \", i\n",
      "    datafile = h5py.File(dumpfile, \"r\")\n",
      "    moments[:, :, i] = datafile[datafile.items()[0][0]][:]\n",
      "    datafile.close()"
     ],
     "language": "python",
     "metadata": {},
     "outputs": [
      {
       "output_type": "stream",
       "stream": "stdout",
       "text": [
        "i =  0\n",
        "i =  1\n",
        "i =  2\n",
        "i =  3\n",
        "i =  4\n",
        "i =  5\n",
        "i =  6\n",
        "i =  7\n",
        "i =  8\n",
        "i =  9\n",
        "i =  10\n",
        "i =  11\n",
        "i =  12\n",
        "i =  13\n",
        "i =  14\n",
        "i =  15\n",
        "i =  16\n",
        "i =  17\n",
        "i = "
       ]
      },
      {
       "output_type": "stream",
       "stream": "stdout",
       "text": [
        " 18\n",
        "i =  19\n",
        "i =  20\n",
        "i =  21\n",
        "i =  22\n",
        "i =  23\n",
        "i =  24\n",
        "i =  25\n",
        "i =  26\n",
        "i =  27\n",
        "i =  28\n",
        "i =  29\n",
        "i =  30\n",
        "i =  31\n",
        "i =  32\n",
        "i =  33\n",
        "i =  34\n",
        "i = "
       ]
      },
      {
       "output_type": "stream",
       "stream": "stdout",
       "text": [
        " 35\n",
        "i =  36\n",
        "i =  37\n",
        "i =  38\n",
        "i =  39\n",
        "i =  40\n",
        "i =  41\n",
        "i =  42\n",
        "i =  43\n",
        "i =  44\n",
        "i =  45\n",
        "i =  46\n",
        "i = "
       ]
      },
      {
       "output_type": "stream",
       "stream": "stdout",
       "text": [
        " 47\n",
        "i =  48\n",
        "i =  49\n",
        "i =  50\n",
        "i =  51\n",
        "i =  52\n",
        "i = "
       ]
      },
      {
       "output_type": "stream",
       "stream": "stdout",
       "text": [
        " 53\n",
        "i =  54\n",
        "i =  55\n",
        "i =  56\n",
        "i =  57\n",
        "i =  58\n",
        "i = "
       ]
      },
      {
       "output_type": "stream",
       "stream": "stdout",
       "text": [
        " 59\n",
        "i =  60\n",
        "i =  61\n",
        "i =  62\n",
        "i =  63\n",
        "i = "
       ]
      },
      {
       "output_type": "stream",
       "stream": "stdout",
       "text": [
        " 0\n",
        "i =  1\n",
        "i =  2\n",
        "i =  3\n",
        "i =  4\n",
        "i =  5\n",
        "i =  6\n",
        "i =  7\n",
        "i =  8\n",
        "i =  9\n",
        "i =  10\n",
        "i =  11\n",
        "i =  12\n",
        "i =  13\n",
        "i =  14\n",
        "i = "
       ]
      },
      {
       "output_type": "stream",
       "stream": "stdout",
       "text": [
        " 15\n",
        "i =  16\n",
        "i =  17\n",
        "i =  18\n",
        "i =  19\n",
        "i =  20\n",
        "i =  21\n",
        "i =  22\n",
        "i =  23\n",
        "i =  24\n",
        "i =  25\n",
        "i =  26\n",
        "i =  27\n",
        "i =  28\n",
        "i =  29\n",
        "i =  30\n",
        "i = "
       ]
      },
      {
       "output_type": "stream",
       "stream": "stdout",
       "text": [
        " 31\n",
        "i =  32\n",
        "i =  33\n",
        "i =  34\n",
        "i =  35\n",
        "i =  36\n",
        "i =  37\n",
        "i =  38\n",
        "i =  39\n",
        "i =  40\n",
        "i =  41\n",
        "i =  42\n",
        "i =  43\n",
        "i = "
       ]
      },
      {
       "output_type": "stream",
       "stream": "stdout",
       "text": [
        " 44\n",
        "i =  45\n",
        "i =  46\n",
        "i = "
       ]
      },
      {
       "output_type": "stream",
       "stream": "stdout",
       "text": [
        " 47\n",
        "i =  48\n",
        "i =  49\n",
        "i = "
       ]
      },
      {
       "output_type": "stream",
       "stream": "stdout",
       "text": [
        " 50\n",
        "i =  51\n",
        "i =  52\n",
        "i = "
       ]
      },
      {
       "output_type": "stream",
       "stream": "stdout",
       "text": [
        " 53\n",
        "i =  54\n",
        "i =  55\n",
        "i = "
       ]
      },
      {
       "output_type": "stream",
       "stream": "stdout",
       "text": [
        " 56\n",
        "i =  57\n",
        "i =  58\n",
        "i = "
       ]
      },
      {
       "output_type": "stream",
       "stream": "stdout",
       "text": [
        " 59\n",
        "i =  60\n",
        "i =  61\n",
        "i = "
       ]
      },
      {
       "output_type": "stream",
       "stream": "stdout",
       "text": [
        " 62\n"
       ]
      }
     ],
     "prompt_number": 28
    },
    {
     "cell_type": "code",
     "collapsed": false,
     "input": [
      "from scipy.special import kn\n",
      "alpha = data[:, 0, :]\n",
      "a0    = data[:, 1, :]\n",
      "theta = -1./a0\n",
      "K2 = kn(2., 1./theta)\n",
      "rho   = 4.*pi*alpha*theta*K2\n",
      "\n",
      "NUp0 = moments[:, 0, :]\n",
      "NUp1 = moments[:, 1, :]\n",
      "NUp2 = moments[:, 2, :]\n",
      "NUp3 = moments[:, 3, :]\n",
      "\n",
      "n = sqrt(-(-NUp0**2. + NUp1**2. + NUp2**2. + NUp3**2.))\n",
      "#GRIM n\n",
      "#n = data[:, 0, :]\n",
      "\n",
      "u1Prim = data[:, 2, :]\n",
      "u2Prim = data[:, 3, :]\n",
      "u3Prim = data[:, 4, :]\n",
      "\n",
      "gamma = sqrt(1. + u1Prim**2. + u2Prim**2. + u3Prim**2.)\n",
      "uCon0Prim = gamma\n",
      "uCon1Prim = u1Prim\n",
      "uCon2Prim = u2Prim\n",
      "uCon3Prim = u3Prim\n",
      "\n",
      "uCon0Eckart = NUp0/n\n",
      "uCon1Eckart = NUp1/n\n",
      "uCon2Eckart = NUp2/n\n",
      "uCon3Eckart = NUp3/n"
     ],
     "language": "python",
     "metadata": {},
     "outputs": [],
     "prompt_number": 29
    },
    {
     "cell_type": "code",
     "collapsed": false,
     "input": [
      "#plot(X1, -NUp0*uCon0 + NUp1*uCon1)\n",
      "#plot(X1, -NUp0*uCon0Prim + NUp1*uCon1Prim)\n",
      "#plot(X1, data[:, 8, -1], color='blue')\n",
      "#plot(X1, data[:, 11, :], color='green')\n",
      "\n",
      "#plot(X1, data[:, 14, :], color='red')\n",
      "#plot(X1, data[:, 20, :], color='purple')\n",
      "figure()\n",
      "plot(X1, n[:, :])\n",
      "\n",
      "# Non-zero components\n",
      "# C011\n",
      "# C022\n",
      "# C033\n",
      "# C111\n",
      "# C122\n",
      "# C133"
     ],
     "language": "python",
     "metadata": {},
     "outputs": [
      {
       "metadata": {},
       "output_type": "pyout",
       "prompt_number": 30,
       "text": [
        "[<matplotlib.lines.Line2D at 0x7f9e823f34d0>,\n",
        " <matplotlib.lines.Line2D at 0x7f9e823f3750>,\n",
        " <matplotlib.lines.Line2D at 0x7f9e823f3990>,\n",
        " <matplotlib.lines.Line2D at 0x7f9e823f3b50>,\n",
        " <matplotlib.lines.Line2D at 0x7f9e823f3d10>,\n",
        " <matplotlib.lines.Line2D at 0x7f9e823f3ed0>,\n",
        " <matplotlib.lines.Line2D at 0x7f9e8237e0d0>,\n",
        " <matplotlib.lines.Line2D at 0x7f9e8240ec10>,\n",
        " <matplotlib.lines.Line2D at 0x7f9e8237e450>,\n",
        " <matplotlib.lines.Line2D at 0x7f9e8237e610>,\n",
        " <matplotlib.lines.Line2D at 0x7f9e8237e7d0>,\n",
        " <matplotlib.lines.Line2D at 0x7f9e8237e990>,\n",
        " <matplotlib.lines.Line2D at 0x7f9e8237eb50>,\n",
        " <matplotlib.lines.Line2D at 0x7f9e8237ed10>,\n",
        " <matplotlib.lines.Line2D at 0x7f9e8237eed0>,\n",
        " <matplotlib.lines.Line2D at 0x7f9e823870d0>,\n",
        " <matplotlib.lines.Line2D at 0x7f9e82387290>,\n",
        " <matplotlib.lines.Line2D at 0x7f9e82387450>,\n",
        " <matplotlib.lines.Line2D at 0x7f9e82387610>,\n",
        " <matplotlib.lines.Line2D at 0x7f9e823877d0>,\n",
        " <matplotlib.lines.Line2D at 0x7f9e82387990>,\n",
        " <matplotlib.lines.Line2D at 0x7f9e8237ef10>,\n",
        " <matplotlib.lines.Line2D at 0x7f9e82387d10>,\n",
        " <matplotlib.lines.Line2D at 0x7f9e82387ed0>,\n",
        " <matplotlib.lines.Line2D at 0x7f9e823900d0>,\n",
        " <matplotlib.lines.Line2D at 0x7f9e82390290>,\n",
        " <matplotlib.lines.Line2D at 0x7f9e82390450>,\n",
        " <matplotlib.lines.Line2D at 0x7f9e82390610>,\n",
        " <matplotlib.lines.Line2D at 0x7f9e82387b90>,\n",
        " <matplotlib.lines.Line2D at 0x7f9e82390990>,\n",
        " <matplotlib.lines.Line2D at 0x7f9e82390b50>,\n",
        " <matplotlib.lines.Line2D at 0x7f9e82390d10>,\n",
        " <matplotlib.lines.Line2D at 0x7f9e82390ed0>,\n",
        " <matplotlib.lines.Line2D at 0x7f9e8239a0d0>,\n",
        " <matplotlib.lines.Line2D at 0x7f9e8239a290>,\n",
        " <matplotlib.lines.Line2D at 0x7f9e82390810>,\n",
        " <matplotlib.lines.Line2D at 0x7f9e8239a610>,\n",
        " <matplotlib.lines.Line2D at 0x7f9e8239a7d0>,\n",
        " <matplotlib.lines.Line2D at 0x7f9e8239a990>,\n",
        " <matplotlib.lines.Line2D at 0x7f9e8239ab50>,\n",
        " <matplotlib.lines.Line2D at 0x7f9e8239ad10>,\n",
        " <matplotlib.lines.Line2D at 0x7f9e8239aed0>,\n",
        " <matplotlib.lines.Line2D at 0x7f9e8239a490>,\n",
        " <matplotlib.lines.Line2D at 0x7f9e823a4290>,\n",
        " <matplotlib.lines.Line2D at 0x7f9e823a4450>,\n",
        " <matplotlib.lines.Line2D at 0x7f9e823a4610>,\n",
        " <matplotlib.lines.Line2D at 0x7f9e823a47d0>,\n",
        " <matplotlib.lines.Line2D at 0x7f9e823a4990>,\n",
        " <matplotlib.lines.Line2D at 0x7f9e823a4b50>,\n",
        " <matplotlib.lines.Line2D at 0x7f9e823a4d10>,\n",
        " <matplotlib.lines.Line2D at 0x7f9e823a4ed0>,\n",
        " <matplotlib.lines.Line2D at 0x7f9e823ab0d0>,\n",
        " <matplotlib.lines.Line2D at 0x7f9e823ab290>,\n",
        " <matplotlib.lines.Line2D at 0x7f9e823ab450>,\n",
        " <matplotlib.lines.Line2D at 0x7f9e823ab610>,\n",
        " <matplotlib.lines.Line2D at 0x7f9e823ab7d0>,\n",
        " <matplotlib.lines.Line2D at 0x7f9e823a4d50>,\n",
        " <matplotlib.lines.Line2D at 0x7f9e823abb50>,\n",
        " <matplotlib.lines.Line2D at 0x7f9e823abd10>,\n",
        " <matplotlib.lines.Line2D at 0x7f9e823abed0>,\n",
        " <matplotlib.lines.Line2D at 0x7f9e823b20d0>,\n",
        " <matplotlib.lines.Line2D at 0x7f9e823b2290>,\n",
        " <matplotlib.lines.Line2D at 0x7f9e823b2450>]"
       ]
      }
     ],
     "prompt_number": 30
    },
    {
     "cell_type": "code",
     "collapsed": false,
     "input": [
      "#figure()\n",
      "plot(X1, uCon0Eckart[:, -1] )\n",
      "plot(X1, uCon0Prim[:, -1], '--', lw=2, color='black' )"
     ],
     "language": "python",
     "metadata": {},
     "outputs": [
      {
       "metadata": {},
       "output_type": "pyout",
       "prompt_number": 365,
       "text": [
        "[<matplotlib.lines.Line2D at 0x7fb4c3269250>]"
       ]
      }
     ],
     "prompt_number": 365
    },
    {
     "cell_type": "code",
     "collapsed": false,
     "input": [
      "NDIM = 4\n",
      "def M_UP_UP_UP(mu, nu, lamda):\n",
      "    return lamda + NDIM*(nu) + NDIM*NDIM*(mu) + NDIM*NDIM + NDIM\n",
      "\n",
      "def T_UP_DOWN(mu, nu):\n",
      "    return (nu + NDIM*(mu) + NDIM)\n",
      "\n",
      "def N_UP(mu):\n",
      "    return mu"
     ],
     "language": "python",
     "metadata": {},
     "outputs": [],
     "prompt_number": 135
    },
    {
     "cell_type": "code",
     "collapsed": false,
     "input": [
      "print mean(moments[:, M_UP_UP_UP(1, 1, 0), 0])\n",
      "print mean(moments[:, M_UP_UP_UP(1, 1, 0), -1])\n",
      "\n",
      "print mean(moments[:, T_UP_DOWN(0, 0), 0])\n",
      "print mean(moments[:, T_UP_DOWN(0, 0), -1])\n",
      "\n",
      "print mean(moments[:, N_UP(0), 0])\n",
      "print mean(moments[:, N_UP(0), -1])"
     ],
     "language": "python",
     "metadata": {},
     "outputs": [
      {
       "output_type": "stream",
       "stream": "stdout",
       "text": [
        "3.36092221667\n",
        "3.36092160331\n",
        "-3.00061431782\n",
        "-3.00061431729\n",
        "0.999162965829\n",
        "0.999162965642\n"
       ]
      }
     ],
     "prompt_number": 149
    },
    {
     "cell_type": "code",
     "collapsed": false,
     "input": [
      "#plot(X1, n[:, :])\n",
      "#deltaRhoAnalytic = loadtxt('/tmp/deltaRhoAnalytic_k4pi.txt')\n",
      "deltaRhoAnalytic = loadtxt('/home/mc/data/mc/PhD/deltaRhoAnalytic.txt')\n",
      "#deltaRhoAnalytic = loadtxt('/tmp/deltaRhoAnalytic_k_2pi_entropy_mode.txt')\n",
      "\n",
      "#subplot(212)\n",
      "#semilogy(t[:deltaRhoAnalytic.size], abs(deltaRhoAnalytic), '--', lw=2, color='black')\n",
      "#semilogy(t[:n.shape[1]], abs(n[N1/2, :] - mean(n[:, 0])), color='red')\n",
      "plot(abs(deltaRhoAnalytic), '--', lw=2, color='black')\n",
      "plot(abs(n[N1/2, :] - mean(n[:, 0])), color='blue')\n",
      "#plot(abs(NUp1[N1/2, :] - 0*mean(NUp1[:, 0])), '-', color='red')\n",
      "#plot(abs(moments[N1/2, T_UP_DOWN(0, 1), :] - 0.*mean(moments[:, T_UP_DOWN(0, 1), 0])), '.-', color='blue')\n",
      "#plot(abs(u1Prim[N1/2, :] - mean(u1Prim[:, 0])), '-', color='green')\n",
      "\n",
      "#rhoInit = n[:, 0]\n",
      "#uuInit = 2.\n",
      "#gammaApprox = 1.43210621832\n",
      "#thetaInit = (gammaApprox - 1.)*uuInit/rhoInit\n",
      "#plot(moments[:, T_UP_DOWN(0, 1), -1], '.-', color='blue')\n",
      "#plot(gradient(thetaInit), '.-', color='green')\n",
      "\n",
      "#plot(gradient(thetaInit))\n",
      "\n",
      "#xlim(xmax=4)\n",
      "#ylim(ymin=1e-7)\n",
      "#twinx()\n",
      "#plot( ( moments[N1/4, T_UP_DOWN(0, 1), :] ), color='blue')\n",
      "#plot( ( moments[N1/2, T_UP_DOWN(1, 1), :] ) - mean(moments[N1/2, T_UP_DOWN(1, 1), 0]) )"
     ],
     "language": "python",
     "metadata": {},
     "outputs": [
      {
       "metadata": {},
       "output_type": "pyout",
       "prompt_number": 9,
       "text": [
        "[<matplotlib.lines.Line2D at 0x7f9e75a8ebd0>]"
       ]
      }
     ],
     "prompt_number": 9
    },
    {
     "cell_type": "code",
     "collapsed": false,
     "input": [
      "figure()\n",
      "plot(X1, rho[:, 0])\n",
      "plot(X1, NUp0[:, 0], '--', lw=2, color='black')"
     ],
     "language": "python",
     "metadata": {},
     "outputs": [
      {
       "metadata": {},
       "output_type": "pyout",
       "prompt_number": 53,
       "text": [
        "[<matplotlib.lines.Line2D at 0x7f4ce9086810>]"
       ]
      }
     ],
     "prompt_number": 53
    },
    {
     "cell_type": "code",
     "collapsed": false,
     "input": [
      "#clf()\n",
      "#plot(X1, moments[:, T_UP_DOWN(3, 3), 10])\n",
      "#plot(data[N1/2, 17, :])\n",
      "plot(X1, data[:, 1, -1])"
     ],
     "language": "python",
     "metadata": {},
     "outputs": [
      {
       "metadata": {},
       "output_type": "pyout",
       "prompt_number": 42,
       "text": [
        "[<matplotlib.lines.Line2D at 0x7fee42514190>]"
       ]
      }
     ],
     "prompt_number": 42
    },
    {
     "cell_type": "code",
     "collapsed": false,
     "input": [
      "#clf()\n",
      "step = -1\n",
      "#plot(X1, moments[:, T_UP_DOWN(0, 1), step], color='blue')\n",
      "plot(X1, NUp1[:, step], color='green')\n",
      "\n",
      "#twinx()\n",
      "#plot(X1, moments[:, T_UP_DOWN(1, 1), step]/n[:, step], color='green')\n"
     ],
     "language": "python",
     "metadata": {},
     "outputs": [
      {
       "metadata": {},
       "output_type": "pyout",
       "prompt_number": 141,
       "text": [
        "[<matplotlib.lines.Line2D at 0x7f5d2f6e1090>]"
       ]
      }
     ],
     "prompt_number": 141
    },
    {
     "cell_type": "code",
     "collapsed": false,
     "input": [
      "plot(X1, n[:, :])"
     ],
     "language": "python",
     "metadata": {},
     "outputs": [
      {
       "metadata": {},
       "output_type": "pyout",
       "prompt_number": 54,
       "text": [
        "[<matplotlib.lines.Line2D at 0x7f047d92a250>,\n",
        " <matplotlib.lines.Line2D at 0x7f047d92a4d0>,\n",
        " <matplotlib.lines.Line2D at 0x7f047d92a710>,\n",
        " <matplotlib.lines.Line2D at 0x7f047d92a8d0>,\n",
        " <matplotlib.lines.Line2D at 0x7f047d92aa90>,\n",
        " <matplotlib.lines.Line2D at 0x7f047d92ac50>,\n",
        " <matplotlib.lines.Line2D at 0x7f047d92ae10>,\n",
        " <matplotlib.lines.Line2D at 0x7f047d92afd0>,\n",
        " <matplotlib.lines.Line2D at 0x7f047d8b51d0>,\n",
        " <matplotlib.lines.Line2D at 0x7f047d8b5390>,\n",
        " <matplotlib.lines.Line2D at 0x7f047d8b5550>,\n",
        " <matplotlib.lines.Line2D at 0x7f047d8b5710>,\n",
        " <matplotlib.lines.Line2D at 0x7f047d8b58d0>,\n",
        " <matplotlib.lines.Line2D at 0x7f047d8b5a90>,\n",
        " <matplotlib.lines.Line2D at 0x7f047d8b5c50>,\n",
        " <matplotlib.lines.Line2D at 0x7f047d8b5e10>,\n",
        " <matplotlib.lines.Line2D at 0x7f047d8b5fd0>,\n",
        " <matplotlib.lines.Line2D at 0x7f047d8be1d0>,\n",
        " <matplotlib.lines.Line2D at 0x7f047d8be390>]"
       ]
      }
     ],
     "prompt_number": 54
    },
    {
     "cell_type": "code",
     "collapsed": false,
     "input": [
      "step = -1\n",
      "clf()\n",
      "T = (1./3) * (moments[:, T_UP_DOWN(1, 1), step] + 2.*moments[:, T_UP_DOWN(2, 2), step])/n[:, step]\n",
      "plot(X1, gradient(T))\n",
      "twinx()\n",
      "plot(X1, moments[:, T_UP_DOWN(0, 1), step], color='green')"
     ],
     "language": "python",
     "metadata": {},
     "outputs": [
      {
       "metadata": {},
       "output_type": "pyout",
       "prompt_number": 292,
       "text": [
        "[<matplotlib.lines.Line2D at 0x7f4cd34f3510>]"
       ]
      }
     ],
     "prompt_number": 292
    },
    {
     "cell_type": "code",
     "collapsed": false,
     "input": [],
     "language": "python",
     "metadata": {},
     "outputs": []
    }
   ],
   "metadata": {}
  }
 ]
}