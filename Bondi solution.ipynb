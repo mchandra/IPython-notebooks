{
 "metadata": {
  "name": "",
  "signature": "sha256:3d1f68009331056f45d76dc93daf1bc61afbe16d75d952837bacef6a711f9dc0"
 },
 "nbformat": 3,
 "nbformat_minor": 0,
 "worksheets": [
  {
   "cells": [
    {
     "cell_type": "code",
     "collapsed": false,
     "input": [
      "%qtconsole"
     ],
     "language": "python",
     "metadata": {},
     "outputs": [],
     "prompt_number": 210
    },
    {
     "cell_type": "code",
     "collapsed": false,
     "input": [
      "from scipy.optimize import root"
     ],
     "language": "python",
     "metadata": {},
     "outputs": [],
     "prompt_number": 3
    },
    {
     "cell_type": "code",
     "collapsed": false,
     "input": [
      "def func(x, r):\n",
      "    T = x[0]\n",
      "    \n",
      "    return ((1+(1+n)*T)**2*(1-2*m/r+C1**2/(r**4*T**(2*n)))-C2)\n",
      "\n",
      "    #return C2 - ( (1. + (1.+n)*T)**2. * (1. - 2.*m/r + C1**2./(r**4.*T**(2.*n) ) ) )"
     ],
     "language": "python",
     "metadata": {},
     "outputs": [],
     "prompt_number": 4
    },
    {
     "cell_type": "code",
     "collapsed": false,
     "input": [
      "m = 1.\n",
      "r_c = 20.\n",
      "Gamma = 5./3\n",
      "n = 1./(Gamma - 1.)\n",
      "\n",
      "u_c = sqrt(m/(2*r_c)) # uc = sqrt(m/2*rc)\n",
      "V_c = -sqrt(u_c**2/(1-3*u_c**2))\n",
      "T_c = -n*V_c**2./((n+1.)*(n*V_c**2.-1.))\n",
      "\n",
      "# Establish constants determining problem\n",
      "C1 = u_c*r_c**2.*T_c**n\n",
      "C2 = (1+(1+n)*T_c)**2*(1-2*m/r_c+C1**2/(r_c**4*T_c**(2*n)))\n",
      "\n",
      "N1 = 32\n",
      "N2 = 32\n",
      "NG = 2\n",
      "A_SPIN = 0.9375\n",
      "H_SLOPE = 0.3\n",
      "R_IN = 0.8*(1. + sqrt(1. - A_SPIN**2.))\n",
      "R_OUT = 40.\n",
      "X1_START = log(R_IN)\n",
      "X2_START = 1e-3\n",
      "DX1 = (log((R_OUT)/(R_IN))/N1)\n",
      "DX2 = ((1. - 2.*X2_START)/N2)\n",
      "i = arange(-NG, N1+NG, 1)\n",
      "j = arange(-NG, N2+NG, 1)\n",
      "X1 = (X1_START + (i + 0.5)*DX1)\n",
      "X2 = (X2_START + (j + 0.5)*DX2)\n",
      "R = exp(X1)\n",
      "THETA = pi*(X2) + ((1 - H_SLOPE)/2.)*sin(2.*pi*(X2))\n",
      "\n",
      "# Get Bondi soln\n",
      "T = np.zeros(R.size)\n",
      "for index, r in enumerate(R):\n",
      "#    print \"r = \", r\n",
      "    for i in xrange(10):\n",
      "        T0 = T_c\n",
      "        sol = root(func, [T0], args=(r))\n",
      "    T[index] = sol.x[0]\n",
      "    if (sol.success!=True):\n",
      "        print \"Not converged at r = \", r\n",
      "        \n",
      "ur = -C1/(T**n*R**2.)\n",
      "rho = T**n\n",
      "P = rho*T\n",
      "u = P/(Gamma-1.)\n",
      "gCovtt = -(1. - 2./R); gContt = 1./gCovtt\n",
      "gamma = sqrt(1. + gCovtt*ur*ur)\n",
      "alpha = -1./sqrt(-gContt)\n",
      "V = alpha*ur/gamma\n",
      "\n",
      "savetxt('/home/mc/bh/grim/bondi_soln_rCoords.txt', R, delimiter=\"\\n\")\n",
      "savetxt('/home/mc/bh/grim/bondi_soln_rho.txt', rho, delimiter=\"\\n\")\n",
      "savetxt('/home/mc/bh/grim/bondi_soln_u.txt', u, delimiter=\"\\n\")\n",
      "savetxt('/home/mc/bh/grim/bondi_soln_ur.txt', ur, delimiter=\"\\n\")"
     ],
     "language": "python",
     "metadata": {},
     "outputs": [
      {
       "output_type": "stream",
       "stream": "stderr",
       "text": [
        "-c:49: RuntimeWarning: invalid value encountered in sqrt\n"
       ]
      }
     ],
     "prompt_number": 5
    },
    {
     "cell_type": "code",
     "collapsed": false,
     "input": [
      "from scipy.interpolate import splrep, splev\n",
      "from scipy.integrate import odeint\n",
      "\n",
      "grimSoln = loadtxt('/home/mc/bh/grim/bondi_soln.txt')\n",
      "\n",
      "R_grim = grimSoln[:, 0]\n",
      "rho_grim = grimSoln[:, 1]\n",
      "u_grim = grimSoln[:, 2]\n",
      "ur_grim = grimSoln[:, 3]\n",
      "Br_grim = grimSoln[:, 4]\n",
      "\n",
      "rho_tck = splrep(R_grim, rho_grim)\n",
      "u_tck = splrep(R_grim, u_grim)\n",
      "ur_tck = splrep(R_grim, ur_grim)\n",
      "Br_tck = splrep(R_grim, Br_grim)\n",
      "\n",
      "tau = .01\n",
      "phi = 1.\n",
      "Gamma = 5./3    "
     ],
     "language": "python",
     "metadata": {},
     "outputs": []
    },
    {
     "cell_type": "code",
     "collapsed": false,
     "input": [
      "def dF_dr(y, r):\n",
      "    F = y[0]\n",
      "    \n",
      "    rho = splev(r, rho_tck)\n",
      "    u = splev(r, u_tck)\n",
      "    ur = splev(r, ur_tck)\n",
      "    Br = splev(r, Br_tck)\n",
      "    \n",
      "    cs = (Gamma*(Gamma-1.)*u/(rho+u))**0.5\n",
      "    F0 = phi*(rho + u)*cs**3.\n",
      "    \n",
      "    dF_dr = (F0 - F)/(tau*ur)\n",
      "    \n",
      "    return [dF_dr]\n",
      "\n",
      "cs_inner_bdry = (Gamma*(Gamma-1.)*u_grim[0]/(rho_grim[0]+u_grim[0]))**0.5\n",
      "\n",
      "F0_inner_bdry = phi*(rho_grim[0] + u_grim[0])*cs_inner_bdry**3.\n",
      "F = odeint(dF_dr, [F0_inner_bdry], R_grim)"
     ],
     "language": "python",
     "metadata": {},
     "outputs": []
    },
    {
     "cell_type": "code",
     "collapsed": true,
     "input": [
      "from scipy.integrate import quad\n",
      "\n",
      "def integrand(r):\n",
      "    ur = splev(r, ur_tck)\n",
      "    \n",
      "    return 1./ur\n",
      "   \n",
      "cs = (Gamma*(Gamma-1.)*u_grim/(rho_grim+u_grim))**0.5\n",
      "F0 = phi*(rho_grim + u_grim)*cs**3.\n",
      "\n",
      "cs_outer_bdry = (Gamma*(Gamma-1.)*u_grim[-1]/(rho_grim[-1]+u_grim[-1]))**0.5\n",
      "F0_outer_bdry = phi*(rho_grim[-1] + u_grim[-1])*cs_outer_bdry**3.\n",
      "\n",
      "F = zeros(R.size)\n",
      "for i, r in enumerate(R):\n",
      "    integral = quad(integrand, R[-1], r)[0]\n",
      "    F[i] = F0[i] - (F0[i] - F0_outer_bdry)*exp(-1./tau*integral)"
     ],
     "language": "python",
     "metadata": {},
     "outputs": []
    },
    {
     "cell_type": "code",
     "collapsed": false,
     "input": [
      "clf()\n",
      "plot(R, T)\n",
      "axvline(x=8., color='black', linestyle='--')\n",
      "xlabel('$r$')\n",
      "#ylabel('$V$')"
     ],
     "language": "python",
     "metadata": {},
     "outputs": []
    },
    {
     "cell_type": "code",
     "collapsed": false,
     "input": [
      "import h5py\n",
      "import glob\n",
      "#filepath = '/home/mc/bh/grim/plots_128x128_MHD_torus_run/'\n",
      "#filepath = '/home/mc/PhD/grim_2/grim/plots_128x128_torus_run_with_conduction_2/'\n",
      "filepath = '/home/mc/PhD/grim_2/grim'\n",
      "files = np.sort(glob.glob(filepath+'/plot*.h5'))\n",
      "\n",
      "N1 = 32; N2 = 32\n",
      "dof = 8\n",
      "\n",
      "data = zeros([N2, N1, dof, files.size]) \n",
      "\n",
      "for i, dumpfile in enumerate(files):\n",
      "    print \"i = \", i\n",
      "    datafile = h5py.File(dumpfile, \"r\")\n",
      "    data[:, :, :, i] = datafile[datafile.items()[0][0]][:]\n",
      "    datafile.close()"
     ],
     "language": "python",
     "metadata": {},
     "outputs": [
      {
       "output_type": "stream",
       "stream": "stdout",
       "text": [
        "i =  0\n",
        "i =  1\n",
        "i =  2\n",
        "i =  3\n",
        "i =  4\n",
        "i =  5\n",
        "i =  6\n",
        "i =  7\n",
        "i =  8\n",
        "i =  9\n",
        "i =  10\n",
        "i =  11\n",
        "i =  "
       ]
      },
      {
       "output_type": "stream",
       "stream": "stdout",
       "text": [
        "12\n",
        "i =  13\n",
        "i =  14\n",
        "i =  15\n",
        "i =  16\n",
        "i =  17\n",
        "i =  18\n",
        "i =  19\n",
        "i =  20\n",
        "i =  21\n",
        "i =  22\n",
        "i =  23\n",
        "i =  24\n",
        "i =  25\n",
        "i =  26\n",
        "i =  27\n",
        "i = "
       ]
      },
      {
       "output_type": "stream",
       "stream": "stdout",
       "text": [
        " 28\n",
        "i =  29\n",
        "i =  30\n",
        "i =  31\n",
        "i =  32\n",
        "i =  33\n",
        "i =  34\n",
        "i =  35\n",
        "i =  36\n",
        "i =  37\n",
        "i =  38\n",
        "i =  39\n",
        "i =  40\n",
        "i =  41\n",
        "i = "
       ]
      },
      {
       "output_type": "stream",
       "stream": "stdout",
       "text": [
        " 42\n",
        "i =  43\n",
        "i =  44\n",
        "i =  45\n",
        "i =  46\n",
        "i =  47\n",
        "i =  48\n",
        "i =  49\n",
        "i =  50\n",
        "i =  51\n",
        "i =  52\n",
        "i =  53\n",
        "i =  54\n",
        "i =  55\n",
        "i =  56\n",
        "i =  57\n",
        "i =  58\n",
        "i =  59\n",
        "i =  60\n",
        "i =  61\n",
        "i = "
       ]
      },
      {
       "output_type": "stream",
       "stream": "stdout",
       "text": [
        " 62\n",
        "i =  63\n",
        "i =  64\n",
        "i =  65\n",
        "i =  66\n",
        "i =  67\n",
        "i =  68\n",
        "i =  69\n",
        "i =  70\n",
        "i =  71\n",
        "i =  72\n",
        "i =  73\n",
        "i =  74\n",
        "i =  75\n",
        "i =  76\n",
        "i = "
       ]
      },
      {
       "output_type": "stream",
       "stream": "stdout",
       "text": [
        " 77\n",
        "i =  78\n",
        "i =  79\n",
        "i =  80\n",
        "i =  81\n",
        "i =  82\n",
        "i =  83\n",
        "i =  84\n",
        "i =  85\n",
        "i =  86\n",
        "i =  87\n",
        "i =  88\n",
        "i =  89\n",
        "i =  90\n",
        "i =  91\n",
        "i =  92\n",
        "i = "
       ]
      },
      {
       "output_type": "stream",
       "stream": "stdout",
       "text": [
        " 93\n",
        "i =  94\n",
        "i =  95\n",
        "i =  96\n",
        "i =  97\n",
        "i =  98\n",
        "i =  99\n",
        "i =  100\n",
        "i =  101\n",
        "i =  102\n",
        "i =  103\n",
        "i =  104\n",
        "i =  105\n",
        "i =  106\n",
        "i =  107\n",
        "i =  108\n",
        "i =  109\n",
        "i =  110\n",
        "i =  111\n",
        "i = "
       ]
      },
      {
       "output_type": "stream",
       "stream": "stdout",
       "text": [
        " 112\n",
        "i =  113\n",
        "i =  114\n",
        "i =  115\n",
        "i =  116\n",
        "i =  117\n",
        "i =  118\n",
        "i =  119\n",
        "i =  120\n",
        "i =  121\n",
        "i =  122\n",
        "i =  123\n",
        "i =  124\n",
        "i =  125\n",
        "i =  126\n",
        "i =  127\n",
        "i =  128\n",
        "i =  129\n",
        "i = "
       ]
      },
      {
       "output_type": "stream",
       "stream": "stdout",
       "text": [
        " 130\n",
        "i =  131\n",
        "i =  132\n",
        "i =  133\n",
        "i =  134\n",
        "i =  135\n",
        "i =  136\n",
        "i =  137\n",
        "i =  138\n",
        "i =  139\n",
        "i =  140\n",
        "i =  141\n",
        "i =  142\n",
        "i =  143\n",
        "i =  144\n",
        "i = "
       ]
      },
      {
       "output_type": "stream",
       "stream": "stdout",
       "text": [
        " 145\n",
        "i =  146\n",
        "i =  147\n",
        "i =  148\n",
        "i =  149\n",
        "i =  150\n",
        "i =  151\n",
        "i =  152\n",
        "i =  153\n",
        "i =  154\n",
        "i =  155\n",
        "i =  156\n",
        "i =  157\n",
        "i = "
       ]
      },
      {
       "output_type": "stream",
       "stream": "stdout",
       "text": [
        " 158\n",
        "i =  159\n",
        "i =  160\n",
        "i =  161\n",
        "i =  162\n",
        "i =  163\n",
        "i =  164\n",
        "i =  165\n",
        "i =  166\n",
        "i =  167\n",
        "i =  168\n",
        "i =  169\n",
        "i =  170\n",
        "i =  171\n",
        "i =  172\n",
        "i =  173\n",
        "i = "
       ]
      },
      {
       "output_type": "stream",
       "stream": "stdout",
       "text": [
        " 174\n",
        "i =  175\n",
        "i =  176\n",
        "i =  177\n",
        "i =  178\n",
        "i =  179\n",
        "i =  180\n",
        "i =  181\n",
        "i =  182\n",
        "i =  183\n",
        "i =  184\n",
        "i =  185\n",
        "i =  186\n",
        "i = "
       ]
      },
      {
       "output_type": "stream",
       "stream": "stdout",
       "text": [
        " 187\n",
        "i =  188\n",
        "i =  189\n",
        "i =  190\n",
        "i =  191\n",
        "i =  192\n",
        "i =  193\n",
        "i =  194\n",
        "i =  195\n",
        "i =  196\n",
        "i =  197\n",
        "i =  198\n",
        "i =  199\n",
        "i = "
       ]
      },
      {
       "output_type": "stream",
       "stream": "stdout",
       "text": [
        " 200\n",
        "i =  201\n",
        "i =  202\n",
        "i =  203\n",
        "i =  204\n",
        "i =  205\n",
        "i =  206\n",
        "i =  207\n",
        "i =  208\n",
        "i =  209\n",
        "i =  210\n",
        "i =  211\n",
        "i =  212\n",
        "i = "
       ]
      },
      {
       "output_type": "stream",
       "stream": "stdout",
       "text": [
        " 213\n",
        "i =  214\n",
        "i =  215\n",
        "i =  216\n",
        "i =  217\n",
        "i =  218\n",
        "i =  219\n",
        "i =  220\n",
        "i =  221\n",
        "i =  222\n",
        "i =  223\n",
        "i =  224\n",
        "i =  225\n",
        "i =  226\n",
        "i =  227\n",
        "i =  228\n",
        "i =  229\n",
        "i =  230\n",
        "i = "
       ]
      },
      {
       "output_type": "stream",
       "stream": "stdout",
       "text": [
        " 231\n",
        "i =  232\n",
        "i =  233\n",
        "i =  234\n",
        "i =  235\n",
        "i =  236\n",
        "i =  237\n",
        "i =  238\n",
        "i =  239\n",
        "i =  240\n",
        "i =  241\n",
        "i =  242\n",
        "i =  243\n",
        "i =  244\n",
        "i =  245\n",
        "i =  246\n",
        "i =  247\n",
        "i =  248\n",
        "i =  249\n",
        "i = "
       ]
      },
      {
       "output_type": "stream",
       "stream": "stdout",
       "text": [
        " 250\n",
        "i =  251\n",
        "i =  252\n",
        "i =  253\n",
        "i =  254\n",
        "i =  255\n",
        "i =  256\n",
        "i =  257\n",
        "i =  258\n",
        "i =  259\n",
        "i =  260\n",
        "i =  261\n",
        "i =  262\n",
        "i =  263\n",
        "i =  264\n",
        "i =  265\n",
        "i =  266\n",
        "i = "
       ]
      },
      {
       "output_type": "stream",
       "stream": "stdout",
       "text": [
        " 267\n",
        "i =  268\n",
        "i =  269\n",
        "i =  270\n",
        "i =  271\n",
        "i =  272\n",
        "i =  273\n",
        "i =  274\n",
        "i =  275\n",
        "i =  276\n",
        "i =  277\n",
        "i =  278\n",
        "i =  279\n",
        "i =  280\n",
        "i =  281\n",
        "i = "
       ]
      },
      {
       "output_type": "stream",
       "stream": "stdout",
       "text": [
        " 282\n",
        "i =  283\n",
        "i =  284\n",
        "i =  285\n",
        "i =  286\n",
        "i =  287\n",
        "i =  288\n",
        "i =  289\n",
        "i =  290\n",
        "i =  291\n",
        "i =  292\n",
        "i =  293\n",
        "i = "
       ]
      },
      {
       "output_type": "stream",
       "stream": "stdout",
       "text": [
        " 294\n",
        "i =  295\n",
        "i =  296\n",
        "i =  297\n",
        "i =  298\n",
        "i =  299\n",
        "i =  300\n",
        "i =  301\n",
        "i =  302\n",
        "i =  303\n",
        "i =  304\n",
        "i =  305\n",
        "i = "
       ]
      },
      {
       "output_type": "stream",
       "stream": "stdout",
       "text": [
        " 306\n",
        "i =  307\n",
        "i =  308\n",
        "i =  309\n",
        "i =  310\n",
        "i =  311\n",
        "i =  312\n",
        "i =  313\n",
        "i =  314\n",
        "i =  315\n",
        "i =  316\n",
        "i =  317\n",
        "i =  318\n",
        "i =  319\n",
        "i = "
       ]
      },
      {
       "output_type": "stream",
       "stream": "stdout",
       "text": [
        " 320\n",
        "i =  321\n",
        "i =  322\n",
        "i =  323\n",
        "i =  324\n",
        "i =  325\n",
        "i =  326\n",
        "i =  327\n",
        "i =  328\n",
        "i =  329\n",
        "i =  330\n",
        "i =  331\n",
        "i =  332\n",
        "i =  333\n",
        "i =  334\n",
        "i =  335\n",
        "i =  336\n",
        "i = "
       ]
      },
      {
       "output_type": "stream",
       "stream": "stdout",
       "text": [
        " 337\n",
        "i =  338\n",
        "i =  339\n",
        "i =  340\n",
        "i =  341\n",
        "i =  342\n",
        "i =  343\n",
        "i =  344\n",
        "i =  345\n",
        "i =  346\n",
        "i =  347\n",
        "i =  348\n",
        "i =  349\n",
        "i =  350\n",
        "i =  351\n",
        "i =  352\n",
        "i =  353\n",
        "i =  354\n",
        "i =  355\n",
        "i = "
       ]
      },
      {
       "output_type": "stream",
       "stream": "stdout",
       "text": [
        " 356\n",
        "i =  357\n",
        "i =  358\n",
        "i =  359\n",
        "i =  360\n",
        "i =  361\n",
        "i =  362\n",
        "i =  363\n",
        "i =  364\n",
        "i =  365\n",
        "i =  366\n",
        "i =  367\n",
        "i =  368\n",
        "i =  369\n",
        "i =  370\n",
        "i =  371\n",
        "i = "
       ]
      },
      {
       "output_type": "stream",
       "stream": "stdout",
       "text": [
        " 372\n",
        "i =  373\n",
        "i =  374\n",
        "i =  375\n",
        "i =  376\n",
        "i =  377\n",
        "i =  378\n",
        "i =  379\n",
        "i =  380\n",
        "i =  381\n",
        "i =  382\n",
        "i =  383\n",
        "i =  384\n",
        "i =  385\n",
        "i =  386\n",
        "i =  387\n",
        "i =  388\n",
        "i =  389\n",
        "i =  390\n",
        "i =  391\n",
        "i = "
       ]
      },
      {
       "output_type": "stream",
       "stream": "stdout",
       "text": [
        " 392\n",
        "i =  393\n",
        "i =  394\n",
        "i =  395\n",
        "i =  396\n",
        "i =  397\n",
        "i =  398\n",
        "i =  399\n",
        "i =  400\n",
        "i =  401\n",
        "i =  402\n",
        "i =  403\n",
        "i =  404\n",
        "i =  405\n",
        "i =  406\n",
        "i =  407\n",
        "i =  408\n",
        "i =  409\n",
        "i = "
       ]
      },
      {
       "output_type": "stream",
       "stream": "stdout",
       "text": [
        " 410\n",
        "i =  411\n",
        "i =  412\n",
        "i =  413\n",
        "i =  414\n",
        "i =  415\n",
        "i =  416\n",
        "i =  417\n",
        "i =  418\n",
        "i =  419\n",
        "i =  420\n",
        "i =  421\n",
        "i =  422\n",
        "i =  423\n",
        "i =  424\n",
        "i =  425\n",
        "i =  426\n",
        "i =  427\n",
        "i =  428\n",
        "i = "
       ]
      },
      {
       "output_type": "stream",
       "stream": "stdout",
       "text": [
        " 429\n",
        "i =  430\n",
        "i =  431\n",
        "i =  432\n",
        "i =  433\n",
        "i =  434\n",
        "i =  435\n",
        "i =  436\n",
        "i =  437\n",
        "i =  438\n",
        "i =  439\n",
        "i =  440\n",
        "i =  441\n",
        "i =  442\n",
        "i =  443\n",
        "i =  444\n",
        "i =  445\n",
        "i = "
       ]
      },
      {
       "output_type": "stream",
       "stream": "stdout",
       "text": [
        " 446\n",
        "i =  447\n",
        "i =  448\n",
        "i =  449\n",
        "i =  450\n",
        "i =  451\n",
        "i =  452\n",
        "i =  453\n"
       ]
      }
     ],
     "prompt_number": 10
    },
    {
     "cell_type": "code",
     "collapsed": true,
     "input": [
      "# Test code for radial magnetic fields\n",
      "\n",
      "from scipy.integrate import quad\n",
      "\n",
      "def integrand(X2, X1):\n",
      "    r = exp(X1)\n",
      "    theta = pi*(X2)\n",
      "    \n",
      "    return sqrt(-linalg.det(gCovCalc(X1, X2, r, theta)))/r**3.\n",
      "\n",
      "for j in xrange(N2):\n",
      "    print \"j = \", j\n",
      "    for i in xrange(N1):\n",
      "        x1 = (X1_START + (i + 0.5)*DX1)\n",
      "        x2 = (X2_START + (j + 0.5)*DX2)\n",
      "\n",
      "        A_phi[j, i] = quad(integrand, 0.001, x2, args=(x1,))[0]"
     ],
     "language": "python",
     "metadata": {},
     "outputs": []
    },
    {
     "cell_type": "code",
     "collapsed": false,
     "input": [
      "def gCovCalc(X1, X2, r, theta):\n",
      "    rhoSqr = r*r + A_SPIN*A_SPIN*cos(theta)*cos(theta);\n",
      "    rFactor = r;\n",
      "\n",
      "    hFactor = pi + (1. - H_SLOPE)*pi*cos(2.*pi*(X2));\n",
      "\n",
      "    gcov = zeros([4, 4])\n",
      "    gcov[0, 0] = -1. + 2.*r/rhoSqr;\n",
      "    gcov[0, 1] = (2.*r/rhoSqr)*rFactor;\n",
      "    gcov[0, 2] = 0.;\n",
      "    gcov[0, 3] = -2.*A_SPIN*r*sin(theta)*sin(theta)/rhoSqr;\n",
      "\n",
      "    gcov[1, 0] = gcov[0, 1];\n",
      "    gcov[1, 1] = (1. + 2.*r/rhoSqr)*rFactor*rFactor;\n",
      "    gcov[1, 2] = 0.;\n",
      "    gcov[1, 3] = -A_SPIN*sin(theta)*sin(theta)*(1.+\n",
      "                2.*r/rhoSqr)*rFactor;\n",
      "\n",
      "    gcov[2, 0] = gcov[0, 2];\n",
      "    gcov[2, 1] = gcov[1, 2];\n",
      "    gcov[2, 2] = rhoSqr*hFactor*hFactor;\n",
      "    gcov[2, 3] = 0.;\n",
      "\n",
      "\n",
      "    gcov[3, 0] = gcov[0, 3];\n",
      "    gcov[3, 1] = gcov[1, 3];\n",
      "    gcov[3, 2] = gcov[2, 3];\n",
      "    gcov[3, 3] = sin(theta)*sin(theta)*(rhoSqr +\n",
      "                            A_SPIN*A_SPIN*sin(theta)*sin(theta)*\\\n",
      "                            (1. + 2.*r/rhoSqr) );\n",
      "    \n",
      "    return gcov\n",
      "\n",
      "g = zeros([N2, N1])\n",
      "for j in xrange(N2):\n",
      "    for i in xrange(N1):\n",
      "        g[j, i] = sqrt(-linalg.det(gCovCalc(X1[i+2], X2[j+2], R[i+2], THETA[j+2])))\n",
      "\n",
      "gCov00 = zeros([N2, N1])\n",
      "for j in xrange(N2):\n",
      "    for i in xrange(N1):\n",
      "        gCov00[j, i] = gCovCalc(X1[i+2], X2[j+2], R[i+2], THETA[j+2])[0, 0]"
     ],
     "language": "python",
     "metadata": {},
     "outputs": [],
     "prompt_number": 5
    },
    {
     "cell_type": "code",
     "collapsed": false,
     "input": [
      "#Compute divB\n",
      "n = -1\n",
      "\n",
      "B1 = data[:, :, 5, n]\n",
      "B2 = data[:, :, 6, n]\n",
      "divB = zeros([N2, N1])\n",
      "\n",
      "for j in xrange(1, N2):\n",
      "    for i in xrange(1, N1):\n",
      "        divB[j, i] = abs( 0.5*(B1[i][j]*g[i][j] + B1[i][j-1]*g[i][j-1]\n",
      "                                      - B1[i-1][j]*g[i-1][j] - B1[i-1][j-1]*g[i-1][j-1])/DX1 +\n",
      "                                   0.5*(B2[i][j]*g[i][j] + B2[i-1][j]*g[i-1][j] - B2[i][j-1]*g[i][j-1]\n",
      "                                      - B2[i-1][j-1]*g[i-1][j-1] )/DX2\n",
      "                                 )\n",
      "        \n",
      "clf()\n",
      "contourf(X1[2:-2], X2[2:-2], divB, 100)\n",
      "colorbar()"
     ],
     "language": "python",
     "metadata": {},
     "outputs": [
      {
       "metadata": {},
       "output_type": "pyout",
       "prompt_number": 67,
       "text": [
        "<matplotlib.colorbar.Colorbar instance at 0x7f9b7784bf38>"
       ]
      }
     ],
     "prompt_number": 67
    },
    {
     "cell_type": "code",
     "collapsed": false,
     "input": [
      "from scipy.integrate import trapz\n",
      "\n",
      "A_phi = zeros([N2, N1, files.size])\n",
      "\n",
      "for n in xrange(files.size-1, files.size):\n",
      "    print \"n = \", n\n",
      "    B1 = data[:, :, 5, n]\n",
      "    B2 = data[:, :, 6, n]\n",
      "    for j in xrange(N2):\n",
      "        for i in xrange(N1):\n",
      "            A_phi[j, i, n] = trapz(g[j, :i]*B2[j, :i], dx=DX1) - trapz(g[:j, i]*B1[:j, i], dx=DX2)"
     ],
     "language": "python",
     "metadata": {},
     "outputs": [
      {
       "output_type": "stream",
       "stream": "stdout",
       "text": [
        "n =  10\n"
       ]
      }
     ],
     "prompt_number": 16
    },
    {
     "cell_type": "code",
     "collapsed": false,
     "input": [
      "figure(figsize=(8, 15))\n",
      "R_grid, THETA_grid = meshgrid(R[2:-2], THETA[2:-2])\n",
      "X = R_grid*sin(THETA_grid)\n",
      "Y = R_grid*cos(THETA_grid)\n",
      "\n",
      "step = -1\n",
      "clf()\n",
      "#contour(X[1:-1, 1:-1], Y[1:-1, 1:-1], A_phi[1:-1, 1:-1, step], 50, colors='blue', linestyles='solid')\n",
      "#contourf(X[1:-1, 1:-1], Y[1:-1, 1:-1], A_phi[1:-1, 1:-1, step], 50)\n",
      "\n",
      "contourf(X[1:-1, 1:-1], Y[1:-1, 1:-1], log10(abs(data[1:-1, 1:-1, 0, step])), 100)\n",
      "colorbar()\n",
      "#contour(X[1:-1, 1:-1], Y[1:-1, 1:-1], log10(data[1:-1, 1:-1, 0, step]), 25, colors='blue', linestyles='solid')\n",
      "#contourf(log10(abs(data[:, :, 3, step])), 100)\n",
      "#contourf((data[:, :, 8, -1]), 100)\n",
      "#subplot(211)\n",
      "#loglog(R, F)\n",
      "#twinx()\n",
      "#plot(R, F0, color='green')\n",
      "#subplot(212)\n",
      "#plot(R, F/F0)\n",
      "#loglog(R[1:], data[64, :, 8, -1], '.')"
     ],
     "language": "python",
     "metadata": {},
     "outputs": [
      {
       "metadata": {},
       "output_type": "pyout",
       "prompt_number": 11,
       "text": [
        "<matplotlib.colorbar.Colorbar instance at 0x7f2cf2253cf8>"
       ]
      }
     ],
     "prompt_number": 11
    },
    {
     "cell_type": "code",
     "collapsed": true,
     "input": [
      "figure(figsize=(16, 15))\n",
      "\n",
      "for n in xrange(A_phi_with_conduction[0, 0, :].size):\n",
      "    print \"n = \", n\n",
      "    \n",
      "    clf()\n",
      "    subplot(121)\n",
      "    contour(X, Y, A_phi[:, :, n], 100, colors='blue', linestyles='solid')\n",
      "    title('No conduction')\n",
      "    subplot(122)\n",
      "    contour(X, Y, A_phi_with_conduction[:, :, n], 100, colors='blue', linestyles='solid')\n",
      "    title('With anisotropic conduction')\n",
      "    suptitle(\"t = \"+str(n)+ \" M\")\n",
      "    savefig('/home/mc/bh/plot_bondi_conduction' + '%04d'%n + '.png')"
     ],
     "language": "python",
     "metadata": {},
     "outputs": []
    },
    {
     "cell_type": "code",
     "collapsed": false,
     "input": [
      "cs = sqrt(Gamma*(Gamma-1.)*u/(rho + Gamma*u) )\n",
      "r_B = 1./cs**2.\n",
      "\n",
      "t_ff = (R**3./2.)**0.5\n",
      "t_infall = abs(R/ur)\n",
      "\n",
      "gamma_mti = sqrt(1./rho*gradient(P)/gradient(R)*gradient(log(T))/gradient(R))\n",
      "t_mti = 1./gamma_mti\n",
      "\n",
      "kappa = 100*0.2*R**0.5*rho\n",
      "tau = 2.*(kappa*T)/(rho + u + P)\n",
      "omega = (Gamma*rho*u + rho**2.)/(rho**2.*tau + Gamma*rho*u*tau - (Gamma-1.)*kappa*u)\n",
      "\n",
      "s = log(P*rho**-Gamma)"
     ],
     "language": "python",
     "metadata": {},
     "outputs": [],
     "prompt_number": 143
    },
    {
     "cell_type": "code",
     "collapsed": false,
     "input": [
      "for i in xrange(files.size):\n",
      "    loglog(R[2:-2], data[N1/2, :, 1, i]/data[N1/2, :, 0, i])"
     ],
     "language": "python",
     "metadata": {},
     "outputs": []
    },
    {
     "cell_type": "code",
     "collapsed": false,
     "input": [
      "step = -1\n",
      "#semilogx(R[2:-2], data[N1/2, :, -1, step], 'o-')\n",
      "\n",
      "#loglog(R[2:-2], abs(data[N1/2, :, 5, step]))\n",
      "#loglog(R[2:-2], abs(data[N1/2, :, 6, step]))\n",
      "\n",
      "semilogx(R[2:-2], data[N1/2, :, 1, step]/data[N1/2, :, 0, step])\n",
      "#semilogx(R[2:-2], data[N1/2, :, 1, -1]/data[N1/2, :, 0, -1])"
     ],
     "language": "python",
     "metadata": {},
     "outputs": [
      {
       "metadata": {},
       "output_type": "pyout",
       "prompt_number": 15,
       "text": [
        "[<matplotlib.lines.Line2D at 0x7f6e13cf3d10>]"
       ]
      }
     ],
     "prompt_number": 15
    },
    {
     "cell_type": "code",
     "collapsed": false,
     "input": [
      "phi_analytic = loadtxt('/home/mc/bh/grim/bondi_soln_phi_no_backreaction.txt')"
     ],
     "language": "python",
     "metadata": {},
     "outputs": [],
     "prompt_number": 178
    },
    {
     "cell_type": "code",
     "collapsed": false,
     "input": [
      "loglog(X1[2:-2], phi_analytic[2:-2])\n",
      "loglog(X1[2:-2], data[N1/2, :, -1, -1], 'o')"
     ],
     "language": "python",
     "metadata": {},
     "outputs": [
      {
       "metadata": {},
       "output_type": "pyout",
       "prompt_number": 209,
       "text": [
        "[<matplotlib.lines.Line2D at 0x7f01e927bb10>]"
       ]
      }
     ],
     "prompt_number": 209
    },
    {
     "cell_type": "code",
     "collapsed": false,
     "input": [
      "clf()"
     ],
     "language": "python",
     "metadata": {},
     "outputs": [],
     "prompt_number": 11
    }
   ],
   "metadata": {}
  }
 ]
}