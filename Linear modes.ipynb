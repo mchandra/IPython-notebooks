{
 "metadata": {
  "name": "",
  "signature": "sha256:fdee2da33f21a75680870be9ab42833ab9e66f8111f7a57f4920a040e15c08d9"
 },
 "nbformat": 3,
 "nbformat_minor": 0,
 "worksheets": [
  {
   "cells": [
    {
     "cell_type": "code",
     "collapsed": false,
     "input": [
      "%qtconsole"
     ],
     "language": "python",
     "metadata": {},
     "outputs": [],
     "prompt_number": 2
    },
    {
     "cell_type": "code",
     "collapsed": false,
     "input": [
      "import h5py\n",
      "import glob\n",
      "filepath = '/home/mc/bh/grim/'\n",
      "files = np.sort(glob.glob(filepath+'/plot*.h5'))\n",
      "\n",
      "N1 = 64; N2 = 64\n",
      "i = arange(0, N1, 1)\n",
      "j = arange(0, N2, 1)\n",
      "dx1 = 1./N1\n",
      "dx2 = 1./N2\n",
      "x1 = (i + 0.5)*dx1\n",
      "x2 = (j + 0.5)*dx2\n",
      "X1, X2 = meshgrid(x1, x2)\n",
      "dof = 9\n",
      "\n",
      "data = zeros([N2, N1, dof, files.size]) \n",
      "\n",
      "for i, dumpfile in enumerate(files):\n",
      "    print \"i = \", i\n",
      "    datafile = h5py.File(dumpfile, \"r\")\n",
      "    data[:, :, :, i] = datafile[datafile.items()[0][0]][:]\n",
      "    datafile.close()"
     ],
     "language": "python",
     "metadata": {},
     "outputs": [
      {
       "output_type": "stream",
       "stream": "stdout",
       "text": [
        "i =  0\n",
        "i = "
       ]
      },
      {
       "output_type": "stream",
       "stream": "stdout",
       "text": [
        " 1\n",
        "i =  2\n",
        "i =  3\n",
        "i =  4\n",
        "i =  5\n",
        "i =  6\n",
        "i =  7\n",
        "i =  8\n",
        "i =  9\n",
        "i =  10\n",
        "i =  11\n",
        "i = "
       ]
      },
      {
       "output_type": "stream",
       "stream": "stdout",
       "text": [
        " 12\n",
        "i =  13\n",
        "i =  14\n",
        "i =  15\n",
        "i =  16\n",
        "i =  17\n",
        "i =  18\n",
        "i =  19\n",
        "i =  20\n",
        "i =  21\n",
        "i = "
       ]
      },
      {
       "output_type": "stream",
       "stream": "stdout",
       "text": [
        " 22\n",
        "i =  23\n",
        "i =  24\n",
        "i =  25\n",
        "i =  26\n",
        "i =  27\n",
        "i =  28\n",
        "i =  29\n",
        "i =  30\n",
        "i =  31\n",
        "i = "
       ]
      },
      {
       "output_type": "stream",
       "stream": "stdout",
       "text": [
        " 32\n",
        "i =  33\n",
        "i =  34\n",
        "i =  35\n",
        "i =  36\n",
        "i =  37\n",
        "i =  38\n",
        "i =  39\n",
        "i =  40\n",
        "i = "
       ]
      },
      {
       "output_type": "stream",
       "stream": "stdout",
       "text": [
        " 41\n",
        "i =  42\n",
        "i =  43\n",
        "i =  44\n",
        "i =  45\n",
        "i =  46\n",
        "i =  47\n",
        "i =  48\n",
        "i =  49\n",
        "i = "
       ]
      },
      {
       "output_type": "stream",
       "stream": "stdout",
       "text": [
        " 50\n",
        "i =  51\n",
        "i =  52\n",
        "i =  53\n",
        "i =  54\n",
        "i =  55\n",
        "i =  56\n",
        "i = "
       ]
      },
      {
       "output_type": "stream",
       "stream": "stdout",
       "text": [
        " 57\n",
        "i =  58\n",
        "i = "
       ]
      },
      {
       "output_type": "stream",
       "stream": "stdout",
       "text": [
        " 59\n",
        "i =  60\n",
        "i = "
       ]
      },
      {
       "output_type": "stream",
       "stream": "stdout",
       "text": [
        " 61\n",
        "i =  62\n",
        "i = "
       ]
      },
      {
       "output_type": "stream",
       "stream": "stdout",
       "text": [
        " 63\n",
        "i =  64\n",
        "i = "
       ]
      },
      {
       "output_type": "stream",
       "stream": "stdout",
       "text": [
        " 65\n",
        "i =  66\n",
        "i = "
       ]
      },
      {
       "output_type": "stream",
       "stream": "stdout",
       "text": [
        " 67\n",
        "i =  68\n",
        "i = "
       ]
      },
      {
       "output_type": "stream",
       "stream": "stdout",
       "text": [
        " 69\n",
        "i =  70\n",
        "i = "
       ]
      },
      {
       "output_type": "stream",
       "stream": "stdout",
       "text": [
        " 71\n",
        "i =  72\n",
        "i = "
       ]
      },
      {
       "output_type": "stream",
       "stream": "stdout",
       "text": [
        " 73\n",
        "i =  74\n",
        "i = "
       ]
      },
      {
       "output_type": "stream",
       "stream": "stdout",
       "text": [
        " 75\n",
        "i =  76\n",
        "i = "
       ]
      },
      {
       "output_type": "stream",
       "stream": "stdout",
       "text": [
        " 77\n",
        "i =  78\n",
        "i = "
       ]
      },
      {
       "output_type": "stream",
       "stream": "stdout",
       "text": [
        " 79\n",
        "i =  80\n",
        "i = "
       ]
      },
      {
       "output_type": "stream",
       "stream": "stdout",
       "text": [
        " 81\n",
        "i =  82\n",
        "i = "
       ]
      },
      {
       "output_type": "stream",
       "stream": "stdout",
       "text": [
        " 83\n",
        "i =  84\n",
        "i = "
       ]
      },
      {
       "output_type": "stream",
       "stream": "stdout",
       "text": [
        " 85\n",
        "i =  86\n",
        "i = "
       ]
      },
      {
       "output_type": "stream",
       "stream": "stdout",
       "text": [
        " 87\n",
        "i =  88\n",
        "i = "
       ]
      },
      {
       "output_type": "stream",
       "stream": "stdout",
       "text": [
        " 89\n",
        "i =  90\n",
        "i = "
       ]
      },
      {
       "output_type": "stream",
       "stream": "stdout",
       "text": [
        " 91\n",
        "i =  92\n",
        "i = "
       ]
      },
      {
       "output_type": "stream",
       "stream": "stdout",
       "text": [
        " 93\n",
        "i =  94\n",
        "i = "
       ]
      },
      {
       "output_type": "stream",
       "stream": "stdout",
       "text": [
        " 95\n",
        "i =  96\n",
        "i = "
       ]
      },
      {
       "output_type": "stream",
       "stream": "stdout",
       "text": [
        " 97\n",
        "i =  98\n",
        "i = "
       ]
      },
      {
       "output_type": "stream",
       "stream": "stdout",
       "text": [
        " 99\n",
        "i =  100\n",
        "i = "
       ]
      },
      {
       "output_type": "stream",
       "stream": "stdout",
       "text": [
        " 101\n",
        "i =  102\n",
        "i = "
       ]
      },
      {
       "output_type": "stream",
       "stream": "stdout",
       "text": [
        " 103\n",
        "i =  104\n",
        "i = "
       ]
      },
      {
       "output_type": "stream",
       "stream": "stdout",
       "text": [
        " 105\n",
        "i =  106\n",
        "i = "
       ]
      },
      {
       "output_type": "stream",
       "stream": "stdout",
       "text": [
        " 107\n",
        "i =  108\n",
        "i = "
       ]
      },
      {
       "output_type": "stream",
       "stream": "stdout",
       "text": [
        " 109\n",
        "i =  110\n",
        "i = "
       ]
      },
      {
       "output_type": "stream",
       "stream": "stdout",
       "text": [
        " 111\n",
        "i =  112\n",
        "i = "
       ]
      },
      {
       "output_type": "stream",
       "stream": "stdout",
       "text": [
        " 113\n",
        "i =  114\n",
        "i = "
       ]
      },
      {
       "output_type": "stream",
       "stream": "stdout",
       "text": [
        " 115\n",
        "i =  116\n",
        "i = "
       ]
      },
      {
       "output_type": "stream",
       "stream": "stdout",
       "text": [
        " 117\n",
        "i =  118\n",
        "i = "
       ]
      },
      {
       "output_type": "stream",
       "stream": "stdout",
       "text": [
        " 119\n",
        "i =  120\n",
        "i = "
       ]
      },
      {
       "output_type": "stream",
       "stream": "stdout",
       "text": [
        " 121\n",
        "i =  122\n",
        "i = "
       ]
      },
      {
       "output_type": "stream",
       "stream": "stdout",
       "text": [
        " 123\n",
        "i =  124\n",
        "i = "
       ]
      },
      {
       "output_type": "stream",
       "stream": "stdout",
       "text": [
        " 125\n",
        "i =  126\n",
        "i = "
       ]
      },
      {
       "output_type": "stream",
       "stream": "stdout",
       "text": [
        " 127\n",
        "i =  128\n",
        "i = "
       ]
      },
      {
       "output_type": "stream",
       "stream": "stdout",
       "text": [
        " 129\n",
        "i =  130\n",
        "i = "
       ]
      },
      {
       "output_type": "stream",
       "stream": "stdout",
       "text": [
        " 131\n",
        "i =  132\n",
        "i = "
       ]
      },
      {
       "output_type": "stream",
       "stream": "stdout",
       "text": [
        " 133\n",
        "i =  134\n",
        "i = "
       ]
      },
      {
       "output_type": "stream",
       "stream": "stdout",
       "text": [
        " 135\n",
        "i =  136\n",
        "i = "
       ]
      },
      {
       "output_type": "stream",
       "stream": "stdout",
       "text": [
        " 137\n",
        "i =  138\n",
        "i = "
       ]
      },
      {
       "output_type": "stream",
       "stream": "stdout",
       "text": [
        " 139\n",
        "i =  140\n",
        "i = "
       ]
      },
      {
       "output_type": "stream",
       "stream": "stdout",
       "text": [
        " 141\n",
        "i =  142\n",
        "i = "
       ]
      },
      {
       "output_type": "stream",
       "stream": "stdout",
       "text": [
        " 143\n",
        "i =  144\n",
        "i = "
       ]
      },
      {
       "output_type": "stream",
       "stream": "stdout",
       "text": [
        " 145\n",
        "i =  146\n",
        "i = "
       ]
      },
      {
       "output_type": "stream",
       "stream": "stdout",
       "text": [
        " 147\n",
        "i =  148\n",
        "i = "
       ]
      },
      {
       "output_type": "stream",
       "stream": "stdout",
       "text": [
        " 149\n",
        "i =  150\n",
        "i = "
       ]
      },
      {
       "output_type": "stream",
       "stream": "stdout",
       "text": [
        " 151\n",
        "i =  152\n",
        "i = "
       ]
      },
      {
       "output_type": "stream",
       "stream": "stdout",
       "text": [
        " 153\n",
        "i =  154\n",
        "i = "
       ]
      },
      {
       "output_type": "stream",
       "stream": "stdout",
       "text": [
        " 155\n",
        "i =  156\n",
        "i = "
       ]
      },
      {
       "output_type": "stream",
       "stream": "stdout",
       "text": [
        " 157\n",
        "i =  158\n",
        "i = "
       ]
      },
      {
       "output_type": "stream",
       "stream": "stdout",
       "text": [
        " 159\n",
        "i =  160\n",
        "i = "
       ]
      },
      {
       "output_type": "stream",
       "stream": "stdout",
       "text": [
        " 161\n",
        "i =  162\n",
        "i = "
       ]
      },
      {
       "output_type": "stream",
       "stream": "stdout",
       "text": [
        " 163\n",
        "i =  164\n",
        "i = "
       ]
      },
      {
       "output_type": "stream",
       "stream": "stdout",
       "text": [
        " 165\n",
        "i =  166\n",
        "i = "
       ]
      },
      {
       "output_type": "stream",
       "stream": "stdout",
       "text": [
        " 167\n",
        "i =  168\n",
        "i = "
       ]
      },
      {
       "output_type": "stream",
       "stream": "stdout",
       "text": [
        " 169\n",
        "i =  170\n",
        "i = "
       ]
      },
      {
       "output_type": "stream",
       "stream": "stdout",
       "text": [
        " 171\n",
        "i =  172\n",
        "i = "
       ]
      },
      {
       "output_type": "stream",
       "stream": "stdout",
       "text": [
        " 173\n",
        "i =  174\n",
        "i = "
       ]
      },
      {
       "output_type": "stream",
       "stream": "stdout",
       "text": [
        " 175\n",
        "i =  176\n",
        "i = "
       ]
      },
      {
       "output_type": "stream",
       "stream": "stdout",
       "text": [
        " 177\n",
        "i =  178\n",
        "i = "
       ]
      },
      {
       "output_type": "stream",
       "stream": "stdout",
       "text": [
        " 179\n",
        "i =  180\n",
        "i = "
       ]
      },
      {
       "output_type": "stream",
       "stream": "stdout",
       "text": [
        " 181\n",
        "i =  182\n",
        "i = "
       ]
      },
      {
       "output_type": "stream",
       "stream": "stdout",
       "text": [
        " 183\n",
        "i =  184\n",
        "i = "
       ]
      },
      {
       "output_type": "stream",
       "stream": "stdout",
       "text": [
        " 185\n",
        "i =  186\n",
        "i = "
       ]
      },
      {
       "output_type": "stream",
       "stream": "stdout",
       "text": [
        " 187\n",
        "i =  188\n",
        "i = "
       ]
      },
      {
       "output_type": "stream",
       "stream": "stdout",
       "text": [
        " 189\n",
        "i =  190\n",
        "i = "
       ]
      },
      {
       "output_type": "stream",
       "stream": "stdout",
       "text": [
        " 191\n",
        "i =  192\n",
        "i = "
       ]
      },
      {
       "output_type": "stream",
       "stream": "stdout",
       "text": [
        " 193\n",
        "i =  194\n",
        "i = "
       ]
      },
      {
       "output_type": "stream",
       "stream": "stdout",
       "text": [
        " 195\n",
        "i =  196\n",
        "i = "
       ]
      },
      {
       "output_type": "stream",
       "stream": "stdout",
       "text": [
        " 197\n",
        "i =  198\n",
        "i = "
       ]
      },
      {
       "output_type": "stream",
       "stream": "stdout",
       "text": [
        " 199\n",
        "i =  200\n"
       ]
      }
     ],
     "prompt_number": 57
    },
    {
     "cell_type": "code",
     "collapsed": false,
     "input": [
      "rho_k  = []\n",
      "u_k = []\n",
      "u1_k = []\n",
      "phi_k = []\n",
      "\n",
      "for i in xrange(files.size):\n",
      "    \n",
      "    print \"i = \", i\n",
      "    \n",
      "    rho = data[N1/2, :, 0, i]\n",
      "    rho_k_tmp = fft.fft(rho)\n",
      "    rho_k_tmp[0] = rho_k_tmp[0]/rho.size\n",
      "    rho_k_tmp[1:] = rho_k_tmp[1:]/(0.5*rho.size)\n",
      "    rho_k.append(rho_k_tmp)\n",
      "    \n",
      "rho_k = array(rho_k)"
     ],
     "language": "python",
     "metadata": {},
     "outputs": [
      {
       "output_type": "stream",
       "stream": "stdout",
       "text": [
        "i =  0\n",
        "i =  1\n",
        "i =  2\n",
        "i =  3\n",
        "i =  4\n",
        "i =  5\n",
        "i =  6\n",
        "i =  7\n",
        "i =  8\n",
        "i =  9\n",
        "i =  10\n",
        "i =  11\n",
        "i =  12\n",
        "i =  13\n",
        "i =  14\n",
        "i =  15\n",
        "i =  16\n",
        "i =  17\n",
        "i =  18\n",
        "i =  19\n",
        "i =  20\n",
        "i =  21\n",
        "i =  22\n",
        "i =  23\n",
        "i =  24\n",
        "i =  25\n",
        "i =  26\n",
        "i =  27\n",
        "i =  28\n",
        "i =  29\n",
        "i =  30\n",
        "i =  31\n",
        "i =  32\n",
        "i =  33\n",
        "i =  34\n",
        "i =  35\n",
        "i =  36\n",
        "i =  37\n",
        "i =  38\n",
        "i =  39\n",
        "i =  40\n",
        "i =  41\n",
        "i =  42\n",
        "i =  43\n",
        "i =  44\n",
        "i =  45\n",
        "i =  46\n",
        "i =  47\n",
        "i =  48\n",
        "i =  49\n",
        "i =  50\n",
        "i =  51\n",
        "i =  52\n",
        "i =  53\n",
        "i =  54\n",
        "i =  55\n",
        "i =  56\n",
        "i =  57\n",
        "i =  58\n",
        "i =  59\n",
        "i =  60\n",
        "i =  61\n",
        "i =  62\n",
        "i =  63\n",
        "i =  64\n",
        "i =  65\n",
        "i =  66\n",
        "i =  67\n",
        "i =  68\n",
        "i =  69\n",
        "i =  70\n",
        "i =  71\n",
        "i =  72\n",
        "i =  73\n",
        "i =  74\n",
        "i =  75\n",
        "i =  76\n",
        "i =  77\n",
        "i =  78\n",
        "i =  79\n",
        "i =  80\n",
        "i =  81\n",
        "i =  82\n",
        "i =  83\n",
        "i =  84\n",
        "i =  85\n",
        "i =  86\n",
        "i =  87\n",
        "i =  88\n",
        "i =  89\n",
        "i =  90\n",
        "i =  91\n",
        "i =  92\n",
        "i =  93\n",
        "i =  94\n",
        "i =  95\n",
        "i =  96\n",
        "i =  97\n",
        "i =  98\n",
        "i =  99\n",
        "i =  100\n"
       ]
      }
     ],
     "prompt_number": 305
    },
    {
     "cell_type": "code",
     "collapsed": false,
     "input": [
      "res = array([16, 32, 48, 64, 96, 128, 144, 192])\n",
      "\n",
      "rho_err_array = []\n",
      "u_err_array = []\n",
      "u1_err_array = []\n",
      "phi_err_array = []"
     ],
     "language": "python",
     "metadata": {},
     "outputs": [],
     "prompt_number": 22
    },
    {
     "cell_type": "code",
     "collapsed": false,
     "input": [
      "n = 200\n",
      "\n",
      "t_final = 0.001*n\n",
      "\n",
      "# Unstable mode\n",
      "#omega = 19.9129345854\n",
      "#rho0 = 0.00234936399163*1j\n",
      "#u0 = -0.002273900078*1j\n",
      "#u10 = -0.00744570296682\n",
      "#phi0 = 0.999966935141\n",
      "\n",
      "# Stable mode\n",
      "#omega = -4.99999325146 - 13.1299625109*1j\n",
      "#rho0 = -0.00311030349 - 0.00118312960098*1j\n",
      "#u0 = 0.00320815217935 + 0.0013948219362*1j\n",
      "#u10 = -0.00744109969005 + 2.71345707727e-06*1j\n",
      "#phi0 = 0.999960658464\n",
      "\n",
      "# Sound mode\n",
      "#omega = 3.61407127777*1j\n",
      "#rho0 = 0.00749971928918\n",
      "#u0 = 0.99996257189\n",
      "#u10 = -0.00431381834996\n",
      "#phi0 = 0.\n",
      "\n",
      "#theory_rho = 1e-3*(rho0*exp(1j*2*pi*X1 + omega*t_final)).real\n",
      "#theory_u = 1e-3*(u0*exp(1j*2*pi*X1 + omega*t_final)).real\n",
      "#theory_u1 = 1e-3*(u10*exp(1j*2*pi*X1 + omega*t_final)).real\n",
      "#theory_phi = 1e-3*(phi0*exp(1j*2*pi*X1 + omega*t_final)).real\n",
      "\n",
      "#2D stable mode\n",
      "omega = -4.99999227553 + 18.1745083269*1j\n",
      "rho0 = 0.00320842119877 - 0.000881561535595*1j\n",
      "u0 = -0.00338288038189 + 0.00107837165346*1j\n",
      "u10 = -0.00332654066543 - 1.60219221158e-06*1j\n",
      "u20 = -0.00665554256072 - 1.60219221159e-06*1j\n",
      "phi0 = 0.999960479215\n",
      "\n",
      "k1 = 2*pi; k2 = 2*pi\n",
      "theory_rho = 1e-3*(rho0*exp(1j*k1*X1 + 1j*k2*X2 + omega*t_final)).real\n",
      "theory_u = 1e-3*(u0*exp(1j*k1*X1 + 1j*k2*X2 + omega*t_final)).real\n",
      "theory_u1 = 1e-3*(u10*exp(1j*k1*X1 + 1j*k2*X2 + omega*t_final)).real\n",
      "theory_u2 = 1e-3*(u20*exp(1j*k1*X1 + 1j*k2*X2 + omega*t_final)).real\n",
      "theory_phi = 1e-3*(phi0*exp(1j*k1*X1 + 1j*k2*X2 + omega*t_final)).real\n",
      "\n",
      "\n",
      "numerical_rho =  (data[:, :, 0, n] - 1.)\n",
      "numerical_u =  (data[:, :, 1, n] - 100.)\n",
      "numerical_u1 =  (data[:, :, 2, n] )\n",
      "numerical_u2 =  (data[:, :, 3, n] )\n",
      "numerical_phi =  (data[:, :, -1, n])\n",
      "\n",
      "err_rho = sum(abs(theory_rho - numerical_rho))/(N1*N2)\n",
      "err_u = sum(abs(theory_u - numerical_u))/(N1*N2)\n",
      "err_u1 = sum(abs(theory_u1 - numerical_u1))/(N1*N2)\n",
      "err_u2 = sum(abs(theory_u2 - numerical_u2))/(N1*N2)\n",
      "err_phi = sum(abs(theory_phi - numerical_phi))/(N1*N2)\n",
      "\n",
      "#rho_err_array.append(err_rho)\n",
      "#u_err_array.append(err_u)\n",
      "#u1_err_array.append(err_u1)\n",
      "#phi_err_array.append(err_phi)\n",
      "\n",
      "print \"err_rho = \", err_rho\n",
      "print \"err_u = \", err_u\n",
      "print \"err_u1 = \", err_u1\n",
      "print \"err_u2 = \", err_u2\n",
      "print \"err_phi = \", err_phi"
     ],
     "language": "python",
     "metadata": {},
     "outputs": [
      {
       "output_type": "stream",
       "stream": "stdout",
       "text": [
        "err_rho =  2.36741612165e-09\n",
        "err_u =  3.22923577962e-09\n",
        "err_u1 =  3.05883199796e-09\n",
        "err_u2 =  6.12157426776e-09\n",
        "err_phi =  9.19999308241e-07\n"
       ]
      }
     ],
     "prompt_number": 63
    },
    {
     "cell_type": "code",
     "collapsed": false,
     "input": [
      "plot(x1, theory_u2[N1/2, :])\n",
      "plot(x1, numerical_u2[N1/2, :], '.')"
     ],
     "language": "python",
     "metadata": {},
     "outputs": [
      {
       "metadata": {},
       "output_type": "pyout",
       "prompt_number": 64,
       "text": [
        "[<matplotlib.lines.Line2D at 0x7f470f519510>]"
       ]
      }
     ],
     "prompt_number": 64
    },
    {
     "cell_type": "code",
     "collapsed": false,
     "input": [
      "plot(x1, data[N1/2, :, 0, 12])"
     ],
     "language": "python",
     "metadata": {},
     "outputs": [
      {
       "metadata": {},
       "output_type": "pyout",
       "prompt_number": 26,
       "text": [
        "[<matplotlib.lines.Line2D at 0x7f47154f0190>]"
       ]
      }
     ],
     "prompt_number": 26
    },
    {
     "cell_type": "code",
     "collapsed": false,
     "input": [
      "clf()"
     ],
     "language": "python",
     "metadata": {},
     "outputs": [],
     "prompt_number": 55
    },
    {
     "cell_type": "code",
     "collapsed": false,
     "input": [
      "loglog(res, u_err_array, 'o-')\n",
      "loglog(res, 7.5e-6*res**-2., color='black', linestyle='--')"
     ],
     "language": "python",
     "metadata": {},
     "outputs": [
      {
       "metadata": {},
       "output_type": "pyout",
       "prompt_number": 40,
       "text": [
        "[<matplotlib.lines.Line2D at 0x7fbfa1bf22d0>]"
       ]
      }
     ],
     "prompt_number": 40
    },
    {
     "cell_type": "code",
     "collapsed": false,
     "input": [
      "loglog(res, rho_err_array, 'o-')\n",
      "#loglog(res, 9e-6*res**-2., color='black', linestyle='--')"
     ],
     "language": "python",
     "metadata": {},
     "outputs": [
      {
       "metadata": {},
       "output_type": "pyout",
       "prompt_number": 79,
       "text": [
        "[<matplotlib.lines.Line2D at 0x7fbfa4e3eb50>]"
       ]
      }
     ],
     "prompt_number": 79
    },
    {
     "cell_type": "code",
     "collapsed": false,
     "input": [
      "loglog(res, u1_err_array, 'o-')\n",
      "#loglog(res, 1e-5*res**-2., color='black', linestyle='--')"
     ],
     "language": "python",
     "metadata": {},
     "outputs": [
      {
       "metadata": {},
       "output_type": "pyout",
       "prompt_number": 80,
       "text": [
        "[<matplotlib.lines.Line2D at 0x7fbfa4e3ec50>]"
       ]
      }
     ],
     "prompt_number": 80
    },
    {
     "cell_type": "code",
     "collapsed": false,
     "input": [
      "loglog(res, phi_err_array, 'o-')\n",
      "loglog(res, 5e-3*res**-2., color='black', linestyle='--')"
     ],
     "language": "python",
     "metadata": {},
     "outputs": [
      {
       "metadata": {},
       "output_type": "pyout",
       "prompt_number": 42,
       "text": [
        "[<matplotlib.lines.Line2D at 0x7fbfa5208f50>]"
       ]
      }
     ],
     "prompt_number": 42
    },
    {
     "cell_type": "code",
     "collapsed": false,
     "input": [
      "t = 0.001*arange(0, files.size, 1)\n",
      "plot(t, abs(rho_k[0, 1])*exp(omega*t))\n",
      "plot(t, abs(rho_k[:, 1]), '.')"
     ],
     "language": "python",
     "metadata": {},
     "outputs": [
      {
       "metadata": {},
       "output_type": "pyout",
       "prompt_number": 307,
       "text": [
        "[<matplotlib.lines.Line2D at 0x7f6c2ccf5390>]"
       ]
      }
     ],
     "prompt_number": 307
    }
   ],
   "metadata": {}
  }
 ]
}