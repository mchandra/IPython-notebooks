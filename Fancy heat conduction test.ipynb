{
 "metadata": {
  "name": "",
  "signature": "sha256:d253f215b2907f49b1bf59d152ba4d3a80802d70576d33aeacf58859bd2de3fe"
 },
 "nbformat": 3,
 "nbformat_minor": 0,
 "worksheets": [
  {
   "cells": [
    {
     "cell_type": "code",
     "collapsed": false,
     "input": [
      "%qtconsole"
     ],
     "language": "python",
     "metadata": {},
     "outputs": [],
     "prompt_number": 29
    },
    {
     "cell_type": "code",
     "collapsed": false,
     "input": [
      "Gamma = 4./3\n",
      "\n",
      "N1 = 96\n",
      "N2 = 96\n",
      "NG = 2\n",
      "X1_START = 0.\n",
      "X2_START = 0.\n",
      "X1_END = 1.\n",
      "X2_END = 1.\n",
      "DX1 = (X1_END - X1_START)/N1\n",
      "DX2 = (X2_END - X2_START)/N2\n",
      "i = arange(-NG, N1+NG, 1)\n",
      "j = arange(-NG, N2+NG, 1)\n",
      "X1 = (X1_START + (i + 0.5)*DX1)\n",
      "X2 = (X2_START + (j + 0.5)*DX2)"
     ],
     "language": "python",
     "metadata": {},
     "outputs": [],
     "prompt_number": 1
    },
    {
     "cell_type": "code",
     "collapsed": false,
     "input": [
      "import h5py\n",
      "import glob\n",
      "filepath = '/home/mc/PhD/grim'\n",
      "files = np.sort(glob.glob(filepath+'/plot*.h5'))\n",
      "\n",
      "N1 = 96; N2 = 96\n",
      "dof = 9\n",
      "\n",
      "data = zeros([N2, N1, dof, files.size]) \n",
      "\n",
      "for i, dumpfile in enumerate(files):\n",
      "    print \"i = \", i\n",
      "    datafile = h5py.File(dumpfile, \"r\")\n",
      "    data[:, :, :, i] = datafile[datafile.items()[0][0]][:]\n",
      "    datafile.close()"
     ],
     "language": "python",
     "metadata": {},
     "outputs": [
      {
       "output_type": "stream",
       "stream": "stdout",
       "text": [
        "i =  0\n",
        "i = "
       ]
      },
      {
       "output_type": "stream",
       "stream": "stdout",
       "text": [
        " 1\n",
        "i =  2\n",
        "i =  3\n",
        "i =  4\n",
        "i =  5\n",
        "i =  6\n",
        "i =  7\n",
        "i =  8\n",
        "i =  9\n",
        "i = "
       ]
      },
      {
       "output_type": "stream",
       "stream": "stdout",
       "text": [
        " 10\n",
        "i =  11\n",
        "i =  12\n",
        "i =  13\n",
        "i =  14\n",
        "i =  15\n",
        "i =  16\n",
        "i =  17\n",
        "i = "
       ]
      },
      {
       "output_type": "stream",
       "stream": "stdout",
       "text": [
        " 18\n",
        "i =  19\n",
        "i =  20\n",
        "i =  21\n",
        "i =  22\n",
        "i =  23\n",
        "i =  24\n",
        "i =  25\n",
        "i =  26\n",
        "i = "
       ]
      },
      {
       "output_type": "stream",
       "stream": "stdout",
       "text": [
        " 27\n",
        "i =  28\n",
        "i =  29\n",
        "i =  30\n",
        "i =  31\n",
        "i =  32\n",
        "i =  33\n",
        "i =  34\n",
        "i =  35\n",
        "i =  36\n",
        "i = "
       ]
      },
      {
       "output_type": "stream",
       "stream": "stdout",
       "text": [
        " 37\n",
        "i =  38\n",
        "i =  39\n",
        "i =  40\n",
        "i =  41\n",
        "i =  42\n",
        "i =  43\n",
        "i =  44\n",
        "i =  45\n",
        "i =  46\n",
        "i = "
       ]
      },
      {
       "output_type": "stream",
       "stream": "stdout",
       "text": [
        " 47\n",
        "i =  48\n",
        "i =  49\n",
        "i =  50\n",
        "i =  51\n",
        "i =  52\n",
        "i =  53\n",
        "i =  54\n",
        "i =  55\n",
        "i =  56\n",
        "i = "
       ]
      },
      {
       "output_type": "stream",
       "stream": "stdout",
       "text": [
        " 57\n",
        "i =  58\n",
        "i =  59\n",
        "i =  60\n",
        "i =  61\n",
        "i =  62\n",
        "i =  63\n",
        "i =  64\n",
        "i =  65\n",
        "i = "
       ]
      },
      {
       "output_type": "stream",
       "stream": "stdout",
       "text": [
        " 66\n",
        "i =  67\n",
        "i =  68\n",
        "i =  69\n",
        "i =  70\n",
        "i =  71\n",
        "i =  72\n",
        "i =  73\n",
        "i =  74\n",
        "i = "
       ]
      },
      {
       "output_type": "stream",
       "stream": "stdout",
       "text": [
        " 75\n",
        "i =  76\n",
        "i =  77\n",
        "i =  78\n",
        "i =  79\n",
        "i =  80\n",
        "i =  81\n",
        "i =  82\n",
        "i =  83\n",
        "i =  84\n",
        "i = "
       ]
      },
      {
       "output_type": "stream",
       "stream": "stdout",
       "text": [
        " 85\n",
        "i =  86\n",
        "i =  87\n",
        "i =  88\n",
        "i =  89\n",
        "i =  90\n",
        "i =  91\n",
        "i =  92\n",
        "i =  93\n",
        "i =  94\n",
        "i = "
       ]
      },
      {
       "output_type": "stream",
       "stream": "stdout",
       "text": [
        " 95\n",
        "i =  96\n",
        "i =  97\n",
        "i =  98\n",
        "i =  99\n",
        "i =  100\n",
        "i =  101\n",
        "i = "
       ]
      },
      {
       "output_type": "stream",
       "stream": "stdout",
       "text": [
        " 102\n",
        "i =  103\n",
        "i =  104\n",
        "i =  105\n",
        "i =  106\n",
        "i =  107\n",
        "i =  108\n",
        "i =  109\n",
        "i =  110\n",
        "i =  111\n",
        "i = "
       ]
      },
      {
       "output_type": "stream",
       "stream": "stdout",
       "text": [
        " 112\n",
        "i =  113\n",
        "i =  114\n",
        "i =  115\n",
        "i =  116\n",
        "i =  117\n",
        "i =  118\n",
        "i =  119\n",
        "i =  120\n",
        "i =  121\n",
        "i = "
       ]
      },
      {
       "output_type": "stream",
       "stream": "stdout",
       "text": [
        " 122\n",
        "i =  123\n",
        "i =  124\n",
        "i =  125\n",
        "i =  126\n",
        "i =  127\n",
        "i =  128\n",
        "i =  129\n",
        "i = "
       ]
      },
      {
       "output_type": "stream",
       "stream": "stdout",
       "text": [
        " 130\n",
        "i =  131\n",
        "i =  132\n",
        "i =  133\n",
        "i =  134\n",
        "i =  135\n",
        "i =  136\n",
        "i =  137\n",
        "i =  138\n",
        "i =  139\n",
        "i = "
       ]
      },
      {
       "output_type": "stream",
       "stream": "stdout",
       "text": [
        " 140\n",
        "i =  141\n",
        "i =  142\n",
        "i =  143\n",
        "i =  144\n",
        "i =  145\n",
        "i =  146\n",
        "i =  147\n",
        "i =  148\n",
        "i =  149\n",
        "i = "
       ]
      },
      {
       "output_type": "stream",
       "stream": "stdout",
       "text": [
        " 150\n",
        "i =  151\n",
        "i =  152\n",
        "i =  153\n",
        "i =  154\n",
        "i =  155\n",
        "i =  156\n",
        "i =  157\n",
        "i =  158\n",
        "i = "
       ]
      },
      {
       "output_type": "stream",
       "stream": "stdout",
       "text": [
        " 159\n",
        "i =  160\n",
        "i =  161\n",
        "i =  162\n",
        "i =  163\n",
        "i =  164\n",
        "i =  165\n",
        "i =  166\n",
        "i =  167\n",
        "i = "
       ]
      },
      {
       "output_type": "stream",
       "stream": "stdout",
       "text": [
        " 168\n",
        "i =  169\n",
        "i =  170\n",
        "i =  171\n",
        "i =  172\n",
        "i =  173\n",
        "i =  174\n",
        "i =  175\n",
        "i = "
       ]
      },
      {
       "output_type": "stream",
       "stream": "stdout",
       "text": [
        " 176\n",
        "i =  177\n",
        "i =  178\n",
        "i =  179\n",
        "i =  180\n",
        "i =  181\n",
        "i =  182\n",
        "i = "
       ]
      },
      {
       "output_type": "stream",
       "stream": "stdout",
       "text": [
        " 183\n",
        "i =  184\n",
        "i =  185\n",
        "i =  186\n",
        "i =  187\n",
        "i =  188\n",
        "i =  189\n",
        "i = "
       ]
      },
      {
       "output_type": "stream",
       "stream": "stdout",
       "text": [
        " 190\n",
        "i =  191\n",
        "i =  192\n",
        "i =  193\n",
        "i =  194\n",
        "i =  195\n",
        "i =  196\n",
        "i =  197\n",
        "i =  198\n",
        "i = "
       ]
      },
      {
       "output_type": "stream",
       "stream": "stdout",
       "text": [
        " 199\n",
        "i =  200\n",
        "i =  201\n",
        "i =  202\n",
        "i =  203\n",
        "i =  204\n",
        "i =  205\n",
        "i =  206\n",
        "i = "
       ]
      },
      {
       "output_type": "stream",
       "stream": "stdout",
       "text": [
        " 207\n",
        "i =  208\n",
        "i =  209\n",
        "i =  210\n",
        "i =  211\n",
        "i =  212\n",
        "i =  213\n",
        "i =  214\n",
        "i = "
       ]
      },
      {
       "output_type": "stream",
       "stream": "stdout",
       "text": [
        " 215\n",
        "i =  216\n",
        "i =  217\n",
        "i =  218\n",
        "i =  219\n",
        "i =  220\n",
        "i =  221\n",
        "i =  222\n",
        "i = "
       ]
      },
      {
       "output_type": "stream",
       "stream": "stdout",
       "text": [
        " 223\n",
        "i =  224\n",
        "i =  225\n",
        "i =  226\n",
        "i =  227\n",
        "i =  228\n",
        "i =  229\n",
        "i =  230\n",
        "i = "
       ]
      },
      {
       "output_type": "stream",
       "stream": "stdout",
       "text": [
        " 231\n",
        "i =  232\n",
        "i =  233\n",
        "i =  234\n",
        "i =  235\n",
        "i =  236\n",
        "i =  237\n",
        "i =  238\n",
        "i = "
       ]
      },
      {
       "output_type": "stream",
       "stream": "stdout",
       "text": [
        " 239\n",
        "i =  240\n",
        "i =  241\n",
        "i =  242\n",
        "i =  243\n",
        "i =  244\n",
        "i =  245\n",
        "i =  246\n",
        "i = "
       ]
      },
      {
       "output_type": "stream",
       "stream": "stdout",
       "text": [
        " 247\n",
        "i =  248\n",
        "i =  249\n",
        "i =  250\n",
        "i =  251\n",
        "i =  252\n",
        "i =  253\n",
        "i = "
       ]
      },
      {
       "output_type": "stream",
       "stream": "stdout",
       "text": [
        " 254\n",
        "i =  255\n",
        "i =  256\n",
        "i =  257\n",
        "i =  258\n",
        "i =  259\n",
        "i =  260\n",
        "i =  261\n",
        "i = "
       ]
      },
      {
       "output_type": "stream",
       "stream": "stdout",
       "text": [
        " 262\n",
        "i =  263\n",
        "i =  264\n",
        "i =  265\n",
        "i =  266\n",
        "i =  267\n",
        "i =  268\n",
        "i =  269\n",
        "i = "
       ]
      },
      {
       "output_type": "stream",
       "stream": "stdout",
       "text": [
        " 270\n",
        "i =  271\n",
        "i =  272\n",
        "i =  273\n",
        "i =  274\n",
        "i =  275\n",
        "i =  276\n",
        "i =  277\n",
        "i = "
       ]
      },
      {
       "output_type": "stream",
       "stream": "stdout",
       "text": [
        " 278\n",
        "i =  279\n",
        "i =  280\n",
        "i =  281\n",
        "i =  282\n",
        "i =  283\n",
        "i =  284\n",
        "i =  285\n",
        "i = "
       ]
      },
      {
       "output_type": "stream",
       "stream": "stdout",
       "text": [
        " 286\n",
        "i =  287\n",
        "i =  288\n",
        "i =  289\n",
        "i =  290\n",
        "i =  291\n",
        "i =  292\n",
        "i =  293\n",
        "i =  294\n",
        "i =  295\n",
        "i = "
       ]
      },
      {
       "output_type": "stream",
       "stream": "stdout",
       "text": [
        " 296\n",
        "i =  297\n",
        "i =  298\n",
        "i =  299\n",
        "i =  300\n",
        "i =  301\n",
        "i =  302\n",
        "i =  303\n",
        "i =  304\n",
        "i = "
       ]
      },
      {
       "output_type": "stream",
       "stream": "stdout",
       "text": [
        " 305\n",
        "i =  306\n",
        "i =  307\n",
        "i =  308\n",
        "i =  309\n",
        "i =  310\n",
        "i =  311\n",
        "i =  312\n",
        "i =  313\n",
        "i = "
       ]
      },
      {
       "output_type": "stream",
       "stream": "stdout",
       "text": [
        " 314\n",
        "i =  315\n",
        "i =  316\n",
        "i =  317\n",
        "i =  318\n",
        "i =  319\n",
        "i =  320\n",
        "i =  321\n",
        "i =  322\n",
        "i = "
       ]
      },
      {
       "output_type": "stream",
       "stream": "stdout",
       "text": [
        " 323\n",
        "i =  324\n",
        "i =  325\n",
        "i =  326\n",
        "i =  327\n",
        "i =  328\n",
        "i =  329\n",
        "i =  330\n",
        "i =  331\n",
        "i = "
       ]
      },
      {
       "output_type": "stream",
       "stream": "stdout",
       "text": [
        " 332\n",
        "i =  333\n",
        "i =  334\n",
        "i =  335\n",
        "i =  336\n",
        "i =  337\n",
        "i =  338\n",
        "i =  339\n",
        "i =  340\n",
        "i = "
       ]
      },
      {
       "output_type": "stream",
       "stream": "stdout",
       "text": [
        " 341\n",
        "i =  342\n",
        "i =  343\n",
        "i =  344\n",
        "i =  345\n",
        "i =  346\n",
        "i =  347\n",
        "i =  348\n",
        "i =  349\n",
        "i = "
       ]
      },
      {
       "output_type": "stream",
       "stream": "stdout",
       "text": [
        " 350\n",
        "i =  351\n",
        "i =  352\n",
        "i =  353\n",
        "i =  354\n",
        "i =  355\n",
        "i =  356\n",
        "i =  357\n",
        "i =  358\n",
        "i = "
       ]
      },
      {
       "output_type": "stream",
       "stream": "stdout",
       "text": [
        " 359\n",
        "i =  360\n",
        "i =  361\n",
        "i =  362\n",
        "i =  363\n",
        "i =  364\n",
        "i =  365\n",
        "i =  366\n",
        "i =  367\n",
        "i = "
       ]
      },
      {
       "output_type": "stream",
       "stream": "stdout",
       "text": [
        " 368\n",
        "i =  369\n",
        "i =  370\n",
        "i =  371\n",
        "i =  372\n",
        "i =  373\n",
        "i =  374\n",
        "i =  375\n",
        "i =  376\n",
        "i =  377\n",
        "i = "
       ]
      },
      {
       "output_type": "stream",
       "stream": "stdout",
       "text": [
        " 378\n",
        "i =  379\n",
        "i =  380\n",
        "i =  381\n",
        "i =  382\n",
        "i =  383\n",
        "i =  384\n",
        "i =  385\n",
        "i =  386\n",
        "i = "
       ]
      },
      {
       "output_type": "stream",
       "stream": "stdout",
       "text": [
        " 387\n",
        "i =  388\n",
        "i =  389\n",
        "i =  390\n",
        "i =  391\n",
        "i =  392\n",
        "i =  393\n",
        "i =  394\n",
        "i =  395\n",
        "i = "
       ]
      },
      {
       "output_type": "stream",
       "stream": "stdout",
       "text": [
        " 396\n",
        "i =  397\n",
        "i =  398\n",
        "i =  399\n",
        "i =  400\n",
        "i =  401\n",
        "i =  402\n",
        "i =  403\n",
        "i =  404\n",
        "i = "
       ]
      },
      {
       "output_type": "stream",
       "stream": "stdout",
       "text": [
        " 405\n",
        "i =  406\n",
        "i =  407\n",
        "i =  408\n",
        "i =  409\n",
        "i =  410\n",
        "i =  411\n",
        "i =  412\n",
        "i =  413\n",
        "i = "
       ]
      },
      {
       "output_type": "stream",
       "stream": "stdout",
       "text": [
        " 414\n",
        "i =  415\n",
        "i =  416\n",
        "i =  417\n",
        "i =  418\n",
        "i =  419\n",
        "i =  420\n",
        "i =  421\n",
        "i =  422\n",
        "i = "
       ]
      },
      {
       "output_type": "stream",
       "stream": "stdout",
       "text": [
        " 423\n",
        "i =  424\n",
        "i =  425\n",
        "i =  426\n",
        "i =  427\n",
        "i =  428\n",
        "i =  429\n",
        "i =  430\n",
        "i =  431\n",
        "i = "
       ]
      },
      {
       "output_type": "stream",
       "stream": "stdout",
       "text": [
        " 432\n",
        "i =  433\n",
        "i =  434\n",
        "i =  435\n",
        "i =  436\n",
        "i =  437\n",
        "i =  438\n",
        "i =  439\n",
        "i =  440\n",
        "i = "
       ]
      },
      {
       "output_type": "stream",
       "stream": "stdout",
       "text": [
        " 441\n",
        "i =  442\n",
        "i =  443\n",
        "i =  444\n",
        "i =  445\n",
        "i =  446\n",
        "i =  447\n",
        "i =  448\n",
        "i =  449\n",
        "i = "
       ]
      },
      {
       "output_type": "stream",
       "stream": "stdout",
       "text": [
        " 450\n",
        "i =  451\n",
        "i =  452\n",
        "i =  453\n",
        "i =  454\n",
        "i =  455\n",
        "i =  456\n",
        "i =  457\n",
        "i =  458\n",
        "i = "
       ]
      },
      {
       "output_type": "stream",
       "stream": "stdout",
       "text": [
        " 459\n",
        "i =  460\n",
        "i =  461\n",
        "i =  462\n",
        "i =  463\n",
        "i =  464\n",
        "i =  465\n",
        "i =  466\n",
        "i =  467\n",
        "i = "
       ]
      },
      {
       "output_type": "stream",
       "stream": "stdout",
       "text": [
        " 468\n",
        "i =  469\n",
        "i =  470\n",
        "i =  471\n",
        "i =  472\n",
        "i =  473\n",
        "i =  474\n",
        "i =  475\n",
        "i =  476\n",
        "i = "
       ]
      },
      {
       "output_type": "stream",
       "stream": "stdout",
       "text": [
        " 477\n",
        "i =  478\n",
        "i =  479\n",
        "i =  480\n",
        "i =  481\n",
        "i =  482\n",
        "i =  483\n",
        "i =  484\n",
        "i =  485\n",
        "i = "
       ]
      },
      {
       "output_type": "stream",
       "stream": "stdout",
       "text": [
        " 486\n",
        "i =  487\n",
        "i =  488\n",
        "i =  489\n",
        "i =  490\n",
        "i =  491\n",
        "i =  492\n",
        "i =  493\n",
        "i =  494\n",
        "i = "
       ]
      },
      {
       "output_type": "stream",
       "stream": "stdout",
       "text": [
        " 495\n",
        "i =  496\n",
        "i =  497\n",
        "i =  498\n",
        "i =  499\n",
        "i =  500\n",
        "i =  501\n",
        "i =  502\n",
        "i =  503\n",
        "i = "
       ]
      },
      {
       "output_type": "stream",
       "stream": "stdout",
       "text": [
        " 504\n",
        "i =  505\n",
        "i =  506\n",
        "i =  507\n",
        "i =  508\n",
        "i =  509\n",
        "i =  510\n",
        "i =  511\n",
        "i =  512\n",
        "i = "
       ]
      },
      {
       "output_type": "stream",
       "stream": "stdout",
       "text": [
        " 513\n",
        "i =  514\n",
        "i =  515\n",
        "i =  516\n",
        "i =  517\n",
        "i =  518\n",
        "i =  519\n",
        "i =  520\n",
        "i =  521\n",
        "i = "
       ]
      },
      {
       "output_type": "stream",
       "stream": "stdout",
       "text": [
        " 522\n",
        "i =  523\n",
        "i =  524\n",
        "i =  525\n",
        "i =  526\n",
        "i =  527\n",
        "i =  528\n",
        "i =  529\n",
        "i = "
       ]
      },
      {
       "output_type": "stream",
       "stream": "stdout",
       "text": [
        " 530\n",
        "i =  531\n",
        "i =  532\n",
        "i =  533\n",
        "i =  534\n",
        "i =  535\n",
        "i =  536\n",
        "i =  537\n",
        "i =  538\n",
        "i = "
       ]
      },
      {
       "output_type": "stream",
       "stream": "stdout",
       "text": [
        " 539\n",
        "i =  540\n",
        "i =  541\n",
        "i =  542\n",
        "i =  543\n",
        "i =  544\n",
        "i =  545\n",
        "i =  546\n",
        "i =  547\n",
        "i = "
       ]
      },
      {
       "output_type": "stream",
       "stream": "stdout",
       "text": [
        " 548\n",
        "i =  549\n",
        "i =  550\n",
        "i =  551\n",
        "i =  552\n",
        "i =  553\n",
        "i =  554\n",
        "i =  555\n",
        "i =  556\n",
        "i = "
       ]
      },
      {
       "output_type": "stream",
       "stream": "stdout",
       "text": [
        " 557\n",
        "i =  558\n",
        "i =  559\n",
        "i =  560\n",
        "i =  561\n",
        "i =  562\n",
        "i =  563\n",
        "i =  564\n",
        "i =  565\n",
        "i = "
       ]
      },
      {
       "output_type": "stream",
       "stream": "stdout",
       "text": [
        " 566\n",
        "i =  567\n",
        "i =  568\n",
        "i =  569\n",
        "i =  570\n",
        "i =  571\n",
        "i =  572\n",
        "i =  573\n",
        "i = "
       ]
      },
      {
       "output_type": "stream",
       "stream": "stdout",
       "text": [
        " 574\n",
        "i =  575\n",
        "i =  576\n",
        "i =  577\n",
        "i =  578\n",
        "i =  579\n",
        "i =  580\n",
        "i =  581\n",
        "i =  582\n",
        "i = "
       ]
      },
      {
       "output_type": "stream",
       "stream": "stdout",
       "text": [
        " 583\n",
        "i =  584\n",
        "i =  585\n",
        "i =  586\n",
        "i =  587\n",
        "i =  588\n",
        "i =  589\n",
        "i =  590\n",
        "i =  591\n",
        "i = "
       ]
      },
      {
       "output_type": "stream",
       "stream": "stdout",
       "text": [
        " 592\n",
        "i =  593\n",
        "i =  594\n",
        "i =  595\n",
        "i =  596\n",
        "i =  597\n",
        "i =  598\n",
        "i =  599\n",
        "i =  600\n",
        "i = "
       ]
      },
      {
       "output_type": "stream",
       "stream": "stdout",
       "text": [
        " 601\n",
        "i =  602\n",
        "i =  603\n",
        "i =  604\n",
        "i =  605\n",
        "i =  606\n",
        "i =  607\n",
        "i =  608\n",
        "i = "
       ]
      },
      {
       "output_type": "stream",
       "stream": "stdout",
       "text": [
        " 609\n",
        "i =  610\n",
        "i =  611\n",
        "i =  612\n",
        "i =  613\n",
        "i =  614\n",
        "i =  615\n",
        "i =  616\n",
        "i =  617\n",
        "i =  618\n",
        "i = "
       ]
      },
      {
       "output_type": "stream",
       "stream": "stdout",
       "text": [
        " 619\n",
        "i =  620\n",
        "i =  621\n",
        "i =  622\n",
        "i =  623\n",
        "i =  624\n",
        "i =  625\n",
        "i =  626\n",
        "i =  627\n",
        "i = "
       ]
      },
      {
       "output_type": "stream",
       "stream": "stdout",
       "text": [
        " 628\n",
        "i =  629\n",
        "i =  630\n",
        "i =  631\n",
        "i =  632\n",
        "i =  633\n",
        "i =  634\n",
        "i =  635\n",
        "i =  636\n",
        "i = "
       ]
      },
      {
       "output_type": "stream",
       "stream": "stdout",
       "text": [
        " 637\n",
        "i =  638\n",
        "i =  639\n",
        "i =  640\n",
        "i =  641\n",
        "i =  642\n",
        "i =  643\n",
        "i =  644\n",
        "i =  645\n",
        "i = "
       ]
      },
      {
       "output_type": "stream",
       "stream": "stdout",
       "text": [
        " 646\n",
        "i =  647\n",
        "i =  648\n",
        "i =  649\n",
        "i =  650\n",
        "i =  651\n",
        "i =  652\n",
        "i =  653\n",
        "i =  654\n",
        "i = "
       ]
      },
      {
       "output_type": "stream",
       "stream": "stdout",
       "text": [
        " 655\n",
        "i =  656\n",
        "i =  657\n",
        "i =  658\n",
        "i =  659\n",
        "i =  660\n",
        "i =  661\n",
        "i =  662\n",
        "i =  663\n",
        "i = "
       ]
      },
      {
       "output_type": "stream",
       "stream": "stdout",
       "text": [
        " 664\n",
        "i =  665\n",
        "i =  666\n",
        "i =  667\n",
        "i =  668\n",
        "i =  669\n",
        "i =  670\n",
        "i =  671\n",
        "i =  672\n",
        "i = "
       ]
      },
      {
       "output_type": "stream",
       "stream": "stdout",
       "text": [
        " 673\n",
        "i =  674\n",
        "i =  675\n",
        "i =  676\n",
        "i =  677\n",
        "i =  678\n",
        "i =  679\n",
        "i =  680\n",
        "i =  681\n",
        "i = "
       ]
      },
      {
       "output_type": "stream",
       "stream": "stdout",
       "text": [
        " 682\n",
        "i =  683\n",
        "i =  684\n",
        "i =  685\n",
        "i =  686\n",
        "i =  687\n",
        "i =  688\n",
        "i =  689\n",
        "i =  690\n",
        "i = "
       ]
      },
      {
       "output_type": "stream",
       "stream": "stdout",
       "text": [
        " 691\n",
        "i =  692\n",
        "i =  693\n",
        "i =  694\n",
        "i =  695\n",
        "i =  696\n",
        "i =  697\n",
        "i =  698\n",
        "i =  699\n",
        "i =  700\n",
        "i = "
       ]
      },
      {
       "output_type": "stream",
       "stream": "stdout",
       "text": [
        " 701\n",
        "i =  702\n",
        "i =  703\n",
        "i =  704\n",
        "i =  705\n",
        "i =  706\n",
        "i =  707\n",
        "i =  708\n",
        "i =  709\n",
        "i =  710\n",
        "i = "
       ]
      },
      {
       "output_type": "stream",
       "stream": "stdout",
       "text": [
        " 711\n",
        "i =  712\n",
        "i =  713\n",
        "i =  714\n",
        "i =  715\n",
        "i =  716\n",
        "i =  717\n",
        "i =  718\n",
        "i =  719\n",
        "i = "
       ]
      },
      {
       "output_type": "stream",
       "stream": "stdout",
       "text": [
        " 720\n",
        "i =  721\n",
        "i =  722\n",
        "i =  723\n",
        "i =  724\n",
        "i =  725\n",
        "i =  726\n",
        "i =  727\n",
        "i =  728\n",
        "i = "
       ]
      },
      {
       "output_type": "stream",
       "stream": "stdout",
       "text": [
        " 729\n",
        "i =  730\n",
        "i =  731\n",
        "i =  732\n",
        "i =  733\n",
        "i =  734\n",
        "i =  735\n",
        "i =  736\n",
        "i =  737\n",
        "i = "
       ]
      },
      {
       "output_type": "stream",
       "stream": "stdout",
       "text": [
        " 738\n",
        "i =  739\n",
        "i =  740\n",
        "i =  741\n",
        "i =  742\n",
        "i =  743\n",
        "i =  744\n",
        "i =  745\n",
        "i =  746\n",
        "i = "
       ]
      },
      {
       "output_type": "stream",
       "stream": "stdout",
       "text": [
        " 747\n",
        "i =  748\n",
        "i =  749\n",
        "i =  750\n",
        "i =  751\n",
        "i =  752\n",
        "i =  753\n",
        "i =  754\n",
        "i =  755\n",
        "i =  756\n",
        "i = "
       ]
      },
      {
       "output_type": "stream",
       "stream": "stdout",
       "text": [
        " 757\n",
        "i =  758\n",
        "i =  759\n",
        "i =  760\n",
        "i =  761\n",
        "i =  762\n",
        "i =  763\n",
        "i =  764\n",
        "i =  765\n",
        "i =  766\n",
        "i = "
       ]
      },
      {
       "output_type": "stream",
       "stream": "stdout",
       "text": [
        " 767\n",
        "i =  768\n",
        "i =  769\n",
        "i =  770\n",
        "i =  771\n",
        "i =  772\n",
        "i =  773\n",
        "i =  774\n",
        "i =  775\n",
        "i = "
       ]
      },
      {
       "output_type": "stream",
       "stream": "stdout",
       "text": [
        " 776\n",
        "i =  777\n",
        "i =  778\n",
        "i =  779\n",
        "i =  780\n",
        "i =  781\n",
        "i =  782\n",
        "i =  783\n",
        "i =  784\n",
        "i = "
       ]
      },
      {
       "output_type": "stream",
       "stream": "stdout",
       "text": [
        " 785\n",
        "i =  786\n",
        "i =  787\n",
        "i =  788\n",
        "i =  789\n",
        "i =  790\n",
        "i =  791\n",
        "i =  792\n",
        "i = "
       ]
      },
      {
       "output_type": "stream",
       "stream": "stdout",
       "text": [
        " 793\n",
        "i =  794\n",
        "i =  795\n",
        "i =  796\n",
        "i =  797\n",
        "i =  798\n",
        "i =  799\n",
        "i =  800\n",
        "i =  801\n",
        "i = "
       ]
      },
      {
       "output_type": "stream",
       "stream": "stdout",
       "text": [
        " 802\n",
        "i =  803\n",
        "i =  804\n",
        "i =  805\n",
        "i =  806\n",
        "i =  807\n",
        "i =  808\n",
        "i = "
       ]
      },
      {
       "output_type": "stream",
       "stream": "stdout",
       "text": [
        " 809\n",
        "i =  810\n",
        "i =  811\n",
        "i =  812\n",
        "i =  813\n",
        "i =  814\n",
        "i =  815\n",
        "i = "
       ]
      },
      {
       "output_type": "stream",
       "stream": "stdout",
       "text": [
        " 816\n",
        "i =  817\n",
        "i =  818\n",
        "i =  819\n",
        "i =  820\n",
        "i =  821\n",
        "i =  822\n",
        "i = "
       ]
      },
      {
       "output_type": "stream",
       "stream": "stdout",
       "text": [
        " 823\n",
        "i =  824\n",
        "i =  825\n",
        "i =  826\n",
        "i =  827\n",
        "i =  828\n",
        "i =  829\n",
        "i = "
       ]
      },
      {
       "output_type": "stream",
       "stream": "stdout",
       "text": [
        " 830\n",
        "i =  831\n",
        "i =  832\n",
        "i =  833\n",
        "i =  834\n",
        "i =  835\n",
        "i =  836\n",
        "i = "
       ]
      },
      {
       "output_type": "stream",
       "stream": "stdout",
       "text": [
        " 837\n",
        "i =  838\n",
        "i =  839\n",
        "i =  840\n",
        "i =  841\n",
        "i =  842\n",
        "i =  843\n",
        "i = "
       ]
      },
      {
       "output_type": "stream",
       "stream": "stdout",
       "text": [
        " 844\n",
        "i =  845\n",
        "i =  846\n",
        "i =  847\n",
        "i =  848\n",
        "i =  849\n",
        "i =  850\n",
        "i =  851\n",
        "i = "
       ]
      },
      {
       "output_type": "stream",
       "stream": "stdout",
       "text": [
        " 852\n",
        "i =  853\n",
        "i =  854\n",
        "i =  855\n",
        "i =  856\n",
        "i =  857\n",
        "i =  858\n",
        "i =  859\n",
        "i = "
       ]
      },
      {
       "output_type": "stream",
       "stream": "stdout",
       "text": [
        " 860\n",
        "i =  861\n",
        "i =  862\n",
        "i =  863\n",
        "i =  864\n",
        "i =  865\n",
        "i =  866\n",
        "i =  867\n",
        "i = "
       ]
      },
      {
       "output_type": "stream",
       "stream": "stdout",
       "text": [
        " 868\n",
        "i =  869\n",
        "i =  870\n",
        "i =  871\n",
        "i =  872\n",
        "i =  873\n",
        "i =  874\n",
        "i =  875\n",
        "i =  876\n",
        "i = "
       ]
      },
      {
       "output_type": "stream",
       "stream": "stdout",
       "text": [
        " 877\n",
        "i =  878\n",
        "i =  879\n",
        "i =  880\n",
        "i =  881\n",
        "i =  882\n",
        "i =  883\n",
        "i =  884\n",
        "i =  885\n",
        "i = "
       ]
      },
      {
       "output_type": "stream",
       "stream": "stdout",
       "text": [
        " 886\n",
        "i =  887\n",
        "i =  888\n",
        "i =  889\n",
        "i =  890\n",
        "i =  891\n",
        "i =  892\n",
        "i =  893\n",
        "i =  894\n",
        "i = "
       ]
      },
      {
       "output_type": "stream",
       "stream": "stdout",
       "text": [
        " 895\n",
        "i =  896\n",
        "i =  897\n",
        "i =  898\n",
        "i =  899\n",
        "i =  900\n",
        "i =  901\n",
        "i =  902\n",
        "i = "
       ]
      },
      {
       "output_type": "stream",
       "stream": "stdout",
       "text": [
        " 903\n",
        "i =  904\n",
        "i = "
       ]
      },
      {
       "output_type": "stream",
       "stream": "stdout",
       "text": [
        " 905\n",
        "i =  906\n",
        "i = "
       ]
      },
      {
       "output_type": "stream",
       "stream": "stdout",
       "text": [
        " 907\n",
        "i = "
       ]
      },
      {
       "output_type": "stream",
       "stream": "stdout",
       "text": [
        " 908\n",
        "i = "
       ]
      },
      {
       "output_type": "stream",
       "stream": "stdout",
       "text": [
        " 909\n",
        "i =  910\n",
        "i = "
       ]
      },
      {
       "output_type": "stream",
       "stream": "stdout",
       "text": [
        " 911\n",
        "i =  912\n",
        "i =  913\n",
        "i = "
       ]
      },
      {
       "output_type": "stream",
       "stream": "stdout",
       "text": [
        " 914\n",
        "i =  915\n",
        "i =  916\n",
        "i = "
       ]
      },
      {
       "output_type": "stream",
       "stream": "stdout",
       "text": [
        " 917\n",
        "i =  918\n",
        "i =  919\n",
        "i = "
       ]
      },
      {
       "output_type": "stream",
       "stream": "stdout",
       "text": [
        " 920\n",
        "i =  921\n",
        "i = "
       ]
      },
      {
       "output_type": "stream",
       "stream": "stdout",
       "text": [
        " 922\n",
        "i =  923\n",
        "i =  924\n",
        "i = "
       ]
      },
      {
       "output_type": "stream",
       "stream": "stdout",
       "text": [
        " 925\n",
        "i =  926\n",
        "i =  927\n",
        "i =  928\n",
        "i =  929\n",
        "i =  930\n",
        "i =  931\n",
        "i = "
       ]
      },
      {
       "output_type": "stream",
       "stream": "stdout",
       "text": [
        " 932\n",
        "i =  933\n",
        "i =  934\n",
        "i =  935\n",
        "i =  936\n",
        "i =  937\n",
        "i =  938\n",
        "i =  939\n",
        "i = "
       ]
      },
      {
       "output_type": "stream",
       "stream": "stdout",
       "text": [
        " 940\n",
        "i =  941\n",
        "i =  942\n",
        "i =  943\n",
        "i =  944\n",
        "i =  945\n",
        "i =  946\n",
        "i =  947\n",
        "i = "
       ]
      },
      {
       "output_type": "stream",
       "stream": "stdout",
       "text": [
        " 948\n",
        "i =  949\n",
        "i =  950\n",
        "i =  951\n",
        "i =  952\n",
        "i =  953\n",
        "i =  954\n",
        "i = "
       ]
      },
      {
       "output_type": "stream",
       "stream": "stdout",
       "text": [
        " 955\n",
        "i =  956\n",
        "i =  957\n",
        "i =  958\n",
        "i =  959\n",
        "i =  960\n",
        "i =  961\n",
        "i =  962\n",
        "i = "
       ]
      },
      {
       "output_type": "stream",
       "stream": "stdout",
       "text": [
        " 963\n",
        "i =  964\n",
        "i =  965\n",
        "i =  966\n",
        "i =  967\n",
        "i =  968\n",
        "i =  969\n",
        "i =  970\n",
        "i = "
       ]
      },
      {
       "output_type": "stream",
       "stream": "stdout",
       "text": [
        " 971\n",
        "i =  972\n",
        "i =  973\n",
        "i =  974\n",
        "i =  975\n",
        "i =  976\n",
        "i =  977\n",
        "i =  978\n",
        "i =  979\n",
        "i = "
       ]
      },
      {
       "output_type": "stream",
       "stream": "stdout",
       "text": [
        " 980\n",
        "i =  981\n",
        "i =  982\n",
        "i =  983\n",
        "i =  984\n",
        "i =  985\n",
        "i =  986\n",
        "i = "
       ]
      },
      {
       "output_type": "stream",
       "stream": "stdout",
       "text": [
        " 987\n",
        "i =  988\n",
        "i =  989\n",
        "i =  990\n",
        "i =  991\n",
        "i =  992\n",
        "i =  993\n",
        "i =  994\n",
        "i = "
       ]
      },
      {
       "output_type": "stream",
       "stream": "stdout",
       "text": [
        " 995\n",
        "i =  996\n",
        "i =  997\n",
        "i =  998\n",
        "i =  999\n",
        "i =  1000\n",
        "i =  1001\n",
        "i =  1002\n",
        "i =  1003\n",
        "i = "
       ]
      },
      {
       "output_type": "stream",
       "stream": "stdout",
       "text": [
        " 1004\n",
        "i =  1005\n",
        "i =  1006\n",
        "i =  1007\n",
        "i =  1008\n",
        "i =  1009\n",
        "i =  1010\n",
        "i =  1011\n",
        "i = "
       ]
      },
      {
       "output_type": "stream",
       "stream": "stdout",
       "text": [
        " 1012\n",
        "i =  1013\n",
        "i =  1014\n",
        "i =  1015\n",
        "i =  1016\n",
        "i =  1017\n",
        "i =  1018\n",
        "i =  1019\n",
        "i = "
       ]
      },
      {
       "output_type": "stream",
       "stream": "stdout",
       "text": [
        " 1020\n",
        "i =  1021\n",
        "i =  1022\n",
        "i =  1023\n",
        "i =  1024\n",
        "i =  1025\n",
        "i =  1026\n",
        "i =  1027\n",
        "i = "
       ]
      },
      {
       "output_type": "stream",
       "stream": "stdout",
       "text": [
        " 1028\n",
        "i =  1029\n",
        "i =  1030\n",
        "i =  1031\n",
        "i =  1032\n",
        "i =  1033\n",
        "i =  1034\n",
        "i =  1035\n",
        "i =  1036\n",
        "i = "
       ]
      },
      {
       "output_type": "stream",
       "stream": "stdout",
       "text": [
        " 1037\n",
        "i =  1038\n",
        "i =  1039\n",
        "i =  1040\n",
        "i =  1041\n",
        "i =  1042\n",
        "i =  1043\n",
        "i =  1044\n",
        "i = "
       ]
      },
      {
       "output_type": "stream",
       "stream": "stdout",
       "text": [
        " 1045\n",
        "i =  1046\n",
        "i =  1047\n",
        "i =  1048\n",
        "i =  1049\n",
        "i =  1050\n",
        "i =  1051\n",
        "i =  1052\n",
        "i = "
       ]
      },
      {
       "output_type": "stream",
       "stream": "stdout",
       "text": [
        " 1053\n",
        "i =  1054\n",
        "i =  1055\n",
        "i =  1056\n",
        "i =  1057\n",
        "i =  1058\n",
        "i =  1059\n",
        "i =  1060\n",
        "i = "
       ]
      },
      {
       "output_type": "stream",
       "stream": "stdout",
       "text": [
        " 1061\n",
        "i =  1062\n",
        "i =  1063\n",
        "i =  1064\n",
        "i =  1065\n",
        "i =  1066\n",
        "i =  1067\n",
        "i =  1068\n",
        "i =  1069\n",
        "i = "
       ]
      },
      {
       "output_type": "stream",
       "stream": "stdout",
       "text": [
        " 1070\n",
        "i =  1071\n",
        "i =  1072\n",
        "i =  1073\n",
        "i =  1074\n",
        "i =  1075\n",
        "i =  1076\n",
        "i =  1077\n",
        "i = "
       ]
      },
      {
       "output_type": "stream",
       "stream": "stdout",
       "text": [
        " 1078\n",
        "i =  1079\n",
        "i =  1080\n",
        "i =  1081\n",
        "i =  1082\n",
        "i =  1083\n",
        "i =  1084\n",
        "i =  1085\n",
        "i =  1086\n",
        "i =  1087\n",
        "i =  1088\n",
        "i = "
       ]
      },
      {
       "output_type": "stream",
       "stream": "stdout",
       "text": [
        " 1089\n",
        "i =  1090\n",
        "i =  1091\n",
        "i =  1092\n",
        "i =  1093\n",
        "i =  1094\n",
        "i =  1095\n",
        "i =  1096\n",
        "i =  1097\n",
        "i =  1098\n",
        "i = "
       ]
      },
      {
       "output_type": "stream",
       "stream": "stdout",
       "text": [
        " 1099\n",
        "i =  1100\n",
        "i =  1101\n",
        "i =  1102\n",
        "i =  1103\n",
        "i =  1104\n",
        "i =  1105\n",
        "i =  1106\n",
        "i =  1107\n",
        "i =  1108\n",
        "i = "
       ]
      },
      {
       "output_type": "stream",
       "stream": "stdout",
       "text": [
        " 1109\n",
        "i =  1110\n",
        "i =  1111\n",
        "i =  1112\n",
        "i =  1113\n",
        "i =  1114\n",
        "i =  1115\n",
        "i =  1116\n",
        "i =  1117\n",
        "i =  1118\n",
        "i = "
       ]
      },
      {
       "output_type": "stream",
       "stream": "stdout",
       "text": [
        " 1119\n",
        "i =  1120\n",
        "i =  1121\n",
        "i =  1122\n",
        "i =  1123\n",
        "i =  1124\n",
        "i =  1125\n",
        "i =  1126\n",
        "i =  1127\n",
        "i =  1128\n",
        "i = "
       ]
      },
      {
       "output_type": "stream",
       "stream": "stdout",
       "text": [
        " 1129\n",
        "i =  1130\n",
        "i =  1131\n",
        "i =  1132\n",
        "i =  1133\n",
        "i =  1134\n",
        "i =  1135\n",
        "i =  1136\n",
        "i =  1137\n",
        "i =  1138\n",
        "i = "
       ]
      },
      {
       "output_type": "stream",
       "stream": "stdout",
       "text": [
        " 1139\n",
        "i =  1140\n",
        "i =  1141\n",
        "i =  1142\n",
        "i =  1143\n",
        "i =  1144\n",
        "i =  1145\n",
        "i =  1146\n",
        "i =  1147\n",
        "i =  1148\n",
        "i = "
       ]
      },
      {
       "output_type": "stream",
       "stream": "stdout",
       "text": [
        " 1149\n",
        "i =  1150\n",
        "i =  1151\n",
        "i =  1152\n",
        "i =  1153\n",
        "i =  1154\n",
        "i =  1155\n",
        "i =  1156\n",
        "i =  1157\n",
        "i =  1158\n",
        "i = "
       ]
      },
      {
       "output_type": "stream",
       "stream": "stdout",
       "text": [
        " 1159\n",
        "i =  1160\n",
        "i =  1161\n",
        "i =  1162\n",
        "i =  1163\n",
        "i =  1164\n",
        "i =  1165\n",
        "i =  1166\n",
        "i = "
       ]
      },
      {
       "output_type": "stream",
       "stream": "stdout",
       "text": [
        " 1167\n",
        "i =  1168\n",
        "i =  1169\n",
        "i =  1170\n",
        "i =  1171\n",
        "i =  1172\n",
        "i =  1173\n",
        "i =  1174\n",
        "i =  1175\n",
        "i = "
       ]
      },
      {
       "output_type": "stream",
       "stream": "stdout",
       "text": [
        " 1176\n",
        "i =  1177\n",
        "i =  1178\n",
        "i =  1179\n",
        "i =  1180\n",
        "i =  1181\n",
        "i =  1182\n",
        "i =  1183\n",
        "i =  1184\n",
        "i =  1185\n",
        "i = "
       ]
      },
      {
       "output_type": "stream",
       "stream": "stdout",
       "text": [
        " 1186\n",
        "i =  1187\n",
        "i =  1188\n",
        "i =  1189\n",
        "i =  1190\n",
        "i =  1191\n",
        "i =  1192\n",
        "i =  1193\n",
        "i = "
       ]
      },
      {
       "output_type": "stream",
       "stream": "stdout",
       "text": [
        " 1194\n",
        "i =  1195\n",
        "i =  1196\n",
        "i =  1197\n",
        "i =  1198\n",
        "i =  1199\n",
        "i =  1200\n",
        "i = "
       ]
      },
      {
       "output_type": "stream",
       "stream": "stdout",
       "text": [
        " 1201\n",
        "i =  1202\n",
        "i =  1203\n",
        "i =  1204\n",
        "i =  1205\n",
        "i =  1206\n",
        "i =  1207\n",
        "i =  1208\n",
        "i = "
       ]
      },
      {
       "output_type": "stream",
       "stream": "stdout",
       "text": [
        " 1209\n",
        "i =  1210\n",
        "i =  1211\n",
        "i =  1212\n",
        "i =  1213\n",
        "i =  1214\n",
        "i =  1215\n",
        "i = "
       ]
      },
      {
       "output_type": "stream",
       "stream": "stdout",
       "text": [
        " 1216\n",
        "i =  1217\n",
        "i =  1218\n",
        "i =  1219\n",
        "i =  1220\n",
        "i =  1221\n",
        "i =  1222\n",
        "i =  1223\n",
        "i =  1224\n",
        "i =  1225\n",
        "i = "
       ]
      },
      {
       "output_type": "stream",
       "stream": "stdout",
       "text": [
        " 1226\n",
        "i =  1227\n",
        "i =  1228\n",
        "i =  1229\n",
        "i =  1230\n",
        "i =  1231\n",
        "i =  1232\n",
        "i =  1233\n",
        "i =  1234\n",
        "i =  1235\n",
        "i = "
       ]
      },
      {
       "output_type": "stream",
       "stream": "stdout",
       "text": [
        " 1236\n",
        "i =  1237\n",
        "i =  1238\n",
        "i =  1239\n",
        "i =  1240\n",
        "i =  1241\n",
        "i =  1242\n",
        "i =  1243\n",
        "i =  1244\n",
        "i = "
       ]
      },
      {
       "output_type": "stream",
       "stream": "stdout",
       "text": [
        " 1245\n",
        "i =  1246\n",
        "i =  1247\n",
        "i =  1248\n",
        "i =  1249\n",
        "i =  1250\n",
        "i =  1251\n",
        "i = "
       ]
      },
      {
       "output_type": "stream",
       "stream": "stdout",
       "text": [
        " 1252\n",
        "i =  1253\n",
        "i =  1254\n",
        "i =  1255\n",
        "i =  1256\n",
        "i =  1257\n",
        "i =  1258\n",
        "i =  1259\n",
        "i =  1260\n",
        "i =  1261\n",
        "i =  1262\n",
        "i = "
       ]
      },
      {
       "output_type": "stream",
       "stream": "stdout",
       "text": [
        " 1263\n",
        "i =  1264\n",
        "i =  1265\n",
        "i =  1266\n",
        "i =  1267\n",
        "i =  1268\n",
        "i =  1269\n",
        "i =  1270\n",
        "i =  1271\n",
        "i =  1272\n",
        "i = "
       ]
      },
      {
       "output_type": "stream",
       "stream": "stdout",
       "text": [
        " 1273\n",
        "i =  1274\n",
        "i =  1275\n",
        "i =  1276\n",
        "i =  1277\n",
        "i =  1278\n",
        "i = "
       ]
      },
      {
       "output_type": "stream",
       "stream": "stdout",
       "text": [
        " 1279\n",
        "i =  1280\n",
        "i =  1281\n",
        "i =  1282\n",
        "i =  1283\n",
        "i =  1284\n",
        "i =  1285\n",
        "i = "
       ]
      },
      {
       "output_type": "stream",
       "stream": "stdout",
       "text": [
        " 1286\n",
        "i =  1287\n",
        "i =  1288\n",
        "i =  1289\n",
        "i =  1290\n",
        "i =  1291\n",
        "i =  1292\n",
        "i = "
       ]
      },
      {
       "output_type": "stream",
       "stream": "stdout",
       "text": [
        " 1293\n",
        "i =  1294\n",
        "i =  1295\n",
        "i =  1296\n",
        "i =  1297\n",
        "i =  1298\n",
        "i =  1299\n",
        "i =  1300\n",
        "i =  1301\n",
        "i = "
       ]
      },
      {
       "output_type": "stream",
       "stream": "stdout",
       "text": [
        " 1302\n",
        "i =  1303\n",
        "i =  1304\n",
        "i =  1305\n",
        "i =  1306\n",
        "i =  1307\n",
        "i =  1308\n",
        "i =  1309\n",
        "i =  1310\n",
        "i = "
       ]
      },
      {
       "output_type": "stream",
       "stream": "stdout",
       "text": [
        " 1311\n",
        "i =  1312\n",
        "i =  1313\n",
        "i =  1314\n",
        "i =  1315\n",
        "i =  1316\n",
        "i =  1317\n",
        "i =  1318\n",
        "i =  1319\n",
        "i = "
       ]
      },
      {
       "output_type": "stream",
       "stream": "stdout",
       "text": [
        " 1320\n",
        "i =  1321\n",
        "i =  1322\n",
        "i =  1323\n",
        "i =  1324\n",
        "i =  1325\n",
        "i =  1326\n",
        "i =  1327\n",
        "i = "
       ]
      },
      {
       "output_type": "stream",
       "stream": "stdout",
       "text": [
        " 1328\n",
        "i =  1329\n",
        "i =  1330\n",
        "i =  1331\n",
        "i =  1332\n",
        "i =  1333\n",
        "i =  1334\n",
        "i =  1335\n",
        "i = "
       ]
      },
      {
       "output_type": "stream",
       "stream": "stdout",
       "text": [
        " 1336\n",
        "i =  1337\n",
        "i =  1338\n",
        "i =  1339\n",
        "i =  1340\n",
        "i =  1341\n",
        "i =  1342\n",
        "i =  1343\n",
        "i =  1344\n",
        "i = "
       ]
      },
      {
       "output_type": "stream",
       "stream": "stdout",
       "text": [
        " 1345\n",
        "i =  1346\n",
        "i =  1347\n",
        "i =  1348\n",
        "i =  1349\n",
        "i =  1350\n",
        "i =  1351\n",
        "i =  1352\n",
        "i =  1353\n",
        "i = "
       ]
      },
      {
       "output_type": "stream",
       "stream": "stdout",
       "text": [
        " 1354\n",
        "i =  1355\n",
        "i =  1356\n",
        "i =  1357\n",
        "i =  1358\n",
        "i =  1359\n",
        "i =  1360\n",
        "i =  1361\n",
        "i =  1362\n",
        "i =  1363\n",
        "i = "
       ]
      },
      {
       "output_type": "stream",
       "stream": "stdout",
       "text": [
        " 1364\n"
       ]
      }
     ],
     "prompt_number": 50
    },
    {
     "cell_type": "code",
     "collapsed": false,
     "input": [
      "from scipy.integrate import trapz\n",
      "\n",
      "A_phi = zeros([N2, N1, files.size])\n",
      "g = ones([N2, N1])\n",
      "for n in xrange(0, 1):\n",
      "    print \"n = \", n\n",
      "    B1 = data[:, :, 5, n]\n",
      "    B2 = data[:, :, 6, n]\n",
      "    for j in xrange(N2):\n",
      "        for i in xrange(N1):\n",
      "            A_phi[j, i, n] = trapz(g[j, :i]*B2[j, :i], dx=DX1) - trapz(g[:j, i]*B1[:j, i], dx=DX2)"
     ],
     "language": "python",
     "metadata": {},
     "outputs": [
      {
       "output_type": "stream",
       "stream": "stdout",
       "text": [
        "n =  0\n"
       ]
      }
     ],
     "prompt_number": 3
    },
    {
     "cell_type": "code",
     "collapsed": false,
     "input": [
      "figure(figsize=(18, 8.5))\n",
      "X1_grid, X2_grid = meshgrid(X1[2:-2], X2[2:-2])\n",
      "\n",
      "step = -1\n",
      "clf()\n",
      "subplot(121)\n",
      "contour(X1_grid[2:-2, 2:-2], X2_grid[2:-2, 2:-2], A_phi[2:-2, 2:-2, 0], 40, colors='blue', linestyles='solid')\n",
      "contourf(X1_grid[2:-2, 2:-2], X2_grid[2:-2, 2:-2], data[2:-2, 2:-2, -1, step], 100)\n",
      "title('Heat flux')\n",
      "colorbar()\n",
      "subplot(122)\n",
      "contour(X1_grid[2:-2, 2:-2], X2_grid[2:-2, 2:-2], A_phi[2:-2, 2:-2, 0], 40, colors='blue', linestyles='solid')\n",
      "contourf(X1_grid[2:-2, 2:-2], X2_grid[2:-2, 2:-2], data[2:-2, 2:-2, 1, step]/data[2:-2, 2:-2, 0, step], 100)\n",
      "title('Temperature')\n",
      "colorbar()\n",
      "tight_layout()"
     ],
     "language": "python",
     "metadata": {},
     "outputs": [],
     "prompt_number": 64
    },
    {
     "cell_type": "code",
     "collapsed": false,
     "input": [
      "figure(figsize=(18, 8.5))\n",
      "subplot(121)\n",
      "plot(X1[2:-2], data[40, :, -1, -1])\n",
      "title('Heat flux')\n",
      "subplot(122)\n",
      "plot(X1[2:-2], data[40, :, 1, -1]/data[40, :, 0, -1])\n",
      "title('Temperature')\n",
      "tight_layout()"
     ],
     "language": "python",
     "metadata": {},
     "outputs": [],
     "prompt_number": 105
    },
    {
     "cell_type": "code",
     "collapsed": false,
     "input": [
      "clf()"
     ],
     "language": "python",
     "metadata": {},
     "outputs": [],
     "prompt_number": 98
    },
    {
     "cell_type": "code",
     "collapsed": false,
     "input": [
      "figure(figsize=(18, 8.5))\n",
      "X1_grid, X2_grid = meshgrid(X1[2:-2], X2[2:-2])\n",
      "\n",
      "for i in xrange(files.size):\n",
      "    print \"File number = \", i\n",
      "    subplot(121)\n",
      "    contour(X1_grid[2:-2, 2:-2], X2_grid[2:-2, 2:-2], A_phi[2:-2, 2:-2, 0], 40, colors='blue', linestyles='solid')\n",
      "    contourf(X1_grid[2:-2, 2:-2], X2_grid[2:-2, 2:-2], data[2:-2, 2:-2, -1, i], 100)\n",
      "    title('Heat flux')\n",
      "#    colorbar()\n",
      "    subplot(122)\n",
      "    contour(X1_grid[2:-2, 2:-2], X2_grid[2:-2, 2:-2], A_phi[2:-2, 2:-2, 0], 40, colors='blue', linestyles='solid')\n",
      "    contourf(X1_grid[2:-2, 2:-2], X2_grid[2:-2, 2:-2], data[2:-2, 2:-2, 1, i]/data[2:-2, 2:-2, 0, i], 100)\n",
      "    title('Temperature')\n",
      "#    colorbar()\n",
      "    suptitle(\"t = \"+str(0.001*i)+ \" M\")\n",
      "    tight_layout()\n",
      "    savefig('/home/mc/bh/plot_fancy_heat_conduction_test' + '%04d'%i + '.png')\n",
      "    clf()"
     ],
     "language": "python",
     "metadata": {},
     "outputs": [
      {
       "output_type": "stream",
       "stream": "stdout",
       "text": [
        "File number =  0\n",
        "File number = "
       ]
      },
      {
       "output_type": "stream",
       "stream": "stdout",
       "text": [
        " 1\n",
        "File number = "
       ]
      },
      {
       "output_type": "stream",
       "stream": "stdout",
       "text": [
        " 2\n",
        "File number = "
       ]
      },
      {
       "output_type": "stream",
       "stream": "stdout",
       "text": [
        " 3\n",
        "File number = "
       ]
      },
      {
       "output_type": "stream",
       "stream": "stdout",
       "text": [
        " 4\n",
        "File number = "
       ]
      },
      {
       "output_type": "stream",
       "stream": "stdout",
       "text": [
        " 5\n",
        "File number = "
       ]
      },
      {
       "output_type": "stream",
       "stream": "stdout",
       "text": [
        " 6\n",
        "File number = "
       ]
      },
      {
       "output_type": "stream",
       "stream": "stdout",
       "text": [
        " 7\n",
        "File number = "
       ]
      },
      {
       "output_type": "stream",
       "stream": "stdout",
       "text": [
        " 8\n",
        "File number = "
       ]
      },
      {
       "output_type": "stream",
       "stream": "stdout",
       "text": [
        " 9\n",
        "File number = "
       ]
      },
      {
       "output_type": "stream",
       "stream": "stdout",
       "text": [
        " 10\n",
        "File number = "
       ]
      },
      {
       "output_type": "stream",
       "stream": "stdout",
       "text": [
        " 11\n",
        "File number = "
       ]
      },
      {
       "output_type": "stream",
       "stream": "stdout",
       "text": [
        " 12\n",
        "File number = "
       ]
      },
      {
       "output_type": "stream",
       "stream": "stdout",
       "text": [
        " 13\n",
        "File number = "
       ]
      },
      {
       "output_type": "stream",
       "stream": "stdout",
       "text": [
        " 14\n",
        "File number = "
       ]
      },
      {
       "output_type": "stream",
       "stream": "stdout",
       "text": [
        " 15\n",
        "File number = "
       ]
      },
      {
       "output_type": "stream",
       "stream": "stdout",
       "text": [
        " 16\n",
        "File number = "
       ]
      },
      {
       "output_type": "stream",
       "stream": "stdout",
       "text": [
        " 17\n",
        "File number = "
       ]
      },
      {
       "output_type": "stream",
       "stream": "stdout",
       "text": [
        " 18\n",
        "File number = "
       ]
      },
      {
       "output_type": "stream",
       "stream": "stdout",
       "text": [
        " 19\n",
        "File number = "
       ]
      },
      {
       "output_type": "stream",
       "stream": "stdout",
       "text": [
        " 20\n",
        "File number = "
       ]
      },
      {
       "output_type": "stream",
       "stream": "stdout",
       "text": [
        " 21\n",
        "File number = "
       ]
      },
      {
       "output_type": "stream",
       "stream": "stdout",
       "text": [
        " 22\n",
        "File number = "
       ]
      },
      {
       "output_type": "stream",
       "stream": "stdout",
       "text": [
        " 23\n",
        "File number = "
       ]
      },
      {
       "output_type": "stream",
       "stream": "stdout",
       "text": [
        " 24\n",
        "File number = "
       ]
      },
      {
       "output_type": "stream",
       "stream": "stdout",
       "text": [
        " 25\n",
        "File number = "
       ]
      },
      {
       "output_type": "stream",
       "stream": "stdout",
       "text": [
        " 26\n",
        "File number = "
       ]
      },
      {
       "output_type": "stream",
       "stream": "stdout",
       "text": [
        " 27\n",
        "File number = "
       ]
      },
      {
       "output_type": "stream",
       "stream": "stdout",
       "text": [
        " 28\n",
        "File number = "
       ]
      },
      {
       "output_type": "stream",
       "stream": "stdout",
       "text": [
        " 29\n",
        "File number = "
       ]
      },
      {
       "output_type": "stream",
       "stream": "stdout",
       "text": [
        " 30\n",
        "File number = "
       ]
      },
      {
       "output_type": "stream",
       "stream": "stdout",
       "text": [
        " 31\n",
        "File number = "
       ]
      },
      {
       "output_type": "stream",
       "stream": "stdout",
       "text": [
        " 32\n",
        "File number = "
       ]
      },
      {
       "output_type": "stream",
       "stream": "stdout",
       "text": [
        " 33\n",
        "File number = "
       ]
      },
      {
       "output_type": "stream",
       "stream": "stdout",
       "text": [
        " 34\n",
        "File number = "
       ]
      },
      {
       "output_type": "stream",
       "stream": "stdout",
       "text": [
        " 35\n",
        "File number = "
       ]
      },
      {
       "output_type": "stream",
       "stream": "stdout",
       "text": [
        " 36\n",
        "File number = "
       ]
      },
      {
       "output_type": "stream",
       "stream": "stdout",
       "text": [
        " 37\n",
        "File number = "
       ]
      },
      {
       "output_type": "stream",
       "stream": "stdout",
       "text": [
        " 38\n",
        "File number = "
       ]
      },
      {
       "output_type": "stream",
       "stream": "stdout",
       "text": [
        " 39\n",
        "File number = "
       ]
      },
      {
       "output_type": "stream",
       "stream": "stdout",
       "text": [
        " 40\n",
        "File number = "
       ]
      },
      {
       "output_type": "stream",
       "stream": "stdout",
       "text": [
        " 41\n",
        "File number = "
       ]
      },
      {
       "output_type": "stream",
       "stream": "stdout",
       "text": [
        " 42\n",
        "File number = "
       ]
      },
      {
       "output_type": "stream",
       "stream": "stdout",
       "text": [
        " 43\n",
        "File number = "
       ]
      },
      {
       "output_type": "stream",
       "stream": "stdout",
       "text": [
        " 44\n",
        "File number = "
       ]
      },
      {
       "output_type": "stream",
       "stream": "stdout",
       "text": [
        " 45\n",
        "File number = "
       ]
      },
      {
       "output_type": "stream",
       "stream": "stdout",
       "text": [
        " 46\n",
        "File number = "
       ]
      },
      {
       "output_type": "stream",
       "stream": "stdout",
       "text": [
        " 47\n",
        "File number = "
       ]
      },
      {
       "output_type": "stream",
       "stream": "stdout",
       "text": [
        " 48\n",
        "File number = "
       ]
      },
      {
       "output_type": "stream",
       "stream": "stdout",
       "text": [
        " 49\n",
        "File number = "
       ]
      },
      {
       "output_type": "stream",
       "stream": "stdout",
       "text": [
        " 50\n",
        "File number = "
       ]
      },
      {
       "output_type": "stream",
       "stream": "stdout",
       "text": [
        " 51\n",
        "File number = "
       ]
      },
      {
       "output_type": "stream",
       "stream": "stdout",
       "text": [
        " 52\n",
        "File number = "
       ]
      },
      {
       "output_type": "stream",
       "stream": "stdout",
       "text": [
        " 53\n",
        "File number = "
       ]
      },
      {
       "output_type": "stream",
       "stream": "stdout",
       "text": [
        " 54\n",
        "File number = "
       ]
      },
      {
       "output_type": "stream",
       "stream": "stdout",
       "text": [
        " 55\n",
        "File number = "
       ]
      },
      {
       "output_type": "stream",
       "stream": "stdout",
       "text": [
        " 56\n",
        "File number = "
       ]
      },
      {
       "output_type": "stream",
       "stream": "stdout",
       "text": [
        " 57\n",
        "File number = "
       ]
      },
      {
       "output_type": "stream",
       "stream": "stdout",
       "text": [
        " 58\n",
        "File number = "
       ]
      },
      {
       "output_type": "stream",
       "stream": "stdout",
       "text": [
        " 59\n",
        "File number = "
       ]
      },
      {
       "output_type": "stream",
       "stream": "stdout",
       "text": [
        " 60\n",
        "File number = "
       ]
      },
      {
       "output_type": "stream",
       "stream": "stdout",
       "text": [
        " 61\n",
        "File number = "
       ]
      },
      {
       "output_type": "stream",
       "stream": "stdout",
       "text": [
        " 62\n",
        "File number = "
       ]
      },
      {
       "output_type": "stream",
       "stream": "stdout",
       "text": [
        " 63\n",
        "File number = "
       ]
      },
      {
       "output_type": "stream",
       "stream": "stdout",
       "text": [
        " 64\n",
        "File number = "
       ]
      },
      {
       "output_type": "stream",
       "stream": "stdout",
       "text": [
        " 65\n",
        "File number = "
       ]
      },
      {
       "output_type": "stream",
       "stream": "stdout",
       "text": [
        " 66\n",
        "File number = "
       ]
      },
      {
       "output_type": "stream",
       "stream": "stdout",
       "text": [
        " 67\n",
        "File number = "
       ]
      },
      {
       "output_type": "stream",
       "stream": "stdout",
       "text": [
        " 68\n",
        "File number = "
       ]
      },
      {
       "output_type": "stream",
       "stream": "stdout",
       "text": [
        " 69\n",
        "File number = "
       ]
      },
      {
       "output_type": "stream",
       "stream": "stdout",
       "text": [
        " 70\n",
        "File number = "
       ]
      },
      {
       "output_type": "stream",
       "stream": "stdout",
       "text": [
        " 71\n",
        "File number = "
       ]
      },
      {
       "output_type": "stream",
       "stream": "stdout",
       "text": [
        " 72\n",
        "File number = "
       ]
      },
      {
       "output_type": "stream",
       "stream": "stdout",
       "text": [
        " 73\n",
        "File number = "
       ]
      },
      {
       "output_type": "stream",
       "stream": "stdout",
       "text": [
        " 74\n",
        "File number = "
       ]
      },
      {
       "output_type": "stream",
       "stream": "stdout",
       "text": [
        " 75\n",
        "File number = "
       ]
      },
      {
       "output_type": "stream",
       "stream": "stdout",
       "text": [
        " 76\n",
        "File number = "
       ]
      },
      {
       "output_type": "stream",
       "stream": "stdout",
       "text": [
        " 77\n",
        "File number = "
       ]
      },
      {
       "output_type": "stream",
       "stream": "stdout",
       "text": [
        " 78\n",
        "File number = "
       ]
      },
      {
       "output_type": "stream",
       "stream": "stdout",
       "text": [
        " 79\n",
        "File number = "
       ]
      },
      {
       "output_type": "stream",
       "stream": "stdout",
       "text": [
        " 80\n",
        "File number = "
       ]
      },
      {
       "output_type": "stream",
       "stream": "stdout",
       "text": [
        " 81\n",
        "File number = "
       ]
      },
      {
       "output_type": "stream",
       "stream": "stdout",
       "text": [
        " 82\n",
        "File number = "
       ]
      },
      {
       "output_type": "stream",
       "stream": "stdout",
       "text": [
        " 83\n",
        "File number = "
       ]
      },
      {
       "output_type": "stream",
       "stream": "stdout",
       "text": [
        " 84\n",
        "File number = "
       ]
      },
      {
       "output_type": "stream",
       "stream": "stdout",
       "text": [
        " 85\n",
        "File number = "
       ]
      },
      {
       "output_type": "stream",
       "stream": "stdout",
       "text": [
        " 86\n",
        "File number = "
       ]
      },
      {
       "output_type": "stream",
       "stream": "stdout",
       "text": [
        " 87\n",
        "File number = "
       ]
      },
      {
       "output_type": "stream",
       "stream": "stdout",
       "text": [
        " 88\n",
        "File number = "
       ]
      },
      {
       "output_type": "stream",
       "stream": "stdout",
       "text": [
        " 89\n",
        "File number = "
       ]
      },
      {
       "output_type": "stream",
       "stream": "stdout",
       "text": [
        " 90\n",
        "File number = "
       ]
      },
      {
       "output_type": "stream",
       "stream": "stdout",
       "text": [
        " 91\n",
        "File number = "
       ]
      },
      {
       "output_type": "stream",
       "stream": "stdout",
       "text": [
        " 92\n",
        "File number = "
       ]
      },
      {
       "output_type": "stream",
       "stream": "stdout",
       "text": [
        " 93\n",
        "File number = "
       ]
      },
      {
       "output_type": "stream",
       "stream": "stdout",
       "text": [
        " 94\n",
        "File number = "
       ]
      },
      {
       "output_type": "stream",
       "stream": "stdout",
       "text": [
        " 95\n",
        "File number = "
       ]
      },
      {
       "output_type": "stream",
       "stream": "stdout",
       "text": [
        " 96\n",
        "File number = "
       ]
      },
      {
       "output_type": "stream",
       "stream": "stdout",
       "text": [
        " 97\n",
        "File number = "
       ]
      },
      {
       "output_type": "stream",
       "stream": "stdout",
       "text": [
        " 98\n",
        "File number = "
       ]
      },
      {
       "output_type": "stream",
       "stream": "stdout",
       "text": [
        " 99\n",
        "File number = "
       ]
      },
      {
       "output_type": "stream",
       "stream": "stdout",
       "text": [
        " 100\n",
        "File number = "
       ]
      },
      {
       "output_type": "stream",
       "stream": "stdout",
       "text": [
        " 101\n",
        "File number = "
       ]
      },
      {
       "output_type": "stream",
       "stream": "stdout",
       "text": [
        " 102\n",
        "File number = "
       ]
      },
      {
       "output_type": "stream",
       "stream": "stdout",
       "text": [
        " 103\n",
        "File number = "
       ]
      },
      {
       "output_type": "stream",
       "stream": "stdout",
       "text": [
        " 104\n",
        "File number = "
       ]
      },
      {
       "output_type": "stream",
       "stream": "stdout",
       "text": [
        " 105\n",
        "File number = "
       ]
      },
      {
       "output_type": "stream",
       "stream": "stdout",
       "text": [
        " 106\n",
        "File number = "
       ]
      },
      {
       "output_type": "stream",
       "stream": "stdout",
       "text": [
        " 107\n",
        "File number = "
       ]
      },
      {
       "output_type": "stream",
       "stream": "stdout",
       "text": [
        " 108\n",
        "File number = "
       ]
      },
      {
       "output_type": "stream",
       "stream": "stdout",
       "text": [
        " 109\n",
        "File number = "
       ]
      },
      {
       "output_type": "stream",
       "stream": "stdout",
       "text": [
        " 110\n",
        "File number = "
       ]
      },
      {
       "output_type": "stream",
       "stream": "stdout",
       "text": [
        " 111\n",
        "File number = "
       ]
      },
      {
       "output_type": "stream",
       "stream": "stdout",
       "text": [
        " 112\n",
        "File number = "
       ]
      },
      {
       "output_type": "stream",
       "stream": "stdout",
       "text": [
        " 113\n",
        "File number = "
       ]
      },
      {
       "output_type": "stream",
       "stream": "stdout",
       "text": [
        " 114\n",
        "File number = "
       ]
      },
      {
       "output_type": "stream",
       "stream": "stdout",
       "text": [
        " 115\n",
        "File number = "
       ]
      },
      {
       "output_type": "stream",
       "stream": "stdout",
       "text": [
        " 116\n",
        "File number = "
       ]
      },
      {
       "output_type": "stream",
       "stream": "stdout",
       "text": [
        " 117\n",
        "File number = "
       ]
      },
      {
       "output_type": "stream",
       "stream": "stdout",
       "text": [
        " 118\n",
        "File number = "
       ]
      },
      {
       "output_type": "stream",
       "stream": "stdout",
       "text": [
        " 119\n",
        "File number = "
       ]
      },
      {
       "output_type": "stream",
       "stream": "stdout",
       "text": [
        " 120\n",
        "File number = "
       ]
      },
      {
       "output_type": "stream",
       "stream": "stdout",
       "text": [
        " 121\n",
        "File number = "
       ]
      },
      {
       "output_type": "stream",
       "stream": "stdout",
       "text": [
        " 122\n",
        "File number = "
       ]
      },
      {
       "output_type": "stream",
       "stream": "stdout",
       "text": [
        " 123\n",
        "File number = "
       ]
      },
      {
       "output_type": "stream",
       "stream": "stdout",
       "text": [
        " 124\n",
        "File number = "
       ]
      },
      {
       "output_type": "stream",
       "stream": "stdout",
       "text": [
        " 125\n",
        "File number = "
       ]
      },
      {
       "output_type": "stream",
       "stream": "stdout",
       "text": [
        " 126\n",
        "File number = "
       ]
      },
      {
       "output_type": "stream",
       "stream": "stdout",
       "text": [
        " 127\n",
        "File number = "
       ]
      },
      {
       "output_type": "stream",
       "stream": "stdout",
       "text": [
        " 128\n",
        "File number = "
       ]
      },
      {
       "output_type": "stream",
       "stream": "stdout",
       "text": [
        " 129\n",
        "File number = "
       ]
      },
      {
       "output_type": "stream",
       "stream": "stdout",
       "text": [
        " 130\n",
        "File number = "
       ]
      },
      {
       "output_type": "stream",
       "stream": "stdout",
       "text": [
        " 131\n",
        "File number = "
       ]
      },
      {
       "output_type": "stream",
       "stream": "stdout",
       "text": [
        " 132\n",
        "File number = "
       ]
      },
      {
       "output_type": "stream",
       "stream": "stdout",
       "text": [
        " 133\n",
        "File number = "
       ]
      },
      {
       "output_type": "stream",
       "stream": "stdout",
       "text": [
        " 134\n",
        "File number = "
       ]
      },
      {
       "output_type": "stream",
       "stream": "stdout",
       "text": [
        " 135\n",
        "File number = "
       ]
      },
      {
       "output_type": "stream",
       "stream": "stdout",
       "text": [
        " 136\n",
        "File number = "
       ]
      },
      {
       "output_type": "stream",
       "stream": "stdout",
       "text": [
        " 137\n",
        "File number = "
       ]
      },
      {
       "output_type": "stream",
       "stream": "stdout",
       "text": [
        " 138\n",
        "File number = "
       ]
      },
      {
       "output_type": "stream",
       "stream": "stdout",
       "text": [
        " 139\n",
        "File number = "
       ]
      },
      {
       "output_type": "stream",
       "stream": "stdout",
       "text": [
        " 140\n",
        "File number = "
       ]
      },
      {
       "output_type": "stream",
       "stream": "stdout",
       "text": [
        " 141\n",
        "File number = "
       ]
      },
      {
       "output_type": "stream",
       "stream": "stdout",
       "text": [
        " 142\n",
        "File number = "
       ]
      },
      {
       "output_type": "stream",
       "stream": "stdout",
       "text": [
        " 143\n",
        "File number = "
       ]
      },
      {
       "output_type": "stream",
       "stream": "stdout",
       "text": [
        " 144\n",
        "File number = "
       ]
      },
      {
       "output_type": "stream",
       "stream": "stdout",
       "text": [
        " 145\n",
        "File number = "
       ]
      },
      {
       "output_type": "stream",
       "stream": "stdout",
       "text": [
        " 146\n",
        "File number = "
       ]
      },
      {
       "output_type": "stream",
       "stream": "stdout",
       "text": [
        " 147\n",
        "File number = "
       ]
      },
      {
       "output_type": "stream",
       "stream": "stdout",
       "text": [
        " 148\n",
        "File number = "
       ]
      },
      {
       "output_type": "stream",
       "stream": "stdout",
       "text": [
        " 149\n",
        "File number = "
       ]
      },
      {
       "output_type": "stream",
       "stream": "stdout",
       "text": [
        " 150\n",
        "File number = "
       ]
      },
      {
       "output_type": "stream",
       "stream": "stdout",
       "text": [
        " 151\n",
        "File number = "
       ]
      },
      {
       "output_type": "stream",
       "stream": "stdout",
       "text": [
        " 152\n",
        "File number = "
       ]
      },
      {
       "output_type": "stream",
       "stream": "stdout",
       "text": [
        " 153\n",
        "File number = "
       ]
      },
      {
       "output_type": "stream",
       "stream": "stdout",
       "text": [
        " 154\n",
        "File number = "
       ]
      },
      {
       "output_type": "stream",
       "stream": "stdout",
       "text": [
        " 155\n",
        "File number = "
       ]
      },
      {
       "output_type": "stream",
       "stream": "stdout",
       "text": [
        " 156\n",
        "File number = "
       ]
      },
      {
       "output_type": "stream",
       "stream": "stdout",
       "text": [
        " 157\n",
        "File number = "
       ]
      },
      {
       "output_type": "stream",
       "stream": "stdout",
       "text": [
        " 158\n",
        "File number = "
       ]
      },
      {
       "output_type": "stream",
       "stream": "stdout",
       "text": [
        " 159\n",
        "File number = "
       ]
      },
      {
       "output_type": "stream",
       "stream": "stdout",
       "text": [
        " 160\n",
        "File number = "
       ]
      },
      {
       "output_type": "stream",
       "stream": "stdout",
       "text": [
        " 161\n",
        "File number = "
       ]
      },
      {
       "output_type": "stream",
       "stream": "stdout",
       "text": [
        " 162\n",
        "File number = "
       ]
      },
      {
       "output_type": "stream",
       "stream": "stdout",
       "text": [
        " 163\n",
        "File number = "
       ]
      },
      {
       "output_type": "stream",
       "stream": "stdout",
       "text": [
        " 164\n",
        "File number = "
       ]
      },
      {
       "output_type": "stream",
       "stream": "stdout",
       "text": [
        " 165\n",
        "File number = "
       ]
      },
      {
       "output_type": "stream",
       "stream": "stdout",
       "text": [
        " 166\n",
        "File number = "
       ]
      },
      {
       "output_type": "stream",
       "stream": "stdout",
       "text": [
        " 167\n",
        "File number = "
       ]
      },
      {
       "output_type": "stream",
       "stream": "stdout",
       "text": [
        " 168\n",
        "File number = "
       ]
      },
      {
       "output_type": "stream",
       "stream": "stdout",
       "text": [
        " 169\n",
        "File number = "
       ]
      },
      {
       "output_type": "stream",
       "stream": "stdout",
       "text": [
        " 170\n",
        "File number = "
       ]
      },
      {
       "output_type": "stream",
       "stream": "stdout",
       "text": [
        " 171\n",
        "File number = "
       ]
      },
      {
       "output_type": "stream",
       "stream": "stdout",
       "text": [
        " 172\n",
        "File number = "
       ]
      },
      {
       "output_type": "stream",
       "stream": "stdout",
       "text": [
        " 173\n",
        "File number = "
       ]
      },
      {
       "output_type": "stream",
       "stream": "stdout",
       "text": [
        " 174\n",
        "File number = "
       ]
      },
      {
       "output_type": "stream",
       "stream": "stdout",
       "text": [
        " 175\n",
        "File number = "
       ]
      },
      {
       "output_type": "stream",
       "stream": "stdout",
       "text": [
        " 176\n",
        "File number = "
       ]
      },
      {
       "output_type": "stream",
       "stream": "stdout",
       "text": [
        " 177\n",
        "File number = "
       ]
      },
      {
       "output_type": "stream",
       "stream": "stdout",
       "text": [
        " 178\n",
        "File number = "
       ]
      },
      {
       "output_type": "stream",
       "stream": "stdout",
       "text": [
        " 179\n",
        "File number = "
       ]
      },
      {
       "output_type": "stream",
       "stream": "stdout",
       "text": [
        " 180\n",
        "File number = "
       ]
      },
      {
       "output_type": "stream",
       "stream": "stdout",
       "text": [
        " 181\n",
        "File number = "
       ]
      },
      {
       "output_type": "stream",
       "stream": "stdout",
       "text": [
        " 182\n",
        "File number = "
       ]
      },
      {
       "output_type": "stream",
       "stream": "stdout",
       "text": [
        " 183\n",
        "File number = "
       ]
      },
      {
       "output_type": "stream",
       "stream": "stdout",
       "text": [
        " 184\n",
        "File number = "
       ]
      },
      {
       "output_type": "stream",
       "stream": "stdout",
       "text": [
        " 185\n",
        "File number = "
       ]
      },
      {
       "output_type": "stream",
       "stream": "stdout",
       "text": [
        " 186\n",
        "File number = "
       ]
      },
      {
       "output_type": "stream",
       "stream": "stdout",
       "text": [
        " 187\n",
        "File number = "
       ]
      },
      {
       "output_type": "stream",
       "stream": "stdout",
       "text": [
        " 188\n",
        "File number = "
       ]
      },
      {
       "output_type": "stream",
       "stream": "stdout",
       "text": [
        " 189\n",
        "File number = "
       ]
      },
      {
       "output_type": "stream",
       "stream": "stdout",
       "text": [
        " 190\n",
        "File number = "
       ]
      },
      {
       "output_type": "stream",
       "stream": "stdout",
       "text": [
        " 191\n",
        "File number = "
       ]
      },
      {
       "output_type": "stream",
       "stream": "stdout",
       "text": [
        " 192\n",
        "File number = "
       ]
      },
      {
       "output_type": "stream",
       "stream": "stdout",
       "text": [
        " 193\n",
        "File number = "
       ]
      },
      {
       "output_type": "stream",
       "stream": "stdout",
       "text": [
        " 194\n",
        "File number = "
       ]
      },
      {
       "output_type": "stream",
       "stream": "stdout",
       "text": [
        " 195\n",
        "File number = "
       ]
      },
      {
       "output_type": "stream",
       "stream": "stdout",
       "text": [
        " 196\n",
        "File number = "
       ]
      },
      {
       "output_type": "stream",
       "stream": "stdout",
       "text": [
        " 197\n",
        "File number = "
       ]
      },
      {
       "output_type": "stream",
       "stream": "stdout",
       "text": [
        " 198\n",
        "File number = "
       ]
      },
      {
       "output_type": "stream",
       "stream": "stdout",
       "text": [
        " 199\n",
        "File number = "
       ]
      },
      {
       "output_type": "stream",
       "stream": "stdout",
       "text": [
        " 200\n",
        "File number = "
       ]
      },
      {
       "output_type": "stream",
       "stream": "stdout",
       "text": [
        " 201\n",
        "File number = "
       ]
      },
      {
       "output_type": "stream",
       "stream": "stdout",
       "text": [
        " 202\n",
        "File number = "
       ]
      },
      {
       "output_type": "stream",
       "stream": "stdout",
       "text": [
        " 203\n",
        "File number = "
       ]
      },
      {
       "output_type": "stream",
       "stream": "stdout",
       "text": [
        " 204\n",
        "File number = "
       ]
      },
      {
       "output_type": "stream",
       "stream": "stdout",
       "text": [
        " 205\n",
        "File number = "
       ]
      },
      {
       "output_type": "stream",
       "stream": "stdout",
       "text": [
        " 206\n",
        "File number = "
       ]
      },
      {
       "output_type": "stream",
       "stream": "stdout",
       "text": [
        " 207\n",
        "File number = "
       ]
      },
      {
       "output_type": "stream",
       "stream": "stdout",
       "text": [
        " 208\n",
        "File number = "
       ]
      },
      {
       "output_type": "stream",
       "stream": "stdout",
       "text": [
        " 209\n",
        "File number = "
       ]
      },
      {
       "output_type": "stream",
       "stream": "stdout",
       "text": [
        " 210\n",
        "File number = "
       ]
      },
      {
       "output_type": "stream",
       "stream": "stdout",
       "text": [
        " 211\n",
        "File number = "
       ]
      },
      {
       "output_type": "stream",
       "stream": "stdout",
       "text": [
        " 212\n",
        "File number = "
       ]
      },
      {
       "output_type": "stream",
       "stream": "stdout",
       "text": [
        " 213\n",
        "File number = "
       ]
      },
      {
       "output_type": "stream",
       "stream": "stdout",
       "text": [
        " 214\n",
        "File number = "
       ]
      },
      {
       "output_type": "stream",
       "stream": "stdout",
       "text": [
        " 215\n",
        "File number = "
       ]
      },
      {
       "output_type": "stream",
       "stream": "stdout",
       "text": [
        " 216\n",
        "File number = "
       ]
      },
      {
       "output_type": "stream",
       "stream": "stdout",
       "text": [
        " 217\n",
        "File number = "
       ]
      },
      {
       "output_type": "stream",
       "stream": "stdout",
       "text": [
        " 218\n",
        "File number = "
       ]
      },
      {
       "output_type": "stream",
       "stream": "stdout",
       "text": [
        " 219\n",
        "File number = "
       ]
      },
      {
       "output_type": "stream",
       "stream": "stdout",
       "text": [
        " 220\n",
        "File number = "
       ]
      },
      {
       "output_type": "stream",
       "stream": "stdout",
       "text": [
        " 221\n",
        "File number = "
       ]
      },
      {
       "output_type": "stream",
       "stream": "stdout",
       "text": [
        " 222\n",
        "File number = "
       ]
      },
      {
       "output_type": "stream",
       "stream": "stdout",
       "text": [
        " 223\n",
        "File number = "
       ]
      },
      {
       "output_type": "stream",
       "stream": "stdout",
       "text": [
        " 224\n",
        "File number = "
       ]
      },
      {
       "output_type": "stream",
       "stream": "stdout",
       "text": [
        " 225\n",
        "File number = "
       ]
      },
      {
       "output_type": "stream",
       "stream": "stdout",
       "text": [
        " 226\n",
        "File number = "
       ]
      },
      {
       "output_type": "stream",
       "stream": "stdout",
       "text": [
        " 227\n",
        "File number = "
       ]
      },
      {
       "output_type": "stream",
       "stream": "stdout",
       "text": [
        " 228\n",
        "File number = "
       ]
      },
      {
       "output_type": "stream",
       "stream": "stdout",
       "text": [
        " 229\n",
        "File number = "
       ]
      },
      {
       "output_type": "stream",
       "stream": "stdout",
       "text": [
        " 230\n",
        "File number = "
       ]
      },
      {
       "output_type": "stream",
       "stream": "stdout",
       "text": [
        " 231\n",
        "File number = "
       ]
      },
      {
       "output_type": "stream",
       "stream": "stdout",
       "text": [
        " 232\n",
        "File number = "
       ]
      },
      {
       "output_type": "stream",
       "stream": "stdout",
       "text": [
        " 233\n",
        "File number = "
       ]
      },
      {
       "output_type": "stream",
       "stream": "stdout",
       "text": [
        " 234\n",
        "File number = "
       ]
      },
      {
       "output_type": "stream",
       "stream": "stdout",
       "text": [
        " 235\n",
        "File number = "
       ]
      },
      {
       "output_type": "stream",
       "stream": "stdout",
       "text": [
        " 236\n",
        "File number = "
       ]
      },
      {
       "output_type": "stream",
       "stream": "stdout",
       "text": [
        " 237\n",
        "File number = "
       ]
      },
      {
       "output_type": "stream",
       "stream": "stdout",
       "text": [
        " 238\n",
        "File number = "
       ]
      },
      {
       "output_type": "stream",
       "stream": "stdout",
       "text": [
        " 239\n",
        "File number = "
       ]
      },
      {
       "output_type": "stream",
       "stream": "stdout",
       "text": [
        " 240\n",
        "File number = "
       ]
      },
      {
       "output_type": "stream",
       "stream": "stdout",
       "text": [
        " 241\n",
        "File number = "
       ]
      },
      {
       "output_type": "stream",
       "stream": "stdout",
       "text": [
        " 242\n",
        "File number = "
       ]
      },
      {
       "output_type": "stream",
       "stream": "stdout",
       "text": [
        " 243\n",
        "File number = "
       ]
      },
      {
       "output_type": "stream",
       "stream": "stdout",
       "text": [
        " 244\n",
        "File number = "
       ]
      },
      {
       "output_type": "stream",
       "stream": "stdout",
       "text": [
        " 245\n",
        "File number = "
       ]
      },
      {
       "output_type": "stream",
       "stream": "stdout",
       "text": [
        " 246\n",
        "File number = "
       ]
      },
      {
       "output_type": "stream",
       "stream": "stdout",
       "text": [
        " 247\n",
        "File number = "
       ]
      },
      {
       "output_type": "stream",
       "stream": "stdout",
       "text": [
        " 248\n",
        "File number = "
       ]
      },
      {
       "output_type": "stream",
       "stream": "stdout",
       "text": [
        " 249\n",
        "File number = "
       ]
      },
      {
       "output_type": "stream",
       "stream": "stdout",
       "text": [
        " 250\n",
        "File number = "
       ]
      },
      {
       "output_type": "stream",
       "stream": "stdout",
       "text": [
        " 251\n",
        "File number = "
       ]
      },
      {
       "output_type": "stream",
       "stream": "stdout",
       "text": [
        " 252\n",
        "File number = "
       ]
      },
      {
       "output_type": "stream",
       "stream": "stdout",
       "text": [
        " 253\n",
        "File number = "
       ]
      },
      {
       "output_type": "stream",
       "stream": "stdout",
       "text": [
        " 254\n",
        "File number = "
       ]
      },
      {
       "output_type": "stream",
       "stream": "stdout",
       "text": [
        " 255\n",
        "File number = "
       ]
      },
      {
       "output_type": "stream",
       "stream": "stdout",
       "text": [
        " 256\n",
        "File number = "
       ]
      },
      {
       "output_type": "stream",
       "stream": "stdout",
       "text": [
        " 257\n",
        "File number = "
       ]
      },
      {
       "output_type": "stream",
       "stream": "stdout",
       "text": [
        " 258\n",
        "File number = "
       ]
      },
      {
       "output_type": "stream",
       "stream": "stdout",
       "text": [
        " 259\n",
        "File number = "
       ]
      },
      {
       "output_type": "stream",
       "stream": "stdout",
       "text": [
        " 260\n",
        "File number = "
       ]
      },
      {
       "output_type": "stream",
       "stream": "stdout",
       "text": [
        " 261\n",
        "File number = "
       ]
      },
      {
       "output_type": "stream",
       "stream": "stdout",
       "text": [
        " 262\n",
        "File number = "
       ]
      },
      {
       "output_type": "stream",
       "stream": "stdout",
       "text": [
        " 263\n",
        "File number = "
       ]
      },
      {
       "output_type": "stream",
       "stream": "stdout",
       "text": [
        " 264\n",
        "File number = "
       ]
      },
      {
       "output_type": "stream",
       "stream": "stdout",
       "text": [
        " 265\n",
        "File number = "
       ]
      },
      {
       "output_type": "stream",
       "stream": "stdout",
       "text": [
        " 266\n",
        "File number = "
       ]
      },
      {
       "output_type": "stream",
       "stream": "stdout",
       "text": [
        " 267\n",
        "File number = "
       ]
      },
      {
       "output_type": "stream",
       "stream": "stdout",
       "text": [
        " 268\n",
        "File number = "
       ]
      },
      {
       "output_type": "stream",
       "stream": "stdout",
       "text": [
        " 269\n",
        "File number = "
       ]
      },
      {
       "output_type": "stream",
       "stream": "stdout",
       "text": [
        " 270\n",
        "File number = "
       ]
      },
      {
       "output_type": "stream",
       "stream": "stdout",
       "text": [
        " 271\n",
        "File number = "
       ]
      },
      {
       "output_type": "stream",
       "stream": "stdout",
       "text": [
        " 272\n",
        "File number = "
       ]
      },
      {
       "output_type": "stream",
       "stream": "stdout",
       "text": [
        " 273\n",
        "File number = "
       ]
      },
      {
       "output_type": "stream",
       "stream": "stdout",
       "text": [
        " 274\n",
        "File number = "
       ]
      },
      {
       "output_type": "stream",
       "stream": "stdout",
       "text": [
        " 275\n",
        "File number = "
       ]
      },
      {
       "output_type": "stream",
       "stream": "stdout",
       "text": [
        " 276\n",
        "File number = "
       ]
      },
      {
       "output_type": "stream",
       "stream": "stdout",
       "text": [
        " 277\n",
        "File number = "
       ]
      },
      {
       "output_type": "stream",
       "stream": "stdout",
       "text": [
        " 278\n",
        "File number = "
       ]
      },
      {
       "output_type": "stream",
       "stream": "stdout",
       "text": [
        " 279\n",
        "File number = "
       ]
      },
      {
       "output_type": "stream",
       "stream": "stdout",
       "text": [
        " 280\n",
        "File number = "
       ]
      },
      {
       "output_type": "stream",
       "stream": "stdout",
       "text": [
        " 281\n",
        "File number = "
       ]
      },
      {
       "output_type": "stream",
       "stream": "stdout",
       "text": [
        " 282\n",
        "File number = "
       ]
      },
      {
       "output_type": "stream",
       "stream": "stdout",
       "text": [
        " 283\n",
        "File number = "
       ]
      },
      {
       "output_type": "stream",
       "stream": "stdout",
       "text": [
        " 284\n",
        "File number = "
       ]
      },
      {
       "output_type": "stream",
       "stream": "stdout",
       "text": [
        " 285\n",
        "File number = "
       ]
      },
      {
       "output_type": "stream",
       "stream": "stdout",
       "text": [
        " 286\n",
        "File number = "
       ]
      },
      {
       "output_type": "stream",
       "stream": "stdout",
       "text": [
        " 287\n",
        "File number = "
       ]
      },
      {
       "output_type": "stream",
       "stream": "stdout",
       "text": [
        " 288\n",
        "File number = "
       ]
      },
      {
       "output_type": "stream",
       "stream": "stdout",
       "text": [
        " 289\n",
        "File number = "
       ]
      },
      {
       "output_type": "stream",
       "stream": "stdout",
       "text": [
        " 290\n",
        "File number = "
       ]
      },
      {
       "output_type": "stream",
       "stream": "stdout",
       "text": [
        " 291\n",
        "File number = "
       ]
      },
      {
       "output_type": "stream",
       "stream": "stdout",
       "text": [
        " 292\n",
        "File number = "
       ]
      },
      {
       "output_type": "stream",
       "stream": "stdout",
       "text": [
        " 293\n",
        "File number = "
       ]
      },
      {
       "output_type": "stream",
       "stream": "stdout",
       "text": [
        " 294\n",
        "File number = "
       ]
      },
      {
       "output_type": "stream",
       "stream": "stdout",
       "text": [
        " 295\n",
        "File number = "
       ]
      },
      {
       "output_type": "stream",
       "stream": "stdout",
       "text": [
        " 296\n",
        "File number = "
       ]
      },
      {
       "output_type": "stream",
       "stream": "stdout",
       "text": [
        " 297\n",
        "File number = "
       ]
      },
      {
       "output_type": "stream",
       "stream": "stdout",
       "text": [
        " 298\n",
        "File number = "
       ]
      },
      {
       "output_type": "stream",
       "stream": "stdout",
       "text": [
        " 299\n",
        "File number = "
       ]
      },
      {
       "output_type": "stream",
       "stream": "stdout",
       "text": [
        " 300\n",
        "File number = "
       ]
      },
      {
       "output_type": "stream",
       "stream": "stdout",
       "text": [
        " 301\n",
        "File number = "
       ]
      },
      {
       "output_type": "stream",
       "stream": "stdout",
       "text": [
        " 302\n",
        "File number = "
       ]
      },
      {
       "output_type": "stream",
       "stream": "stdout",
       "text": [
        " 303\n",
        "File number = "
       ]
      },
      {
       "output_type": "stream",
       "stream": "stdout",
       "text": [
        " 304\n",
        "File number = "
       ]
      },
      {
       "output_type": "stream",
       "stream": "stdout",
       "text": [
        " 305\n",
        "File number = "
       ]
      },
      {
       "output_type": "stream",
       "stream": "stdout",
       "text": [
        " 306\n",
        "File number = "
       ]
      },
      {
       "output_type": "stream",
       "stream": "stdout",
       "text": [
        " 307\n",
        "File number = "
       ]
      },
      {
       "output_type": "stream",
       "stream": "stdout",
       "text": [
        " 308\n",
        "File number = "
       ]
      },
      {
       "output_type": "stream",
       "stream": "stdout",
       "text": [
        " 309\n",
        "File number = "
       ]
      },
      {
       "output_type": "stream",
       "stream": "stdout",
       "text": [
        " 310\n",
        "File number = "
       ]
      },
      {
       "output_type": "stream",
       "stream": "stdout",
       "text": [
        " 311\n",
        "File number = "
       ]
      },
      {
       "output_type": "stream",
       "stream": "stdout",
       "text": [
        " 312\n",
        "File number = "
       ]
      },
      {
       "output_type": "stream",
       "stream": "stdout",
       "text": [
        " 313\n",
        "File number = "
       ]
      },
      {
       "output_type": "stream",
       "stream": "stdout",
       "text": [
        " 314\n",
        "File number = "
       ]
      },
      {
       "output_type": "stream",
       "stream": "stdout",
       "text": [
        " 315\n",
        "File number = "
       ]
      },
      {
       "output_type": "stream",
       "stream": "stdout",
       "text": [
        " 316\n",
        "File number = "
       ]
      },
      {
       "output_type": "stream",
       "stream": "stdout",
       "text": [
        " 317\n",
        "File number = "
       ]
      },
      {
       "output_type": "stream",
       "stream": "stdout",
       "text": [
        " 318\n",
        "File number = "
       ]
      },
      {
       "output_type": "stream",
       "stream": "stdout",
       "text": [
        " 319\n",
        "File number = "
       ]
      },
      {
       "output_type": "stream",
       "stream": "stdout",
       "text": [
        " 320\n",
        "File number = "
       ]
      },
      {
       "output_type": "stream",
       "stream": "stdout",
       "text": [
        " 321\n",
        "File number = "
       ]
      },
      {
       "output_type": "stream",
       "stream": "stdout",
       "text": [
        " 322\n",
        "File number = "
       ]
      },
      {
       "output_type": "stream",
       "stream": "stdout",
       "text": [
        " 323\n",
        "File number = "
       ]
      },
      {
       "output_type": "stream",
       "stream": "stdout",
       "text": [
        " 324\n",
        "File number = "
       ]
      },
      {
       "output_type": "stream",
       "stream": "stdout",
       "text": [
        " 325\n",
        "File number = "
       ]
      },
      {
       "output_type": "stream",
       "stream": "stdout",
       "text": [
        " 326\n",
        "File number = "
       ]
      },
      {
       "output_type": "stream",
       "stream": "stdout",
       "text": [
        " 327\n",
        "File number = "
       ]
      },
      {
       "output_type": "stream",
       "stream": "stdout",
       "text": [
        " 328\n",
        "File number = "
       ]
      },
      {
       "output_type": "stream",
       "stream": "stdout",
       "text": [
        " 329\n",
        "File number = "
       ]
      },
      {
       "output_type": "stream",
       "stream": "stdout",
       "text": [
        " 330\n",
        "File number = "
       ]
      },
      {
       "output_type": "stream",
       "stream": "stdout",
       "text": [
        " 331\n",
        "File number = "
       ]
      },
      {
       "output_type": "stream",
       "stream": "stdout",
       "text": [
        " 332\n",
        "File number = "
       ]
      },
      {
       "output_type": "stream",
       "stream": "stdout",
       "text": [
        " 333\n",
        "File number = "
       ]
      },
      {
       "output_type": "stream",
       "stream": "stdout",
       "text": [
        " 334\n",
        "File number = "
       ]
      },
      {
       "output_type": "stream",
       "stream": "stdout",
       "text": [
        " 335\n",
        "File number = "
       ]
      },
      {
       "output_type": "stream",
       "stream": "stdout",
       "text": [
        " 336\n",
        "File number = "
       ]
      },
      {
       "output_type": "stream",
       "stream": "stdout",
       "text": [
        " 337\n",
        "File number = "
       ]
      },
      {
       "output_type": "stream",
       "stream": "stdout",
       "text": [
        " 338\n",
        "File number = "
       ]
      },
      {
       "output_type": "stream",
       "stream": "stdout",
       "text": [
        " 339\n",
        "File number = "
       ]
      },
      {
       "output_type": "stream",
       "stream": "stdout",
       "text": [
        " 340\n",
        "File number = "
       ]
      },
      {
       "output_type": "stream",
       "stream": "stdout",
       "text": [
        " 341\n",
        "File number = "
       ]
      },
      {
       "output_type": "stream",
       "stream": "stdout",
       "text": [
        " 342\n",
        "File number = "
       ]
      },
      {
       "output_type": "stream",
       "stream": "stdout",
       "text": [
        " 343\n",
        "File number = "
       ]
      },
      {
       "output_type": "stream",
       "stream": "stdout",
       "text": [
        " 344\n",
        "File number = "
       ]
      },
      {
       "output_type": "stream",
       "stream": "stdout",
       "text": [
        " 345\n",
        "File number = "
       ]
      },
      {
       "output_type": "stream",
       "stream": "stdout",
       "text": [
        " 346\n",
        "File number = "
       ]
      },
      {
       "output_type": "stream",
       "stream": "stdout",
       "text": [
        " 347\n",
        "File number = "
       ]
      },
      {
       "output_type": "stream",
       "stream": "stdout",
       "text": [
        " 348\n",
        "File number = "
       ]
      },
      {
       "output_type": "stream",
       "stream": "stdout",
       "text": [
        " 349\n",
        "File number = "
       ]
      },
      {
       "output_type": "stream",
       "stream": "stdout",
       "text": [
        " 350\n",
        "File number = "
       ]
      },
      {
       "output_type": "stream",
       "stream": "stdout",
       "text": [
        " 351\n",
        "File number = "
       ]
      },
      {
       "output_type": "stream",
       "stream": "stdout",
       "text": [
        " 352\n",
        "File number = "
       ]
      },
      {
       "output_type": "stream",
       "stream": "stdout",
       "text": [
        " 353\n",
        "File number = "
       ]
      },
      {
       "output_type": "stream",
       "stream": "stdout",
       "text": [
        " 354\n",
        "File number = "
       ]
      },
      {
       "output_type": "stream",
       "stream": "stdout",
       "text": [
        " 355\n",
        "File number = "
       ]
      },
      {
       "output_type": "stream",
       "stream": "stdout",
       "text": [
        " 356\n",
        "File number = "
       ]
      },
      {
       "output_type": "stream",
       "stream": "stdout",
       "text": [
        " 357\n",
        "File number = "
       ]
      },
      {
       "output_type": "stream",
       "stream": "stdout",
       "text": [
        " 358\n",
        "File number = "
       ]
      },
      {
       "output_type": "stream",
       "stream": "stdout",
       "text": [
        " 359\n",
        "File number = "
       ]
      },
      {
       "output_type": "stream",
       "stream": "stdout",
       "text": [
        " 360\n",
        "File number = "
       ]
      },
      {
       "output_type": "stream",
       "stream": "stdout",
       "text": [
        " 361\n",
        "File number = "
       ]
      },
      {
       "output_type": "stream",
       "stream": "stdout",
       "text": [
        " 362\n",
        "File number = "
       ]
      },
      {
       "output_type": "stream",
       "stream": "stdout",
       "text": [
        " 363\n",
        "File number = "
       ]
      },
      {
       "output_type": "stream",
       "stream": "stdout",
       "text": [
        " 364\n",
        "File number = "
       ]
      },
      {
       "output_type": "stream",
       "stream": "stdout",
       "text": [
        " 365\n",
        "File number = "
       ]
      },
      {
       "output_type": "stream",
       "stream": "stdout",
       "text": [
        " 366\n",
        "File number = "
       ]
      },
      {
       "output_type": "stream",
       "stream": "stdout",
       "text": [
        " 367\n",
        "File number = "
       ]
      },
      {
       "output_type": "stream",
       "stream": "stdout",
       "text": [
        " 368\n",
        "File number = "
       ]
      },
      {
       "output_type": "stream",
       "stream": "stdout",
       "text": [
        " 369\n",
        "File number = "
       ]
      },
      {
       "output_type": "stream",
       "stream": "stdout",
       "text": [
        " 370\n",
        "File number = "
       ]
      },
      {
       "output_type": "stream",
       "stream": "stdout",
       "text": [
        " 371\n",
        "File number = "
       ]
      },
      {
       "output_type": "stream",
       "stream": "stdout",
       "text": [
        " 372\n",
        "File number = "
       ]
      },
      {
       "output_type": "stream",
       "stream": "stdout",
       "text": [
        " 373\n",
        "File number = "
       ]
      },
      {
       "output_type": "stream",
       "stream": "stdout",
       "text": [
        " 374\n",
        "File number = "
       ]
      },
      {
       "output_type": "stream",
       "stream": "stdout",
       "text": [
        " 375\n",
        "File number = "
       ]
      },
      {
       "output_type": "stream",
       "stream": "stdout",
       "text": [
        " 376\n",
        "File number = "
       ]
      },
      {
       "output_type": "stream",
       "stream": "stdout",
       "text": [
        " 377\n",
        "File number = "
       ]
      },
      {
       "output_type": "stream",
       "stream": "stdout",
       "text": [
        " 378\n",
        "File number = "
       ]
      },
      {
       "output_type": "stream",
       "stream": "stdout",
       "text": [
        " 379\n",
        "File number = "
       ]
      },
      {
       "output_type": "stream",
       "stream": "stdout",
       "text": [
        " 380\n",
        "File number = "
       ]
      },
      {
       "output_type": "stream",
       "stream": "stdout",
       "text": [
        " 381\n",
        "File number = "
       ]
      },
      {
       "output_type": "stream",
       "stream": "stdout",
       "text": [
        " 382\n",
        "File number = "
       ]
      },
      {
       "output_type": "stream",
       "stream": "stdout",
       "text": [
        " 383\n",
        "File number = "
       ]
      },
      {
       "output_type": "stream",
       "stream": "stdout",
       "text": [
        " 384\n",
        "File number = "
       ]
      },
      {
       "output_type": "stream",
       "stream": "stdout",
       "text": [
        " 385\n",
        "File number = "
       ]
      },
      {
       "output_type": "stream",
       "stream": "stdout",
       "text": [
        " 386\n",
        "File number = "
       ]
      },
      {
       "output_type": "stream",
       "stream": "stdout",
       "text": [
        " 387\n",
        "File number = "
       ]
      },
      {
       "output_type": "stream",
       "stream": "stdout",
       "text": [
        " 388\n",
        "File number = "
       ]
      },
      {
       "output_type": "stream",
       "stream": "stdout",
       "text": [
        " 389\n",
        "File number = "
       ]
      },
      {
       "output_type": "stream",
       "stream": "stdout",
       "text": [
        " 390\n",
        "File number = "
       ]
      },
      {
       "output_type": "stream",
       "stream": "stdout",
       "text": [
        " 391\n",
        "File number = "
       ]
      },
      {
       "output_type": "stream",
       "stream": "stdout",
       "text": [
        " 392\n",
        "File number = "
       ]
      },
      {
       "output_type": "stream",
       "stream": "stdout",
       "text": [
        " 393\n",
        "File number = "
       ]
      },
      {
       "output_type": "stream",
       "stream": "stdout",
       "text": [
        " 394\n",
        "File number = "
       ]
      },
      {
       "output_type": "stream",
       "stream": "stdout",
       "text": [
        " 395\n",
        "File number = "
       ]
      },
      {
       "output_type": "stream",
       "stream": "stdout",
       "text": [
        " 396\n",
        "File number = "
       ]
      },
      {
       "output_type": "stream",
       "stream": "stdout",
       "text": [
        " 397\n",
        "File number = "
       ]
      },
      {
       "output_type": "stream",
       "stream": "stdout",
       "text": [
        " 398\n",
        "File number = "
       ]
      },
      {
       "output_type": "stream",
       "stream": "stdout",
       "text": [
        " 399\n",
        "File number = "
       ]
      },
      {
       "output_type": "stream",
       "stream": "stdout",
       "text": [
        " 400\n",
        "File number = "
       ]
      },
      {
       "output_type": "stream",
       "stream": "stdout",
       "text": [
        " 401\n",
        "File number = "
       ]
      },
      {
       "output_type": "stream",
       "stream": "stdout",
       "text": [
        " 402\n",
        "File number = "
       ]
      },
      {
       "output_type": "stream",
       "stream": "stdout",
       "text": [
        " 403\n",
        "File number = "
       ]
      },
      {
       "output_type": "stream",
       "stream": "stdout",
       "text": [
        " 404\n",
        "File number = "
       ]
      },
      {
       "output_type": "stream",
       "stream": "stdout",
       "text": [
        " 405\n",
        "File number = "
       ]
      },
      {
       "output_type": "stream",
       "stream": "stdout",
       "text": [
        " 406\n",
        "File number = "
       ]
      },
      {
       "output_type": "stream",
       "stream": "stdout",
       "text": [
        " 407\n",
        "File number = "
       ]
      },
      {
       "output_type": "stream",
       "stream": "stdout",
       "text": [
        " 408\n",
        "File number = "
       ]
      },
      {
       "output_type": "stream",
       "stream": "stdout",
       "text": [
        " 409\n",
        "File number = "
       ]
      },
      {
       "output_type": "stream",
       "stream": "stdout",
       "text": [
        " 410\n",
        "File number = "
       ]
      },
      {
       "output_type": "stream",
       "stream": "stdout",
       "text": [
        " 411\n",
        "File number = "
       ]
      },
      {
       "output_type": "stream",
       "stream": "stdout",
       "text": [
        " 412\n",
        "File number = "
       ]
      },
      {
       "output_type": "stream",
       "stream": "stdout",
       "text": [
        " 413\n",
        "File number = "
       ]
      },
      {
       "output_type": "stream",
       "stream": "stdout",
       "text": [
        " 414\n",
        "File number = "
       ]
      },
      {
       "output_type": "stream",
       "stream": "stdout",
       "text": [
        " 415\n",
        "File number = "
       ]
      },
      {
       "output_type": "stream",
       "stream": "stdout",
       "text": [
        " 416\n",
        "File number = "
       ]
      },
      {
       "output_type": "stream",
       "stream": "stdout",
       "text": [
        " 417\n",
        "File number = "
       ]
      },
      {
       "output_type": "stream",
       "stream": "stdout",
       "text": [
        " 418\n",
        "File number = "
       ]
      },
      {
       "output_type": "stream",
       "stream": "stdout",
       "text": [
        " 419\n",
        "File number = "
       ]
      },
      {
       "output_type": "stream",
       "stream": "stdout",
       "text": [
        " 420\n",
        "File number = "
       ]
      },
      {
       "output_type": "stream",
       "stream": "stdout",
       "text": [
        " 421\n",
        "File number = "
       ]
      },
      {
       "output_type": "stream",
       "stream": "stdout",
       "text": [
        " 422\n",
        "File number = "
       ]
      },
      {
       "output_type": "stream",
       "stream": "stdout",
       "text": [
        " 423\n",
        "File number = "
       ]
      },
      {
       "output_type": "stream",
       "stream": "stdout",
       "text": [
        " 424\n",
        "File number = "
       ]
      },
      {
       "output_type": "stream",
       "stream": "stdout",
       "text": [
        " 425\n",
        "File number = "
       ]
      },
      {
       "output_type": "stream",
       "stream": "stdout",
       "text": [
        " 426\n",
        "File number = "
       ]
      },
      {
       "output_type": "stream",
       "stream": "stdout",
       "text": [
        " 427\n",
        "File number = "
       ]
      },
      {
       "output_type": "stream",
       "stream": "stdout",
       "text": [
        " 428\n",
        "File number = "
       ]
      },
      {
       "output_type": "stream",
       "stream": "stdout",
       "text": [
        " 429\n",
        "File number = "
       ]
      },
      {
       "output_type": "stream",
       "stream": "stdout",
       "text": [
        " 430\n",
        "File number = "
       ]
      },
      {
       "output_type": "stream",
       "stream": "stdout",
       "text": [
        " 431\n",
        "File number = "
       ]
      },
      {
       "output_type": "stream",
       "stream": "stdout",
       "text": [
        " 432\n",
        "File number = "
       ]
      },
      {
       "output_type": "stream",
       "stream": "stdout",
       "text": [
        " 433\n",
        "File number = "
       ]
      },
      {
       "output_type": "stream",
       "stream": "stdout",
       "text": [
        " 434\n",
        "File number = "
       ]
      },
      {
       "output_type": "stream",
       "stream": "stdout",
       "text": [
        " 435\n",
        "File number = "
       ]
      },
      {
       "output_type": "stream",
       "stream": "stdout",
       "text": [
        " 436\n",
        "File number = "
       ]
      },
      {
       "output_type": "stream",
       "stream": "stdout",
       "text": [
        " 437\n",
        "File number = "
       ]
      },
      {
       "output_type": "stream",
       "stream": "stdout",
       "text": [
        " 438\n",
        "File number = "
       ]
      },
      {
       "output_type": "stream",
       "stream": "stdout",
       "text": [
        " 439\n",
        "File number = "
       ]
      },
      {
       "output_type": "stream",
       "stream": "stdout",
       "text": [
        " 440\n",
        "File number = "
       ]
      },
      {
       "output_type": "stream",
       "stream": "stdout",
       "text": [
        " 441\n",
        "File number = "
       ]
      },
      {
       "output_type": "stream",
       "stream": "stdout",
       "text": [
        " 442\n",
        "File number = "
       ]
      },
      {
       "output_type": "stream",
       "stream": "stdout",
       "text": [
        " 443\n",
        "File number = "
       ]
      },
      {
       "output_type": "stream",
       "stream": "stdout",
       "text": [
        " 444\n",
        "File number = "
       ]
      },
      {
       "output_type": "stream",
       "stream": "stdout",
       "text": [
        " 445\n",
        "File number = "
       ]
      },
      {
       "output_type": "stream",
       "stream": "stdout",
       "text": [
        " 446\n",
        "File number = "
       ]
      },
      {
       "output_type": "stream",
       "stream": "stdout",
       "text": [
        " 447\n",
        "File number = "
       ]
      },
      {
       "output_type": "stream",
       "stream": "stdout",
       "text": [
        " 448\n",
        "File number = "
       ]
      },
      {
       "output_type": "stream",
       "stream": "stdout",
       "text": [
        " 449\n",
        "File number = "
       ]
      },
      {
       "output_type": "stream",
       "stream": "stdout",
       "text": [
        " 450\n",
        "File number = "
       ]
      },
      {
       "output_type": "stream",
       "stream": "stdout",
       "text": [
        " 451\n",
        "File number = "
       ]
      },
      {
       "output_type": "stream",
       "stream": "stdout",
       "text": [
        " 452\n",
        "File number = "
       ]
      },
      {
       "output_type": "stream",
       "stream": "stdout",
       "text": [
        " 453\n",
        "File number = "
       ]
      },
      {
       "output_type": "stream",
       "stream": "stdout",
       "text": [
        " 454\n",
        "File number = "
       ]
      },
      {
       "output_type": "stream",
       "stream": "stdout",
       "text": [
        " 455\n",
        "File number = "
       ]
      },
      {
       "output_type": "stream",
       "stream": "stdout",
       "text": [
        " 456\n",
        "File number = "
       ]
      },
      {
       "output_type": "stream",
       "stream": "stdout",
       "text": [
        " 457\n",
        "File number = "
       ]
      },
      {
       "output_type": "stream",
       "stream": "stdout",
       "text": [
        " 458\n",
        "File number = "
       ]
      },
      {
       "output_type": "stream",
       "stream": "stdout",
       "text": [
        " 459\n",
        "File number = "
       ]
      },
      {
       "output_type": "stream",
       "stream": "stdout",
       "text": [
        " 460\n",
        "File number = "
       ]
      },
      {
       "output_type": "stream",
       "stream": "stdout",
       "text": [
        " 461\n",
        "File number = "
       ]
      },
      {
       "output_type": "stream",
       "stream": "stdout",
       "text": [
        " 462\n",
        "File number = "
       ]
      },
      {
       "output_type": "stream",
       "stream": "stdout",
       "text": [
        " 463\n",
        "File number = "
       ]
      },
      {
       "output_type": "stream",
       "stream": "stdout",
       "text": [
        " 464\n",
        "File number = "
       ]
      },
      {
       "output_type": "stream",
       "stream": "stdout",
       "text": [
        " 465\n",
        "File number = "
       ]
      },
      {
       "output_type": "stream",
       "stream": "stdout",
       "text": [
        " 466\n",
        "File number = "
       ]
      },
      {
       "output_type": "stream",
       "stream": "stdout",
       "text": [
        " 467\n",
        "File number = "
       ]
      },
      {
       "output_type": "stream",
       "stream": "stdout",
       "text": [
        " 468\n",
        "File number = "
       ]
      },
      {
       "output_type": "stream",
       "stream": "stdout",
       "text": [
        " 469\n",
        "File number = "
       ]
      },
      {
       "output_type": "stream",
       "stream": "stdout",
       "text": [
        " 470\n",
        "File number = "
       ]
      },
      {
       "output_type": "stream",
       "stream": "stdout",
       "text": [
        " 471\n",
        "File number = "
       ]
      },
      {
       "output_type": "stream",
       "stream": "stdout",
       "text": [
        " 472\n",
        "File number = "
       ]
      },
      {
       "output_type": "stream",
       "stream": "stdout",
       "text": [
        " 473\n",
        "File number = "
       ]
      },
      {
       "output_type": "stream",
       "stream": "stdout",
       "text": [
        " 474\n",
        "File number = "
       ]
      },
      {
       "output_type": "stream",
       "stream": "stdout",
       "text": [
        " 475\n",
        "File number = "
       ]
      },
      {
       "output_type": "stream",
       "stream": "stdout",
       "text": [
        " 476\n",
        "File number = "
       ]
      },
      {
       "output_type": "stream",
       "stream": "stdout",
       "text": [
        " 477\n",
        "File number = "
       ]
      },
      {
       "output_type": "stream",
       "stream": "stdout",
       "text": [
        " 478\n",
        "File number = "
       ]
      },
      {
       "output_type": "stream",
       "stream": "stdout",
       "text": [
        " 479\n",
        "File number = "
       ]
      },
      {
       "output_type": "stream",
       "stream": "stdout",
       "text": [
        " 480\n",
        "File number = "
       ]
      },
      {
       "output_type": "stream",
       "stream": "stdout",
       "text": [
        " 481\n",
        "File number = "
       ]
      },
      {
       "output_type": "stream",
       "stream": "stdout",
       "text": [
        " 482\n",
        "File number = "
       ]
      },
      {
       "output_type": "stream",
       "stream": "stdout",
       "text": [
        " 483\n",
        "File number = "
       ]
      },
      {
       "output_type": "stream",
       "stream": "stdout",
       "text": [
        " 484\n",
        "File number = "
       ]
      },
      {
       "output_type": "stream",
       "stream": "stdout",
       "text": [
        " 485\n",
        "File number = "
       ]
      },
      {
       "output_type": "stream",
       "stream": "stdout",
       "text": [
        " 486\n",
        "File number = "
       ]
      },
      {
       "output_type": "stream",
       "stream": "stdout",
       "text": [
        " 487\n",
        "File number = "
       ]
      },
      {
       "output_type": "stream",
       "stream": "stdout",
       "text": [
        " 488\n",
        "File number = "
       ]
      },
      {
       "output_type": "stream",
       "stream": "stdout",
       "text": [
        " 489\n",
        "File number = "
       ]
      },
      {
       "output_type": "stream",
       "stream": "stdout",
       "text": [
        " 490\n",
        "File number = "
       ]
      },
      {
       "output_type": "stream",
       "stream": "stdout",
       "text": [
        " 491\n",
        "File number = "
       ]
      },
      {
       "output_type": "stream",
       "stream": "stdout",
       "text": [
        " 492\n",
        "File number = "
       ]
      },
      {
       "output_type": "stream",
       "stream": "stdout",
       "text": [
        " 493\n",
        "File number = "
       ]
      },
      {
       "output_type": "stream",
       "stream": "stdout",
       "text": [
        " 494\n",
        "File number = "
       ]
      },
      {
       "output_type": "stream",
       "stream": "stdout",
       "text": [
        " 495\n",
        "File number = "
       ]
      },
      {
       "output_type": "stream",
       "stream": "stdout",
       "text": [
        " 496\n",
        "File number = "
       ]
      },
      {
       "output_type": "stream",
       "stream": "stdout",
       "text": [
        " 497\n",
        "File number = "
       ]
      },
      {
       "output_type": "stream",
       "stream": "stdout",
       "text": [
        " 498\n",
        "File number = "
       ]
      },
      {
       "output_type": "stream",
       "stream": "stdout",
       "text": [
        " 499\n",
        "File number = "
       ]
      },
      {
       "output_type": "stream",
       "stream": "stdout",
       "text": [
        " 500\n",
        "File number = "
       ]
      },
      {
       "output_type": "stream",
       "stream": "stdout",
       "text": [
        " 501\n",
        "File number = "
       ]
      },
      {
       "output_type": "stream",
       "stream": "stdout",
       "text": [
        " 502\n",
        "File number = "
       ]
      },
      {
       "output_type": "stream",
       "stream": "stdout",
       "text": [
        " 503\n",
        "File number = "
       ]
      },
      {
       "output_type": "stream",
       "stream": "stdout",
       "text": [
        " 504\n",
        "File number = "
       ]
      },
      {
       "output_type": "stream",
       "stream": "stdout",
       "text": [
        " 505\n",
        "File number = "
       ]
      },
      {
       "output_type": "stream",
       "stream": "stdout",
       "text": [
        " 506\n",
        "File number = "
       ]
      },
      {
       "output_type": "stream",
       "stream": "stdout",
       "text": [
        " 507\n",
        "File number = "
       ]
      },
      {
       "output_type": "stream",
       "stream": "stdout",
       "text": [
        " 508\n",
        "File number = "
       ]
      },
      {
       "output_type": "stream",
       "stream": "stdout",
       "text": [
        " 509\n",
        "File number = "
       ]
      },
      {
       "output_type": "stream",
       "stream": "stdout",
       "text": [
        " 510\n",
        "File number = "
       ]
      },
      {
       "output_type": "stream",
       "stream": "stdout",
       "text": [
        " 511\n",
        "File number = "
       ]
      },
      {
       "output_type": "stream",
       "stream": "stdout",
       "text": [
        " 512\n",
        "File number = "
       ]
      },
      {
       "output_type": "stream",
       "stream": "stdout",
       "text": [
        " 513\n",
        "File number = "
       ]
      },
      {
       "output_type": "stream",
       "stream": "stdout",
       "text": [
        " 514\n",
        "File number = "
       ]
      },
      {
       "output_type": "stream",
       "stream": "stdout",
       "text": [
        " 515\n",
        "File number = "
       ]
      },
      {
       "output_type": "stream",
       "stream": "stdout",
       "text": [
        " 516\n",
        "File number = "
       ]
      },
      {
       "output_type": "stream",
       "stream": "stdout",
       "text": [
        " 517\n",
        "File number = "
       ]
      },
      {
       "output_type": "stream",
       "stream": "stdout",
       "text": [
        " 518\n",
        "File number = "
       ]
      },
      {
       "output_type": "stream",
       "stream": "stdout",
       "text": [
        " 519\n",
        "File number = "
       ]
      },
      {
       "output_type": "stream",
       "stream": "stdout",
       "text": [
        " 520\n",
        "File number = "
       ]
      },
      {
       "output_type": "stream",
       "stream": "stdout",
       "text": [
        " 521\n",
        "File number = "
       ]
      },
      {
       "output_type": "stream",
       "stream": "stdout",
       "text": [
        " 522\n",
        "File number = "
       ]
      },
      {
       "output_type": "stream",
       "stream": "stdout",
       "text": [
        " 523\n",
        "File number = "
       ]
      },
      {
       "output_type": "stream",
       "stream": "stdout",
       "text": [
        " 524\n",
        "File number = "
       ]
      },
      {
       "output_type": "stream",
       "stream": "stdout",
       "text": [
        " 525\n",
        "File number = "
       ]
      },
      {
       "output_type": "stream",
       "stream": "stdout",
       "text": [
        " 526\n",
        "File number = "
       ]
      },
      {
       "output_type": "stream",
       "stream": "stdout",
       "text": [
        " 527\n",
        "File number = "
       ]
      },
      {
       "output_type": "stream",
       "stream": "stdout",
       "text": [
        " 528\n",
        "File number = "
       ]
      },
      {
       "output_type": "stream",
       "stream": "stdout",
       "text": [
        " 529\n",
        "File number = "
       ]
      },
      {
       "output_type": "stream",
       "stream": "stdout",
       "text": [
        " 530\n",
        "File number = "
       ]
      },
      {
       "output_type": "stream",
       "stream": "stdout",
       "text": [
        " 531\n",
        "File number = "
       ]
      },
      {
       "output_type": "stream",
       "stream": "stdout",
       "text": [
        " 532\n",
        "File number = "
       ]
      },
      {
       "output_type": "stream",
       "stream": "stdout",
       "text": [
        " 533\n",
        "File number = "
       ]
      },
      {
       "output_type": "stream",
       "stream": "stdout",
       "text": [
        " 534\n",
        "File number = "
       ]
      },
      {
       "output_type": "stream",
       "stream": "stdout",
       "text": [
        " 535\n",
        "File number = "
       ]
      },
      {
       "output_type": "stream",
       "stream": "stdout",
       "text": [
        " 536\n",
        "File number = "
       ]
      },
      {
       "output_type": "stream",
       "stream": "stdout",
       "text": [
        " 537\n",
        "File number = "
       ]
      },
      {
       "output_type": "stream",
       "stream": "stdout",
       "text": [
        " 538\n",
        "File number = "
       ]
      },
      {
       "output_type": "stream",
       "stream": "stdout",
       "text": [
        " 539\n",
        "File number = "
       ]
      },
      {
       "output_type": "stream",
       "stream": "stdout",
       "text": [
        " 540\n",
        "File number = "
       ]
      },
      {
       "output_type": "stream",
       "stream": "stdout",
       "text": [
        " 541\n",
        "File number = "
       ]
      },
      {
       "output_type": "stream",
       "stream": "stdout",
       "text": [
        " 542\n",
        "File number = "
       ]
      },
      {
       "output_type": "stream",
       "stream": "stdout",
       "text": [
        " 543\n",
        "File number = "
       ]
      },
      {
       "output_type": "stream",
       "stream": "stdout",
       "text": [
        " 544\n",
        "File number = "
       ]
      },
      {
       "output_type": "stream",
       "stream": "stdout",
       "text": [
        " 545\n",
        "File number = "
       ]
      },
      {
       "output_type": "stream",
       "stream": "stdout",
       "text": [
        " 546\n",
        "File number = "
       ]
      },
      {
       "output_type": "stream",
       "stream": "stdout",
       "text": [
        " 547\n",
        "File number = "
       ]
      },
      {
       "output_type": "stream",
       "stream": "stdout",
       "text": [
        " 548\n",
        "File number = "
       ]
      },
      {
       "output_type": "stream",
       "stream": "stdout",
       "text": [
        " 549\n",
        "File number = "
       ]
      },
      {
       "output_type": "stream",
       "stream": "stdout",
       "text": [
        " 550\n",
        "File number = "
       ]
      },
      {
       "output_type": "stream",
       "stream": "stdout",
       "text": [
        " 551\n",
        "File number = "
       ]
      },
      {
       "output_type": "stream",
       "stream": "stdout",
       "text": [
        " 552\n",
        "File number = "
       ]
      },
      {
       "output_type": "stream",
       "stream": "stdout",
       "text": [
        " 553\n",
        "File number = "
       ]
      },
      {
       "output_type": "stream",
       "stream": "stdout",
       "text": [
        " 554\n",
        "File number = "
       ]
      },
      {
       "output_type": "stream",
       "stream": "stdout",
       "text": [
        " 555\n",
        "File number = "
       ]
      },
      {
       "output_type": "stream",
       "stream": "stdout",
       "text": [
        " 556\n",
        "File number = "
       ]
      },
      {
       "output_type": "stream",
       "stream": "stdout",
       "text": [
        " 557\n",
        "File number = "
       ]
      },
      {
       "output_type": "stream",
       "stream": "stdout",
       "text": [
        " 558\n",
        "File number = "
       ]
      },
      {
       "output_type": "stream",
       "stream": "stdout",
       "text": [
        " 559\n",
        "File number = "
       ]
      },
      {
       "output_type": "stream",
       "stream": "stdout",
       "text": [
        " 560\n",
        "File number = "
       ]
      },
      {
       "output_type": "stream",
       "stream": "stdout",
       "text": [
        " 561\n",
        "File number = "
       ]
      },
      {
       "output_type": "stream",
       "stream": "stdout",
       "text": [
        " 562\n",
        "File number = "
       ]
      },
      {
       "output_type": "stream",
       "stream": "stdout",
       "text": [
        " 563\n",
        "File number = "
       ]
      },
      {
       "output_type": "stream",
       "stream": "stdout",
       "text": [
        " 564\n",
        "File number = "
       ]
      },
      {
       "output_type": "stream",
       "stream": "stdout",
       "text": [
        " 565\n",
        "File number = "
       ]
      },
      {
       "output_type": "stream",
       "stream": "stdout",
       "text": [
        " 566\n",
        "File number = "
       ]
      },
      {
       "output_type": "stream",
       "stream": "stdout",
       "text": [
        " 567\n",
        "File number = "
       ]
      },
      {
       "output_type": "stream",
       "stream": "stdout",
       "text": [
        " 568\n",
        "File number = "
       ]
      },
      {
       "output_type": "stream",
       "stream": "stdout",
       "text": [
        " 569\n",
        "File number = "
       ]
      },
      {
       "output_type": "stream",
       "stream": "stdout",
       "text": [
        " 570\n",
        "File number = "
       ]
      },
      {
       "output_type": "stream",
       "stream": "stdout",
       "text": [
        " 571\n",
        "File number = "
       ]
      },
      {
       "output_type": "stream",
       "stream": "stdout",
       "text": [
        " 572\n",
        "File number = "
       ]
      },
      {
       "output_type": "stream",
       "stream": "stdout",
       "text": [
        " 573\n",
        "File number = "
       ]
      },
      {
       "output_type": "stream",
       "stream": "stdout",
       "text": [
        " 574\n",
        "File number = "
       ]
      },
      {
       "output_type": "stream",
       "stream": "stdout",
       "text": [
        " 575\n",
        "File number = "
       ]
      },
      {
       "output_type": "stream",
       "stream": "stdout",
       "text": [
        " 576\n",
        "File number = "
       ]
      },
      {
       "output_type": "stream",
       "stream": "stdout",
       "text": [
        " 577\n",
        "File number = "
       ]
      },
      {
       "output_type": "stream",
       "stream": "stdout",
       "text": [
        " 578\n",
        "File number = "
       ]
      },
      {
       "output_type": "stream",
       "stream": "stdout",
       "text": [
        " 579\n",
        "File number = "
       ]
      },
      {
       "output_type": "stream",
       "stream": "stdout",
       "text": [
        " 580\n",
        "File number = "
       ]
      },
      {
       "output_type": "stream",
       "stream": "stdout",
       "text": [
        " 581\n",
        "File number = "
       ]
      },
      {
       "output_type": "stream",
       "stream": "stdout",
       "text": [
        " 582\n",
        "File number = "
       ]
      },
      {
       "output_type": "stream",
       "stream": "stdout",
       "text": [
        " 583\n",
        "File number = "
       ]
      },
      {
       "output_type": "stream",
       "stream": "stdout",
       "text": [
        " 584\n",
        "File number = "
       ]
      },
      {
       "output_type": "stream",
       "stream": "stdout",
       "text": [
        " 585\n",
        "File number = "
       ]
      },
      {
       "output_type": "stream",
       "stream": "stdout",
       "text": [
        " 586\n",
        "File number = "
       ]
      },
      {
       "output_type": "stream",
       "stream": "stdout",
       "text": [
        " 587\n",
        "File number = "
       ]
      },
      {
       "output_type": "stream",
       "stream": "stdout",
       "text": [
        " 588\n",
        "File number = "
       ]
      },
      {
       "output_type": "stream",
       "stream": "stdout",
       "text": [
        " 589\n",
        "File number = "
       ]
      },
      {
       "output_type": "stream",
       "stream": "stdout",
       "text": [
        " 590\n",
        "File number = "
       ]
      },
      {
       "output_type": "stream",
       "stream": "stdout",
       "text": [
        " 591\n",
        "File number = "
       ]
      },
      {
       "output_type": "stream",
       "stream": "stdout",
       "text": [
        " 592\n",
        "File number = "
       ]
      },
      {
       "output_type": "stream",
       "stream": "stdout",
       "text": [
        " 593\n",
        "File number = "
       ]
      },
      {
       "output_type": "stream",
       "stream": "stdout",
       "text": [
        " 594\n",
        "File number = "
       ]
      },
      {
       "output_type": "stream",
       "stream": "stdout",
       "text": [
        " 595\n",
        "File number = "
       ]
      },
      {
       "output_type": "stream",
       "stream": "stdout",
       "text": [
        " 596\n",
        "File number = "
       ]
      },
      {
       "output_type": "stream",
       "stream": "stdout",
       "text": [
        " 597\n",
        "File number = "
       ]
      },
      {
       "output_type": "stream",
       "stream": "stdout",
       "text": [
        " 598\n",
        "File number = "
       ]
      },
      {
       "output_type": "stream",
       "stream": "stdout",
       "text": [
        " 599\n",
        "File number = "
       ]
      },
      {
       "output_type": "stream",
       "stream": "stdout",
       "text": [
        " 600\n",
        "File number = "
       ]
      },
      {
       "output_type": "stream",
       "stream": "stdout",
       "text": [
        " 601\n",
        "File number = "
       ]
      },
      {
       "output_type": "stream",
       "stream": "stdout",
       "text": [
        " 602\n",
        "File number = "
       ]
      },
      {
       "output_type": "stream",
       "stream": "stdout",
       "text": [
        " 603\n",
        "File number = "
       ]
      },
      {
       "output_type": "stream",
       "stream": "stdout",
       "text": [
        " 604\n",
        "File number = "
       ]
      },
      {
       "output_type": "stream",
       "stream": "stdout",
       "text": [
        " 605\n",
        "File number = "
       ]
      },
      {
       "output_type": "stream",
       "stream": "stdout",
       "text": [
        " 606\n",
        "File number = "
       ]
      },
      {
       "output_type": "stream",
       "stream": "stdout",
       "text": [
        " 607\n",
        "File number = "
       ]
      },
      {
       "output_type": "stream",
       "stream": "stdout",
       "text": [
        " 608\n",
        "File number = "
       ]
      },
      {
       "output_type": "stream",
       "stream": "stdout",
       "text": [
        " 609\n",
        "File number = "
       ]
      },
      {
       "output_type": "stream",
       "stream": "stdout",
       "text": [
        " 610\n",
        "File number = "
       ]
      },
      {
       "output_type": "stream",
       "stream": "stdout",
       "text": [
        " 611\n",
        "File number = "
       ]
      },
      {
       "output_type": "stream",
       "stream": "stdout",
       "text": [
        " 612\n",
        "File number = "
       ]
      },
      {
       "output_type": "stream",
       "stream": "stdout",
       "text": [
        " 613\n",
        "File number = "
       ]
      },
      {
       "output_type": "stream",
       "stream": "stdout",
       "text": [
        " 614\n",
        "File number = "
       ]
      },
      {
       "output_type": "stream",
       "stream": "stdout",
       "text": [
        " 615\n",
        "File number = "
       ]
      },
      {
       "output_type": "stream",
       "stream": "stdout",
       "text": [
        " 616\n",
        "File number = "
       ]
      },
      {
       "output_type": "stream",
       "stream": "stdout",
       "text": [
        " 617\n",
        "File number = "
       ]
      },
      {
       "output_type": "stream",
       "stream": "stdout",
       "text": [
        " 618\n",
        "File number = "
       ]
      },
      {
       "output_type": "stream",
       "stream": "stdout",
       "text": [
        " 619\n",
        "File number = "
       ]
      },
      {
       "output_type": "stream",
       "stream": "stdout",
       "text": [
        " 620\n",
        "File number = "
       ]
      },
      {
       "output_type": "stream",
       "stream": "stdout",
       "text": [
        " 621\n",
        "File number = "
       ]
      },
      {
       "output_type": "stream",
       "stream": "stdout",
       "text": [
        " 622\n",
        "File number = "
       ]
      },
      {
       "output_type": "stream",
       "stream": "stdout",
       "text": [
        " 623\n",
        "File number = "
       ]
      },
      {
       "output_type": "stream",
       "stream": "stdout",
       "text": [
        " 624\n",
        "File number = "
       ]
      },
      {
       "output_type": "stream",
       "stream": "stdout",
       "text": [
        " 625\n",
        "File number = "
       ]
      },
      {
       "output_type": "stream",
       "stream": "stdout",
       "text": [
        " 626\n",
        "File number = "
       ]
      },
      {
       "output_type": "stream",
       "stream": "stdout",
       "text": [
        " 627\n",
        "File number = "
       ]
      },
      {
       "output_type": "stream",
       "stream": "stdout",
       "text": [
        " 628\n",
        "File number = "
       ]
      },
      {
       "output_type": "stream",
       "stream": "stdout",
       "text": [
        " 629\n",
        "File number = "
       ]
      },
      {
       "output_type": "stream",
       "stream": "stdout",
       "text": [
        " 630\n",
        "File number = "
       ]
      },
      {
       "output_type": "stream",
       "stream": "stdout",
       "text": [
        " 631\n",
        "File number = "
       ]
      },
      {
       "output_type": "stream",
       "stream": "stdout",
       "text": [
        " 632\n",
        "File number = "
       ]
      },
      {
       "output_type": "stream",
       "stream": "stdout",
       "text": [
        " 633\n",
        "File number = "
       ]
      },
      {
       "output_type": "stream",
       "stream": "stdout",
       "text": [
        " 634\n",
        "File number = "
       ]
      },
      {
       "output_type": "stream",
       "stream": "stdout",
       "text": [
        " 635\n",
        "File number = "
       ]
      },
      {
       "output_type": "stream",
       "stream": "stdout",
       "text": [
        " 636\n",
        "File number = "
       ]
      },
      {
       "output_type": "stream",
       "stream": "stdout",
       "text": [
        " 637\n",
        "File number = "
       ]
      },
      {
       "output_type": "stream",
       "stream": "stdout",
       "text": [
        " 638\n",
        "File number = "
       ]
      },
      {
       "output_type": "stream",
       "stream": "stdout",
       "text": [
        " 639\n",
        "File number = "
       ]
      },
      {
       "output_type": "stream",
       "stream": "stdout",
       "text": [
        " 640\n",
        "File number = "
       ]
      },
      {
       "output_type": "stream",
       "stream": "stdout",
       "text": [
        " 641\n",
        "File number = "
       ]
      },
      {
       "output_type": "stream",
       "stream": "stdout",
       "text": [
        " 642\n",
        "File number = "
       ]
      },
      {
       "output_type": "stream",
       "stream": "stdout",
       "text": [
        " 643\n",
        "File number = "
       ]
      },
      {
       "output_type": "stream",
       "stream": "stdout",
       "text": [
        " 644\n",
        "File number = "
       ]
      },
      {
       "output_type": "stream",
       "stream": "stdout",
       "text": [
        " 645\n",
        "File number = "
       ]
      },
      {
       "output_type": "stream",
       "stream": "stdout",
       "text": [
        " 646\n",
        "File number = "
       ]
      },
      {
       "output_type": "stream",
       "stream": "stdout",
       "text": [
        " 647\n",
        "File number = "
       ]
      },
      {
       "output_type": "stream",
       "stream": "stdout",
       "text": [
        " 648\n",
        "File number = "
       ]
      },
      {
       "output_type": "stream",
       "stream": "stdout",
       "text": [
        " 649\n",
        "File number = "
       ]
      },
      {
       "output_type": "stream",
       "stream": "stdout",
       "text": [
        " 650\n",
        "File number = "
       ]
      },
      {
       "output_type": "stream",
       "stream": "stdout",
       "text": [
        " 651\n",
        "File number = "
       ]
      },
      {
       "output_type": "stream",
       "stream": "stdout",
       "text": [
        " 652\n",
        "File number = "
       ]
      },
      {
       "output_type": "stream",
       "stream": "stdout",
       "text": [
        " 653\n",
        "File number = "
       ]
      },
      {
       "output_type": "stream",
       "stream": "stdout",
       "text": [
        " 654\n",
        "File number = "
       ]
      },
      {
       "output_type": "stream",
       "stream": "stdout",
       "text": [
        " 655\n",
        "File number = "
       ]
      },
      {
       "output_type": "stream",
       "stream": "stdout",
       "text": [
        " 656\n",
        "File number = "
       ]
      },
      {
       "output_type": "stream",
       "stream": "stdout",
       "text": [
        " 657\n",
        "File number = "
       ]
      },
      {
       "output_type": "stream",
       "stream": "stdout",
       "text": [
        " 658\n",
        "File number = "
       ]
      },
      {
       "output_type": "stream",
       "stream": "stdout",
       "text": [
        " 659\n",
        "File number = "
       ]
      },
      {
       "output_type": "stream",
       "stream": "stdout",
       "text": [
        " 660\n",
        "File number = "
       ]
      },
      {
       "output_type": "stream",
       "stream": "stdout",
       "text": [
        " 661\n",
        "File number = "
       ]
      },
      {
       "output_type": "stream",
       "stream": "stdout",
       "text": [
        " 662\n",
        "File number = "
       ]
      },
      {
       "output_type": "stream",
       "stream": "stdout",
       "text": [
        " 663\n",
        "File number = "
       ]
      },
      {
       "output_type": "stream",
       "stream": "stdout",
       "text": [
        " 664\n",
        "File number = "
       ]
      },
      {
       "output_type": "stream",
       "stream": "stdout",
       "text": [
        " 665\n",
        "File number = "
       ]
      },
      {
       "output_type": "stream",
       "stream": "stdout",
       "text": [
        " 666\n",
        "File number = "
       ]
      },
      {
       "output_type": "stream",
       "stream": "stdout",
       "text": [
        " 667\n",
        "File number = "
       ]
      },
      {
       "output_type": "stream",
       "stream": "stdout",
       "text": [
        " 668\n",
        "File number = "
       ]
      },
      {
       "output_type": "stream",
       "stream": "stdout",
       "text": [
        " 669\n",
        "File number = "
       ]
      },
      {
       "output_type": "stream",
       "stream": "stdout",
       "text": [
        " 670\n",
        "File number = "
       ]
      },
      {
       "output_type": "stream",
       "stream": "stdout",
       "text": [
        " 671\n",
        "File number = "
       ]
      },
      {
       "output_type": "stream",
       "stream": "stdout",
       "text": [
        " 672\n",
        "File number = "
       ]
      },
      {
       "output_type": "stream",
       "stream": "stdout",
       "text": [
        " 673\n",
        "File number = "
       ]
      },
      {
       "output_type": "stream",
       "stream": "stdout",
       "text": [
        " 674\n",
        "File number = "
       ]
      },
      {
       "output_type": "stream",
       "stream": "stdout",
       "text": [
        " 675\n",
        "File number = "
       ]
      },
      {
       "output_type": "stream",
       "stream": "stdout",
       "text": [
        " 676\n",
        "File number = "
       ]
      },
      {
       "output_type": "stream",
       "stream": "stdout",
       "text": [
        " 677\n",
        "File number = "
       ]
      },
      {
       "output_type": "stream",
       "stream": "stdout",
       "text": [
        " 678\n",
        "File number = "
       ]
      },
      {
       "output_type": "stream",
       "stream": "stdout",
       "text": [
        " 679\n",
        "File number = "
       ]
      },
      {
       "output_type": "stream",
       "stream": "stdout",
       "text": [
        " 680\n",
        "File number = "
       ]
      },
      {
       "output_type": "stream",
       "stream": "stdout",
       "text": [
        " 681\n",
        "File number = "
       ]
      },
      {
       "output_type": "stream",
       "stream": "stdout",
       "text": [
        " 682\n",
        "File number = "
       ]
      },
      {
       "output_type": "stream",
       "stream": "stdout",
       "text": [
        " 683\n",
        "File number = "
       ]
      },
      {
       "output_type": "stream",
       "stream": "stdout",
       "text": [
        " 684\n",
        "File number = "
       ]
      },
      {
       "output_type": "stream",
       "stream": "stdout",
       "text": [
        " 685\n",
        "File number = "
       ]
      },
      {
       "output_type": "stream",
       "stream": "stdout",
       "text": [
        " 686\n",
        "File number = "
       ]
      },
      {
       "output_type": "stream",
       "stream": "stdout",
       "text": [
        " 687\n",
        "File number = "
       ]
      },
      {
       "output_type": "stream",
       "stream": "stdout",
       "text": [
        " 688\n",
        "File number = "
       ]
      },
      {
       "output_type": "stream",
       "stream": "stdout",
       "text": [
        " 689\n",
        "File number = "
       ]
      },
      {
       "output_type": "stream",
       "stream": "stdout",
       "text": [
        " 690\n",
        "File number = "
       ]
      },
      {
       "output_type": "stream",
       "stream": "stdout",
       "text": [
        " 691\n",
        "File number = "
       ]
      },
      {
       "output_type": "stream",
       "stream": "stdout",
       "text": [
        " 692\n",
        "File number = "
       ]
      },
      {
       "output_type": "stream",
       "stream": "stdout",
       "text": [
        " 693\n",
        "File number = "
       ]
      },
      {
       "output_type": "stream",
       "stream": "stdout",
       "text": [
        " 694\n",
        "File number = "
       ]
      },
      {
       "output_type": "stream",
       "stream": "stdout",
       "text": [
        " 695\n",
        "File number = "
       ]
      },
      {
       "output_type": "stream",
       "stream": "stdout",
       "text": [
        " 696\n",
        "File number = "
       ]
      },
      {
       "output_type": "stream",
       "stream": "stdout",
       "text": [
        " 697\n",
        "File number = "
       ]
      },
      {
       "output_type": "stream",
       "stream": "stdout",
       "text": [
        " 698\n",
        "File number = "
       ]
      },
      {
       "output_type": "stream",
       "stream": "stdout",
       "text": [
        " 699\n",
        "File number = "
       ]
      },
      {
       "output_type": "stream",
       "stream": "stdout",
       "text": [
        " 700\n",
        "File number = "
       ]
      },
      {
       "output_type": "stream",
       "stream": "stdout",
       "text": [
        " 701\n",
        "File number = "
       ]
      },
      {
       "output_type": "stream",
       "stream": "stdout",
       "text": [
        " 702\n",
        "File number = "
       ]
      },
      {
       "output_type": "stream",
       "stream": "stdout",
       "text": [
        " 703\n",
        "File number = "
       ]
      },
      {
       "output_type": "stream",
       "stream": "stdout",
       "text": [
        " 704\n",
        "File number = "
       ]
      },
      {
       "output_type": "stream",
       "stream": "stdout",
       "text": [
        " 705\n",
        "File number = "
       ]
      },
      {
       "output_type": "stream",
       "stream": "stdout",
       "text": [
        " 706\n",
        "File number = "
       ]
      },
      {
       "output_type": "stream",
       "stream": "stdout",
       "text": [
        " 707\n",
        "File number = "
       ]
      },
      {
       "output_type": "stream",
       "stream": "stdout",
       "text": [
        " 708\n",
        "File number = "
       ]
      },
      {
       "output_type": "stream",
       "stream": "stdout",
       "text": [
        " 709\n",
        "File number = "
       ]
      },
      {
       "output_type": "stream",
       "stream": "stdout",
       "text": [
        " 710\n",
        "File number = "
       ]
      },
      {
       "output_type": "stream",
       "stream": "stdout",
       "text": [
        " 711\n",
        "File number = "
       ]
      },
      {
       "output_type": "stream",
       "stream": "stdout",
       "text": [
        " 712\n",
        "File number = "
       ]
      },
      {
       "output_type": "stream",
       "stream": "stdout",
       "text": [
        " 713\n",
        "File number = "
       ]
      },
      {
       "output_type": "stream",
       "stream": "stdout",
       "text": [
        " 714\n",
        "File number = "
       ]
      },
      {
       "output_type": "stream",
       "stream": "stdout",
       "text": [
        " 715\n",
        "File number = "
       ]
      },
      {
       "output_type": "stream",
       "stream": "stdout",
       "text": [
        " 716\n",
        "File number = "
       ]
      },
      {
       "output_type": "stream",
       "stream": "stdout",
       "text": [
        " 717\n",
        "File number = "
       ]
      },
      {
       "output_type": "stream",
       "stream": "stdout",
       "text": [
        " 718\n",
        "File number = "
       ]
      },
      {
       "output_type": "stream",
       "stream": "stdout",
       "text": [
        " 719\n",
        "File number = "
       ]
      },
      {
       "output_type": "stream",
       "stream": "stdout",
       "text": [
        " 720\n",
        "File number = "
       ]
      },
      {
       "output_type": "stream",
       "stream": "stdout",
       "text": [
        " 721\n",
        "File number = "
       ]
      },
      {
       "output_type": "stream",
       "stream": "stdout",
       "text": [
        " 722\n",
        "File number = "
       ]
      },
      {
       "output_type": "stream",
       "stream": "stdout",
       "text": [
        " 723\n",
        "File number = "
       ]
      },
      {
       "output_type": "stream",
       "stream": "stdout",
       "text": [
        " 724\n",
        "File number = "
       ]
      },
      {
       "output_type": "stream",
       "stream": "stdout",
       "text": [
        " 725\n",
        "File number = "
       ]
      },
      {
       "output_type": "stream",
       "stream": "stdout",
       "text": [
        " 726\n",
        "File number = "
       ]
      },
      {
       "output_type": "stream",
       "stream": "stdout",
       "text": [
        " 727\n",
        "File number = "
       ]
      },
      {
       "output_type": "stream",
       "stream": "stdout",
       "text": [
        " 728\n",
        "File number = "
       ]
      },
      {
       "output_type": "stream",
       "stream": "stdout",
       "text": [
        " 729\n",
        "File number = "
       ]
      },
      {
       "output_type": "stream",
       "stream": "stdout",
       "text": [
        " 730\n",
        "File number = "
       ]
      },
      {
       "output_type": "stream",
       "stream": "stdout",
       "text": [
        " 731\n",
        "File number = "
       ]
      },
      {
       "output_type": "stream",
       "stream": "stdout",
       "text": [
        " 732\n",
        "File number = "
       ]
      },
      {
       "output_type": "stream",
       "stream": "stdout",
       "text": [
        " 733\n",
        "File number = "
       ]
      },
      {
       "output_type": "stream",
       "stream": "stdout",
       "text": [
        " 734\n",
        "File number = "
       ]
      },
      {
       "output_type": "stream",
       "stream": "stdout",
       "text": [
        " 735\n",
        "File number = "
       ]
      },
      {
       "output_type": "stream",
       "stream": "stdout",
       "text": [
        " 736\n",
        "File number = "
       ]
      },
      {
       "output_type": "stream",
       "stream": "stdout",
       "text": [
        " 737\n",
        "File number = "
       ]
      },
      {
       "output_type": "stream",
       "stream": "stdout",
       "text": [
        " 738\n",
        "File number = "
       ]
      },
      {
       "output_type": "stream",
       "stream": "stdout",
       "text": [
        " 739\n",
        "File number = "
       ]
      },
      {
       "output_type": "stream",
       "stream": "stdout",
       "text": [
        " 740\n",
        "File number = "
       ]
      },
      {
       "output_type": "stream",
       "stream": "stdout",
       "text": [
        " 741\n",
        "File number = "
       ]
      },
      {
       "output_type": "stream",
       "stream": "stdout",
       "text": [
        " 742\n",
        "File number = "
       ]
      },
      {
       "output_type": "stream",
       "stream": "stdout",
       "text": [
        " 743\n",
        "File number = "
       ]
      },
      {
       "output_type": "stream",
       "stream": "stdout",
       "text": [
        " 744\n",
        "File number = "
       ]
      },
      {
       "output_type": "stream",
       "stream": "stdout",
       "text": [
        " 745\n",
        "File number = "
       ]
      },
      {
       "output_type": "stream",
       "stream": "stdout",
       "text": [
        " 746\n",
        "File number = "
       ]
      },
      {
       "output_type": "stream",
       "stream": "stdout",
       "text": [
        " 747\n",
        "File number = "
       ]
      },
      {
       "output_type": "stream",
       "stream": "stdout",
       "text": [
        " 748\n",
        "File number = "
       ]
      },
      {
       "output_type": "stream",
       "stream": "stdout",
       "text": [
        " 749\n",
        "File number = "
       ]
      },
      {
       "output_type": "stream",
       "stream": "stdout",
       "text": [
        " 750\n",
        "File number = "
       ]
      },
      {
       "output_type": "stream",
       "stream": "stdout",
       "text": [
        " 751\n",
        "File number = "
       ]
      },
      {
       "output_type": "stream",
       "stream": "stdout",
       "text": [
        " 752\n",
        "File number = "
       ]
      },
      {
       "output_type": "stream",
       "stream": "stdout",
       "text": [
        " 753\n",
        "File number = "
       ]
      },
      {
       "output_type": "stream",
       "stream": "stdout",
       "text": [
        " 754\n",
        "File number = "
       ]
      },
      {
       "output_type": "stream",
       "stream": "stdout",
       "text": [
        " 755\n",
        "File number = "
       ]
      },
      {
       "output_type": "stream",
       "stream": "stdout",
       "text": [
        " 756\n",
        "File number = "
       ]
      },
      {
       "output_type": "stream",
       "stream": "stdout",
       "text": [
        " 757\n",
        "File number = "
       ]
      },
      {
       "output_type": "stream",
       "stream": "stdout",
       "text": [
        " 758\n",
        "File number = "
       ]
      },
      {
       "output_type": "stream",
       "stream": "stdout",
       "text": [
        " 759\n",
        "File number = "
       ]
      },
      {
       "output_type": "stream",
       "stream": "stdout",
       "text": [
        " 760\n",
        "File number = "
       ]
      },
      {
       "output_type": "stream",
       "stream": "stdout",
       "text": [
        " 761\n",
        "File number = "
       ]
      },
      {
       "output_type": "stream",
       "stream": "stdout",
       "text": [
        " 762\n",
        "File number = "
       ]
      },
      {
       "output_type": "stream",
       "stream": "stdout",
       "text": [
        " 763\n",
        "File number = "
       ]
      },
      {
       "output_type": "stream",
       "stream": "stdout",
       "text": [
        " 764\n",
        "File number = "
       ]
      },
      {
       "output_type": "stream",
       "stream": "stdout",
       "text": [
        " 765\n",
        "File number = "
       ]
      },
      {
       "output_type": "stream",
       "stream": "stdout",
       "text": [
        " 766\n",
        "File number = "
       ]
      },
      {
       "output_type": "stream",
       "stream": "stdout",
       "text": [
        " 767\n",
        "File number = "
       ]
      },
      {
       "output_type": "stream",
       "stream": "stdout",
       "text": [
        " 768\n",
        "File number = "
       ]
      },
      {
       "output_type": "stream",
       "stream": "stdout",
       "text": [
        " 769\n",
        "File number = "
       ]
      },
      {
       "output_type": "stream",
       "stream": "stdout",
       "text": [
        " 770\n",
        "File number = "
       ]
      },
      {
       "output_type": "stream",
       "stream": "stdout",
       "text": [
        " 771\n",
        "File number = "
       ]
      },
      {
       "output_type": "stream",
       "stream": "stdout",
       "text": [
        " 772\n",
        "File number = "
       ]
      },
      {
       "output_type": "stream",
       "stream": "stdout",
       "text": [
        " 773\n",
        "File number = "
       ]
      },
      {
       "output_type": "stream",
       "stream": "stdout",
       "text": [
        " 774\n",
        "File number = "
       ]
      },
      {
       "output_type": "stream",
       "stream": "stdout",
       "text": [
        " 775\n",
        "File number = "
       ]
      },
      {
       "output_type": "stream",
       "stream": "stdout",
       "text": [
        " 776\n",
        "File number = "
       ]
      },
      {
       "output_type": "stream",
       "stream": "stdout",
       "text": [
        " 777\n",
        "File number = "
       ]
      },
      {
       "output_type": "stream",
       "stream": "stdout",
       "text": [
        " 778\n",
        "File number = "
       ]
      },
      {
       "output_type": "stream",
       "stream": "stdout",
       "text": [
        " 779\n",
        "File number = "
       ]
      },
      {
       "output_type": "stream",
       "stream": "stdout",
       "text": [
        " 780\n",
        "File number = "
       ]
      },
      {
       "output_type": "stream",
       "stream": "stdout",
       "text": [
        " 781\n",
        "File number = "
       ]
      },
      {
       "output_type": "stream",
       "stream": "stdout",
       "text": [
        " 782\n",
        "File number = "
       ]
      },
      {
       "output_type": "stream",
       "stream": "stdout",
       "text": [
        " 783\n",
        "File number = "
       ]
      },
      {
       "output_type": "stream",
       "stream": "stdout",
       "text": [
        " 784\n",
        "File number = "
       ]
      },
      {
       "output_type": "stream",
       "stream": "stdout",
       "text": [
        " 785\n",
        "File number = "
       ]
      },
      {
       "output_type": "stream",
       "stream": "stdout",
       "text": [
        " 786\n",
        "File number = "
       ]
      },
      {
       "output_type": "stream",
       "stream": "stdout",
       "text": [
        " 787\n",
        "File number = "
       ]
      },
      {
       "output_type": "stream",
       "stream": "stdout",
       "text": [
        " 788\n",
        "File number = "
       ]
      },
      {
       "output_type": "stream",
       "stream": "stdout",
       "text": [
        " 789\n",
        "File number = "
       ]
      },
      {
       "output_type": "stream",
       "stream": "stdout",
       "text": [
        " 790\n",
        "File number = "
       ]
      },
      {
       "output_type": "stream",
       "stream": "stdout",
       "text": [
        " 791\n",
        "File number = "
       ]
      },
      {
       "output_type": "stream",
       "stream": "stdout",
       "text": [
        " 792\n",
        "File number = "
       ]
      },
      {
       "output_type": "stream",
       "stream": "stdout",
       "text": [
        " 793\n",
        "File number = "
       ]
      },
      {
       "output_type": "stream",
       "stream": "stdout",
       "text": [
        " 794\n",
        "File number = "
       ]
      },
      {
       "output_type": "stream",
       "stream": "stdout",
       "text": [
        " 795\n",
        "File number = "
       ]
      },
      {
       "output_type": "stream",
       "stream": "stdout",
       "text": [
        " 796\n",
        "File number = "
       ]
      },
      {
       "output_type": "stream",
       "stream": "stdout",
       "text": [
        " 797\n",
        "File number = "
       ]
      },
      {
       "output_type": "stream",
       "stream": "stdout",
       "text": [
        " 798\n",
        "File number = "
       ]
      },
      {
       "output_type": "stream",
       "stream": "stdout",
       "text": [
        " 799\n",
        "File number = "
       ]
      },
      {
       "output_type": "stream",
       "stream": "stdout",
       "text": [
        " 800\n",
        "File number = "
       ]
      },
      {
       "output_type": "stream",
       "stream": "stdout",
       "text": [
        " 801\n",
        "File number = "
       ]
      },
      {
       "output_type": "stream",
       "stream": "stdout",
       "text": [
        " 802\n",
        "File number = "
       ]
      },
      {
       "output_type": "stream",
       "stream": "stdout",
       "text": [
        " 803\n",
        "File number = "
       ]
      },
      {
       "output_type": "stream",
       "stream": "stdout",
       "text": [
        " 804\n",
        "File number = "
       ]
      },
      {
       "output_type": "stream",
       "stream": "stdout",
       "text": [
        " 805\n",
        "File number = "
       ]
      },
      {
       "output_type": "stream",
       "stream": "stdout",
       "text": [
        " 806\n",
        "File number = "
       ]
      },
      {
       "output_type": "stream",
       "stream": "stdout",
       "text": [
        " 807\n",
        "File number = "
       ]
      },
      {
       "output_type": "stream",
       "stream": "stdout",
       "text": [
        " 808\n",
        "File number = "
       ]
      },
      {
       "output_type": "stream",
       "stream": "stdout",
       "text": [
        " 809\n",
        "File number = "
       ]
      },
      {
       "output_type": "stream",
       "stream": "stdout",
       "text": [
        " 810\n",
        "File number = "
       ]
      },
      {
       "output_type": "stream",
       "stream": "stdout",
       "text": [
        " 811\n",
        "File number = "
       ]
      },
      {
       "output_type": "stream",
       "stream": "stdout",
       "text": [
        " 812\n",
        "File number = "
       ]
      },
      {
       "output_type": "stream",
       "stream": "stdout",
       "text": [
        " 813\n",
        "File number = "
       ]
      },
      {
       "output_type": "stream",
       "stream": "stdout",
       "text": [
        " 814\n",
        "File number = "
       ]
      },
      {
       "output_type": "stream",
       "stream": "stdout",
       "text": [
        " 815\n",
        "File number = "
       ]
      },
      {
       "output_type": "stream",
       "stream": "stdout",
       "text": [
        " 816\n",
        "File number = "
       ]
      },
      {
       "output_type": "stream",
       "stream": "stdout",
       "text": [
        " 817\n",
        "File number = "
       ]
      },
      {
       "output_type": "stream",
       "stream": "stdout",
       "text": [
        " 818\n",
        "File number = "
       ]
      },
      {
       "output_type": "stream",
       "stream": "stdout",
       "text": [
        " 819\n",
        "File number = "
       ]
      },
      {
       "output_type": "stream",
       "stream": "stdout",
       "text": [
        " 820\n",
        "File number = "
       ]
      },
      {
       "output_type": "stream",
       "stream": "stdout",
       "text": [
        " 821\n",
        "File number = "
       ]
      },
      {
       "output_type": "stream",
       "stream": "stdout",
       "text": [
        " 822\n",
        "File number = "
       ]
      },
      {
       "output_type": "stream",
       "stream": "stdout",
       "text": [
        " 823\n",
        "File number = "
       ]
      },
      {
       "output_type": "stream",
       "stream": "stdout",
       "text": [
        " 824\n",
        "File number = "
       ]
      },
      {
       "output_type": "stream",
       "stream": "stdout",
       "text": [
        " 825\n",
        "File number = "
       ]
      },
      {
       "output_type": "stream",
       "stream": "stdout",
       "text": [
        " 826\n",
        "File number = "
       ]
      },
      {
       "output_type": "stream",
       "stream": "stdout",
       "text": [
        " 827\n",
        "File number = "
       ]
      },
      {
       "output_type": "stream",
       "stream": "stdout",
       "text": [
        " 828\n",
        "File number = "
       ]
      },
      {
       "output_type": "stream",
       "stream": "stdout",
       "text": [
        " 829\n",
        "File number = "
       ]
      },
      {
       "output_type": "stream",
       "stream": "stdout",
       "text": [
        " 830\n",
        "File number = "
       ]
      },
      {
       "output_type": "stream",
       "stream": "stdout",
       "text": [
        " 831\n",
        "File number = "
       ]
      },
      {
       "output_type": "stream",
       "stream": "stdout",
       "text": [
        " 832\n",
        "File number = "
       ]
      },
      {
       "output_type": "stream",
       "stream": "stdout",
       "text": [
        " 833\n",
        "File number = "
       ]
      },
      {
       "output_type": "stream",
       "stream": "stdout",
       "text": [
        " 834\n",
        "File number = "
       ]
      },
      {
       "output_type": "stream",
       "stream": "stdout",
       "text": [
        " 835\n",
        "File number = "
       ]
      },
      {
       "output_type": "stream",
       "stream": "stdout",
       "text": [
        " 836\n",
        "File number = "
       ]
      },
      {
       "output_type": "stream",
       "stream": "stdout",
       "text": [
        " 837\n",
        "File number = "
       ]
      },
      {
       "output_type": "stream",
       "stream": "stdout",
       "text": [
        " 838\n",
        "File number = "
       ]
      },
      {
       "output_type": "stream",
       "stream": "stdout",
       "text": [
        " 839\n",
        "File number = "
       ]
      },
      {
       "output_type": "stream",
       "stream": "stdout",
       "text": [
        " 840\n",
        "File number = "
       ]
      },
      {
       "output_type": "stream",
       "stream": "stdout",
       "text": [
        " 841\n",
        "File number = "
       ]
      },
      {
       "output_type": "stream",
       "stream": "stdout",
       "text": [
        " 842\n",
        "File number = "
       ]
      },
      {
       "output_type": "stream",
       "stream": "stdout",
       "text": [
        " 843\n",
        "File number = "
       ]
      },
      {
       "output_type": "stream",
       "stream": "stdout",
       "text": [
        " 844\n",
        "File number = "
       ]
      },
      {
       "output_type": "stream",
       "stream": "stdout",
       "text": [
        " 845\n",
        "File number = "
       ]
      },
      {
       "output_type": "stream",
       "stream": "stdout",
       "text": [
        " 846\n",
        "File number = "
       ]
      },
      {
       "output_type": "stream",
       "stream": "stdout",
       "text": [
        " 847\n",
        "File number = "
       ]
      },
      {
       "output_type": "stream",
       "stream": "stdout",
       "text": [
        " 848\n",
        "File number = "
       ]
      },
      {
       "output_type": "stream",
       "stream": "stdout",
       "text": [
        " 849\n",
        "File number = "
       ]
      },
      {
       "output_type": "stream",
       "stream": "stdout",
       "text": [
        " 850\n",
        "File number = "
       ]
      },
      {
       "output_type": "stream",
       "stream": "stdout",
       "text": [
        " 851\n",
        "File number = "
       ]
      },
      {
       "output_type": "stream",
       "stream": "stdout",
       "text": [
        " 852\n",
        "File number = "
       ]
      },
      {
       "output_type": "stream",
       "stream": "stdout",
       "text": [
        " 853\n",
        "File number = "
       ]
      },
      {
       "output_type": "stream",
       "stream": "stdout",
       "text": [
        " 854\n",
        "File number = "
       ]
      },
      {
       "output_type": "stream",
       "stream": "stdout",
       "text": [
        " 855\n",
        "File number = "
       ]
      },
      {
       "output_type": "stream",
       "stream": "stdout",
       "text": [
        " 856\n",
        "File number = "
       ]
      },
      {
       "output_type": "stream",
       "stream": "stdout",
       "text": [
        " 857\n",
        "File number = "
       ]
      },
      {
       "output_type": "stream",
       "stream": "stdout",
       "text": [
        " 858\n",
        "File number = "
       ]
      },
      {
       "output_type": "stream",
       "stream": "stdout",
       "text": [
        " 859\n",
        "File number = "
       ]
      },
      {
       "output_type": "stream",
       "stream": "stdout",
       "text": [
        " 860\n",
        "File number = "
       ]
      },
      {
       "output_type": "stream",
       "stream": "stdout",
       "text": [
        " 861\n",
        "File number = "
       ]
      },
      {
       "output_type": "stream",
       "stream": "stdout",
       "text": [
        " 862\n",
        "File number = "
       ]
      },
      {
       "output_type": "stream",
       "stream": "stdout",
       "text": [
        " 863\n",
        "File number = "
       ]
      },
      {
       "output_type": "stream",
       "stream": "stdout",
       "text": [
        " 864\n",
        "File number = "
       ]
      },
      {
       "output_type": "stream",
       "stream": "stdout",
       "text": [
        " 865\n",
        "File number = "
       ]
      },
      {
       "output_type": "stream",
       "stream": "stdout",
       "text": [
        " 866\n",
        "File number = "
       ]
      },
      {
       "output_type": "stream",
       "stream": "stdout",
       "text": [
        " 867\n",
        "File number = "
       ]
      },
      {
       "output_type": "stream",
       "stream": "stdout",
       "text": [
        " 868\n",
        "File number = "
       ]
      },
      {
       "output_type": "stream",
       "stream": "stdout",
       "text": [
        " 869\n",
        "File number = "
       ]
      },
      {
       "output_type": "stream",
       "stream": "stdout",
       "text": [
        " 870\n",
        "File number = "
       ]
      },
      {
       "output_type": "stream",
       "stream": "stdout",
       "text": [
        " 871\n",
        "File number = "
       ]
      },
      {
       "output_type": "stream",
       "stream": "stdout",
       "text": [
        " 872\n",
        "File number = "
       ]
      },
      {
       "output_type": "stream",
       "stream": "stdout",
       "text": [
        " 873\n",
        "File number = "
       ]
      },
      {
       "output_type": "stream",
       "stream": "stdout",
       "text": [
        " 874\n",
        "File number = "
       ]
      },
      {
       "output_type": "stream",
       "stream": "stdout",
       "text": [
        " 875\n",
        "File number = "
       ]
      },
      {
       "output_type": "stream",
       "stream": "stdout",
       "text": [
        " 876\n",
        "File number = "
       ]
      },
      {
       "output_type": "stream",
       "stream": "stdout",
       "text": [
        " 877\n",
        "File number = "
       ]
      },
      {
       "output_type": "stream",
       "stream": "stdout",
       "text": [
        " 878\n",
        "File number = "
       ]
      },
      {
       "output_type": "stream",
       "stream": "stdout",
       "text": [
        " 879\n",
        "File number = "
       ]
      },
      {
       "output_type": "stream",
       "stream": "stdout",
       "text": [
        " 880\n",
        "File number = "
       ]
      },
      {
       "output_type": "stream",
       "stream": "stdout",
       "text": [
        " 881\n",
        "File number = "
       ]
      },
      {
       "output_type": "stream",
       "stream": "stdout",
       "text": [
        " 882\n",
        "File number = "
       ]
      },
      {
       "output_type": "stream",
       "stream": "stdout",
       "text": [
        " 883\n",
        "File number = "
       ]
      },
      {
       "output_type": "stream",
       "stream": "stdout",
       "text": [
        " 884\n",
        "File number = "
       ]
      },
      {
       "output_type": "stream",
       "stream": "stdout",
       "text": [
        " 885\n",
        "File number = "
       ]
      },
      {
       "output_type": "stream",
       "stream": "stdout",
       "text": [
        " 886\n",
        "File number = "
       ]
      },
      {
       "output_type": "stream",
       "stream": "stdout",
       "text": [
        " 887\n",
        "File number = "
       ]
      },
      {
       "output_type": "stream",
       "stream": "stdout",
       "text": [
        " 888\n",
        "File number = "
       ]
      },
      {
       "output_type": "stream",
       "stream": "stdout",
       "text": [
        " 889\n",
        "File number = "
       ]
      },
      {
       "output_type": "stream",
       "stream": "stdout",
       "text": [
        " 890\n",
        "File number = "
       ]
      },
      {
       "output_type": "stream",
       "stream": "stdout",
       "text": [
        " 891\n",
        "File number = "
       ]
      },
      {
       "output_type": "stream",
       "stream": "stdout",
       "text": [
        " 892\n",
        "File number = "
       ]
      },
      {
       "output_type": "stream",
       "stream": "stdout",
       "text": [
        " 893\n",
        "File number = "
       ]
      },
      {
       "output_type": "stream",
       "stream": "stdout",
       "text": [
        " 894\n",
        "File number = "
       ]
      },
      {
       "output_type": "stream",
       "stream": "stdout",
       "text": [
        " 895\n",
        "File number = "
       ]
      },
      {
       "output_type": "stream",
       "stream": "stdout",
       "text": [
        " 896\n",
        "File number = "
       ]
      },
      {
       "output_type": "stream",
       "stream": "stdout",
       "text": [
        " 897\n",
        "File number = "
       ]
      },
      {
       "output_type": "stream",
       "stream": "stdout",
       "text": [
        " 898\n",
        "File number = "
       ]
      },
      {
       "output_type": "stream",
       "stream": "stdout",
       "text": [
        " 899\n",
        "File number = "
       ]
      },
      {
       "output_type": "stream",
       "stream": "stdout",
       "text": [
        " 900\n",
        "File number = "
       ]
      },
      {
       "output_type": "stream",
       "stream": "stdout",
       "text": [
        " 901\n",
        "File number = "
       ]
      },
      {
       "output_type": "stream",
       "stream": "stdout",
       "text": [
        " 902\n",
        "File number = "
       ]
      },
      {
       "output_type": "stream",
       "stream": "stdout",
       "text": [
        " 903\n",
        "File number = "
       ]
      },
      {
       "output_type": "stream",
       "stream": "stdout",
       "text": [
        " 904\n",
        "File number = "
       ]
      },
      {
       "output_type": "stream",
       "stream": "stdout",
       "text": [
        " 905\n",
        "File number = "
       ]
      },
      {
       "output_type": "stream",
       "stream": "stdout",
       "text": [
        " 906\n",
        "File number = "
       ]
      },
      {
       "output_type": "stream",
       "stream": "stdout",
       "text": [
        " 907\n",
        "File number = "
       ]
      },
      {
       "output_type": "stream",
       "stream": "stdout",
       "text": [
        " 908\n",
        "File number = "
       ]
      },
      {
       "output_type": "stream",
       "stream": "stdout",
       "text": [
        " 909\n",
        "File number = "
       ]
      },
      {
       "output_type": "stream",
       "stream": "stdout",
       "text": [
        " 910\n",
        "File number = "
       ]
      },
      {
       "output_type": "stream",
       "stream": "stdout",
       "text": [
        " 911\n",
        "File number = "
       ]
      },
      {
       "output_type": "stream",
       "stream": "stdout",
       "text": [
        " 912\n",
        "File number = "
       ]
      },
      {
       "output_type": "stream",
       "stream": "stdout",
       "text": [
        " 913\n",
        "File number = "
       ]
      },
      {
       "output_type": "stream",
       "stream": "stdout",
       "text": [
        " 914\n",
        "File number = "
       ]
      },
      {
       "output_type": "stream",
       "stream": "stdout",
       "text": [
        " 915\n",
        "File number = "
       ]
      },
      {
       "output_type": "stream",
       "stream": "stdout",
       "text": [
        " 916\n",
        "File number = "
       ]
      },
      {
       "output_type": "stream",
       "stream": "stdout",
       "text": [
        " 917\n",
        "File number = "
       ]
      },
      {
       "output_type": "stream",
       "stream": "stdout",
       "text": [
        " 918\n",
        "File number = "
       ]
      },
      {
       "output_type": "stream",
       "stream": "stdout",
       "text": [
        " 919\n",
        "File number = "
       ]
      },
      {
       "output_type": "stream",
       "stream": "stdout",
       "text": [
        " 920\n",
        "File number = "
       ]
      },
      {
       "output_type": "stream",
       "stream": "stdout",
       "text": [
        " 921\n",
        "File number = "
       ]
      },
      {
       "output_type": "stream",
       "stream": "stdout",
       "text": [
        " 922\n",
        "File number = "
       ]
      },
      {
       "output_type": "stream",
       "stream": "stdout",
       "text": [
        " 923\n",
        "File number = "
       ]
      },
      {
       "output_type": "stream",
       "stream": "stdout",
       "text": [
        " 924\n",
        "File number = "
       ]
      },
      {
       "output_type": "stream",
       "stream": "stdout",
       "text": [
        " 925\n",
        "File number = "
       ]
      },
      {
       "output_type": "stream",
       "stream": "stdout",
       "text": [
        " 926\n",
        "File number = "
       ]
      },
      {
       "output_type": "stream",
       "stream": "stdout",
       "text": [
        " 927\n",
        "File number = "
       ]
      },
      {
       "output_type": "stream",
       "stream": "stdout",
       "text": [
        " 928\n",
        "File number = "
       ]
      },
      {
       "output_type": "stream",
       "stream": "stdout",
       "text": [
        " 929\n",
        "File number = "
       ]
      },
      {
       "output_type": "stream",
       "stream": "stdout",
       "text": [
        " 930\n",
        "File number = "
       ]
      },
      {
       "output_type": "stream",
       "stream": "stdout",
       "text": [
        " 931\n",
        "File number = "
       ]
      },
      {
       "output_type": "stream",
       "stream": "stdout",
       "text": [
        " 932\n",
        "File number = "
       ]
      },
      {
       "output_type": "stream",
       "stream": "stdout",
       "text": [
        " 933\n",
        "File number = "
       ]
      },
      {
       "output_type": "stream",
       "stream": "stdout",
       "text": [
        " 934\n",
        "File number = "
       ]
      },
      {
       "output_type": "stream",
       "stream": "stdout",
       "text": [
        " 935\n",
        "File number = "
       ]
      },
      {
       "output_type": "stream",
       "stream": "stdout",
       "text": [
        " 936\n",
        "File number = "
       ]
      },
      {
       "output_type": "stream",
       "stream": "stdout",
       "text": [
        " 937\n",
        "File number = "
       ]
      },
      {
       "output_type": "stream",
       "stream": "stdout",
       "text": [
        " 938\n",
        "File number = "
       ]
      },
      {
       "output_type": "stream",
       "stream": "stdout",
       "text": [
        " 939\n",
        "File number = "
       ]
      },
      {
       "output_type": "stream",
       "stream": "stdout",
       "text": [
        " 940\n",
        "File number = "
       ]
      },
      {
       "output_type": "stream",
       "stream": "stdout",
       "text": [
        " 941\n",
        "File number = "
       ]
      },
      {
       "output_type": "stream",
       "stream": "stdout",
       "text": [
        " 942\n",
        "File number = "
       ]
      },
      {
       "output_type": "stream",
       "stream": "stdout",
       "text": [
        " 943\n",
        "File number = "
       ]
      },
      {
       "output_type": "stream",
       "stream": "stdout",
       "text": [
        " 944\n",
        "File number = "
       ]
      },
      {
       "output_type": "stream",
       "stream": "stdout",
       "text": [
        " 945\n",
        "File number = "
       ]
      },
      {
       "output_type": "stream",
       "stream": "stdout",
       "text": [
        " 946\n",
        "File number = "
       ]
      },
      {
       "output_type": "stream",
       "stream": "stdout",
       "text": [
        " 947\n",
        "File number = "
       ]
      },
      {
       "output_type": "stream",
       "stream": "stdout",
       "text": [
        " 948\n",
        "File number = "
       ]
      },
      {
       "output_type": "stream",
       "stream": "stdout",
       "text": [
        " 949\n",
        "File number = "
       ]
      },
      {
       "output_type": "stream",
       "stream": "stdout",
       "text": [
        " 950\n",
        "File number = "
       ]
      },
      {
       "output_type": "stream",
       "stream": "stdout",
       "text": [
        " 951\n",
        "File number = "
       ]
      },
      {
       "output_type": "stream",
       "stream": "stdout",
       "text": [
        " 952\n",
        "File number = "
       ]
      },
      {
       "output_type": "stream",
       "stream": "stdout",
       "text": [
        " 953\n",
        "File number = "
       ]
      },
      {
       "output_type": "stream",
       "stream": "stdout",
       "text": [
        " 954\n",
        "File number = "
       ]
      },
      {
       "output_type": "stream",
       "stream": "stdout",
       "text": [
        " 955\n",
        "File number = "
       ]
      },
      {
       "output_type": "stream",
       "stream": "stdout",
       "text": [
        " 956\n",
        "File number = "
       ]
      },
      {
       "output_type": "stream",
       "stream": "stdout",
       "text": [
        " 957\n",
        "File number = "
       ]
      },
      {
       "output_type": "stream",
       "stream": "stdout",
       "text": [
        " 958\n",
        "File number = "
       ]
      },
      {
       "output_type": "stream",
       "stream": "stdout",
       "text": [
        " 959\n",
        "File number = "
       ]
      },
      {
       "output_type": "stream",
       "stream": "stdout",
       "text": [
        " 960\n",
        "File number = "
       ]
      },
      {
       "output_type": "stream",
       "stream": "stdout",
       "text": [
        " 961\n",
        "File number = "
       ]
      },
      {
       "output_type": "stream",
       "stream": "stdout",
       "text": [
        " 962\n",
        "File number = "
       ]
      },
      {
       "output_type": "stream",
       "stream": "stdout",
       "text": [
        " 963\n",
        "File number = "
       ]
      },
      {
       "output_type": "stream",
       "stream": "stdout",
       "text": [
        " 964\n",
        "File number = "
       ]
      },
      {
       "output_type": "stream",
       "stream": "stdout",
       "text": [
        " 965\n",
        "File number = "
       ]
      },
      {
       "output_type": "stream",
       "stream": "stdout",
       "text": [
        " 966\n",
        "File number = "
       ]
      },
      {
       "output_type": "stream",
       "stream": "stdout",
       "text": [
        " 967\n",
        "File number = "
       ]
      },
      {
       "output_type": "stream",
       "stream": "stdout",
       "text": [
        " 968\n",
        "File number = "
       ]
      },
      {
       "output_type": "stream",
       "stream": "stdout",
       "text": [
        " 969\n",
        "File number = "
       ]
      },
      {
       "output_type": "stream",
       "stream": "stdout",
       "text": [
        " 970\n",
        "File number = "
       ]
      },
      {
       "output_type": "stream",
       "stream": "stdout",
       "text": [
        " 971\n",
        "File number = "
       ]
      },
      {
       "output_type": "stream",
       "stream": "stdout",
       "text": [
        " 972\n",
        "File number = "
       ]
      },
      {
       "output_type": "stream",
       "stream": "stdout",
       "text": [
        " 973\n",
        "File number = "
       ]
      },
      {
       "output_type": "stream",
       "stream": "stdout",
       "text": [
        " 974\n",
        "File number = "
       ]
      },
      {
       "output_type": "stream",
       "stream": "stdout",
       "text": [
        " 975\n",
        "File number = "
       ]
      },
      {
       "output_type": "stream",
       "stream": "stdout",
       "text": [
        " 976\n",
        "File number = "
       ]
      },
      {
       "output_type": "stream",
       "stream": "stdout",
       "text": [
        " 977\n",
        "File number = "
       ]
      },
      {
       "output_type": "stream",
       "stream": "stdout",
       "text": [
        " 978\n",
        "File number = "
       ]
      },
      {
       "output_type": "stream",
       "stream": "stdout",
       "text": [
        " 979\n",
        "File number = "
       ]
      },
      {
       "output_type": "stream",
       "stream": "stdout",
       "text": [
        " 980\n",
        "File number = "
       ]
      },
      {
       "output_type": "stream",
       "stream": "stdout",
       "text": [
        " 981\n",
        "File number = "
       ]
      },
      {
       "output_type": "stream",
       "stream": "stdout",
       "text": [
        " 982\n",
        "File number = "
       ]
      },
      {
       "output_type": "stream",
       "stream": "stdout",
       "text": [
        " 983\n",
        "File number = "
       ]
      },
      {
       "output_type": "stream",
       "stream": "stdout",
       "text": [
        " 984\n",
        "File number = "
       ]
      },
      {
       "output_type": "stream",
       "stream": "stdout",
       "text": [
        " 985\n",
        "File number = "
       ]
      },
      {
       "output_type": "stream",
       "stream": "stdout",
       "text": [
        " 986\n",
        "File number = "
       ]
      },
      {
       "output_type": "stream",
       "stream": "stdout",
       "text": [
        " 987\n",
        "File number = "
       ]
      },
      {
       "output_type": "stream",
       "stream": "stdout",
       "text": [
        " 988\n",
        "File number = "
       ]
      },
      {
       "output_type": "stream",
       "stream": "stdout",
       "text": [
        " 989\n",
        "File number = "
       ]
      },
      {
       "output_type": "stream",
       "stream": "stdout",
       "text": [
        " 990\n",
        "File number = "
       ]
      },
      {
       "output_type": "stream",
       "stream": "stdout",
       "text": [
        " 991\n",
        "File number = "
       ]
      },
      {
       "output_type": "stream",
       "stream": "stdout",
       "text": [
        " 992\n",
        "File number = "
       ]
      },
      {
       "output_type": "stream",
       "stream": "stdout",
       "text": [
        " 993\n",
        "File number = "
       ]
      },
      {
       "output_type": "stream",
       "stream": "stdout",
       "text": [
        " 994\n",
        "File number = "
       ]
      },
      {
       "output_type": "stream",
       "stream": "stdout",
       "text": [
        " 995\n",
        "File number = "
       ]
      },
      {
       "output_type": "stream",
       "stream": "stdout",
       "text": [
        " 996\n",
        "File number = "
       ]
      },
      {
       "output_type": "stream",
       "stream": "stdout",
       "text": [
        " 997\n",
        "File number = "
       ]
      },
      {
       "output_type": "stream",
       "stream": "stdout",
       "text": [
        " 998\n",
        "File number = "
       ]
      },
      {
       "output_type": "stream",
       "stream": "stdout",
       "text": [
        " 999\n",
        "File number = "
       ]
      },
      {
       "output_type": "stream",
       "stream": "stdout",
       "text": [
        " 1000\n",
        "File number = "
       ]
      },
      {
       "output_type": "stream",
       "stream": "stdout",
       "text": [
        " 1001\n",
        "File number = "
       ]
      },
      {
       "output_type": "stream",
       "stream": "stdout",
       "text": [
        " 1002\n",
        "File number = "
       ]
      },
      {
       "output_type": "stream",
       "stream": "stdout",
       "text": [
        " 1003\n",
        "File number = "
       ]
      },
      {
       "output_type": "stream",
       "stream": "stdout",
       "text": [
        " 1004\n",
        "File number = "
       ]
      },
      {
       "output_type": "stream",
       "stream": "stdout",
       "text": [
        " 1005\n",
        "File number = "
       ]
      },
      {
       "output_type": "stream",
       "stream": "stdout",
       "text": [
        " 1006\n",
        "File number = "
       ]
      },
      {
       "output_type": "stream",
       "stream": "stdout",
       "text": [
        " 1007\n",
        "File number = "
       ]
      },
      {
       "output_type": "stream",
       "stream": "stdout",
       "text": [
        " 1008\n",
        "File number = "
       ]
      },
      {
       "output_type": "stream",
       "stream": "stdout",
       "text": [
        " 1009\n",
        "File number = "
       ]
      },
      {
       "output_type": "stream",
       "stream": "stdout",
       "text": [
        " 1010\n",
        "File number = "
       ]
      },
      {
       "output_type": "stream",
       "stream": "stdout",
       "text": [
        " 1011\n",
        "File number = "
       ]
      },
      {
       "output_type": "stream",
       "stream": "stdout",
       "text": [
        " 1012\n",
        "File number = "
       ]
      },
      {
       "output_type": "stream",
       "stream": "stdout",
       "text": [
        " 1013\n",
        "File number = "
       ]
      },
      {
       "output_type": "stream",
       "stream": "stdout",
       "text": [
        " 1014\n",
        "File number = "
       ]
      },
      {
       "output_type": "stream",
       "stream": "stdout",
       "text": [
        " 1015\n",
        "File number = "
       ]
      },
      {
       "output_type": "stream",
       "stream": "stdout",
       "text": [
        " 1016\n",
        "File number = "
       ]
      },
      {
       "output_type": "stream",
       "stream": "stdout",
       "text": [
        " 1017\n",
        "File number = "
       ]
      },
      {
       "output_type": "stream",
       "stream": "stdout",
       "text": [
        " 1018\n",
        "File number = "
       ]
      },
      {
       "output_type": "stream",
       "stream": "stdout",
       "text": [
        " 1019\n",
        "File number = "
       ]
      },
      {
       "output_type": "stream",
       "stream": "stdout",
       "text": [
        " 1020\n",
        "File number = "
       ]
      },
      {
       "output_type": "stream",
       "stream": "stdout",
       "text": [
        " 1021\n",
        "File number = "
       ]
      },
      {
       "output_type": "stream",
       "stream": "stdout",
       "text": [
        " 1022\n",
        "File number = "
       ]
      },
      {
       "output_type": "stream",
       "stream": "stdout",
       "text": [
        " 1023\n",
        "File number = "
       ]
      },
      {
       "output_type": "stream",
       "stream": "stdout",
       "text": [
        " 1024\n",
        "File number = "
       ]
      },
      {
       "output_type": "stream",
       "stream": "stdout",
       "text": [
        " 1025\n",
        "File number = "
       ]
      },
      {
       "output_type": "stream",
       "stream": "stdout",
       "text": [
        " 1026\n",
        "File number = "
       ]
      },
      {
       "output_type": "stream",
       "stream": "stdout",
       "text": [
        " 1027\n",
        "File number = "
       ]
      },
      {
       "output_type": "stream",
       "stream": "stdout",
       "text": [
        " 1028\n",
        "File number = "
       ]
      },
      {
       "output_type": "stream",
       "stream": "stdout",
       "text": [
        " 1029\n",
        "File number = "
       ]
      },
      {
       "output_type": "stream",
       "stream": "stdout",
       "text": [
        " 1030\n",
        "File number = "
       ]
      },
      {
       "output_type": "stream",
       "stream": "stdout",
       "text": [
        " 1031\n",
        "File number = "
       ]
      },
      {
       "output_type": "stream",
       "stream": "stdout",
       "text": [
        " 1032\n",
        "File number = "
       ]
      },
      {
       "output_type": "stream",
       "stream": "stdout",
       "text": [
        " 1033\n",
        "File number = "
       ]
      },
      {
       "output_type": "stream",
       "stream": "stdout",
       "text": [
        " 1034\n",
        "File number = "
       ]
      },
      {
       "output_type": "stream",
       "stream": "stdout",
       "text": [
        " 1035\n",
        "File number = "
       ]
      },
      {
       "output_type": "stream",
       "stream": "stdout",
       "text": [
        " 1036\n",
        "File number = "
       ]
      },
      {
       "output_type": "stream",
       "stream": "stdout",
       "text": [
        " 1037\n",
        "File number = "
       ]
      },
      {
       "output_type": "stream",
       "stream": "stdout",
       "text": [
        " 1038\n",
        "File number = "
       ]
      },
      {
       "output_type": "stream",
       "stream": "stdout",
       "text": [
        " 1039\n",
        "File number = "
       ]
      },
      {
       "output_type": "stream",
       "stream": "stdout",
       "text": [
        " 1040\n",
        "File number = "
       ]
      },
      {
       "output_type": "stream",
       "stream": "stdout",
       "text": [
        " 1041\n",
        "File number = "
       ]
      },
      {
       "output_type": "stream",
       "stream": "stdout",
       "text": [
        " 1042\n",
        "File number = "
       ]
      },
      {
       "output_type": "stream",
       "stream": "stdout",
       "text": [
        " 1043\n",
        "File number = "
       ]
      },
      {
       "output_type": "stream",
       "stream": "stdout",
       "text": [
        " 1044\n",
        "File number = "
       ]
      },
      {
       "output_type": "stream",
       "stream": "stdout",
       "text": [
        " 1045\n",
        "File number = "
       ]
      },
      {
       "output_type": "stream",
       "stream": "stdout",
       "text": [
        " 1046\n",
        "File number = "
       ]
      },
      {
       "output_type": "stream",
       "stream": "stdout",
       "text": [
        " 1047\n",
        "File number = "
       ]
      },
      {
       "output_type": "stream",
       "stream": "stdout",
       "text": [
        " 1048\n",
        "File number = "
       ]
      },
      {
       "output_type": "stream",
       "stream": "stdout",
       "text": [
        " 1049\n",
        "File number = "
       ]
      },
      {
       "output_type": "stream",
       "stream": "stdout",
       "text": [
        " 1050\n",
        "File number = "
       ]
      },
      {
       "output_type": "stream",
       "stream": "stdout",
       "text": [
        " 1051\n",
        "File number = "
       ]
      },
      {
       "output_type": "stream",
       "stream": "stdout",
       "text": [
        " 1052\n",
        "File number = "
       ]
      },
      {
       "output_type": "stream",
       "stream": "stdout",
       "text": [
        " 1053\n",
        "File number = "
       ]
      },
      {
       "output_type": "stream",
       "stream": "stdout",
       "text": [
        " 1054\n",
        "File number = "
       ]
      },
      {
       "output_type": "stream",
       "stream": "stdout",
       "text": [
        " 1055\n",
        "File number = "
       ]
      },
      {
       "output_type": "stream",
       "stream": "stdout",
       "text": [
        " 1056\n",
        "File number = "
       ]
      },
      {
       "output_type": "stream",
       "stream": "stdout",
       "text": [
        " 1057\n",
        "File number = "
       ]
      },
      {
       "output_type": "stream",
       "stream": "stdout",
       "text": [
        " 1058\n",
        "File number = "
       ]
      },
      {
       "output_type": "stream",
       "stream": "stdout",
       "text": [
        " 1059\n",
        "File number = "
       ]
      },
      {
       "output_type": "stream",
       "stream": "stdout",
       "text": [
        " 1060\n",
        "File number = "
       ]
      },
      {
       "output_type": "stream",
       "stream": "stdout",
       "text": [
        " 1061\n",
        "File number = "
       ]
      },
      {
       "output_type": "stream",
       "stream": "stdout",
       "text": [
        " 1062\n",
        "File number = "
       ]
      },
      {
       "output_type": "stream",
       "stream": "stdout",
       "text": [
        " 1063\n",
        "File number = "
       ]
      },
      {
       "output_type": "stream",
       "stream": "stdout",
       "text": [
        " 1064\n",
        "File number = "
       ]
      },
      {
       "output_type": "stream",
       "stream": "stdout",
       "text": [
        " 1065\n",
        "File number = "
       ]
      },
      {
       "output_type": "stream",
       "stream": "stdout",
       "text": [
        " 1066\n",
        "File number = "
       ]
      },
      {
       "output_type": "stream",
       "stream": "stdout",
       "text": [
        " 1067\n",
        "File number = "
       ]
      },
      {
       "output_type": "stream",
       "stream": "stdout",
       "text": [
        " 1068\n",
        "File number = "
       ]
      },
      {
       "output_type": "stream",
       "stream": "stdout",
       "text": [
        " 1069\n",
        "File number = "
       ]
      },
      {
       "output_type": "stream",
       "stream": "stdout",
       "text": [
        " 1070\n",
        "File number = "
       ]
      },
      {
       "output_type": "stream",
       "stream": "stdout",
       "text": [
        " 1071\n",
        "File number = "
       ]
      },
      {
       "output_type": "stream",
       "stream": "stdout",
       "text": [
        " 1072\n",
        "File number = "
       ]
      },
      {
       "output_type": "stream",
       "stream": "stdout",
       "text": [
        " 1073\n",
        "File number = "
       ]
      },
      {
       "output_type": "stream",
       "stream": "stdout",
       "text": [
        " 1074\n",
        "File number = "
       ]
      },
      {
       "output_type": "stream",
       "stream": "stdout",
       "text": [
        " 1075\n",
        "File number = "
       ]
      },
      {
       "output_type": "stream",
       "stream": "stdout",
       "text": [
        " 1076\n",
        "File number = "
       ]
      },
      {
       "output_type": "stream",
       "stream": "stdout",
       "text": [
        " 1077\n",
        "File number = "
       ]
      },
      {
       "output_type": "stream",
       "stream": "stdout",
       "text": [
        " 1078\n",
        "File number = "
       ]
      },
      {
       "output_type": "stream",
       "stream": "stdout",
       "text": [
        " 1079\n",
        "File number = "
       ]
      },
      {
       "output_type": "stream",
       "stream": "stdout",
       "text": [
        " 1080\n",
        "File number = "
       ]
      },
      {
       "output_type": "stream",
       "stream": "stdout",
       "text": [
        " 1081\n",
        "File number = "
       ]
      },
      {
       "output_type": "stream",
       "stream": "stdout",
       "text": [
        " 1082\n",
        "File number = "
       ]
      },
      {
       "output_type": "stream",
       "stream": "stdout",
       "text": [
        " 1083\n",
        "File number = "
       ]
      },
      {
       "output_type": "stream",
       "stream": "stdout",
       "text": [
        " 1084\n",
        "File number = "
       ]
      },
      {
       "output_type": "stream",
       "stream": "stdout",
       "text": [
        " 1085\n",
        "File number = "
       ]
      },
      {
       "output_type": "stream",
       "stream": "stdout",
       "text": [
        " 1086\n",
        "File number = "
       ]
      },
      {
       "output_type": "stream",
       "stream": "stdout",
       "text": [
        " 1087\n",
        "File number = "
       ]
      },
      {
       "output_type": "stream",
       "stream": "stdout",
       "text": [
        " 1088\n",
        "File number = "
       ]
      },
      {
       "output_type": "stream",
       "stream": "stdout",
       "text": [
        " 1089\n",
        "File number = "
       ]
      },
      {
       "output_type": "stream",
       "stream": "stdout",
       "text": [
        " 1090\n",
        "File number = "
       ]
      },
      {
       "output_type": "stream",
       "stream": "stdout",
       "text": [
        " 1091\n",
        "File number = "
       ]
      },
      {
       "output_type": "stream",
       "stream": "stdout",
       "text": [
        " 1092\n",
        "File number = "
       ]
      },
      {
       "output_type": "stream",
       "stream": "stdout",
       "text": [
        " 1093\n",
        "File number = "
       ]
      },
      {
       "output_type": "stream",
       "stream": "stdout",
       "text": [
        " 1094\n",
        "File number = "
       ]
      },
      {
       "output_type": "stream",
       "stream": "stdout",
       "text": [
        " 1095\n",
        "File number = "
       ]
      },
      {
       "output_type": "stream",
       "stream": "stdout",
       "text": [
        " 1096\n",
        "File number = "
       ]
      },
      {
       "output_type": "stream",
       "stream": "stdout",
       "text": [
        " 1097\n",
        "File number = "
       ]
      },
      {
       "output_type": "stream",
       "stream": "stdout",
       "text": [
        " 1098\n",
        "File number = "
       ]
      },
      {
       "output_type": "stream",
       "stream": "stdout",
       "text": [
        " 1099\n",
        "File number = "
       ]
      },
      {
       "output_type": "stream",
       "stream": "stdout",
       "text": [
        " 1100\n",
        "File number = "
       ]
      },
      {
       "output_type": "stream",
       "stream": "stdout",
       "text": [
        " 1101\n",
        "File number = "
       ]
      },
      {
       "output_type": "stream",
       "stream": "stdout",
       "text": [
        " 1102\n",
        "File number = "
       ]
      },
      {
       "output_type": "stream",
       "stream": "stdout",
       "text": [
        " 1103\n",
        "File number = "
       ]
      },
      {
       "output_type": "stream",
       "stream": "stdout",
       "text": [
        " 1104\n",
        "File number = "
       ]
      },
      {
       "output_type": "stream",
       "stream": "stdout",
       "text": [
        " 1105\n",
        "File number = "
       ]
      },
      {
       "output_type": "stream",
       "stream": "stdout",
       "text": [
        " 1106\n",
        "File number = "
       ]
      },
      {
       "output_type": "stream",
       "stream": "stdout",
       "text": [
        " 1107\n",
        "File number = "
       ]
      },
      {
       "output_type": "stream",
       "stream": "stdout",
       "text": [
        " 1108\n",
        "File number = "
       ]
      },
      {
       "output_type": "stream",
       "stream": "stdout",
       "text": [
        " 1109\n",
        "File number = "
       ]
      },
      {
       "output_type": "stream",
       "stream": "stdout",
       "text": [
        " 1110\n",
        "File number = "
       ]
      },
      {
       "output_type": "stream",
       "stream": "stdout",
       "text": [
        " 1111\n",
        "File number = "
       ]
      },
      {
       "output_type": "stream",
       "stream": "stdout",
       "text": [
        " 1112\n",
        "File number = "
       ]
      },
      {
       "output_type": "stream",
       "stream": "stdout",
       "text": [
        " 1113\n",
        "File number = "
       ]
      },
      {
       "output_type": "stream",
       "stream": "stdout",
       "text": [
        " 1114\n",
        "File number = "
       ]
      },
      {
       "output_type": "stream",
       "stream": "stdout",
       "text": [
        " 1115\n",
        "File number = "
       ]
      },
      {
       "output_type": "stream",
       "stream": "stdout",
       "text": [
        " 1116\n",
        "File number = "
       ]
      },
      {
       "output_type": "stream",
       "stream": "stdout",
       "text": [
        " 1117\n",
        "File number = "
       ]
      },
      {
       "output_type": "stream",
       "stream": "stdout",
       "text": [
        " 1118\n",
        "File number = "
       ]
      },
      {
       "output_type": "stream",
       "stream": "stdout",
       "text": [
        " 1119\n",
        "File number = "
       ]
      },
      {
       "output_type": "stream",
       "stream": "stdout",
       "text": [
        " 1120\n",
        "File number = "
       ]
      },
      {
       "output_type": "stream",
       "stream": "stdout",
       "text": [
        " 1121\n",
        "File number = "
       ]
      },
      {
       "output_type": "stream",
       "stream": "stdout",
       "text": [
        " 1122\n",
        "File number = "
       ]
      },
      {
       "output_type": "stream",
       "stream": "stdout",
       "text": [
        " 1123\n",
        "File number = "
       ]
      },
      {
       "output_type": "stream",
       "stream": "stdout",
       "text": [
        " 1124\n",
        "File number = "
       ]
      },
      {
       "output_type": "stream",
       "stream": "stdout",
       "text": [
        " 1125\n",
        "File number = "
       ]
      },
      {
       "output_type": "stream",
       "stream": "stdout",
       "text": [
        " 1126\n",
        "File number = "
       ]
      },
      {
       "output_type": "stream",
       "stream": "stdout",
       "text": [
        " 1127\n",
        "File number = "
       ]
      },
      {
       "output_type": "stream",
       "stream": "stdout",
       "text": [
        " 1128\n",
        "File number = "
       ]
      },
      {
       "output_type": "stream",
       "stream": "stdout",
       "text": [
        " 1129\n",
        "File number = "
       ]
      },
      {
       "output_type": "stream",
       "stream": "stdout",
       "text": [
        " 1130\n",
        "File number = "
       ]
      },
      {
       "output_type": "stream",
       "stream": "stdout",
       "text": [
        " 1131\n",
        "File number = "
       ]
      },
      {
       "output_type": "stream",
       "stream": "stdout",
       "text": [
        " 1132\n",
        "File number = "
       ]
      },
      {
       "output_type": "stream",
       "stream": "stdout",
       "text": [
        " 1133\n",
        "File number = "
       ]
      },
      {
       "output_type": "stream",
       "stream": "stdout",
       "text": [
        " 1134\n",
        "File number = "
       ]
      },
      {
       "output_type": "stream",
       "stream": "stdout",
       "text": [
        " 1135\n",
        "File number = "
       ]
      },
      {
       "output_type": "stream",
       "stream": "stdout",
       "text": [
        " 1136\n",
        "File number = "
       ]
      },
      {
       "output_type": "stream",
       "stream": "stdout",
       "text": [
        " 1137\n",
        "File number = "
       ]
      },
      {
       "output_type": "stream",
       "stream": "stdout",
       "text": [
        " 1138\n",
        "File number = "
       ]
      },
      {
       "output_type": "stream",
       "stream": "stdout",
       "text": [
        " 1139\n",
        "File number = "
       ]
      },
      {
       "output_type": "stream",
       "stream": "stdout",
       "text": [
        " 1140\n",
        "File number = "
       ]
      },
      {
       "output_type": "stream",
       "stream": "stdout",
       "text": [
        " 1141\n",
        "File number = "
       ]
      },
      {
       "output_type": "stream",
       "stream": "stdout",
       "text": [
        " 1142\n",
        "File number = "
       ]
      },
      {
       "output_type": "stream",
       "stream": "stdout",
       "text": [
        " 1143\n",
        "File number = "
       ]
      },
      {
       "output_type": "stream",
       "stream": "stdout",
       "text": [
        " 1144\n",
        "File number = "
       ]
      },
      {
       "output_type": "stream",
       "stream": "stdout",
       "text": [
        " 1145\n",
        "File number = "
       ]
      },
      {
       "output_type": "stream",
       "stream": "stdout",
       "text": [
        " 1146\n",
        "File number = "
       ]
      },
      {
       "output_type": "stream",
       "stream": "stdout",
       "text": [
        " 1147\n",
        "File number = "
       ]
      },
      {
       "output_type": "stream",
       "stream": "stdout",
       "text": [
        " 1148\n",
        "File number = "
       ]
      },
      {
       "output_type": "stream",
       "stream": "stdout",
       "text": [
        " 1149\n",
        "File number = "
       ]
      },
      {
       "output_type": "stream",
       "stream": "stdout",
       "text": [
        " 1150\n",
        "File number = "
       ]
      },
      {
       "output_type": "stream",
       "stream": "stdout",
       "text": [
        " 1151\n",
        "File number = "
       ]
      },
      {
       "output_type": "stream",
       "stream": "stdout",
       "text": [
        " 1152\n",
        "File number = "
       ]
      },
      {
       "output_type": "stream",
       "stream": "stdout",
       "text": [
        " 1153\n",
        "File number = "
       ]
      },
      {
       "output_type": "stream",
       "stream": "stdout",
       "text": [
        " 1154\n",
        "File number = "
       ]
      },
      {
       "output_type": "stream",
       "stream": "stdout",
       "text": [
        " 1155\n",
        "File number = "
       ]
      },
      {
       "output_type": "stream",
       "stream": "stdout",
       "text": [
        " 1156\n",
        "File number = "
       ]
      },
      {
       "output_type": "stream",
       "stream": "stdout",
       "text": [
        " 1157\n",
        "File number = "
       ]
      },
      {
       "output_type": "stream",
       "stream": "stdout",
       "text": [
        " 1158\n",
        "File number = "
       ]
      },
      {
       "output_type": "stream",
       "stream": "stdout",
       "text": [
        " 1159\n",
        "File number = "
       ]
      },
      {
       "output_type": "stream",
       "stream": "stdout",
       "text": [
        " 1160\n",
        "File number = "
       ]
      },
      {
       "output_type": "stream",
       "stream": "stdout",
       "text": [
        " 1161\n",
        "File number = "
       ]
      },
      {
       "output_type": "stream",
       "stream": "stdout",
       "text": [
        " 1162\n",
        "File number = "
       ]
      },
      {
       "output_type": "stream",
       "stream": "stdout",
       "text": [
        " 1163\n",
        "File number = "
       ]
      },
      {
       "output_type": "stream",
       "stream": "stdout",
       "text": [
        " 1164\n",
        "File number = "
       ]
      },
      {
       "output_type": "stream",
       "stream": "stdout",
       "text": [
        " 1165\n",
        "File number = "
       ]
      },
      {
       "output_type": "stream",
       "stream": "stdout",
       "text": [
        " 1166\n",
        "File number = "
       ]
      },
      {
       "output_type": "stream",
       "stream": "stdout",
       "text": [
        " 1167\n",
        "File number = "
       ]
      },
      {
       "output_type": "stream",
       "stream": "stdout",
       "text": [
        " 1168\n",
        "File number = "
       ]
      },
      {
       "output_type": "stream",
       "stream": "stdout",
       "text": [
        " 1169\n",
        "File number = "
       ]
      },
      {
       "output_type": "stream",
       "stream": "stdout",
       "text": [
        " 1170\n",
        "File number = "
       ]
      },
      {
       "output_type": "stream",
       "stream": "stdout",
       "text": [
        " 1171\n",
        "File number = "
       ]
      },
      {
       "output_type": "stream",
       "stream": "stdout",
       "text": [
        " 1172\n",
        "File number = "
       ]
      },
      {
       "output_type": "stream",
       "stream": "stdout",
       "text": [
        " 1173\n",
        "File number = "
       ]
      },
      {
       "output_type": "stream",
       "stream": "stdout",
       "text": [
        " 1174\n",
        "File number = "
       ]
      },
      {
       "output_type": "stream",
       "stream": "stdout",
       "text": [
        " 1175\n",
        "File number = "
       ]
      },
      {
       "output_type": "stream",
       "stream": "stdout",
       "text": [
        " 1176\n",
        "File number = "
       ]
      },
      {
       "output_type": "stream",
       "stream": "stdout",
       "text": [
        " 1177\n",
        "File number = "
       ]
      },
      {
       "output_type": "stream",
       "stream": "stdout",
       "text": [
        " 1178\n",
        "File number = "
       ]
      },
      {
       "output_type": "stream",
       "stream": "stdout",
       "text": [
        " 1179\n",
        "File number = "
       ]
      },
      {
       "output_type": "stream",
       "stream": "stdout",
       "text": [
        " 1180\n",
        "File number = "
       ]
      },
      {
       "output_type": "stream",
       "stream": "stdout",
       "text": [
        " 1181\n",
        "File number = "
       ]
      },
      {
       "output_type": "stream",
       "stream": "stdout",
       "text": [
        " 1182\n",
        "File number = "
       ]
      },
      {
       "output_type": "stream",
       "stream": "stdout",
       "text": [
        " 1183\n",
        "File number = "
       ]
      },
      {
       "output_type": "stream",
       "stream": "stdout",
       "text": [
        " 1184\n",
        "File number = "
       ]
      },
      {
       "output_type": "stream",
       "stream": "stdout",
       "text": [
        " 1185\n",
        "File number = "
       ]
      },
      {
       "output_type": "stream",
       "stream": "stdout",
       "text": [
        " 1186\n",
        "File number = "
       ]
      },
      {
       "output_type": "stream",
       "stream": "stdout",
       "text": [
        " 1187\n",
        "File number = "
       ]
      },
      {
       "output_type": "stream",
       "stream": "stdout",
       "text": [
        " 1188\n",
        "File number = "
       ]
      },
      {
       "output_type": "stream",
       "stream": "stdout",
       "text": [
        " 1189\n",
        "File number = "
       ]
      },
      {
       "output_type": "stream",
       "stream": "stdout",
       "text": [
        " 1190\n",
        "File number = "
       ]
      },
      {
       "output_type": "stream",
       "stream": "stdout",
       "text": [
        " 1191\n",
        "File number = "
       ]
      },
      {
       "output_type": "stream",
       "stream": "stdout",
       "text": [
        " 1192\n",
        "File number = "
       ]
      },
      {
       "output_type": "stream",
       "stream": "stdout",
       "text": [
        " 1193\n",
        "File number = "
       ]
      },
      {
       "output_type": "stream",
       "stream": "stdout",
       "text": [
        " 1194\n",
        "File number = "
       ]
      },
      {
       "output_type": "stream",
       "stream": "stdout",
       "text": [
        " 1195\n",
        "File number = "
       ]
      },
      {
       "output_type": "stream",
       "stream": "stdout",
       "text": [
        " 1196\n",
        "File number = "
       ]
      },
      {
       "output_type": "stream",
       "stream": "stdout",
       "text": [
        " 1197\n",
        "File number = "
       ]
      },
      {
       "output_type": "stream",
       "stream": "stdout",
       "text": [
        " 1198\n",
        "File number = "
       ]
      },
      {
       "output_type": "stream",
       "stream": "stdout",
       "text": [
        " 1199\n",
        "File number = "
       ]
      },
      {
       "output_type": "stream",
       "stream": "stdout",
       "text": [
        " 1200\n",
        "File number = "
       ]
      },
      {
       "output_type": "stream",
       "stream": "stdout",
       "text": [
        " 1201\n",
        "File number = "
       ]
      },
      {
       "output_type": "stream",
       "stream": "stdout",
       "text": [
        " 1202\n",
        "File number = "
       ]
      },
      {
       "output_type": "stream",
       "stream": "stdout",
       "text": [
        " 1203\n",
        "File number = "
       ]
      },
      {
       "output_type": "stream",
       "stream": "stdout",
       "text": [
        " 1204\n",
        "File number = "
       ]
      },
      {
       "output_type": "stream",
       "stream": "stdout",
       "text": [
        " 1205\n",
        "File number = "
       ]
      },
      {
       "output_type": "stream",
       "stream": "stdout",
       "text": [
        " 1206\n",
        "File number = "
       ]
      },
      {
       "output_type": "stream",
       "stream": "stdout",
       "text": [
        " 1207\n",
        "File number = "
       ]
      },
      {
       "output_type": "stream",
       "stream": "stdout",
       "text": [
        " 1208\n",
        "File number = "
       ]
      },
      {
       "output_type": "stream",
       "stream": "stdout",
       "text": [
        " 1209\n",
        "File number = "
       ]
      },
      {
       "output_type": "stream",
       "stream": "stdout",
       "text": [
        " 1210\n",
        "File number = "
       ]
      },
      {
       "output_type": "stream",
       "stream": "stdout",
       "text": [
        " 1211\n",
        "File number = "
       ]
      },
      {
       "output_type": "stream",
       "stream": "stdout",
       "text": [
        " 1212\n",
        "File number = "
       ]
      },
      {
       "output_type": "stream",
       "stream": "stdout",
       "text": [
        " 1213\n",
        "File number = "
       ]
      },
      {
       "output_type": "stream",
       "stream": "stdout",
       "text": [
        " 1214\n",
        "File number = "
       ]
      },
      {
       "output_type": "stream",
       "stream": "stdout",
       "text": [
        " 1215\n",
        "File number = "
       ]
      },
      {
       "output_type": "stream",
       "stream": "stdout",
       "text": [
        " 1216\n",
        "File number = "
       ]
      },
      {
       "output_type": "stream",
       "stream": "stdout",
       "text": [
        " 1217\n",
        "File number = "
       ]
      },
      {
       "output_type": "stream",
       "stream": "stdout",
       "text": [
        " 1218\n",
        "File number = "
       ]
      },
      {
       "output_type": "stream",
       "stream": "stdout",
       "text": [
        " 1219\n",
        "File number = "
       ]
      },
      {
       "output_type": "stream",
       "stream": "stdout",
       "text": [
        " 1220\n",
        "File number = "
       ]
      },
      {
       "output_type": "stream",
       "stream": "stdout",
       "text": [
        " 1221\n",
        "File number = "
       ]
      },
      {
       "output_type": "stream",
       "stream": "stdout",
       "text": [
        " 1222\n",
        "File number = "
       ]
      },
      {
       "output_type": "stream",
       "stream": "stdout",
       "text": [
        " 1223\n",
        "File number = "
       ]
      },
      {
       "output_type": "stream",
       "stream": "stdout",
       "text": [
        " 1224\n",
        "File number = "
       ]
      },
      {
       "output_type": "stream",
       "stream": "stdout",
       "text": [
        " 1225\n",
        "File number = "
       ]
      },
      {
       "output_type": "stream",
       "stream": "stdout",
       "text": [
        " 1226\n",
        "File number = "
       ]
      },
      {
       "output_type": "stream",
       "stream": "stdout",
       "text": [
        " 1227\n",
        "File number = "
       ]
      },
      {
       "output_type": "stream",
       "stream": "stdout",
       "text": [
        " 1228\n",
        "File number = "
       ]
      },
      {
       "output_type": "stream",
       "stream": "stdout",
       "text": [
        " 1229\n",
        "File number = "
       ]
      },
      {
       "output_type": "stream",
       "stream": "stdout",
       "text": [
        " 1230\n",
        "File number = "
       ]
      },
      {
       "output_type": "stream",
       "stream": "stdout",
       "text": [
        " 1231\n",
        "File number = "
       ]
      },
      {
       "output_type": "stream",
       "stream": "stdout",
       "text": [
        " 1232\n",
        "File number = "
       ]
      },
      {
       "output_type": "stream",
       "stream": "stdout",
       "text": [
        " 1233\n",
        "File number = "
       ]
      },
      {
       "output_type": "stream",
       "stream": "stdout",
       "text": [
        " 1234\n",
        "File number = "
       ]
      },
      {
       "output_type": "stream",
       "stream": "stdout",
       "text": [
        " 1235\n",
        "File number = "
       ]
      },
      {
       "output_type": "stream",
       "stream": "stdout",
       "text": [
        " 1236\n",
        "File number = "
       ]
      },
      {
       "output_type": "stream",
       "stream": "stdout",
       "text": [
        " 1237\n",
        "File number = "
       ]
      },
      {
       "output_type": "stream",
       "stream": "stdout",
       "text": [
        " 1238\n",
        "File number = "
       ]
      },
      {
       "output_type": "stream",
       "stream": "stdout",
       "text": [
        " 1239\n",
        "File number = "
       ]
      },
      {
       "output_type": "stream",
       "stream": "stdout",
       "text": [
        " 1240\n",
        "File number = "
       ]
      },
      {
       "output_type": "stream",
       "stream": "stdout",
       "text": [
        " 1241\n",
        "File number = "
       ]
      },
      {
       "output_type": "stream",
       "stream": "stdout",
       "text": [
        " 1242\n",
        "File number = "
       ]
      },
      {
       "output_type": "stream",
       "stream": "stdout",
       "text": [
        " 1243\n",
        "File number = "
       ]
      },
      {
       "output_type": "stream",
       "stream": "stdout",
       "text": [
        " 1244\n",
        "File number = "
       ]
      },
      {
       "output_type": "stream",
       "stream": "stdout",
       "text": [
        " 1245\n",
        "File number = "
       ]
      },
      {
       "output_type": "stream",
       "stream": "stdout",
       "text": [
        " 1246\n",
        "File number = "
       ]
      },
      {
       "output_type": "stream",
       "stream": "stdout",
       "text": [
        " 1247\n",
        "File number = "
       ]
      },
      {
       "output_type": "stream",
       "stream": "stdout",
       "text": [
        " 1248\n",
        "File number = "
       ]
      },
      {
       "output_type": "stream",
       "stream": "stdout",
       "text": [
        " 1249\n",
        "File number = "
       ]
      },
      {
       "output_type": "stream",
       "stream": "stdout",
       "text": [
        " 1250\n",
        "File number = "
       ]
      },
      {
       "output_type": "stream",
       "stream": "stdout",
       "text": [
        " 1251\n",
        "File number = "
       ]
      },
      {
       "output_type": "stream",
       "stream": "stdout",
       "text": [
        " 1252\n",
        "File number = "
       ]
      },
      {
       "output_type": "stream",
       "stream": "stdout",
       "text": [
        " 1253\n",
        "File number = "
       ]
      },
      {
       "output_type": "stream",
       "stream": "stdout",
       "text": [
        " 1254\n",
        "File number = "
       ]
      },
      {
       "output_type": "stream",
       "stream": "stdout",
       "text": [
        " 1255\n",
        "File number = "
       ]
      },
      {
       "output_type": "stream",
       "stream": "stdout",
       "text": [
        " 1256\n",
        "File number = "
       ]
      },
      {
       "output_type": "stream",
       "stream": "stdout",
       "text": [
        " 1257\n",
        "File number = "
       ]
      },
      {
       "output_type": "stream",
       "stream": "stdout",
       "text": [
        " 1258\n",
        "File number = "
       ]
      },
      {
       "output_type": "stream",
       "stream": "stdout",
       "text": [
        " 1259\n",
        "File number = "
       ]
      },
      {
       "output_type": "stream",
       "stream": "stdout",
       "text": [
        " 1260\n",
        "File number = "
       ]
      },
      {
       "output_type": "stream",
       "stream": "stdout",
       "text": [
        " 1261\n",
        "File number = "
       ]
      },
      {
       "output_type": "stream",
       "stream": "stdout",
       "text": [
        " 1262\n",
        "File number = "
       ]
      },
      {
       "output_type": "stream",
       "stream": "stdout",
       "text": [
        " 1263\n",
        "File number = "
       ]
      },
      {
       "output_type": "stream",
       "stream": "stdout",
       "text": [
        " 1264\n",
        "File number = "
       ]
      },
      {
       "output_type": "stream",
       "stream": "stdout",
       "text": [
        " 1265\n",
        "File number = "
       ]
      },
      {
       "output_type": "stream",
       "stream": "stdout",
       "text": [
        " 1266\n",
        "File number = "
       ]
      },
      {
       "output_type": "stream",
       "stream": "stdout",
       "text": [
        " 1267\n",
        "File number = "
       ]
      },
      {
       "output_type": "stream",
       "stream": "stdout",
       "text": [
        " 1268\n",
        "File number = "
       ]
      },
      {
       "output_type": "stream",
       "stream": "stdout",
       "text": [
        " 1269\n",
        "File number = "
       ]
      },
      {
       "output_type": "stream",
       "stream": "stdout",
       "text": [
        " 1270\n",
        "File number = "
       ]
      },
      {
       "output_type": "stream",
       "stream": "stdout",
       "text": [
        " 1271\n",
        "File number = "
       ]
      },
      {
       "output_type": "stream",
       "stream": "stdout",
       "text": [
        " 1272\n",
        "File number = "
       ]
      },
      {
       "output_type": "stream",
       "stream": "stdout",
       "text": [
        " 1273\n",
        "File number = "
       ]
      },
      {
       "output_type": "stream",
       "stream": "stdout",
       "text": [
        " 1274\n",
        "File number = "
       ]
      },
      {
       "output_type": "stream",
       "stream": "stdout",
       "text": [
        " 1275\n",
        "File number = "
       ]
      },
      {
       "output_type": "stream",
       "stream": "stdout",
       "text": [
        " 1276\n",
        "File number = "
       ]
      },
      {
       "output_type": "stream",
       "stream": "stdout",
       "text": [
        " 1277\n",
        "File number = "
       ]
      },
      {
       "output_type": "stream",
       "stream": "stdout",
       "text": [
        " 1278\n",
        "File number = "
       ]
      },
      {
       "output_type": "stream",
       "stream": "stdout",
       "text": [
        " 1279\n",
        "File number = "
       ]
      },
      {
       "output_type": "stream",
       "stream": "stdout",
       "text": [
        " 1280\n",
        "File number = "
       ]
      },
      {
       "output_type": "stream",
       "stream": "stdout",
       "text": [
        " 1281\n",
        "File number = "
       ]
      },
      {
       "output_type": "stream",
       "stream": "stdout",
       "text": [
        " 1282\n",
        "File number = "
       ]
      },
      {
       "output_type": "stream",
       "stream": "stdout",
       "text": [
        " 1283\n",
        "File number = "
       ]
      },
      {
       "output_type": "stream",
       "stream": "stdout",
       "text": [
        " 1284\n",
        "File number = "
       ]
      },
      {
       "output_type": "stream",
       "stream": "stdout",
       "text": [
        " 1285\n",
        "File number = "
       ]
      },
      {
       "output_type": "stream",
       "stream": "stdout",
       "text": [
        " 1286\n",
        "File number = "
       ]
      },
      {
       "output_type": "stream",
       "stream": "stdout",
       "text": [
        " 1287\n",
        "File number = "
       ]
      },
      {
       "output_type": "stream",
       "stream": "stdout",
       "text": [
        " 1288\n",
        "File number = "
       ]
      },
      {
       "output_type": "stream",
       "stream": "stdout",
       "text": [
        " 1289\n",
        "File number = "
       ]
      },
      {
       "output_type": "stream",
       "stream": "stdout",
       "text": [
        " 1290\n",
        "File number = "
       ]
      },
      {
       "output_type": "stream",
       "stream": "stdout",
       "text": [
        " 1291\n",
        "File number = "
       ]
      },
      {
       "output_type": "stream",
       "stream": "stdout",
       "text": [
        " 1292\n",
        "File number = "
       ]
      },
      {
       "output_type": "stream",
       "stream": "stdout",
       "text": [
        " 1293\n",
        "File number = "
       ]
      },
      {
       "output_type": "stream",
       "stream": "stdout",
       "text": [
        " 1294\n",
        "File number = "
       ]
      },
      {
       "output_type": "stream",
       "stream": "stdout",
       "text": [
        " 1295\n",
        "File number = "
       ]
      },
      {
       "output_type": "stream",
       "stream": "stdout",
       "text": [
        " 1296\n",
        "File number = "
       ]
      },
      {
       "output_type": "stream",
       "stream": "stdout",
       "text": [
        " 1297\n",
        "File number = "
       ]
      },
      {
       "output_type": "stream",
       "stream": "stdout",
       "text": [
        " 1298\n",
        "File number = "
       ]
      },
      {
       "output_type": "stream",
       "stream": "stdout",
       "text": [
        " 1299\n",
        "File number = "
       ]
      },
      {
       "output_type": "stream",
       "stream": "stdout",
       "text": [
        " 1300\n",
        "File number = "
       ]
      },
      {
       "output_type": "stream",
       "stream": "stdout",
       "text": [
        " 1301\n",
        "File number = "
       ]
      },
      {
       "output_type": "stream",
       "stream": "stdout",
       "text": [
        " 1302\n",
        "File number = "
       ]
      },
      {
       "output_type": "stream",
       "stream": "stdout",
       "text": [
        " 1303\n",
        "File number = "
       ]
      },
      {
       "output_type": "stream",
       "stream": "stdout",
       "text": [
        " 1304\n",
        "File number = "
       ]
      },
      {
       "output_type": "stream",
       "stream": "stdout",
       "text": [
        " 1305\n",
        "File number = "
       ]
      },
      {
       "output_type": "stream",
       "stream": "stdout",
       "text": [
        " 1306\n",
        "File number = "
       ]
      },
      {
       "output_type": "stream",
       "stream": "stdout",
       "text": [
        " 1307\n",
        "File number = "
       ]
      },
      {
       "output_type": "stream",
       "stream": "stdout",
       "text": [
        " 1308\n",
        "File number = "
       ]
      },
      {
       "output_type": "stream",
       "stream": "stdout",
       "text": [
        " 1309\n",
        "File number = "
       ]
      },
      {
       "output_type": "stream",
       "stream": "stdout",
       "text": [
        " 1310\n",
        "File number = "
       ]
      },
      {
       "output_type": "stream",
       "stream": "stdout",
       "text": [
        " 1311\n",
        "File number = "
       ]
      },
      {
       "output_type": "stream",
       "stream": "stdout",
       "text": [
        " 1312\n",
        "File number = "
       ]
      },
      {
       "output_type": "stream",
       "stream": "stdout",
       "text": [
        " 1313\n",
        "File number = "
       ]
      },
      {
       "output_type": "stream",
       "stream": "stdout",
       "text": [
        " 1314\n",
        "File number = "
       ]
      },
      {
       "output_type": "stream",
       "stream": "stdout",
       "text": [
        " 1315\n",
        "File number = "
       ]
      },
      {
       "output_type": "stream",
       "stream": "stdout",
       "text": [
        " 1316\n",
        "File number = "
       ]
      },
      {
       "output_type": "stream",
       "stream": "stdout",
       "text": [
        " 1317\n",
        "File number = "
       ]
      },
      {
       "output_type": "stream",
       "stream": "stdout",
       "text": [
        " 1318\n",
        "File number = "
       ]
      },
      {
       "output_type": "stream",
       "stream": "stdout",
       "text": [
        " 1319\n",
        "File number = "
       ]
      },
      {
       "output_type": "stream",
       "stream": "stdout",
       "text": [
        " 1320\n",
        "File number = "
       ]
      },
      {
       "output_type": "stream",
       "stream": "stdout",
       "text": [
        " 1321\n",
        "File number = "
       ]
      },
      {
       "output_type": "stream",
       "stream": "stdout",
       "text": [
        " 1322\n",
        "File number = "
       ]
      },
      {
       "output_type": "stream",
       "stream": "stdout",
       "text": [
        " 1323\n",
        "File number = "
       ]
      },
      {
       "output_type": "stream",
       "stream": "stdout",
       "text": [
        " 1324\n",
        "File number = "
       ]
      },
      {
       "output_type": "stream",
       "stream": "stdout",
       "text": [
        " 1325\n",
        "File number = "
       ]
      },
      {
       "output_type": "stream",
       "stream": "stdout",
       "text": [
        " 1326\n",
        "File number = "
       ]
      },
      {
       "output_type": "stream",
       "stream": "stdout",
       "text": [
        " 1327\n",
        "File number = "
       ]
      },
      {
       "output_type": "stream",
       "stream": "stdout",
       "text": [
        " 1328\n",
        "File number = "
       ]
      },
      {
       "output_type": "stream",
       "stream": "stdout",
       "text": [
        " 1329\n",
        "File number = "
       ]
      },
      {
       "output_type": "stream",
       "stream": "stdout",
       "text": [
        " 1330\n",
        "File number = "
       ]
      },
      {
       "output_type": "stream",
       "stream": "stdout",
       "text": [
        " 1331\n",
        "File number = "
       ]
      },
      {
       "output_type": "stream",
       "stream": "stdout",
       "text": [
        " 1332\n",
        "File number = "
       ]
      },
      {
       "output_type": "stream",
       "stream": "stdout",
       "text": [
        " 1333\n",
        "File number = "
       ]
      },
      {
       "output_type": "stream",
       "stream": "stdout",
       "text": [
        " 1334\n",
        "File number = "
       ]
      },
      {
       "output_type": "stream",
       "stream": "stdout",
       "text": [
        " 1335\n",
        "File number = "
       ]
      },
      {
       "output_type": "stream",
       "stream": "stdout",
       "text": [
        " 1336\n",
        "File number = "
       ]
      },
      {
       "output_type": "stream",
       "stream": "stdout",
       "text": [
        " 1337\n",
        "File number = "
       ]
      },
      {
       "output_type": "stream",
       "stream": "stdout",
       "text": [
        " 1338\n",
        "File number = "
       ]
      },
      {
       "output_type": "stream",
       "stream": "stdout",
       "text": [
        " 1339\n",
        "File number = "
       ]
      },
      {
       "output_type": "stream",
       "stream": "stdout",
       "text": [
        " 1340\n",
        "File number = "
       ]
      },
      {
       "output_type": "stream",
       "stream": "stdout",
       "text": [
        " 1341\n",
        "File number = "
       ]
      },
      {
       "output_type": "stream",
       "stream": "stdout",
       "text": [
        " 1342\n",
        "File number = "
       ]
      },
      {
       "output_type": "stream",
       "stream": "stdout",
       "text": [
        " 1343\n",
        "File number = "
       ]
      },
      {
       "output_type": "stream",
       "stream": "stdout",
       "text": [
        " 1344\n",
        "File number = "
       ]
      },
      {
       "output_type": "stream",
       "stream": "stdout",
       "text": [
        " 1345\n",
        "File number = "
       ]
      },
      {
       "output_type": "stream",
       "stream": "stdout",
       "text": [
        " 1346\n",
        "File number = "
       ]
      },
      {
       "output_type": "stream",
       "stream": "stdout",
       "text": [
        " 1347\n",
        "File number = "
       ]
      },
      {
       "output_type": "stream",
       "stream": "stdout",
       "text": [
        " 1348\n",
        "File number = "
       ]
      },
      {
       "output_type": "stream",
       "stream": "stdout",
       "text": [
        " 1349\n",
        "File number = "
       ]
      },
      {
       "output_type": "stream",
       "stream": "stdout",
       "text": [
        " 1350\n",
        "File number = "
       ]
      },
      {
       "output_type": "stream",
       "stream": "stdout",
       "text": [
        " 1351\n",
        "File number = "
       ]
      },
      {
       "output_type": "stream",
       "stream": "stdout",
       "text": [
        " 1352\n",
        "File number = "
       ]
      },
      {
       "output_type": "stream",
       "stream": "stdout",
       "text": [
        " 1353\n",
        "File number = "
       ]
      },
      {
       "output_type": "stream",
       "stream": "stdout",
       "text": [
        " 1354\n",
        "File number = "
       ]
      },
      {
       "output_type": "stream",
       "stream": "stdout",
       "text": [
        " 1355\n",
        "File number = "
       ]
      },
      {
       "output_type": "stream",
       "stream": "stdout",
       "text": [
        " 1356\n",
        "File number = "
       ]
      },
      {
       "output_type": "stream",
       "stream": "stdout",
       "text": [
        " 1357\n",
        "File number = "
       ]
      },
      {
       "output_type": "stream",
       "stream": "stdout",
       "text": [
        " 1358\n",
        "File number = "
       ]
      },
      {
       "output_type": "stream",
       "stream": "stdout",
       "text": [
        " 1359\n",
        "File number = "
       ]
      },
      {
       "output_type": "stream",
       "stream": "stdout",
       "text": [
        " 1360\n",
        "File number = "
       ]
      },
      {
       "output_type": "stream",
       "stream": "stdout",
       "text": [
        " 1361\n",
        "File number = "
       ]
      },
      {
       "output_type": "stream",
       "stream": "stdout",
       "text": [
        " 1362\n",
        "File number = "
       ]
      },
      {
       "output_type": "stream",
       "stream": "stdout",
       "text": [
        " 1363\n",
        "File number = "
       ]
      },
      {
       "output_type": "stream",
       "stream": "stdout",
       "text": [
        " 1364\n"
       ]
      }
     ],
     "prompt_number": 100
    },
    {
     "cell_type": "code",
     "collapsed": false,
     "input": [],
     "language": "python",
     "metadata": {},
     "outputs": []
    }
   ],
   "metadata": {}
  }
 ]
}