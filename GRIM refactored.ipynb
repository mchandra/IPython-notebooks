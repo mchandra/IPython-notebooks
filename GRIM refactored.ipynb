{
 "metadata": {
  "name": "",
  "signature": "sha256:76c4bb68a62d8c5522f63ddd8e159a4e18ddfd1824d5b99d8431e6e87f15e2e9"
 },
 "nbformat": 3,
 "nbformat_minor": 0,
 "worksheets": [
  {
   "cells": [
    {
     "cell_type": "code",
     "collapsed": false,
     "input": [
      "%qtconsole"
     ],
     "language": "python",
     "metadata": {},
     "outputs": [],
     "prompt_number": 32
    },
    {
     "cell_type": "code",
     "collapsed": false,
     "input": [
      "import glob\n",
      "import h5py"
     ],
     "language": "python",
     "metadata": {},
     "outputs": [],
     "prompt_number": 1
    },
    {
     "cell_type": "code",
     "collapsed": false,
     "input": [
      "filepath = '/home/mc/PhD/grim_petsc/build'\n",
      "files = np.sort(glob.glob(filepath+'/data*.h5'))\n",
      "\n",
      "N1 = 112\n",
      "N2 = 112\n",
      "dof = 8\n",
      "\n",
      "data = zeros([N2, N1, dof, files.size]) \n",
      "for i, dumpfile in enumerate(files):\n",
      "    datafile = h5py.File(dumpfile, \"r\")\n",
      "    data[:, :, :, i] = datafile[datafile.items()[0][0]][:]\n",
      "    datafile.close()"
     ],
     "language": "python",
     "metadata": {},
     "outputs": [],
     "prompt_number": 131
    },
    {
     "cell_type": "code",
     "collapsed": false,
     "input": [
      "clf()\n",
      "contourf(data[:, :, 2, 90], 50)\n",
      "colorbar()"
     ],
     "language": "python",
     "metadata": {},
     "outputs": [
      {
       "metadata": {},
       "output_type": "pyout",
       "prompt_number": 142,
       "text": [
        "<matplotlib.colorbar.Colorbar instance at 0x7f7c6e31c3b0>"
       ]
      }
     ],
     "prompt_number": 142
    },
    {
     "cell_type": "code",
     "collapsed": false,
     "input": [],
     "language": "python",
     "metadata": {},
     "outputs": []
    }
   ],
   "metadata": {}
  }
 ]
}