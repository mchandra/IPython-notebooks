{
 "metadata": {
  "name": "PUB Kerr-Schild Atmosphere"
 },
 "nbformat": 3,
 "nbformat_minor": 0,
 "worksheets": [
  {
   "cells": [
    {
     "cell_type": "code",
     "collapsed": false,
     "input": [
      "from scipy import optimize\n",
      "from scipy.integrate import odeint\n",
      "\n",
      "# Constants\n",
      "G        = 6.6742e-8\n",
      "c        = 2.99792458e10\n",
      "sig      = 5.670400e-5\n",
      "aR       = 4.*sig/c\n",
      "Msolar   = 1.989e33\n",
      "MBH      = 1.e0*Msolar\n",
      "MBH_geom = MBH * (G/c**2.)\n",
      "mp       = 1.67262171e-24\n",
      "me       = 9.1093826e-28\n",
      "kb       = 1.3806505e-16\n",
      "h        = 6.626e-27\n",
      "\n",
      "# Conveniences\n",
      "RG       = G*MBH/c**2."
     ],
     "language": "python",
     "metadata": {},
     "outputs": [],
     "prompt_number": 1
    },
    {
     "cell_type": "code",
     "collapsed": false,
     "input": [
      "# Initial parameters\n",
      "\n",
      "gamma  = 5./3.\n",
      "ri     = 4.*RG # Gravitational radii\n",
      "mu     = 0.5"
     ],
     "language": "python",
     "metadata": {},
     "outputs": [],
     "prompt_number": 2
    },
    {
     "cell_type": "code",
     "collapsed": false,
     "input": [
      "# Kerr-Schild coordinates (spin a = 0)\n",
      "def gcov_func(r, theta):\n",
      "    mat = [[0,0,0,0],[0,0,0,0],[0,0,0,0],[0,0,0,0]]\n",
      "    m = MBH_geom\n",
      "    #m = 1.\n",
      "    mat[0][0] = -(1. - 2.*m/r)\n",
      "    mat[1][0] = mat[0][1] = 2.*m/r\n",
      "    mat[1][1] = 1. + 2.*m/r\n",
      "    mat[2][2] = r**2\n",
      "    mat[3][3] = r**2*sin(theta)**2\n",
      "    return mat\n",
      "    \n",
      "def gcon_func(r, theta):\n",
      "    gcov = gcov_func(r,theta)\n",
      "    return linalg.inv(gcov)"
     ],
     "language": "python",
     "metadata": {},
     "outputs": [],
     "prompt_number": 3
    },
    {
     "cell_type": "code",
     "collapsed": false,
     "input": [
      "print Tempfunc(4*RG)\n",
      "print T_0"
     ],
     "language": "python",
     "metadata": {},
     "outputs": [
      {
       "ename": "NameError",
       "evalue": "name 'Tempfunc' is not defined",
       "output_type": "pyerr",
       "traceback": [
        "\u001b[0;31m---------------------------------------------------------------------------\u001b[0m\n\u001b[0;31mNameError\u001b[0m                                 Traceback (most recent call last)",
        "\u001b[0;32m<ipython-input-4-db8f862118f4>\u001b[0m in \u001b[0;36m<module>\u001b[0;34m()\u001b[0m\n\u001b[0;32m----> 1\u001b[0;31m \u001b[0;32mprint\u001b[0m \u001b[0mTempfunc\u001b[0m\u001b[0;34m(\u001b[0m\u001b[0;36m4\u001b[0m\u001b[0;34m*\u001b[0m\u001b[0mRG\u001b[0m\u001b[0;34m)\u001b[0m\u001b[0;34m\u001b[0m\u001b[0m\n\u001b[0m\u001b[1;32m      2\u001b[0m \u001b[0;32mprint\u001b[0m \u001b[0mT_0\u001b[0m\u001b[0;34m\u001b[0m\u001b[0m\n",
        "\u001b[0;31mNameError\u001b[0m: name 'Tempfunc' is not defined"
       ]
      }
     ],
     "prompt_number": 4
    },
    {
     "cell_type": "code",
     "collapsed": false,
     "input": [
      "# Estimate temperature for given scale height (here H ~ R)\n",
      "\n",
      "HoverR = 4.\n",
      "phi = HoverR*G*MBH/(4.*RG)\n",
      "T0 = (mu*mp)*(phi)/(4*kb)\n",
      "print 'T0 = %e K' % T0\n",
      "gcov = gcov_func(ri, pi/2.)\n",
      "T_0 = T0*sqrt(-gcov[0][0])\n",
      "\n",
      "# Create function for temperature everywhere\n",
      "def Tempfunc(r):\n",
      "    gcov = gcov_func(r, pi/2.)\n",
      "    Tr = 1./sqrt(-gcov[0][0])*T_0\n",
      "    return Tr"
     ],
     "language": "python",
     "metadata": {},
     "outputs": [
      {
       "output_type": "stream",
       "stream": "stdout",
       "text": [
        "T0 = 1.361023e+12 K\n"
       ]
      }
     ],
     "prompt_number": 5
    },
    {
     "cell_type": "code",
     "collapsed": false,
     "input": [
      "# For a given ratio of radiation to gas pressure, calculate rho0\n",
      "\n",
      "PradOverPgas = 2.e-1\n",
      "rho0 = 1./3.*aR*T0**3.*(mu*mp)/(PradOverPgas*kb)\n",
      "print 'rho = %e g cm^-3' % rho0"
     ],
     "language": "python",
     "metadata": {},
     "outputs": [
      {
       "output_type": "stream",
       "stream": "stdout",
       "text": [
        "rho = 1.925670e+14 g cm^-3\n"
       ]
      }
     ],
     "prompt_number": 6
    },
    {
     "cell_type": "code",
     "collapsed": false,
     "input": [
      "# Initialize P and rho0\n",
      "#rho0 = 1.\n",
      "P = rho0*kb*Tempfunc(ri)/(mu*mp)\n",
      "# Convert to geometrized units\n",
      "rho0_geom = rho0*(G/c**2.)\n",
      "P_geom = P*(G/c**4.)\n",
      "print 'P = %e erg cm^-3' % P + ' and rho0 = %e g cm^-3' % rho0\n",
      "print 'P = %e l^-2' % P_geom + ' and rho0 = %e l^-2' % rho0_geom"
     ],
     "language": "python",
     "metadata": {},
     "outputs": [
      {
       "output_type": "stream",
       "stream": "stdout",
       "text": [
        "P = 4.326765e+34 erg cm^-3 and rho0 = 1.925670e+14 g cm^-3\n",
        "P = 3.575030e-15 l^-2 and rho0 = 1.430012e-14 l^-2\n"
       ]
      }
     ],
     "prompt_number": 7
    },
    {
     "cell_type": "code",
     "collapsed": false,
     "input": [
      "# Integrate pressure ODE\n",
      "\n",
      "def Pfunc(x, r):\n",
      "    T = Tempfunc(r)\n",
      "    P = x[0]\n",
      "    Pcgs = P/(G/c**4.)\n",
      "    rho0cgs = Pcgs/(kb*T)*(mu*mp)\n",
      "    rho0 = rho0cgs*(G/c**2.)\n",
      "    \n",
      "    ERad_cgs = aR*(T)**4.\n",
      "    ERad = ERad_cgs*(G/c**4.)\n",
      "\n",
      "    Einfinity_cgs = aR*(T_0)**4.\n",
      "    Einfinity_geom = Einfinity_cgs*(G/c**4.)\n",
      "    #ERad = 0.\n",
      "    #return (-(rho0 + gamma*P/(gamma-1.) + 4./3.*ERad)*MBH_geom/((1.-2.*MBH_geom/r)*r**2))\n",
      "    #return (-(rho0 + gamma*P/(gamma-1.) + 4./3.*ERad)*MBH_geom/((1.-2.*MBH_geom/r)*r**2) + \\\n",
      "    #        2./3.*Einfinity_geom*((2.*MBH_geom*r)/((2.*MBH_geom-r))**3.))\n",
      "    return (-(rho0 + gamma*P/(gamma-1.) + 4./3.*ERad)*MBH_geom/((1.-2.*MBH_geom/r)*r**2)) - \\\n",
      "            4./3.*Einfinity_geom*((MBH_geom*r)/(2.*MBH_geom-r)**3.)\n",
      "\n",
      "# Run the integration\n",
      "rMin = ri\n",
      "rMax = 20.*RG\n",
      "N = 2048\n",
      "r = linspace(rMin, rMax, N)\n",
      "PR = P_geom\n",
      "#sol = odeint(odeFun, UR, r, args)\n",
      "sol = odeint(Pfunc, PR, r)"
     ],
     "language": "python",
     "metadata": {},
     "outputs": [],
     "prompt_number": 8
    },
    {
     "cell_type": "code",
     "collapsed": false,
     "input": [
      "# Estimate maximum frequency of emission\n",
      "\n",
      "print 'max nu = %e' % (5.879e10*Tempfunc(ri))"
     ],
     "language": "python",
     "metadata": {},
     "outputs": [
      {
       "output_type": "stream",
       "stream": "stdout",
       "text": [
        "max nu = 8.001453e+22\n"
       ]
      }
     ],
     "prompt_number": 9
    },
    {
     "cell_type": "code",
     "collapsed": false,
     "input": [
      "def blackbody(nu, T):\n",
      "    return 2*h*nu**3/c**2.*1/(expm1(h*nu/(kb*T)))\n",
      "\n",
      "TL = Tempfunc(ri)\n",
      "TR = Tempfunc(20.*RG)\n",
      "\n",
      "nuMaxR = 5.879e10*Tempfunc(ri)\n",
      "nuMaxL = 5.879e10*Tempfunc(20.*RG)\n",
      "\n",
      "print \"nuMaxR = %e\" % nuMaxR + \" and nuMaxL = %e\" % nuMaxL\n",
      "\n",
      "nuMin = 1.e18\n",
      "nuMax = 1.e24\n",
      "nu = logspace(log10(nuMin),log10(nuMax),1000)\n",
      "Bv = blackbody(nu, TR)\n",
      "#plot(nu,Bv)\n",
      "Bv = blackbody(nu, TL)\n",
      "#plot(nu,Bv)"
     ],
     "language": "python",
     "metadata": {},
     "outputs": [
      {
       "output_type": "stream",
       "stream": "stdout",
       "text": [
        "nuMaxR = 8.001453e+22 and nuMaxL = 5.963931e+22\n"
       ]
      }
     ],
     "prompt_number": 10
    },
    {
     "cell_type": "code",
     "collapsed": false,
     "input": [
      "# Construct additional arrays\n",
      "\n",
      "Tarray = Tempfunc(r)\n",
      "rho0array = []\n",
      "Eradarray = aR*Tempfunc(r)**4.\n",
      "for i in xrange(N):\n",
      "    rho0array.append((sol[i][0]/(G/c**4.))/(kb*Tempfunc(r[i])/(mu*mp)))"
     ],
     "language": "python",
     "metadata": {},
     "outputs": [],
     "prompt_number": 11
    },
    {
     "cell_type": "code",
     "collapsed": false,
     "input": [
      "output = numpy.c_[r/RG, rho0array, sol[::,0]/(G/c**4.), Eradarray]\n",
      "savetxt('kerrschild-atmosphere.txt', output)"
     ],
     "language": "python",
     "metadata": {},
     "outputs": [],
     "prompt_number": 11
    },
    {
     "cell_type": "code",
     "collapsed": false,
     "input": [
      "print (rho0array[30]*5.e-43*RG/(mu*mp))"
     ],
     "language": "python",
     "metadata": {},
     "outputs": [
      {
       "output_type": "stream",
       "stream": "stdout",
       "text": [
        "14.4858675983\n"
       ]
      }
     ],
     "prompt_number": 37
    },
    {
     "cell_type": "code",
     "collapsed": false,
     "input": [
      "i = 0\n",
      "print 'r = %e cm' % r[i] + ' or %e RG' % (r[i]/RG)\n",
      "print 'rho(cgs) = %e ' % rho0array[i]\n",
      "print 'P(cgs)   = %e' % (sol[i,0]/(G/c**4.))"
     ],
     "language": "python",
     "metadata": {},
     "outputs": [
      {
       "output_type": "stream",
       "stream": "stdout",
       "text": [
        "r = 5.908165e+05 cm or 4.000000e+00 RG\n",
        "rho(cgs) = 1.925670e+14 \n",
        "P(cgs)   = 4.326765e+34\n"
       ]
      }
     ],
     "prompt_number": 13
    },
    {
     "cell_type": "code",
     "collapsed": false,
     "input": [
      "subplot(2,2,1)\n",
      "plot(r/RG, sol[::,0]/(G/c**4.))\n",
      "xlabel('$R$')\n",
      "ylabel('$P$ (erg cm^{-3})')\n",
      "subplot(2,2,2)\n",
      "plot(r/RG, Tarray)\n",
      "#plot(r/RG, Tarray*kb/(me*c**2.))\n",
      "xlabel('$R$')\n",
      "ylabel('$T$ (K)')\n",
      "#ylabel('$\\\\theta_e$')\n",
      "subplot(2,2,3)\n",
      "plot(r/RG, rho0array)\n",
      "xlabel('$R$')\n",
      "ylabel('$\\\\rho$')\n",
      "subplot(2,2,4)\n",
      "plot(r/RG, Eradarray)\n",
      "xlabel('$R$')\n",
      "ylabel('$E_{r}$')"
     ],
     "language": "python",
     "metadata": {},
     "outputs": [
      {
       "output_type": "pyout",
       "prompt_number": 12,
       "text": [
        "<matplotlib.text.Text at 0x4077550>"
       ]
      }
     ],
     "prompt_number": 12
    },
    {
     "cell_type": "code",
     "collapsed": false,
     "input": [
      "i = 0\n",
      "#folder = '/home/aristophanes/Documents/bhlight_ksatmos_cgs/dumps/'\n",
      "#folder = '/home/aristophanes/Documents/bhlight_ksatmos_cgs/dumps_longrun_cfl0.25/'\n",
      "#folder = '/home/aristophanes/Documents/bhlight_ksatmos_cgs/dumps_1e-2/'\n",
      "#folder = '/home/aristophanes/Documents/bhlight_ksatmos_cgs/dumps/'\n",
      "folder = '/home/aristophanes/Documents/publication_tests/bhlight_pub_ksatmos/dumps/'\n",
      "dataFile = 'dump%03d' % i\n",
      "radDataFile = 'dump_rad_comoving%03d' % i\n",
      "radDataCoordFile = 'dump_rad%03d' % i\n",
      "data = loadtxt(folder+dataFile,skiprows=1)\n",
      "radData = loadtxt(folder+radDataFile)\n",
      "radDataCoord = loadtxt(folder+radDataCoordFile, skiprows = 1)\n",
      "rSim = data[:, 2]\n",
      "theta = data[:,3]\n",
      "rho = data[:,4]\n",
      "u = data[:,5]\n",
      "vr = data[:,6]\n",
      "vtheta = data[:,7]\n",
      "vphi = data[:,8]\n",
      "Erad = radData[:,4]\n",
      "R0r = radData[:,5]\n",
      "\n",
      "# From the simulation\n",
      "U_unit = 1.503277e+37 #1.503277e-03\n",
      "RHO_unit = 1.672622e+16#1.672622e-24\n",
      "#print ((rSim[1]-rSim[0])*2.89)\n",
      "#print ((rSim[127]-rSim[126])*2.89)"
     ],
     "language": "python",
     "metadata": {},
     "outputs": [],
     "prompt_number": 13
    },
    {
     "cell_type": "code",
     "collapsed": false,
     "input": [
      "#clf()\n",
      "plot(rSim, vr)"
     ],
     "language": "python",
     "metadata": {},
     "outputs": [
      {
       "output_type": "pyout",
       "prompt_number": 14,
       "text": [
        "[<matplotlib.lines.Line2D at 0x518c250>]"
       ]
      }
     ],
     "prompt_number": 14
    },
    {
     "cell_type": "code",
     "collapsed": false,
     "input": [
      "clf()\n",
      "subplot(2,2,1)\n",
      "plot(rSim, rho*RHO_unit, color='r')\n",
      "plot(r/RG, rho0array, color='k', linestyle='--')\n",
      "ylabel('$\\\\rho$')\n",
      "xlim([5, 19])\n",
      "\n",
      "subplot(2,2,2)\n",
      "plot(rSim, u*(gamma - 1)*U_unit, color='r')\n",
      "plot(r/RG, sol[::,0]/(G/c**4.), color='k', linestyle='--')\n",
      "ylabel('$P$')\n",
      "xlim([5, 19])\n",
      "\n",
      "subplot(2,2,3)\n",
      "plot(rSim, (Erad/aR)**(1./4.), color='r', label='Radiation')\n",
      "plot(r/RG, Tarray, color='k', linestyle='--')\n",
      "plot(rSim, (u*(gamma - 1)*U_unit*mu*mp)/(rho*RHO_unit*kb), color='g')\n",
      "#legend(loc=1)\n",
      "xlim([5, 19])\n",
      "ylabel('$T$')\n",
      "\n",
      "subplot(2,2,4)\n",
      "plot(rSim,Erad, color='b')\n",
      "plot(r/RG, Eradarray, color='k', linestyle='--')\n",
      "ylabel('$E_r$')\n",
      "xlim([5, 19])\n",
      "subplots_adjust(wspace=.3)"
     ],
     "language": "python",
     "metadata": {},
     "outputs": [],
     "prompt_number": 34
    },
    {
     "cell_type": "code",
     "collapsed": false,
     "input": [
      "clf()\n",
      "subplot(2,1,1)\n",
      "plot(rSim, rho*RHO_unit, color='r')\n",
      "plot(r/RG, rho0array, color='k', linestyle='--')\n",
      "ylabel('$\\\\rho$ (g/cm$^3$)')\n",
      "xlim([5, 19])\n",
      "subplot(2,1,2)\n",
      "plot(rSim, (Erad/aR)**(1./4.), color='r', label='Radiation')\n",
      "plot(r/RG, Tarray, color='k', linestyle='--')\n",
      "plot(rSim, (u*(gamma - 1)*U_unit*mu*mp)/(rho*RHO_unit*kb), color='b', label='Gas')\n",
      "legend(loc=1)\n",
      "xlim([5, 19])\n",
      "ylabel('Temperature (K)')\n",
      "xlabel('$R$ ($M$)')"
     ],
     "language": "python",
     "metadata": {},
     "outputs": [
      {
       "output_type": "pyout",
       "prompt_number": 40,
       "text": [
        "<matplotlib.text.Text at 0x78df750>"
       ]
      }
     ],
     "prompt_number": 40
    },
    {
     "cell_type": "code",
     "collapsed": false,
     "input": [
      "# Density/Temperature movie\n",
      "nfiles = 500\n",
      "rhoscale = 0\n",
      "for i in xrange(nfiles):\n",
      "    clf()\n",
      "    dataFile = 'dump%03d' % i\n",
      "    radDataFile = 'dump_rad_comoving%03d' % i\n",
      "    data = loadtxt(folder+dataFile,skiprows=1)\n",
      "    radData = loadtxt(folder+radDataFile)\n",
      "    rSim = data[:, 2]\n",
      "    theta = data[:,3]\n",
      "    rho = data[:,4]\n",
      "    u = data[:,5]\n",
      "    vr = data[:,6]\n",
      "    vtheta = data[:,7]\n",
      "    vphi = data[:,8]\n",
      "    Erad = radData[:,4]\n",
      "    if i == 0:\n",
      "        rhoscale = rho[0]*RHO_unit\n",
      "    \n",
      "    subplot(1,2,1)\n",
      "    ylabel('$\\\\rho$')\n",
      "    xlabel('$R$')\n",
      "    #plot(rSim, rho*RHO_unit, color='r')\n",
      "    #plot(r/RG, rho0array, color='k', linestyle='--')\n",
      "    #ylim([0.2, 2.e14])\n",
      "    plot(rSim, rho*RHO_unit/(rhoscale), color='r')\n",
      "    plot(r/RG, rho0array/(rhoscale), color='k', linestyle='--')\n",
      "    ylim([0.2, 1.2])\n",
      "    xlim([5, 19])\n",
      "    \n",
      "    subplot(1,2,2)\n",
      "    ylabel('$T_g$')\n",
      "    xlabel('$R$')\n",
      "    plot(r/RG, Tarray, color='k', linestyle='--')\n",
      "    plot(rSim, (u*(gamma - 1)*U_unit*mu*mp)/(rho*RHO_unit*kb))\n",
      "    ylim([0.95e12, 1.4e12])\n",
      "    xlim([5, 19])\n",
      "    subplots_adjust(wspace=.3)\n",
      "    \n",
      "    savefig('../publication_tests/bhlight_pub_ksatmos/movie/frame'+'%03d'%i+'.png')\n",
      "    if i % 25 == 0:\n",
      "        print \"i = %i\" % i"
     ],
     "language": "python",
     "metadata": {},
     "outputs": [
      {
       "output_type": "stream",
       "stream": "stdout",
       "text": [
        "i = 0\n",
        "i = 25"
       ]
      },
      {
       "output_type": "stream",
       "stream": "stdout",
       "text": [
        "\n",
        "i = 50"
       ]
      },
      {
       "output_type": "stream",
       "stream": "stdout",
       "text": [
        "\n",
        "i = 75"
       ]
      },
      {
       "output_type": "stream",
       "stream": "stdout",
       "text": [
        "\n",
        "i = 100"
       ]
      },
      {
       "output_type": "stream",
       "stream": "stdout",
       "text": [
        "\n",
        "i = 125"
       ]
      },
      {
       "output_type": "stream",
       "stream": "stdout",
       "text": [
        "\n",
        "i = 150"
       ]
      },
      {
       "output_type": "stream",
       "stream": "stdout",
       "text": [
        "\n",
        "i = 175"
       ]
      },
      {
       "output_type": "stream",
       "stream": "stdout",
       "text": [
        "\n",
        "i = 200"
       ]
      },
      {
       "output_type": "stream",
       "stream": "stdout",
       "text": [
        "\n",
        "i = 225"
       ]
      },
      {
       "output_type": "stream",
       "stream": "stdout",
       "text": [
        "\n",
        "i = 250"
       ]
      },
      {
       "output_type": "stream",
       "stream": "stdout",
       "text": [
        "\n",
        "i = 275"
       ]
      },
      {
       "output_type": "stream",
       "stream": "stdout",
       "text": [
        "\n",
        "i = 300"
       ]
      },
      {
       "output_type": "stream",
       "stream": "stdout",
       "text": [
        "\n",
        "i = 325"
       ]
      },
      {
       "output_type": "stream",
       "stream": "stdout",
       "text": [
        "\n",
        "i = 350"
       ]
      },
      {
       "output_type": "stream",
       "stream": "stdout",
       "text": [
        "\n",
        "i = 375"
       ]
      },
      {
       "output_type": "stream",
       "stream": "stdout",
       "text": [
        "\n",
        "i = 400"
       ]
      },
      {
       "output_type": "stream",
       "stream": "stdout",
       "text": [
        "\n",
        "i = 425"
       ]
      },
      {
       "output_type": "stream",
       "stream": "stdout",
       "text": [
        "\n",
        "i = 450"
       ]
      },
      {
       "output_type": "stream",
       "stream": "stdout",
       "text": [
        "\n",
        "i = 475"
       ]
      },
      {
       "output_type": "stream",
       "stream": "stdout",
       "text": [
        "\n"
       ]
      }
     ],
     "prompt_number": 86
    },
    {
     "cell_type": "code",
     "collapsed": false,
     "input": [
      "data[:,2]"
     ],
     "language": "python",
     "metadata": {},
     "outputs": [
      {
       "output_type": "pyout",
       "prompt_number": 26,
       "text": [
        "array([  5.02614234,   5.0788378 ,   5.13208573,   5.18589193,\n",
        "         5.24026224,   5.29520259,   5.35071895,   5.40681736,\n",
        "         5.46350392,   5.52078479,   5.57866622,   5.63715449,\n",
        "         5.69625596,   5.75597707,   5.81632432,   5.87730426,\n",
        "         5.93892353,   6.00118884,   6.06410695,   6.12768471,\n",
        "         6.19192904,   6.25684693,   6.32244543,   6.38873169,\n",
        "         6.4557129 ,   6.52339637,   6.59178945,   6.66089958,\n",
        "         6.73073428,   6.80130115,   6.87260786,   6.94466217,\n",
        "         7.01747191,   7.09104502,   7.16538948,   7.24051339,\n",
        "         7.31642492,   7.39313233,   7.47064396,   7.54896825,\n",
        "         7.6281137 ,   7.70808894,   7.78890266,   7.87056366,\n",
        "         7.95308081,   8.0364631 ,   8.12071958,   8.20585944,\n",
        "         8.29189192,   8.37882639,   8.46667231,   8.55543923,\n",
        "         8.6451368 ,   8.73577479,   8.82736306,   8.91991156,\n",
        "         9.01343036,   9.10792964,   9.20341967,   9.29991085,\n",
        "         9.39741367,   9.49593874,   9.59549677,   9.69609859,\n",
        "         9.79775516,   9.90047751,  10.00427684,  10.10916442,\n",
        "        10.21515168,  10.32225014,  10.43047144,  10.53982737,\n",
        "        10.65032982,  10.7619908 ,  10.87482247,  10.98883709,\n",
        "        11.10404708,  11.22046496,  11.3381034 ,  11.45697519,\n",
        "        11.57709326,  11.69847069,  11.82112067,  11.94505655,\n",
        "        12.0702918 ,  12.19684005,  12.32471508,  12.45393077,\n",
        "        12.58450121,  12.71644057,  12.84976323,  12.98448368,\n",
        "        13.12061657,  13.25817672,  13.39717908,  13.53763879,\n",
        "        13.67957111,  13.8229915 ,  13.96791554,  14.114359  ,\n",
        "        14.26233782,  14.41186808,  14.56296607,  14.7156482 ,\n",
        "        14.8699311 ,  15.02583154,  15.18336649,  15.34255307,\n",
        "        15.50340862,  15.66595061,  15.83019674,  15.99616487,\n",
        "        16.16387306,  16.33333954,  16.50458276,  16.67762134,\n",
        "        16.8524741 ,  17.02916007,  17.20769846,  17.3881087 ,\n",
        "        17.57041041,  17.75462342,  17.94076777,  18.1288637 ,\n",
        "        18.31893169,  18.5109924 ,  18.70506673,  18.90117579])"
       ]
      }
     ],
     "prompt_number": 26
    },
    {
     "cell_type": "code",
     "collapsed": false,
     "input": [
      "# Calculate optical depth\n",
      "ndens = 1.e40\n",
      "MBH = 1.\n",
      "Lunit = G*MBH*Msolar/c**2.\n",
      "kappa = 2.e-43\n",
      "rhounit = ndens*mp\n",
      "dataFile = 'dump%03d' % i\n",
      "data = loadtxt(folder+dataFile,skiprows=1)\n",
      "rho = data[:,4]*rhounit\n",
      "r = data[:, 2]*Lunit\n",
      "depth = 0\n",
      "for i in xrange(len(rho)-1):\n",
      "    depth += rho[i]*(r[i+1]-r[i])*kappa/mp\n",
      "print 'Optical depth = %e' % depth"
     ],
     "language": "python",
     "metadata": {},
     "outputs": [
      {
       "output_type": "stream",
       "stream": "stdout",
       "text": [
        "Optical depth = 1.108953e+01\n"
       ]
      }
     ],
     "prompt_number": 72
    },
    {
     "cell_type": "code",
     "collapsed": false,
     "input": [
      "nfiles = 850\n",
      "# Make a movie\n",
      "for i in xrange(nfiles):\n",
      "    clf()\n",
      "    #folder = '/home/aristophanes/Documents/bhlight_ksatmos_cgs/dumps/'\n",
      "    folder = '/home/aristophanes/Documents/quarantine/bhlight_ksatmos_tiger_newwgts/dumps/'\n",
      "    dataFile = 'dump%03d' % i\n",
      "    radDataFile = 'dump_rad_comoving%03d' % i\n",
      "    data = loadtxt(folder+dataFile,skiprows=1)\n",
      "    radData = loadtxt(folder+radDataFile)\n",
      "    rSim = data[:, 2]\n",
      "    theta = data[:,3]\n",
      "    rho = data[:,4]\n",
      "    u = data[:,5]\n",
      "    vr = data[:,6]\n",
      "    vtheta = data[:,7]\n",
      "    vphi = data[:,8]\n",
      "    Erad = radData[:,4]\n",
      "    \n",
      "    subplot(2,2,1)\n",
      "    plot(rSim, rho*RHO_unit, color='r')\n",
      "    plot(r/RG, rho0array, color='k', linestyle='--')\n",
      "    ylabel('$\\\\rho$')\n",
      "    #ylim([0.4e28, 4.e28])\n",
      "    ylim([0, 2.e14])\n",
      "    xlim([5, 19])\n",
      "\n",
      "    subplot(2,2,2)\n",
      "    plot(rSim, u*(gamma - 1)*U_unit, color='r')\n",
      "    plot(r/RG, sol[::,0]/(G/c**4.), color='k', linestyle='--')\n",
      "    ylabel('$P$')\n",
      "    #ylim([0, .9e49])\n",
      "    ylim([0,4.e34])\n",
      "    xlim([5, 19])\n",
      "\n",
      "    subplot(2,2,3)\n",
      "    plot(rSim, (Erad/aR)**(1./4.), color='r', label='Radiation')\n",
      "    plot(r/RG, Tarray, color='k', linestyle='--')\n",
      "    plot(rSim, (u*(gamma - 1)*U_unit*mu*mp)/(rho*RHO_unit*kb))\n",
      "    xlim([5, 19])\n",
      "    ylim([0.95e12, 1.4e12])\n",
      "    ylabel('$T$')\n",
      "\n",
      "    subplot(2,2,4)\n",
      "    plot(rSim,Erad, color='b')\n",
      "    plot(r/RG, Eradarray, color='k', linestyle='--')\n",
      "    ylabel('$E_r$')\n",
      "    xlim([5, 19])\n",
      "    ylim([0.5e34, 3.0e34])\n",
      "    subplots_adjust(wspace=.3)\n",
      "    \n",
      "    savefig('../bhlight_ksatmos_cgs/movie/frame'+'%03d'%i+'.png')\n",
      "    if i % 25 == 0:\n",
      "        print \"i = %i\" % i\n",
      "        \n",
      "# Run this command to make a movie:\n",
      "# ffmpeg -f image2 -i frame%03d.png -vcodec mpeg4 -mbd rd -trellis 2 -cmp 2 -g 300 -pass 1 -r 25 -b 18000000 anim.mp4"
     ],
     "language": "python",
     "metadata": {},
     "outputs": [
      {
       "ename": "KeyboardInterrupt",
       "evalue": "",
       "output_type": "pyerr",
       "traceback": [
        "\u001b[0;31m---------------------------------------------------------------------------\u001b[0m\n\u001b[0;31mKeyboardInterrupt\u001b[0m                         Traceback (most recent call last)",
        "\u001b[0;32m<ipython-input-21-6ebf34338368>\u001b[0m in \u001b[0;36m<module>\u001b[0;34m()\u001b[0m\n\u001b[1;32m      2\u001b[0m \u001b[0;31m# Make a movie\u001b[0m\u001b[0;34m\u001b[0m\u001b[0;34m\u001b[0m\u001b[0m\n\u001b[1;32m      3\u001b[0m \u001b[0;32mfor\u001b[0m \u001b[0mi\u001b[0m \u001b[0;32min\u001b[0m \u001b[0mxrange\u001b[0m\u001b[0;34m(\u001b[0m\u001b[0mnfiles\u001b[0m\u001b[0;34m)\u001b[0m\u001b[0;34m:\u001b[0m\u001b[0;34m\u001b[0m\u001b[0m\n\u001b[0;32m----> 4\u001b[0;31m     \u001b[0mclf\u001b[0m\u001b[0;34m(\u001b[0m\u001b[0;34m)\u001b[0m\u001b[0;34m\u001b[0m\u001b[0m\n\u001b[0m\u001b[1;32m      5\u001b[0m     \u001b[0;31m#folder = '/home/aristophanes/Documents/bhlight_ksatmos_cgs/dumps/'\u001b[0m\u001b[0;34m\u001b[0m\u001b[0;34m\u001b[0m\u001b[0m\n\u001b[1;32m      6\u001b[0m     \u001b[0mfolder\u001b[0m \u001b[0;34m=\u001b[0m \u001b[0;34m'/home/aristophanes/Documents/quarantine/bhlight_ksatmos_tiger_newwgts/dumps/'\u001b[0m\u001b[0;34m\u001b[0m\u001b[0m\n",
        "\u001b[0;32m/usr/lib/pymodules/python2.7/matplotlib/pyplot.pyc\u001b[0m in \u001b[0;36mclf\u001b[0;34m()\u001b[0m\n\u001b[1;32m    442\u001b[0m     \u001b[0mClear\u001b[0m \u001b[0mthe\u001b[0m \u001b[0mcurrent\u001b[0m \u001b[0mfigure\u001b[0m\u001b[0;34m.\u001b[0m\u001b[0;34m\u001b[0m\u001b[0m\n\u001b[1;32m    443\u001b[0m     \"\"\"\n\u001b[0;32m--> 444\u001b[0;31m     \u001b[0mgcf\u001b[0m\u001b[0;34m(\u001b[0m\u001b[0;34m)\u001b[0m\u001b[0;34m.\u001b[0m\u001b[0mclf\u001b[0m\u001b[0;34m(\u001b[0m\u001b[0;34m)\u001b[0m\u001b[0;34m\u001b[0m\u001b[0m\n\u001b[0m\u001b[1;32m    445\u001b[0m     \u001b[0mdraw_if_interactive\u001b[0m\u001b[0;34m(\u001b[0m\u001b[0;34m)\u001b[0m\u001b[0;34m\u001b[0m\u001b[0m\n\u001b[1;32m    446\u001b[0m \u001b[0;34m\u001b[0m\u001b[0m\n",
        "\u001b[0;32m/usr/lib/pymodules/python2.7/matplotlib/figure.pyc\u001b[0m in \u001b[0;36mclf\u001b[0;34m(self, keep_observers)\u001b[0m\n\u001b[1;32m    904\u001b[0m \u001b[0;34m\u001b[0m\u001b[0m\n\u001b[1;32m    905\u001b[0m         \u001b[0;32mfor\u001b[0m \u001b[0max\u001b[0m \u001b[0;32min\u001b[0m \u001b[0mtuple\u001b[0m\u001b[0;34m(\u001b[0m\u001b[0mself\u001b[0m\u001b[0;34m.\u001b[0m\u001b[0maxes\u001b[0m\u001b[0;34m)\u001b[0m\u001b[0;34m:\u001b[0m  \u001b[0;31m# Iterate over the copy.\u001b[0m\u001b[0;34m\u001b[0m\u001b[0m\n\u001b[0;32m--> 906\u001b[0;31m             \u001b[0max\u001b[0m\u001b[0;34m.\u001b[0m\u001b[0mcla\u001b[0m\u001b[0;34m(\u001b[0m\u001b[0;34m)\u001b[0m\u001b[0;34m\u001b[0m\u001b[0m\n\u001b[0m\u001b[1;32m    907\u001b[0m             \u001b[0mself\u001b[0m\u001b[0;34m.\u001b[0m\u001b[0mdelaxes\u001b[0m\u001b[0;34m(\u001b[0m\u001b[0max\u001b[0m\u001b[0;34m)\u001b[0m         \u001b[0;31m# removes ax from self._axstack\u001b[0m\u001b[0;34m\u001b[0m\u001b[0m\n\u001b[1;32m    908\u001b[0m \u001b[0;34m\u001b[0m\u001b[0m\n",
        "\u001b[0;32m/usr/lib/pymodules/python2.7/matplotlib/axes.pyc\u001b[0m in \u001b[0;36mcla\u001b[0;34m(self)\u001b[0m\n\u001b[1;32m    858\u001b[0m         \u001b[0mself\u001b[0m\u001b[0;34m.\u001b[0m\u001b[0myaxis\u001b[0m\u001b[0;34m.\u001b[0m\u001b[0mcla\u001b[0m\u001b[0;34m(\u001b[0m\u001b[0;34m)\u001b[0m\u001b[0;34m\u001b[0m\u001b[0m\n\u001b[1;32m    859\u001b[0m         \u001b[0;32mfor\u001b[0m \u001b[0mname\u001b[0m\u001b[0;34m,\u001b[0m\u001b[0mspine\u001b[0m \u001b[0;32min\u001b[0m \u001b[0mself\u001b[0m\u001b[0;34m.\u001b[0m\u001b[0mspines\u001b[0m\u001b[0;34m.\u001b[0m\u001b[0miteritems\u001b[0m\u001b[0;34m(\u001b[0m\u001b[0;34m)\u001b[0m\u001b[0;34m:\u001b[0m\u001b[0;34m\u001b[0m\u001b[0m\n\u001b[0;32m--> 860\u001b[0;31m             \u001b[0mspine\u001b[0m\u001b[0;34m.\u001b[0m\u001b[0mcla\u001b[0m\u001b[0;34m(\u001b[0m\u001b[0;34m)\u001b[0m\u001b[0;34m\u001b[0m\u001b[0m\n\u001b[0m\u001b[1;32m    861\u001b[0m \u001b[0;34m\u001b[0m\u001b[0m\n\u001b[1;32m    862\u001b[0m         \u001b[0mself\u001b[0m\u001b[0;34m.\u001b[0m\u001b[0mignore_existing_data_limits\u001b[0m \u001b[0;34m=\u001b[0m \u001b[0mTrue\u001b[0m\u001b[0;34m\u001b[0m\u001b[0m\n",
        "\u001b[0;32m/usr/lib/pymodules/python2.7/matplotlib/spines.pyc\u001b[0m in \u001b[0;36mcla\u001b[0;34m(self)\u001b[0m\n\u001b[1;32m    155\u001b[0m         \u001b[0mself\u001b[0m\u001b[0;34m.\u001b[0m\u001b[0m_position\u001b[0m \u001b[0;34m=\u001b[0m \u001b[0mNone\u001b[0m \u001b[0;31m# clear position\u001b[0m\u001b[0;34m\u001b[0m\u001b[0m\n\u001b[1;32m    156\u001b[0m         \u001b[0;32mif\u001b[0m \u001b[0mself\u001b[0m\u001b[0;34m.\u001b[0m\u001b[0maxis\u001b[0m \u001b[0;32mis\u001b[0m \u001b[0;32mnot\u001b[0m \u001b[0mNone\u001b[0m\u001b[0;34m:\u001b[0m\u001b[0;34m\u001b[0m\u001b[0m\n\u001b[0;32m--> 157\u001b[0;31m             \u001b[0mself\u001b[0m\u001b[0;34m.\u001b[0m\u001b[0maxis\u001b[0m\u001b[0;34m.\u001b[0m\u001b[0mcla\u001b[0m\u001b[0;34m(\u001b[0m\u001b[0;34m)\u001b[0m\u001b[0;34m\u001b[0m\u001b[0m\n\u001b[0m\u001b[1;32m    158\u001b[0m \u001b[0;34m\u001b[0m\u001b[0m\n\u001b[1;32m    159\u001b[0m     \u001b[0;32mdef\u001b[0m \u001b[0mis_frame_like\u001b[0m\u001b[0;34m(\u001b[0m\u001b[0mself\u001b[0m\u001b[0;34m)\u001b[0m\u001b[0;34m:\u001b[0m\u001b[0;34m\u001b[0m\u001b[0m\n",
        "\u001b[0;32m/usr/lib/pymodules/python2.7/matplotlib/axis.pyc\u001b[0m in \u001b[0;36mcla\u001b[0;34m(self)\u001b[0m\n\u001b[1;32m    732\u001b[0m         \u001b[0mself\u001b[0m\u001b[0;34m.\u001b[0m\u001b[0m_set_artist_props\u001b[0m\u001b[0;34m(\u001b[0m\u001b[0mself\u001b[0m\u001b[0;34m.\u001b[0m\u001b[0mlabel\u001b[0m\u001b[0;34m)\u001b[0m\u001b[0;34m\u001b[0m\u001b[0m\n\u001b[1;32m    733\u001b[0m \u001b[0;34m\u001b[0m\u001b[0m\n\u001b[0;32m--> 734\u001b[0;31m         \u001b[0mself\u001b[0m\u001b[0;34m.\u001b[0m\u001b[0mreset_ticks\u001b[0m\u001b[0;34m(\u001b[0m\u001b[0;34m)\u001b[0m\u001b[0;34m\u001b[0m\u001b[0m\n\u001b[0m\u001b[1;32m    735\u001b[0m \u001b[0;34m\u001b[0m\u001b[0m\n\u001b[1;32m    736\u001b[0m         \u001b[0mself\u001b[0m\u001b[0;34m.\u001b[0m\u001b[0mconverter\u001b[0m \u001b[0;34m=\u001b[0m \u001b[0mNone\u001b[0m\u001b[0;34m\u001b[0m\u001b[0m\n",
        "\u001b[0;32m/usr/lib/pymodules/python2.7/matplotlib/axis.pyc\u001b[0m in \u001b[0;36mreset_ticks\u001b[0;34m(self)\u001b[0m\n\u001b[1;32m    745\u001b[0m         \u001b[0mcbook\u001b[0m\u001b[0;34m.\u001b[0m\u001b[0mpopall\u001b[0m\u001b[0;34m(\u001b[0m\u001b[0mself\u001b[0m\u001b[0;34m.\u001b[0m\u001b[0mminorTicks\u001b[0m\u001b[0;34m)\u001b[0m\u001b[0;34m\u001b[0m\u001b[0m\n\u001b[1;32m    746\u001b[0m \u001b[0;34m\u001b[0m\u001b[0m\n\u001b[0;32m--> 747\u001b[0;31m         \u001b[0mself\u001b[0m\u001b[0;34m.\u001b[0m\u001b[0mmajorTicks\u001b[0m\u001b[0;34m.\u001b[0m\u001b[0mextend\u001b[0m\u001b[0;34m(\u001b[0m\u001b[0;34m[\u001b[0m\u001b[0mself\u001b[0m\u001b[0;34m.\u001b[0m\u001b[0m_get_tick\u001b[0m\u001b[0;34m(\u001b[0m\u001b[0mmajor\u001b[0m\u001b[0;34m=\u001b[0m\u001b[0mTrue\u001b[0m\u001b[0;34m)\u001b[0m\u001b[0;34m]\u001b[0m\u001b[0;34m)\u001b[0m\u001b[0;34m\u001b[0m\u001b[0m\n\u001b[0m\u001b[1;32m    748\u001b[0m         \u001b[0mself\u001b[0m\u001b[0;34m.\u001b[0m\u001b[0mminorTicks\u001b[0m\u001b[0;34m.\u001b[0m\u001b[0mextend\u001b[0m\u001b[0;34m(\u001b[0m\u001b[0;34m[\u001b[0m\u001b[0mself\u001b[0m\u001b[0;34m.\u001b[0m\u001b[0m_get_tick\u001b[0m\u001b[0;34m(\u001b[0m\u001b[0mmajor\u001b[0m\u001b[0;34m=\u001b[0m\u001b[0mFalse\u001b[0m\u001b[0;34m)\u001b[0m\u001b[0;34m]\u001b[0m\u001b[0;34m)\u001b[0m\u001b[0;34m\u001b[0m\u001b[0m\n\u001b[1;32m    749\u001b[0m         \u001b[0mself\u001b[0m\u001b[0;34m.\u001b[0m\u001b[0m_lastNumMajorTicks\u001b[0m \u001b[0;34m=\u001b[0m \u001b[0;36m1\u001b[0m\u001b[0;34m\u001b[0m\u001b[0m\n",
        "\u001b[0;32m/usr/lib/pymodules/python2.7/matplotlib/axis.pyc\u001b[0m in \u001b[0;36m_get_tick\u001b[0;34m(self, major)\u001b[0m\n\u001b[1;32m   1839\u001b[0m         \u001b[0;32melse\u001b[0m\u001b[0;34m:\u001b[0m\u001b[0;34m\u001b[0m\u001b[0m\n\u001b[1;32m   1840\u001b[0m             \u001b[0mtick_kw\u001b[0m \u001b[0;34m=\u001b[0m \u001b[0mself\u001b[0m\u001b[0;34m.\u001b[0m\u001b[0m_minor_tick_kw\u001b[0m\u001b[0;34m\u001b[0m\u001b[0m\n\u001b[0;32m-> 1841\u001b[0;31m         \u001b[0;32mreturn\u001b[0m \u001b[0mYTick\u001b[0m\u001b[0;34m(\u001b[0m\u001b[0mself\u001b[0m\u001b[0;34m.\u001b[0m\u001b[0maxes\u001b[0m\u001b[0;34m,\u001b[0m \u001b[0;36m0\u001b[0m\u001b[0;34m,\u001b[0m \u001b[0;34m''\u001b[0m\u001b[0;34m,\u001b[0m \u001b[0mmajor\u001b[0m\u001b[0;34m=\u001b[0m\u001b[0mmajor\u001b[0m\u001b[0;34m,\u001b[0m \u001b[0;34m**\u001b[0m\u001b[0mtick_kw\u001b[0m\u001b[0;34m)\u001b[0m\u001b[0;34m\u001b[0m\u001b[0m\n\u001b[0m\u001b[1;32m   1842\u001b[0m \u001b[0;34m\u001b[0m\u001b[0m\n\u001b[1;32m   1843\u001b[0m     \u001b[0;32mdef\u001b[0m \u001b[0m_get_label\u001b[0m\u001b[0;34m(\u001b[0m\u001b[0mself\u001b[0m\u001b[0;34m)\u001b[0m\u001b[0;34m:\u001b[0m\u001b[0;34m\u001b[0m\u001b[0m\n",
        "\u001b[0;32m/usr/lib/pymodules/python2.7/matplotlib/axis.pyc\u001b[0m in \u001b[0;36m__init__\u001b[0;34m(self, axes, loc, label, size, width, color, tickdir, pad, labelsize, labelcolor, zorder, gridOn, tick1On, tick2On, label1On, label2On, major)\u001b[0m\n\u001b[1;32m    138\u001b[0m \u001b[0;34m\u001b[0m\u001b[0m\n\u001b[1;32m    139\u001b[0m         \u001b[0mself\u001b[0m\u001b[0;34m.\u001b[0m\u001b[0mtick1line\u001b[0m \u001b[0;34m=\u001b[0m \u001b[0mself\u001b[0m\u001b[0;34m.\u001b[0m\u001b[0m_get_tick1line\u001b[0m\u001b[0;34m(\u001b[0m\u001b[0;34m)\u001b[0m\u001b[0;34m\u001b[0m\u001b[0m\n\u001b[0;32m--> 140\u001b[0;31m         \u001b[0mself\u001b[0m\u001b[0;34m.\u001b[0m\u001b[0mtick2line\u001b[0m \u001b[0;34m=\u001b[0m \u001b[0mself\u001b[0m\u001b[0;34m.\u001b[0m\u001b[0m_get_tick2line\u001b[0m\u001b[0;34m(\u001b[0m\u001b[0;34m)\u001b[0m\u001b[0;34m\u001b[0m\u001b[0m\n\u001b[0m\u001b[1;32m    141\u001b[0m         \u001b[0mself\u001b[0m\u001b[0;34m.\u001b[0m\u001b[0mgridline\u001b[0m \u001b[0;34m=\u001b[0m \u001b[0mself\u001b[0m\u001b[0;34m.\u001b[0m\u001b[0m_get_gridline\u001b[0m\u001b[0;34m(\u001b[0m\u001b[0;34m)\u001b[0m\u001b[0;34m\u001b[0m\u001b[0m\n\u001b[1;32m    142\u001b[0m \u001b[0;34m\u001b[0m\u001b[0m\n",
        "\u001b[0;32m/usr/lib/pymodules/python2.7/matplotlib/axis.pyc\u001b[0m in \u001b[0;36m_get_tick2line\u001b[0;34m(self)\u001b[0m\n\u001b[1;32m    540\u001b[0m                     \u001b[0mzorder\u001b[0m\u001b[0;34m=\u001b[0m\u001b[0mself\u001b[0m\u001b[0;34m.\u001b[0m\u001b[0m_zorder\u001b[0m\u001b[0;34m,\u001b[0m\u001b[0;34m\u001b[0m\u001b[0m\n\u001b[1;32m    541\u001b[0m                     )\n\u001b[0;32m--> 542\u001b[0;31m         \u001b[0ml\u001b[0m\u001b[0;34m.\u001b[0m\u001b[0mset_transform\u001b[0m\u001b[0;34m(\u001b[0m\u001b[0mself\u001b[0m\u001b[0;34m.\u001b[0m\u001b[0maxes\u001b[0m\u001b[0;34m.\u001b[0m\u001b[0mget_yaxis_transform\u001b[0m\u001b[0;34m(\u001b[0m\u001b[0mwhich\u001b[0m\u001b[0;34m=\u001b[0m\u001b[0;34m'tick2'\u001b[0m\u001b[0;34m)\u001b[0m\u001b[0;34m)\u001b[0m\u001b[0;34m\u001b[0m\u001b[0m\n\u001b[0m\u001b[1;32m    543\u001b[0m         \u001b[0mself\u001b[0m\u001b[0;34m.\u001b[0m\u001b[0m_set_artist_props\u001b[0m\u001b[0;34m(\u001b[0m\u001b[0ml\u001b[0m\u001b[0;34m)\u001b[0m\u001b[0;34m\u001b[0m\u001b[0m\n\u001b[1;32m    544\u001b[0m         \u001b[0;32mreturn\u001b[0m \u001b[0ml\u001b[0m\u001b[0;34m\u001b[0m\u001b[0m\n",
        "\u001b[0;32m/usr/lib/pymodules/python2.7/matplotlib/axes.pyc\u001b[0m in \u001b[0;36mget_yaxis_transform\u001b[0;34m(self, which)\u001b[0m\n\u001b[1;32m    679\u001b[0m         \u001b[0;32melif\u001b[0m \u001b[0mwhich\u001b[0m\u001b[0;34m==\u001b[0m\u001b[0;34m'tick2'\u001b[0m\u001b[0;34m:\u001b[0m\u001b[0;34m\u001b[0m\u001b[0m\n\u001b[1;32m    680\u001b[0m             \u001b[0;31m# for cartesian projection, this is top spine\u001b[0m\u001b[0;34m\u001b[0m\u001b[0;34m\u001b[0m\u001b[0m\n\u001b[0;32m--> 681\u001b[0;31m             \u001b[0;32mreturn\u001b[0m \u001b[0mself\u001b[0m\u001b[0;34m.\u001b[0m\u001b[0mspines\u001b[0m\u001b[0;34m[\u001b[0m\u001b[0;34m'right'\u001b[0m\u001b[0;34m]\u001b[0m\u001b[0;34m.\u001b[0m\u001b[0mget_spine_transform\u001b[0m\u001b[0;34m(\u001b[0m\u001b[0;34m)\u001b[0m\u001b[0;34m\u001b[0m\u001b[0m\n\u001b[0m\u001b[1;32m    682\u001b[0m         \u001b[0;32melse\u001b[0m\u001b[0;34m:\u001b[0m\u001b[0;34m\u001b[0m\u001b[0m\n\u001b[1;32m    683\u001b[0m             \u001b[0;32mraise\u001b[0m \u001b[0mValueError\u001b[0m\u001b[0;34m(\u001b[0m\u001b[0;34m'unknown value for which'\u001b[0m\u001b[0;34m)\u001b[0m\u001b[0;34m\u001b[0m\u001b[0m\n",
        "\u001b[0;32m/usr/lib/pymodules/python2.7/matplotlib/spines.pyc\u001b[0m in \u001b[0;36mget_spine_transform\u001b[0;34m(self)\u001b[0m\n\u001b[1;32m    372\u001b[0m     \u001b[0;32mdef\u001b[0m \u001b[0mget_spine_transform\u001b[0m\u001b[0;34m(\u001b[0m\u001b[0mself\u001b[0m\u001b[0;34m)\u001b[0m\u001b[0;34m:\u001b[0m\u001b[0;34m\u001b[0m\u001b[0m\n\u001b[1;32m    373\u001b[0m         \u001b[0;34m\"\"\"get the spine transform\"\"\"\u001b[0m\u001b[0;34m\u001b[0m\u001b[0m\n\u001b[0;32m--> 374\u001b[0;31m         \u001b[0mself\u001b[0m\u001b[0;34m.\u001b[0m\u001b[0m_ensure_position_is_set\u001b[0m\u001b[0;34m(\u001b[0m\u001b[0;34m)\u001b[0m\u001b[0;34m\u001b[0m\u001b[0m\n\u001b[0m\u001b[1;32m    375\u001b[0m         \u001b[0mwhat\u001b[0m\u001b[0;34m,\u001b[0m \u001b[0mhow\u001b[0m \u001b[0;34m=\u001b[0m \u001b[0mself\u001b[0m\u001b[0;34m.\u001b[0m\u001b[0m_spine_transform\u001b[0m\u001b[0;34m\u001b[0m\u001b[0m\n\u001b[1;32m    376\u001b[0m \u001b[0;34m\u001b[0m\u001b[0m\n",
        "\u001b[0;32m/usr/lib/pymodules/python2.7/matplotlib/spines.pyc\u001b[0m in \u001b[0;36m_ensure_position_is_set\u001b[0;34m(self)\u001b[0m\n\u001b[1;32m    138\u001b[0m             \u001b[0;31m# default position\u001b[0m\u001b[0;34m\u001b[0m\u001b[0;34m\u001b[0m\u001b[0m\n\u001b[1;32m    139\u001b[0m             \u001b[0mself\u001b[0m\u001b[0;34m.\u001b[0m\u001b[0m_position\u001b[0m \u001b[0;34m=\u001b[0m \u001b[0;34m(\u001b[0m\u001b[0;34m'outward'\u001b[0m\u001b[0;34m,\u001b[0m\u001b[0;36m0.0\u001b[0m\u001b[0;34m)\u001b[0m \u001b[0;31m# in points\u001b[0m\u001b[0;34m\u001b[0m\u001b[0m\n\u001b[0;32m--> 140\u001b[0;31m             \u001b[0mself\u001b[0m\u001b[0;34m.\u001b[0m\u001b[0mset_position\u001b[0m\u001b[0;34m(\u001b[0m\u001b[0mself\u001b[0m\u001b[0;34m.\u001b[0m\u001b[0m_position\u001b[0m\u001b[0;34m)\u001b[0m\u001b[0;34m\u001b[0m\u001b[0m\n\u001b[0m\u001b[1;32m    141\u001b[0m \u001b[0;34m\u001b[0m\u001b[0m\n\u001b[1;32m    142\u001b[0m     \u001b[0;32mdef\u001b[0m \u001b[0mregister_axis\u001b[0m\u001b[0;34m(\u001b[0m\u001b[0mself\u001b[0m\u001b[0;34m,\u001b[0m\u001b[0maxis\u001b[0m\u001b[0;34m)\u001b[0m\u001b[0;34m:\u001b[0m\u001b[0;34m\u001b[0m\u001b[0m\n",
        "\u001b[0;32m/usr/lib/pymodules/python2.7/matplotlib/spines.pyc\u001b[0m in \u001b[0;36mset_position\u001b[0;34m(self, position)\u001b[0m\n\u001b[1;32m    363\u001b[0m \u001b[0;34m\u001b[0m\u001b[0m\n\u001b[1;32m    364\u001b[0m         \u001b[0;32mif\u001b[0m \u001b[0mself\u001b[0m\u001b[0;34m.\u001b[0m\u001b[0maxis\u001b[0m \u001b[0;32mis\u001b[0m \u001b[0;32mnot\u001b[0m \u001b[0mNone\u001b[0m\u001b[0;34m:\u001b[0m\u001b[0;34m\u001b[0m\u001b[0m\n\u001b[0;32m--> 365\u001b[0;31m             \u001b[0mself\u001b[0m\u001b[0;34m.\u001b[0m\u001b[0maxis\u001b[0m\u001b[0;34m.\u001b[0m\u001b[0mcla\u001b[0m\u001b[0;34m(\u001b[0m\u001b[0;34m)\u001b[0m\u001b[0;34m\u001b[0m\u001b[0m\n\u001b[0m\u001b[1;32m    366\u001b[0m \u001b[0;34m\u001b[0m\u001b[0m\n\u001b[1;32m    367\u001b[0m     \u001b[0;32mdef\u001b[0m \u001b[0mget_position\u001b[0m\u001b[0;34m(\u001b[0m\u001b[0mself\u001b[0m\u001b[0;34m)\u001b[0m\u001b[0;34m:\u001b[0m\u001b[0;34m\u001b[0m\u001b[0m\n",
        "\u001b[0;32m/usr/lib/pymodules/python2.7/matplotlib/axis.pyc\u001b[0m in \u001b[0;36mcla\u001b[0;34m(self)\u001b[0m\n\u001b[1;32m    732\u001b[0m         \u001b[0mself\u001b[0m\u001b[0;34m.\u001b[0m\u001b[0m_set_artist_props\u001b[0m\u001b[0;34m(\u001b[0m\u001b[0mself\u001b[0m\u001b[0;34m.\u001b[0m\u001b[0mlabel\u001b[0m\u001b[0;34m)\u001b[0m\u001b[0;34m\u001b[0m\u001b[0m\n\u001b[1;32m    733\u001b[0m \u001b[0;34m\u001b[0m\u001b[0m\n\u001b[0;32m--> 734\u001b[0;31m         \u001b[0mself\u001b[0m\u001b[0;34m.\u001b[0m\u001b[0mreset_ticks\u001b[0m\u001b[0;34m(\u001b[0m\u001b[0;34m)\u001b[0m\u001b[0;34m\u001b[0m\u001b[0m\n\u001b[0m\u001b[1;32m    735\u001b[0m \u001b[0;34m\u001b[0m\u001b[0m\n\u001b[1;32m    736\u001b[0m         \u001b[0mself\u001b[0m\u001b[0;34m.\u001b[0m\u001b[0mconverter\u001b[0m \u001b[0;34m=\u001b[0m \u001b[0mNone\u001b[0m\u001b[0;34m\u001b[0m\u001b[0m\n",
        "\u001b[0;32m/usr/lib/pymodules/python2.7/matplotlib/axis.pyc\u001b[0m in \u001b[0;36mreset_ticks\u001b[0;34m(self)\u001b[0m\n\u001b[1;32m    746\u001b[0m \u001b[0;34m\u001b[0m\u001b[0m\n\u001b[1;32m    747\u001b[0m         \u001b[0mself\u001b[0m\u001b[0;34m.\u001b[0m\u001b[0mmajorTicks\u001b[0m\u001b[0;34m.\u001b[0m\u001b[0mextend\u001b[0m\u001b[0;34m(\u001b[0m\u001b[0;34m[\u001b[0m\u001b[0mself\u001b[0m\u001b[0;34m.\u001b[0m\u001b[0m_get_tick\u001b[0m\u001b[0;34m(\u001b[0m\u001b[0mmajor\u001b[0m\u001b[0;34m=\u001b[0m\u001b[0mTrue\u001b[0m\u001b[0;34m)\u001b[0m\u001b[0;34m]\u001b[0m\u001b[0;34m)\u001b[0m\u001b[0;34m\u001b[0m\u001b[0m\n\u001b[0;32m--> 748\u001b[0;31m         \u001b[0mself\u001b[0m\u001b[0;34m.\u001b[0m\u001b[0mminorTicks\u001b[0m\u001b[0;34m.\u001b[0m\u001b[0mextend\u001b[0m\u001b[0;34m(\u001b[0m\u001b[0;34m[\u001b[0m\u001b[0mself\u001b[0m\u001b[0;34m.\u001b[0m\u001b[0m_get_tick\u001b[0m\u001b[0;34m(\u001b[0m\u001b[0mmajor\u001b[0m\u001b[0;34m=\u001b[0m\u001b[0mFalse\u001b[0m\u001b[0;34m)\u001b[0m\u001b[0;34m]\u001b[0m\u001b[0;34m)\u001b[0m\u001b[0;34m\u001b[0m\u001b[0m\n\u001b[0m\u001b[1;32m    749\u001b[0m         \u001b[0mself\u001b[0m\u001b[0;34m.\u001b[0m\u001b[0m_lastNumMajorTicks\u001b[0m \u001b[0;34m=\u001b[0m \u001b[0;36m1\u001b[0m\u001b[0;34m\u001b[0m\u001b[0m\n\u001b[1;32m    750\u001b[0m         \u001b[0mself\u001b[0m\u001b[0;34m.\u001b[0m\u001b[0m_lastNumMinorTicks\u001b[0m \u001b[0;34m=\u001b[0m \u001b[0;36m1\u001b[0m\u001b[0;34m\u001b[0m\u001b[0m\n",
        "\u001b[0;32m/usr/lib/pymodules/python2.7/matplotlib/axis.pyc\u001b[0m in \u001b[0;36m_get_tick\u001b[0;34m(self, major)\u001b[0m\n\u001b[1;32m   1839\u001b[0m         \u001b[0;32melse\u001b[0m\u001b[0;34m:\u001b[0m\u001b[0;34m\u001b[0m\u001b[0m\n\u001b[1;32m   1840\u001b[0m             \u001b[0mtick_kw\u001b[0m \u001b[0;34m=\u001b[0m \u001b[0mself\u001b[0m\u001b[0;34m.\u001b[0m\u001b[0m_minor_tick_kw\u001b[0m\u001b[0;34m\u001b[0m\u001b[0m\n\u001b[0;32m-> 1841\u001b[0;31m         \u001b[0;32mreturn\u001b[0m \u001b[0mYTick\u001b[0m\u001b[0;34m(\u001b[0m\u001b[0mself\u001b[0m\u001b[0;34m.\u001b[0m\u001b[0maxes\u001b[0m\u001b[0;34m,\u001b[0m \u001b[0;36m0\u001b[0m\u001b[0;34m,\u001b[0m \u001b[0;34m''\u001b[0m\u001b[0;34m,\u001b[0m \u001b[0mmajor\u001b[0m\u001b[0;34m=\u001b[0m\u001b[0mmajor\u001b[0m\u001b[0;34m,\u001b[0m \u001b[0;34m**\u001b[0m\u001b[0mtick_kw\u001b[0m\u001b[0;34m)\u001b[0m\u001b[0;34m\u001b[0m\u001b[0m\n\u001b[0m\u001b[1;32m   1842\u001b[0m \u001b[0;34m\u001b[0m\u001b[0m\n\u001b[1;32m   1843\u001b[0m     \u001b[0;32mdef\u001b[0m \u001b[0m_get_label\u001b[0m\u001b[0;34m(\u001b[0m\u001b[0mself\u001b[0m\u001b[0;34m)\u001b[0m\u001b[0;34m:\u001b[0m\u001b[0;34m\u001b[0m\u001b[0m\n",
        "\u001b[0;32m/usr/lib/pymodules/python2.7/matplotlib/axis.pyc\u001b[0m in \u001b[0;36m__init__\u001b[0;34m(self, axes, loc, label, size, width, color, tickdir, pad, labelsize, labelcolor, zorder, gridOn, tick1On, tick2On, label1On, label2On, major)\u001b[0m\n\u001b[1;32m    138\u001b[0m \u001b[0;34m\u001b[0m\u001b[0m\n\u001b[1;32m    139\u001b[0m         \u001b[0mself\u001b[0m\u001b[0;34m.\u001b[0m\u001b[0mtick1line\u001b[0m \u001b[0;34m=\u001b[0m \u001b[0mself\u001b[0m\u001b[0;34m.\u001b[0m\u001b[0m_get_tick1line\u001b[0m\u001b[0;34m(\u001b[0m\u001b[0;34m)\u001b[0m\u001b[0;34m\u001b[0m\u001b[0m\n\u001b[0;32m--> 140\u001b[0;31m         \u001b[0mself\u001b[0m\u001b[0;34m.\u001b[0m\u001b[0mtick2line\u001b[0m \u001b[0;34m=\u001b[0m \u001b[0mself\u001b[0m\u001b[0;34m.\u001b[0m\u001b[0m_get_tick2line\u001b[0m\u001b[0;34m(\u001b[0m\u001b[0;34m)\u001b[0m\u001b[0;34m\u001b[0m\u001b[0m\n\u001b[0m\u001b[1;32m    141\u001b[0m         \u001b[0mself\u001b[0m\u001b[0;34m.\u001b[0m\u001b[0mgridline\u001b[0m \u001b[0;34m=\u001b[0m \u001b[0mself\u001b[0m\u001b[0;34m.\u001b[0m\u001b[0m_get_gridline\u001b[0m\u001b[0;34m(\u001b[0m\u001b[0;34m)\u001b[0m\u001b[0;34m\u001b[0m\u001b[0m\n\u001b[1;32m    142\u001b[0m \u001b[0;34m\u001b[0m\u001b[0m\n",
        "\u001b[0;32m/usr/lib/pymodules/python2.7/matplotlib/axis.pyc\u001b[0m in \u001b[0;36m_get_tick2line\u001b[0;34m(self)\u001b[0m\n\u001b[1;32m    538\u001b[0m                     \u001b[0mmarkersize\u001b[0m\u001b[0;34m=\u001b[0m\u001b[0mself\u001b[0m\u001b[0;34m.\u001b[0m\u001b[0m_size\u001b[0m\u001b[0;34m,\u001b[0m\u001b[0;34m\u001b[0m\u001b[0m\n\u001b[1;32m    539\u001b[0m                     \u001b[0mmarkeredgewidth\u001b[0m\u001b[0;34m=\u001b[0m\u001b[0mself\u001b[0m\u001b[0;34m.\u001b[0m\u001b[0m_width\u001b[0m\u001b[0;34m,\u001b[0m\u001b[0;34m\u001b[0m\u001b[0m\n\u001b[0;32m--> 540\u001b[0;31m                     \u001b[0mzorder\u001b[0m\u001b[0;34m=\u001b[0m\u001b[0mself\u001b[0m\u001b[0;34m.\u001b[0m\u001b[0m_zorder\u001b[0m\u001b[0;34m,\u001b[0m\u001b[0;34m\u001b[0m\u001b[0m\n\u001b[0m\u001b[1;32m    541\u001b[0m                     )\n\u001b[1;32m    542\u001b[0m         \u001b[0ml\u001b[0m\u001b[0;34m.\u001b[0m\u001b[0mset_transform\u001b[0m\u001b[0;34m(\u001b[0m\u001b[0mself\u001b[0m\u001b[0;34m.\u001b[0m\u001b[0maxes\u001b[0m\u001b[0;34m.\u001b[0m\u001b[0mget_yaxis_transform\u001b[0m\u001b[0;34m(\u001b[0m\u001b[0mwhich\u001b[0m\u001b[0;34m=\u001b[0m\u001b[0;34m'tick2'\u001b[0m\u001b[0;34m)\u001b[0m\u001b[0;34m)\u001b[0m\u001b[0;34m\u001b[0m\u001b[0m\n",
        "\u001b[0;32m/usr/lib/pymodules/python2.7/matplotlib/lines.pyc\u001b[0m in \u001b[0;36m__init__\u001b[0;34m(self, xdata, ydata, linewidth, linestyle, color, marker, markersize, markeredgewidth, markeredgecolor, markerfacecolor, markerfacecoloralt, fillstyle, antialiased, dash_capstyle, solid_capstyle, dash_joinstyle, solid_joinstyle, pickradius, drawstyle, markevery, **kwargs)\u001b[0m\n\u001b[1;32m    213\u001b[0m         \u001b[0;31m# update kwargs before updating data to give the caller a\u001b[0m\u001b[0;34m\u001b[0m\u001b[0;34m\u001b[0m\u001b[0m\n\u001b[1;32m    214\u001b[0m         \u001b[0;31m# chance to init axes (and hence unit support)\u001b[0m\u001b[0;34m\u001b[0m\u001b[0;34m\u001b[0m\u001b[0m\n\u001b[0;32m--> 215\u001b[0;31m         \u001b[0mself\u001b[0m\u001b[0;34m.\u001b[0m\u001b[0mupdate\u001b[0m\u001b[0;34m(\u001b[0m\u001b[0mkwargs\u001b[0m\u001b[0;34m)\u001b[0m\u001b[0;34m\u001b[0m\u001b[0m\n\u001b[0m\u001b[1;32m    216\u001b[0m         \u001b[0mself\u001b[0m\u001b[0;34m.\u001b[0m\u001b[0mpickradius\u001b[0m \u001b[0;34m=\u001b[0m \u001b[0mpickradius\u001b[0m\u001b[0;34m\u001b[0m\u001b[0m\n\u001b[1;32m    217\u001b[0m         \u001b[0mself\u001b[0m\u001b[0;34m.\u001b[0m\u001b[0mind_offset\u001b[0m \u001b[0;34m=\u001b[0m \u001b[0;36m0\u001b[0m\u001b[0;34m\u001b[0m\u001b[0m\n",
        "\u001b[0;32m/usr/lib/pymodules/python2.7/matplotlib/artist.pyc\u001b[0m in \u001b[0;36mupdate\u001b[0;34m(self, props)\u001b[0m\n\u001b[1;32m    673\u001b[0m         \u001b[0mself\u001b[0m\u001b[0;34m.\u001b[0m\u001b[0meventson\u001b[0m \u001b[0;34m=\u001b[0m \u001b[0mstore\u001b[0m\u001b[0;34m\u001b[0m\u001b[0m\n\u001b[1;32m    674\u001b[0m         \u001b[0;32mif\u001b[0m \u001b[0mchanged\u001b[0m\u001b[0;34m:\u001b[0m\u001b[0;34m\u001b[0m\u001b[0m\n\u001b[0;32m--> 675\u001b[0;31m             \u001b[0mself\u001b[0m\u001b[0;34m.\u001b[0m\u001b[0mpchanged\u001b[0m\u001b[0;34m(\u001b[0m\u001b[0;34m)\u001b[0m\u001b[0;34m\u001b[0m\u001b[0m\n\u001b[0m\u001b[1;32m    676\u001b[0m \u001b[0;34m\u001b[0m\u001b[0m\n\u001b[1;32m    677\u001b[0m     \u001b[0;32mdef\u001b[0m \u001b[0mget_label\u001b[0m\u001b[0;34m(\u001b[0m\u001b[0mself\u001b[0m\u001b[0;34m)\u001b[0m\u001b[0;34m:\u001b[0m\u001b[0;34m\u001b[0m\u001b[0m\n",
        "\u001b[0;32m/usr/lib/pymodules/python2.7/matplotlib/artist.pyc\u001b[0m in \u001b[0;36mpchanged\u001b[0;34m(self)\u001b[0m\n\u001b[1;32m    209\u001b[0m             \u001b[0;32mpass\u001b[0m\u001b[0;34m\u001b[0m\u001b[0m\n\u001b[1;32m    210\u001b[0m \u001b[0;34m\u001b[0m\u001b[0m\n\u001b[0;32m--> 211\u001b[0;31m     \u001b[0;32mdef\u001b[0m \u001b[0mpchanged\u001b[0m\u001b[0;34m(\u001b[0m\u001b[0mself\u001b[0m\u001b[0;34m)\u001b[0m\u001b[0;34m:\u001b[0m\u001b[0;34m\u001b[0m\u001b[0m\n\u001b[0m\u001b[1;32m    212\u001b[0m         \"\"\"\n\u001b[1;32m    213\u001b[0m         \u001b[0mFire\u001b[0m \u001b[0man\u001b[0m \u001b[0mevent\u001b[0m \u001b[0mwhen\u001b[0m \u001b[0mproperty\u001b[0m \u001b[0mchanged\u001b[0m\u001b[0;34m,\u001b[0m \u001b[0mcalling\u001b[0m \u001b[0mall\u001b[0m \u001b[0mof\u001b[0m \u001b[0mthe\u001b[0m\u001b[0;34m\u001b[0m\u001b[0m\n",
        "\u001b[0;31mKeyboardInterrupt\u001b[0m: "
       ]
      },
      {
       "output_type": "stream",
       "stream": "stdout",
       "text": [
        "i = 0\n"
       ]
      }
     ],
     "prompt_number": 21
    },
    {
     "cell_type": "code",
     "collapsed": false,
     "input": [
      "# Average all outputs after some initial timeslice\n",
      "f_init = 500\n",
      "f_end  = 950\n",
      "folder = '/home/aristophanes/Documents/bhlight_ksatmos_cgs/dumps_1e-2/'\n",
      "dataFile = 'dump%03d' % (f_init-1)\n",
      "radDataFile = 'dump_rad_comoving%03d' % (f_init-1)\n",
      "data = loadtxt(folder+dataFile,skiprows=1)\n",
      "radData = loadtxt(folder+radDataFile)\n",
      "ndim = len(data[:, 2])\n",
      "rSim = data[:, 2]\n",
      "theta = data[:,3]\n",
      "rho = data[:,4]\n",
      "u = data[:,5]\n",
      "vr = data[:,6]\n",
      "vtheta = data[:,7]\n",
      "vphi = data[:,8]\n",
      "Erad = radData[:,4]\n",
      "Eavg    = radData[:,4]\n",
      "TRadavg = (Eavg/aR)**(1./4.)\n",
      "TGasavg = (u*(gamma - 1)*U_unit*mu*mp)/(rho*RHO_unit*kb)\n",
      "rhoavg  = rho\n",
      "Pavg    = u*(gamma - 1.)\n",
      "for i in xrange((f_end-f_init)):\n",
      "    clf()\n",
      "    folder = '/home/aristophanes/Documents/bhlight_ksatmos_cgs/dumps/'\n",
      "    dataFile = 'dump%03d' % (i+f_init)\n",
      "    radDataFile = 'dump_rad_comoving%03d' % (i+f_init)\n",
      "    data = loadtxt(folder+dataFile,skiprows=1)\n",
      "    radData = loadtxt(folder+radDataFile)\n",
      "    rSim = data[:, 2]\n",
      "    theta = data[:,3]\n",
      "    rho = data[:,4]\n",
      "    u = data[:,5]\n",
      "    vr = data[:,6]\n",
      "    vtheta = data[:,7]\n",
      "    vphi = data[:,8]\n",
      "    Erad = radData[:,4]\n",
      "    for j in xrange(ndim):\n",
      "        Eavg[j]    += Erad[j]\n",
      "        TRadavg[j] += (Erad[j]/aR)**(1./4.)\n",
      "        TGasavg[j] += (u[j]*(gamma - 1)*U_unit*mu*mp)/(rho[j]*RHO_unit*kb)\n",
      "        rhoavg[j]  += rho[j]\n",
      "        Pavg[j]    += u[j]*(gamma-1.)"
     ],
     "language": "python",
     "metadata": {},
     "outputs": []
    },
    {
     "cell_type": "code",
     "collapsed": false,
     "input": [
      "clf()\n",
      "subplot(2,2,1)\n",
      "plot(rSim, rhoavg*RHO_unit/(f_end-f_init+1), color='r')\n",
      "plot(r/RG, rho0array, color='k', linestyle='--')\n",
      "ylabel('$\\\\rho$')\n",
      "xlim([4.75, 19])\n",
      "\n",
      "subplot(2,2,2)\n",
      "plot(rSim, Pavg*U_unit/(f_end-f_init+1), color='r')\n",
      "plot(r/RG, sol[::,0]/(G/c**4.), color='k', linestyle='--')\n",
      "ylabel('$P$')\n",
      "xlim([4.75, 19])\n",
      "\n",
      "subplot(2,2,3)\n",
      "plot(rSim, TRadavg/(f_end-f_init+1), label='Radiation')\n",
      "plot(r/RG, Tarray, color='k', linestyle='--')\n",
      "plot(rSim, TGasavg/(f_end-f_init+1))\n",
      "xlim([4.75, 19])\n",
      "ylabel('$T$')\n",
      "\n",
      "subplot(2,2,4)\n",
      "plot(rSim,Eavg/(f_end-f_init+1), color='b')\n",
      "plot(r/RG, Eradarray, color='k', linestyle='--')\n",
      "ylabel('$E_r$')\n",
      "xlim([4.75, 19])\n",
      "subplots_adjust(wspace=.3)"
     ],
     "language": "python",
     "metadata": {},
     "outputs": [],
     "prompt_number": 243
    },
    {
     "cell_type": "code",
     "collapsed": false,
     "input": [
      "len(rad_energy)"
     ],
     "language": "python",
     "metadata": {},
     "outputs": [
      {
       "output_type": "pyout",
       "prompt_number": 151,
       "text": [
        "269"
       ]
      }
     ],
     "prompt_number": 151
    },
    {
     "cell_type": "code",
     "collapsed": false,
     "input": [
      "# Monitor energy conservation\n",
      "folder = '/home/aristophanes/Documents/bhlight_ksatmos_cgs/dumps/'\n",
      "#folder = '/home/aristophanes/Documents/bhlight_ksatmos_cgs/dumps_longrun_cfl0.25/'\n",
      "#ener_file = loadtxt(folder+\"ener_old.out\")\n",
      "ener_file = loadtxt(folder+\"ener.out\")\n",
      "fluid_energy = ener_file[:, 3]\n",
      "fluid_pphi = ener_file[:, 2]\n",
      "#rad_ener_file = loadtxt(folder+\"ener_rad_old.out\")\n",
      "rad_ener_file = loadtxt(folder+\"ener_rad.out\")\n",
      "rad_energy = rad_ener_file[:, 0]\n",
      "rad_pphi = rad_ener_file[:, 1]\n",
      "t = ener_file[:, 0]\n",
      "energySum = fluid_energy+rad_energy"
     ],
     "language": "python",
     "metadata": {},
     "outputs": [],
     "prompt_number": 31
    },
    {
     "cell_type": "code",
     "collapsed": false,
     "input": [
      "i = 453\n",
      "print 'i = %e' % energySum[i] + ' and i-1 = %e' % energySum[i-1]\n",
      "print (energySum[i] - energySum[i-1])"
     ],
     "language": "python",
     "metadata": {},
     "outputs": [
      {
       "output_type": "stream",
       "stream": "stdout",
       "text": [
        "i = -7.267000e+00 and i-1 = -7.267100e+00\n",
        "0.000100000000001\n"
       ]
      }
     ],
     "prompt_number": 25
    },
    {
     "cell_type": "code",
     "collapsed": false,
     "input": [
      "clf()\n",
      "plot(t, energySum, marker='.')\n",
      "#ylim([-2.176-0.008, -2.176-0.004])\n",
      "#xlim([430,450])\n",
      "#ylim([-7.27, -7.264])"
     ],
     "language": "python",
     "metadata": {},
     "outputs": [
      {
       "output_type": "pyout",
       "prompt_number": 35,
       "text": [
        "[<matplotlib.lines.Line2D at 0x5e4b910>]"
       ]
      }
     ],
     "prompt_number": 35
    },
    {
     "cell_type": "code",
     "collapsed": false,
     "input": [
      "# Energy\n",
      "clf()\n",
      "#plot(t, rad_energy, label ='$\\\\sum p_0 w$')\n",
      "#plot(t, fluid_energy, label='$T^0_{~~0}\\\\mathrm{d}V$')\n",
      "#plot([150],[fluid_energy[150]], 'ro')\n",
      "#plot([150],[rad_energy[150]], 'ro')\n",
      "subplot(2,1,1)\n",
      "legend(loc=3)\n",
      "plot(t, fluid_energy+rad_energy, marker='.')\n",
      "#xlim([0,250])\n",
      "#ylim([-2.184,-2.182])\n",
      "subplot(2,1,2)\n",
      "plot(t, fluid_energy, color='r', marker='.')\n",
      "plot(t, rad_energy, color='k')\n",
      "plt.grid(True)\n",
      "#ylim([-1.4,-0.8])\n",
      "#xlim([0,300])\n",
      "#plot(t, fluid_energy+rad_energy)"
     ],
     "language": "python",
     "metadata": {},
     "outputs": [
      {
       "output_type": "stream",
       "stream": "stderr",
       "text": [
        "/usr/lib/pymodules/python2.7/matplotlib/axes.py:4601: UserWarning: No labeled objects found. Use label='...' kwarg on individual plots.\n",
        "  warnings.warn(\"No labeled objects found. \"\n"
       ]
      }
     ],
     "prompt_number": 34
    },
    {
     "cell_type": "code",
     "collapsed": false,
     "input": [
      "plot(fluid_energy)"
     ],
     "language": "python",
     "metadata": {},
     "outputs": [
      {
       "output_type": "pyout",
       "prompt_number": 584,
       "text": [
        "[<matplotlib.lines.Line2D at 0x15f3db10>]"
       ]
      }
     ],
     "prompt_number": 584
    },
    {
     "cell_type": "code",
     "collapsed": false,
     "input": [
      "# Angular momentum\n",
      "clf()\n",
      "plot(t, rad_pphi, label ='$\\\\sum p_3 w$')\n",
      "plot(t, fluid_pphi, label='$T^0_{~~3}\\\\mathrm{d}V$')\n",
      "#plot([150],[fluid_energy[150]], 'ro')\n",
      "#plot([150],[rad_energy[150]], 'ro')\n",
      "legend(loc=3)\n",
      "plot(t, fluid_pphi+rad_pphi)"
     ],
     "language": "python",
     "metadata": {},
     "outputs": [
      {
       "output_type": "pyout",
       "prompt_number": 548,
       "text": [
        "[<matplotlib.lines.Line2D at 0x13a80050>]"
       ]
      }
     ],
     "prompt_number": 548
    },
    {
     "cell_type": "code",
     "collapsed": false,
     "input": [
      "# Plot fluxes\n",
      "clf()\n",
      "folder = '/home/aristophanes/Documents/bhlight_ksatmos_cgs/dumps/'\n",
      "flux_file = loadtxt(folder+\"flux_file.out\")\n",
      "F1_0 = flux_file[:, 0]\n",
      "F1_N1 = flux_file[:, 1]\n",
      "subplot(2,1,1)\n",
      "plot(F1_0)\n",
      "ylabel('F1 (i = 0)')\n",
      "subplot(2,1,2)\n",
      "plot(F1_N1)\n",
      "ylabel('F1 (i = N1)')"
     ],
     "language": "python",
     "metadata": {},
     "outputs": [
      {
       "output_type": "pyout",
       "prompt_number": 26,
       "text": [
        "<matplotlib.text.Text at 0x43f41d0>"
       ]
      }
     ],
     "prompt_number": 26
    },
    {
     "cell_type": "code",
     "collapsed": false,
     "input": [
      "nfiles = 220\n",
      "# Make a movie\n",
      "for i in xrange(nfiles):\n",
      "    clf()\n",
      "    folder = '/home/aristophanes/Documents/bhlight_ksatmos_cgs/dumps/'\n",
      "    dataFile = 'dump%03d' % i\n",
      "    radDataFile = 'dump_rad_comoving%03d' % i\n",
      "    data = loadtxt(folder+dataFile,skiprows=1)\n",
      "    radData = loadtxt(folder+radDataFile)\n",
      "    rSim = data[:, 2]\n",
      "    theta = data[:,3]\n",
      "    rho = data[:,4]\n",
      "    u = data[:,5]\n",
      "    vr = data[:,6]\n",
      "    vtheta = data[:,7]\n",
      "    vphi = data[:,8]\n",
      "    Erad = radData[:,4]\n",
      "    \n",
      "    subplot(1,2,1)\n",
      "    plot(rSim, radData[:, 5])\n",
      "    ylim([-5.e33, 5.e33])\n",
      "    ylabel('$R^{r0}$ (comoving)')\n",
      "    \n",
      "    subplot(1,2,2)\n",
      "    plot(rSim, vr)\n",
      "    ylim([-0.04, 0.1])\n",
      "    ylabel('$v^r$')\n",
      "    \n",
      "    savefig('../bhlight_ksatmos_cgs/movie/frame'+'%03d'%i+'.png')\n",
      "    if i % 25 == 0:\n",
      "        print \"i = %i\" % i"
     ],
     "language": "python",
     "metadata": {},
     "outputs": [
      {
       "output_type": "stream",
       "stream": "stdout",
       "text": [
        "i = 0\n",
        "i = 25"
       ]
      },
      {
       "output_type": "stream",
       "stream": "stdout",
       "text": [
        "\n",
        "i = 50"
       ]
      },
      {
       "output_type": "stream",
       "stream": "stdout",
       "text": [
        "\n",
        "i = 75"
       ]
      },
      {
       "output_type": "stream",
       "stream": "stdout",
       "text": [
        "\n",
        "i = 100"
       ]
      },
      {
       "output_type": "stream",
       "stream": "stdout",
       "text": [
        "\n",
        "i = 125"
       ]
      },
      {
       "output_type": "stream",
       "stream": "stdout",
       "text": [
        "\n",
        "i = 150"
       ]
      },
      {
       "output_type": "stream",
       "stream": "stdout",
       "text": [
        "\n",
        "i = 175"
       ]
      },
      {
       "output_type": "stream",
       "stream": "stdout",
       "text": [
        "\n",
        "i = 200"
       ]
      },
      {
       "output_type": "stream",
       "stream": "stdout",
       "text": [
        "\n"
       ]
      }
     ],
     "prompt_number": 114
    },
    {
     "cell_type": "code",
     "collapsed": false,
     "input": [
      "nfiles = 300\n",
      "# Make a movie\n",
      "for i in xrange(nfiles):\n",
      "    clf()\n",
      "    folder = '/home/aristophanes/Documents/bhlight_ksatmos_cgs/dumps/'\n",
      "    dataFile = 'dump%03d' % i\n",
      "    radDataFile = 'dump_rad_comoving%03d' % i\n",
      "    data = loadtxt(folder+dataFile,skiprows=1)\n",
      "    radData = loadtxt(folder+radDataFile)\n",
      "    rSim = data[:, 2]\n",
      "    theta = data[:,3]\n",
      "    rho = data[:,4]\n",
      "    u = data[:,5]\n",
      "    vr = data[:,6]\n",
      "    vtheta = data[:,7]\n",
      "    vphi = data[:,8]\n",
      "    Erad = radData[:,4]\n",
      "    \n",
      "    subplot(2,2,1)\n",
      "    plot(rSim, rho*RHO_unit, color='r')\n",
      "    plot(r/RG, rho0array, color='k', linestyle='--')\n",
      "    ylabel('$\\\\rho$')\n",
      "    #ylim([0.4e28, 4.e28])\n",
      "    ylim([0, 2.e14])\n",
      "    xlim([5, 19])\n",
      "\n",
      "    subplot(2,2,2)\n",
      "    #plot(rSim, u*(gamma - 1)*U_unit, color='r')\n",
      "    #plot(r/RG, sol[::,0]/(G/c**4.), color='k', linestyle='--')\n",
      "    #ylabel('$P$')\n",
      "    #ylim([0, .9e49])\n",
      "    #ylim([0,4.e34])\n",
      "    #xlim([5, 19])\n",
      "    plot(t, rad_energy, label ='$\\\\sum p_0 w$')\n",
      "    plot(t, fluid_energy, label='$T^0_{~~0}\\\\mathrm{d}V$')\n",
      "    legend(loc=3)\n",
      "    plot([i],[fluid_energy[i]], 'ro')\n",
      "    plot([i],[rad_energy[i]], 'ro')\n",
      "    plot(t, fluid_energy+rad_energy)\n",
      "\n",
      "    subplot(2,2,3)\n",
      "    plot(rSim, (Erad/aR)**(1./4.), color='r', label='Radiation')\n",
      "    plot(r/RG, Tarray, color='k', linestyle='--')\n",
      "    plot(rSim, (u*(gamma - 1)*U_unit*mu*mp)/(rho*RHO_unit*kb))\n",
      "    xlim([5, 19])\n",
      "    ylim([0.95e12, 1.4e12])\n",
      "    ylabel('$T$')\n",
      "\n",
      "    subplot(2,2,4)\n",
      "    plot(rSim,Erad, color='b')\n",
      "    plot(r/RG, Eradarray, color='k', linestyle='--')\n",
      "    ylabel('$E_r$')\n",
      "    xlim([5, 19])\n",
      "    ylim([0.5e34, 3.0e34])\n",
      "    subplots_adjust(wspace=.3)\n",
      "    \n",
      "    savefig('../bhlight_ksatmos_cgs/movie/frame'+'%03d'%i+'.png')\n",
      "    if i % 25 == 0:\n",
      "        print \"i = %i\" % i"
     ],
     "language": "python",
     "metadata": {},
     "outputs": [
      {
       "output_type": "stream",
       "stream": "stdout",
       "text": [
        "i = 0\n",
        "i = 25"
       ]
      },
      {
       "output_type": "stream",
       "stream": "stdout",
       "text": [
        "\n",
        "i = 50"
       ]
      },
      {
       "output_type": "stream",
       "stream": "stdout",
       "text": [
        "\n",
        "i = 75"
       ]
      },
      {
       "output_type": "stream",
       "stream": "stdout",
       "text": [
        "\n",
        "i = 100"
       ]
      },
      {
       "output_type": "stream",
       "stream": "stdout",
       "text": [
        "\n",
        "i = 125"
       ]
      },
      {
       "output_type": "stream",
       "stream": "stdout",
       "text": [
        "\n",
        "i = 150"
       ]
      },
      {
       "output_type": "stream",
       "stream": "stdout",
       "text": [
        "\n",
        "i = 175"
       ]
      },
      {
       "output_type": "stream",
       "stream": "stdout",
       "text": [
        "\n",
        "i = 200"
       ]
      },
      {
       "output_type": "stream",
       "stream": "stdout",
       "text": [
        "\n",
        "i = 225"
       ]
      },
      {
       "output_type": "stream",
       "stream": "stdout",
       "text": [
        "\n",
        "i = 250"
       ]
      },
      {
       "output_type": "stream",
       "stream": "stdout",
       "text": [
        "\n",
        "i = 275"
       ]
      },
      {
       "output_type": "stream",
       "stream": "stdout",
       "text": [
        "\n"
       ]
      }
     ],
     "prompt_number": 86
    },
    {
     "cell_type": "code",
     "collapsed": false,
     "input": [
      "plot(r/RG, rho0array)\n",
      "plot(rSim, rho*RHO_unit)"
     ],
     "language": "python",
     "metadata": {},
     "outputs": [
      {
       "output_type": "pyout",
       "prompt_number": 74,
       "text": [
        "[<matplotlib.lines.Line2D at 0x5012290>]"
       ]
      }
     ],
     "prompt_number": 74
    },
    {
     "cell_type": "code",
     "collapsed": false,
     "input": [
      "(2.e-43)*1.5e15*RG"
     ],
     "language": "python",
     "metadata": {},
     "outputs": [
      {
       "output_type": "pyout",
       "prompt_number": 183,
       "text": [
        "4.431123440754263e-23"
       ]
      }
     ],
     "prompt_number": 183
    },
    {
     "cell_type": "code",
     "collapsed": false,
     "input": [
      "# Try pure equations of motion approach i.e. T^{rr}_{;r} = 0\n",
      "\n",
      "def Tfunc(r, rho0, P):\n",
      "    T = [[0 for col in range(4)] for row in range(4)]\n",
      "    gcov = gcov_func(r, pi/2.)\n",
      "    gcon = gcon_func(r, pi/2.)\n",
      "    u0 = 1./sqrt(-gcov[0][0])\n",
      "    ur = 0.\n",
      "    u = [u0, ur, 0, 0]\n",
      "    \n",
      "    Temp_cgs = Tempfunc(r)\n",
      "    Erad_cgs = aR*(Temp_cgs)**4.\n",
      "    Erad = Erad_cgs*(G/c**4.)\n",
      "    \n",
      "    for mu in xrange(4):\n",
      "        for nu in xrange(4):\n",
      "            T[mu][nu] += ((rho0 + gamma/(gamma-1.)*P + 4/3*Erad)*u[mu]*u[nu])\n",
      "            T[mu][nu] += ((P + 1./3.*Erad)*gcon[nu][mu])\n",
      "    \n",
      "    return T\n",
      "\n",
      "# Primitive to conserved variables\n",
      "def conserved(r, rho0, P):\n",
      "    U = [0]\n",
      "    U[0] = Tfunc(r, rho0, P)[1][1]\n",
      "    return U\n",
      "\n",
      "# Conserved to primitive variable inversion\n",
      "# Treat as one rootfinding problem\n",
      "def fun(x, args):\n",
      "    P = x[0]\n",
      "    r = args[0]\n",
      "    U = args[1]\n",
      "    Pcgs = P/(G/c**4.)\n",
      "    rho0 = rho0func(r, Pcgs)\n",
      "    # Convert rho0 to geometric units\n",
      "    rho0_geom = rho0*(G/c**2.)\n",
      "    Uprime = conserved(r, rho0_geom, P)\n",
      "    return [U[0]-Uprime[0]]\n",
      "\n",
      "# Return rho0 in cgs, given P and r in cgs\n",
      "def rho0func(P, r):\n",
      "    Temp_cgs = Tempfunc(r)\n",
      "    rho0 = P*mu*mp/(Temp_cgs*kb)\n",
      "    return rho0\n",
      "\n",
      "# Compute derivative of U\n",
      "def odeFun(x, r):\n",
      "    U = [x[0]]\n",
      "    #PPrev = P_geom\n",
      "    P_cgs =  P_geom/(G/c**4.)\n",
      "    rho0Prev = rho0func(r, P_cgs)\n",
      "    args2 = [r, U]\n",
      "    init = [P_geom]\n",
      "    sol = optimize.fsolve(fun, init, args2)\n",
      "    P = sol[0]\n",
      "    rho0 = rho0func(r, P/(G/c**4.))\n",
      "    rho0geom = rho0*(G/c**2.)\n",
      "    theta = pi/2.\n",
      "    print 'r = %e, '% r +  'rho0 = %e, '%rho0geom + 'P = %e' % P\n",
      "    print P_geom\n",
      "    T = Tfunc(r, rho0geom, P)\n",
      "    dU = [0]\n",
      "    r = r/RG\n",
      "    print r\n",
      "    dU[0] = (-2.+r)/r**3*T[0][0] - 4.*T[0][1]/r**3 + 2./r*T[1][1] - (2.+r)/r**3*T[1][1] + (2.-r)*T[2][2] + 1./2.*T[2][1]/tan(theta) - (-2.+r)*T[3][3]*sin(theta)\n",
      "    #print 'T1 = %e' % ((-2.+r)/r**3*T[0][0])\n",
      "    #print (- 4.*T[0][1]/r**3 + 2./r*T[1][1])\n",
      "    #print (- (2.+r)/r**3*T[1][1])\n",
      "    #print ((2.-r)*T[2][2])\n",
      "    #print ( 1./2.*T[2][1]/tan(theta))\n",
      "    #print (- (-2.+r)*T[3][3]*sin(theta))\n",
      "    #print 'du = %e' % dU[0]\n",
      "    dU[0] = -dU[0]\n",
      "    return dU\n",
      "\n",
      "# Initialize conserved variables\n",
      "#UR = conserved(rR, rho0R, PR)\n",
      "Ui = [0]\n",
      "Ui[0] = Tfunc(ri, rho0_geom, P_geom)[1][1]"
     ],
     "language": "python",
     "metadata": {},
     "outputs": [],
     "prompt_number": 145
    },
    {
     "cell_type": "code",
     "collapsed": false,
     "input": [
      "# Test the rootfinder\n",
      "args = [ri, Ui]\n",
      "init = [P_geom]\n",
      "print 'init: %e' % init[0]\n",
      "sol = optimize.fsolve(fun, init, args=args)\n",
      "print 'sol0 = %e' % sol[0]"
     ],
     "language": "python",
     "metadata": {},
     "outputs": [
      {
       "output_type": "stream",
       "stream": "stdout",
       "text": [
        "init: 7.150060e-01\n",
        "sol0 = 7.150060e-01\n"
       ]
      }
     ],
     "prompt_number": 146
    },
    {
     "cell_type": "code",
     "collapsed": false,
     "input": [
      "print Ui\n",
      "print sol[0]\n",
      "print r[0]\n",
      "print ri"
     ],
     "language": "python",
     "metadata": {},
     "outputs": [
      {
       "output_type": "stream",
       "stream": "stdout",
       "text": [
        "[0.35750301935967982]\n",
        "0.715006038719\n",
        "590816.458767\n",
        "590816.458767\n"
       ]
      }
     ],
     "prompt_number": 147
    },
    {
     "cell_type": "code",
     "collapsed": false,
     "input": [
      "P_geom"
     ],
     "language": "python",
     "metadata": {},
     "outputs": [
      {
       "output_type": "pyout",
       "prompt_number": 148,
       "text": [
        "0.71500603871935908"
       ]
      }
     ],
     "prompt_number": 148
    },
    {
     "cell_type": "code",
     "collapsed": false,
     "input": [
      "# Run the integration\n",
      "rMin = ri\n",
      "rMax = 20.*RG\n",
      "N = 256\n",
      "r = linspace(rMin, rMax, N)\n",
      "args = (P_geom)\n",
      "sol = odeint(odeFun, Ui, r)"
     ],
     "language": "python",
     "metadata": {},
     "outputs": [
      {
       "output_type": "stream",
       "stream": "stdout",
       "text": [
        "r = 5.908165e+05, rho0 = 2.761493e-43, P = 7.150060e-01\n",
        "0.715006038719\n",
        "4.0\n",
        "r = 5.908165e+05, rho0 = 2.761493e-43, P = 7.146746e-01\n",
        "0.715006038719\n",
        "4.00000000558\n",
        "r = 5.908165e+05, rho0 = 2.761493e-43, P = 7.146748e-01\n",
        "0.715006038719\n",
        "4.00000000558\n",
        "r = 5.908165e+05, rho0 = 2.761493e-43, P = 7.148056e-01\n",
        "0.715006038719\n",
        "4.00000000337\n",
        "r = 5.908165e+05, rho0 = 2.761493e-43, P = 7.148056e-01\n",
        "0.715006038719\n",
        "4.00000000337\n",
        "r = 5.908165e+05, rho0 = 2.761493e-43, P = 7.146052e-01\n",
        "0.715006038719\n",
        "4.00000000675\n",
        "r = 5.908165e+05, rho0 = 2.761493e-43, P = 7.146052e-01\n",
        "0.715006038719\n",
        "4.00000000675\n",
        "r = 5.908165e+05, rho0 = 2.761493e-43, P = 7.142046e-01\n",
        "0.715006038719\n",
        "4.0000000135\n",
        "r = 5.908165e+05, rho0 = 2.761493e-43, P = 7.142046e-01\n",
        "0.715006038719\n",
        "4.0000000135\n",
        "r = 5.908165e+05, rho0 = 2.761493e-43, P = 7.138042e-01\n",
        "0.715006038719\n",
        "4.00000002025\n",
        "r = 5.908165e+05, rho0 = 2.761493e-43, P = 7.138042e-01\n",
        "0.715006038719\n",
        "4.00000002025\n",
        "r = 5.908165e+05, rho0 = 2.761493e-43, P = 7.134040e-01\n",
        "0.715006038719\n",
        "4.000000027\n",
        "r = 5.908165e+05, rho0 = 2.761493e-43, P = 7.134040e-01\n",
        "0.715006038719\n",
        "4.000000027\n",
        "r = 5.908165e+05, rho0 = 2.761493e-43, P = 7.094145e-01\n",
        "0.715006038719\n",
        "4.0000000945\n",
        "r = 5.908165e+05, rho0 = 2.761493e-43, P = 7.094144e-01\n",
        "0.715006038719\n",
        "4.0000000945\n",
        "r = 5.908165e+05, rho0 = 2.761493e-43, P = 7.054472e-01\n",
        "0.715006038719\n",
        "4.00000016199\n",
        "r = 5.908165e+05, rho0 = 2.761493e-43, P = 7.054472e-01\n",
        "0.715006038719\n",
        "4.00000016199\n",
        "r = 5.908165e+05, rho0 = 2.761493e-43, P = 7.015022e-01\n",
        "0.715006038719\n",
        "4.00000022949\n",
        "r = 5.908165e+05, rho0 = 2.761493e-43, P = 7.015022e-01\n",
        "0.715006038719\n",
        "4.00000022949\n",
        "r = 5.908165e+05, rho0 = 2.761493e-43, P = 6.975792e-01\n",
        "0.715006038719\n",
        "4.00000029699\n",
        "r = 5.908165e+05, rho0 = 2.761493e-43, P = 6.975792e-01\n",
        "0.715006038719\n",
        "4.00000029699\n",
        "r = 5.908166e+05, rho0 = 2.761494e-43, P = 6.595357e-01\n",
        "0.715006038719\n",
        "4.00000097197\n",
        "r = 5.908166e+05, rho0 = 2.761494e-43, P = 6.595358e-01\n",
        "0.715006038719\n",
        "4.00000097197\n",
        "r = 5.908167e+05, rho0 = 2.761494e-43, P = 6.235673e-01\n",
        "0.715006038719\n",
        "4.00000164695\n",
        "r = 5.908167e+05, rho0 = 2.761494e-43, P = 6.235672e-01"
       ]
      },
      {
       "output_type": "stream",
       "stream": "stdout",
       "text": [
        "\n",
        "0.715006038719\n",
        "4.00000164695\n",
        "r = 5.908168e+05, rho0 = 2.761495e-43, P = 5.895605e-01\n",
        "0.715006038719\n",
        "4.00000232192\n",
        "r = 5.908168e+05, rho0 = 2.761495e-43, P = 5.895602e-01\n",
        "0.715006038719\n",
        "4.00000232192\n",
        "r = 5.908169e+05, rho0 = 2.761495e-43, P = 5.574080e-01\n",
        "0.715006038719\n",
        "4.0000029969\n",
        "r = 5.908169e+05, rho0 = 2.761495e-43, P = 5.574078e-01\n",
        "0.715006038719\n",
        "4.0000029969\n",
        "r = 5.908170e+05, rho0 = 2.761496e-43, P = 5.270091e-01\n",
        "0.715006038719\n",
        "4.00000367188\n",
        "r = 5.908170e+05, rho0 = 2.761496e-43, P = 5.270089e-01\n",
        "0.715006038719\n",
        "4.00000367188\n",
        "r = 5.908172e+05, rho0 = 2.761496e-43, P = 4.813541e-01\n",
        "0.715006038719\n",
        "4.00000476253\n",
        "r = 5.908172e+05, rho0 = 2.761496e-43, P = 4.813536e-01\n",
        "0.715006038719\n",
        "4.00000476253\n",
        "r = 5.908173e+05, rho0 = 2.761497e-43, P = 4.396536e-01\n",
        "0.715006038719\n",
        "4.00000585318\n",
        "r = 5.908173e+05, rho0 = 2.761497e-43, P = 4.396535e-01\n",
        "0.715006038719\n",
        "4.00000585318\n",
        "r = 5.908175e+05, rho0 = 2.761498e-43, P = 4.015652e-01\n",
        "0.715006038719\n",
        "4.00000694383\n",
        "r = 5.908175e+05, rho0 = 2.761498e-43, P = 4.015659e-01\n",
        "0.715006038719\n",
        "4.00000694383\n",
        "r = 5.908175e+05, rho0 = 2.761498e-43, P = 4.077879e-01\n",
        "0.715006038719\n",
        "4.00000675876\n",
        "r = 5.908175e+05, rho0 = 2.761498e-43, P = 4.077883e-01\n",
        "0.715006038719\n",
        "4.00000675876\n",
        "r = 5.908176e+05, rho0 = 2.761498e-43, P = 3.782328e-01\n",
        "0.715006038719\n",
        "4.00000766434\n",
        "r = 5.908176e+05, rho0 = 2.761498e-43, P = 3.782326e-01\n",
        "0.715006038719\n",
        "4.00000766434\n",
        "r = 5.908177e+05, rho0 = 2.761499e-43, P = 3.508190e-01\n",
        "0.715006038719\n",
        "4.00000856992\n",
        "r = 5.908177e+05, rho0 = 2.761499e-43, P = 3.508191e-01\n",
        "0.715006038719\n",
        "4.00000856992\n",
        "r = 5.908179e+05, rho0 = 2.761500e-43, P = 3.253925e-01\n",
        "0.715006038719\n",
        "4.00000947549\n",
        "r = 5.908179e+05, rho0 = 2.761500e-43, P = 3.253925e-01\n",
        "0.715006038719\n",
        "4.00000947549\n",
        "r = 5.908180e+05, rho0 = 2.761500e-43, P = 3.018087e-01\n",
        "0.715006038719\n",
        "4.00001038107\n",
        "r = 5.908180e+05, rho0 = 2.761500e-43, P = 3.018087e-01\n",
        "0.715006038719\n",
        "4.00001038107\n",
        "r = 5.908181e+05, rho0 = 2.761501e-43, P = 2.799342e-01\n",
        "0.715006038719\n",
        "4.00001128665\n",
        "r = 5.908181e+05, rho0 = 2.761501e-43, P = 2.799342e-01\n",
        "0.715006038719\n",
        "4.00001128665\n",
        "r = 5.908184e+05, rho0 = 2.761502e-43, P = 2.443608e-01\n",
        "0.715006038719\n",
        "4.00001292246\n",
        "r = 5.908184e+05, rho0 = 2.761502e-43, P = 2.443609e-01"
       ]
      },
      {
       "output_type": "stream",
       "stream": "stdout",
       "text": [
        "\n",
        "0.715006038719\n",
        "4.00001292246\n",
        "r = 5.908186e+05, rho0 = 2.761503e-43, P = 2.133079e-01\n",
        "0.715006038719\n",
        "4.00001455826\n",
        "r = 5.908186e+05, rho0 = 2.761503e-43, P = 2.133081e-01\n",
        "0.715006038719\n",
        "4.00001455826\n",
        "r = 5.908189e+05, rho0 = 2.761504e-43, P = 1.862018e-01\n",
        "0.715006038719\n",
        "4.00001619407\n",
        "r = 5.908189e+05, rho0 = 2.761504e-43, P = 1.862014e-01\n",
        "0.715006038719\n",
        "4.00001619407\n",
        "r = 5.908191e+05, rho0 = 2.761506e-43, P = 1.625397e-01\n",
        "0.715006038719\n",
        "4.00001782988\n",
        "r = 5.908191e+05, rho0 = 2.761506e-43, P = 1.625394e-01\n",
        "0.715006038719\n",
        "4.00001782988\n",
        "r = 5.908193e+05, rho0 = 2.761507e-43, P = 1.418844e-01\n",
        "0.715006038719\n",
        "4.00001946569\n",
        "r = 5.908193e+05, rho0 = 2.761507e-43, P = 1.418843e-01\n",
        "0.715006038719\n",
        "4.00001946569\n",
        "r = 5.908196e+05, rho0 = 2.761508e-43, P = 1.238541e-01\n",
        "0.715006038719\n",
        "4.00002110149\n",
        "r = 5.908196e+05, rho0 = 2.761508e-43, P = 1.238541e-01\n",
        "0.715006038719\n",
        "4.00002110149\n",
        "r = 5.908198e+05, rho0 = 2.761509e-43, P = 1.081151e-01\n",
        "0.715006038719\n",
        "4.0000227373\n",
        "r = 5.908198e+05, rho0 = 2.761509e-43, P = 1.081150e-01\n",
        "0.715006038719\n",
        "4.0000227373\n",
        "r = 5.908201e+05, rho0 = 2.761510e-43, P = 9.085671e-02\n",
        "0.715006038719\n",
        "4.00002483054\n",
        "r = 5.908201e+05, rho0 = 2.761510e-43, P = 9.085661e-02\n",
        "0.715006038719\n",
        "4.00002483054\n",
        "r = 5.908204e+05, rho0 = 2.761512e-43, P = 7.635340e-02\n",
        "0.715006038719\n",
        "4.00002692378\n",
        "r = 5.908204e+05, rho0 = 2.761512e-43, P = 7.635316e-02\n",
        "0.715006038719\n",
        "4.00002692378\n",
        "r = 5.908207e+05, rho0 = 2.761513e-43, P = 6.416508e-02\n",
        "0.715006038719\n",
        "4.00002901702\n",
        "r = 5.908207e+05, rho0 = 2.761513e-43, P = 6.416491e-02\n",
        "0.715006038719\n",
        "4.00002901702\n",
        "r = 5.908211e+05, rho0 = 2.761515e-43, P = 5.392243e-02\n",
        "0.715006038719\n",
        "4.00003111026\n",
        "r = 5.908211e+05, rho0 = 2.761515e-43, P = 5.392228e-02\n",
        "0.715006038719\n",
        "4.00003111026\n",
        "r = 5.908214e+05, rho0 = 2.761516e-43, P = 4.531481e-02\n",
        "0.715006038719\n",
        "4.0000332035\n",
        "r = 5.908214e+05, rho0 = 2.761516e-43, P = 4.531468e-02\n",
        "0.715006038719\n",
        "4.0000332035\n",
        "r = 5.908217e+05, rho0 = 2.761518e-43, P = 3.808122e-02\n",
        "0.715006038719\n",
        "4.00003529674\n",
        "r = 5.908217e+05, rho0 = 2.761518e-43, P = 3.808111e-02\n",
        "0.715006038719\n",
        "4.00003529674\n",
        "r = 5.908220e+05, rho0 = 2.761519e-43, P = 3.200233e-02\n",
        "0.715006038719\n",
        "4.00003738998\n",
        "r = 5.908220e+05, rho0 = 2.761519e-43, P = 3.200224e-02"
       ]
      },
      {
       "output_type": "stream",
       "stream": "stdout",
       "text": [
        "\n",
        "0.715006038719\n",
        "4.00003738998\n",
        "r = 5.908223e+05, rho0 = 2.761521e-43, P = 2.620134e-02\n",
        "0.715006038719\n",
        "4.00003979721\n",
        "r = 5.908223e+05, rho0 = 2.761521e-43, P = 2.620122e-02\n",
        "0.715006038719\n",
        "4.00003979721\n",
        "r = 5.908227e+05, rho0 = 2.761522e-43, P = 2.145181e-02\n",
        "0.715006038719\n",
        "4.00004220445\n",
        "r = 5.908227e+05, rho0 = 2.761522e-43, P = 2.145176e-02\n",
        "0.715006038719\n",
        "4.00004220445\n",
        "r = 5.908230e+05, rho0 = 2.761524e-43, P = 1.756308e-02\n",
        "0.715006038719\n",
        "4.00004461168\n",
        "r = 5.908230e+05, rho0 = 2.761524e-43, P = 1.756324e-02\n",
        "0.715006038719\n",
        "4.00004461168\n",
        "r = 5.908234e+05, rho0 = 2.761526e-43, P = 1.437947e-02\n",
        "0.715006038719\n",
        "4.00004701891\n",
        "r = 5.908234e+05, rho0 = 2.761526e-43, P = 1.437957e-02\n",
        "0.715006038719\n",
        "4.00004701891\n",
        "r = 5.908238e+05, rho0 = 2.761527e-43, P = 1.177296e-02\n",
        "0.715006038719\n",
        "4.00004942615\n",
        "r = 5.908238e+05, rho0 = 2.761527e-43, P = 1.177301e-02\n",
        "0.715006038719\n",
        "4.00004942615\n",
        "r = 5.908241e+05, rho0 = 2.761529e-43, P = 9.638903e-03\n",
        "0.715006038719\n",
        "4.00005183338\n",
        "r = 5.908241e+05, rho0 = 2.761529e-43, P = 9.638931e-03\n",
        "0.715006038719\n",
        "4.00005183338\n",
        "r = 5.908245e+05, rho0 = 2.761531e-43, P = 7.891698e-03\n",
        "0.715006038719\n",
        "4.00005424061\n",
        "r = 5.908245e+05, rho0 = 2.761531e-43, P = 7.891697e-03\n",
        "0.715006038719\n",
        "4.00005424061\n",
        "r = 5.908248e+05, rho0 = 2.761532e-43, P = 6.461167e-03\n",
        "0.715006038719\n",
        "4.00005664785\n",
        "r = 5.908248e+05, rho0 = 2.761532e-43, P = 6.461185e-03\n",
        "0.715006038719\n",
        "4.00005664785\n",
        "r = 5.908252e+05, rho0 = 2.761534e-43, P = 5.163254e-03\n",
        "0.715006038719\n",
        "4.00005934689\n",
        "r = 5.908252e+05, rho0 = 2.761534e-43, P = 5.163270e-03\n",
        "0.715006038719\n",
        "4.00005934689\n",
        "r = 5.908256e+05, rho0 = 2.761536e-43, P = 4.126053e-03\n",
        "0.715006038719\n",
        "4.00006204593\n",
        "r = 5.908256e+05, rho0 = 2.761536e-43, P = 4.126079e-03\n",
        "0.715006038719\n",
        "4.00006204593\n",
        "r = 5.908260e+05, rho0 = 2.761538e-43, P = 3.297240e-03\n",
        "0.715006038719\n",
        "4.00006474498\n",
        "r = 5.908260e+05, rho0 = 2.761538e-43, P = 3.297234e-03\n",
        "0.715006038719\n",
        "4.00006474498\n",
        "r = 5.908264e+05, rho0 = 2.761540e-43, P = 2.634931e-03\n",
        "0.715006038719\n",
        "4.00006744402\n",
        "r = 5.908264e+05, rho0 = 2.761540e-43, P = 2.634886e-03\n",
        "0.715006038719\n",
        "4.00006744402\n",
        "r = 5.908268e+05, rho0 = 2.761542e-43, P = 2.105634e-03\n",
        "0.715006038719\n",
        "4.00007014306\n",
        "r = 5.908268e+05, rho0 = 2.761542e-43, P = 2.105594e-03"
       ]
      },
      {
       "output_type": "stream",
       "stream": "stdout",
       "text": [
        "\n",
        "0.715006038719\n",
        "4.00007014306\n",
        "r = 5.908272e+05, rho0 = 2.761543e-43, P = 1.682660e-03\n",
        "0.715006038719\n",
        "4.00007284211\n",
        "r = 5.908272e+05, rho0 = 2.761543e-43, P = 1.682625e-03\n",
        "0.715006038719\n",
        "4.00007284211\n",
        "r = 5.908276e+05, rho0 = 2.761545e-43, P = 1.344651e-03\n",
        "0.715006038719\n",
        "4.00007554115\n",
        "r = 5.908276e+05, rho0 = 2.761545e-43, P = 1.344622e-03\n",
        "0.715006038719\n",
        "4.00007554115\n",
        "r = 5.908281e+05, rho0 = 2.761547e-43, P = 1.047221e-03\n",
        "0.715006038719\n",
        "4.00007855022\n",
        "r = 5.908281e+05, rho0 = 2.761547e-43, P = 1.047191e-03\n",
        "0.715006038719\n",
        "4.00007855022\n",
        "r = 5.908285e+05, rho0 = 2.761550e-43, P = 8.155959e-04\n",
        "0.715006038719\n",
        "4.0000815593\n",
        "r = 5.908285e+05, rho0 = 2.761550e-43, P = 8.155522e-04\n",
        "0.715006038719\n",
        "4.0000815593\n",
        "r = 5.908289e+05, rho0 = 2.761552e-43, P = 6.351810e-04\n",
        "0.715006038719\n",
        "4.00008456837\n",
        "r = 5.908289e+05, rho0 = 2.761552e-43, P = 6.351537e-04\n",
        "0.715006038719\n",
        "4.00008456837\n",
        "r = 5.908294e+05, rho0 = 2.761554e-43, P = 4.946821e-04\n",
        "0.715006038719\n",
        "4.00008757744\n",
        "r = 5.908294e+05, rho0 = 2.761554e-43, P = 4.946583e-04\n",
        "0.715006038719\n",
        "4.00008757744\n",
        "r = 5.908298e+05, rho0 = 2.761556e-43, P = 3.852604e-04\n",
        "0.715006038719\n",
        "4.00009058652\n",
        "r = 5.908298e+05, rho0 = 2.761556e-43, P = 3.852408e-04\n",
        "0.715006038719\n",
        "4.00009058652\n",
        "r = 5.908303e+05, rho0 = 2.761558e-43, P = 3.000389e-04\n",
        "0.715006038719\n",
        "4.00009359559\n",
        "r = 5.908303e+05, rho0 = 2.761558e-43, P = 3.000264e-04\n",
        "0.715006038719\n",
        "4.00009359559\n",
        "r = 5.908307e+05, rho0 = 2.761560e-43, P = 2.336728e-04\n",
        "0.715006038719\n",
        "4.00009660466\n",
        "r = 5.908307e+05, rho0 = 2.761560e-43, P = 2.336610e-04\n",
        "0.715006038719\n",
        "4.00009660466\n",
        "r = 5.908313e+05, rho0 = 2.761562e-43, P = 1.728975e-04\n",
        "0.715006038719\n",
        "4.0001002307\n",
        "r = 5.908313e+05, rho0 = 2.761562e-43, P = 1.728810e-04\n",
        "0.715006038719\n",
        "4.0001002307\n",
        "r = 5.908318e+05, rho0 = 2.761565e-43, P = 1.279342e-04\n",
        "0.715006038719\n",
        "4.00010385673\n",
        "r = 5.908318e+05, rho0 = 2.761565e-43, P = 1.279135e-04\n",
        "0.715006038719\n",
        "4.00010385673\n",
        "r = 5.908323e+05, rho0 = 2.761567e-43, P = 9.461641e-05\n",
        "0.715006038719\n",
        "4.00010748277\n",
        "r = 5.908323e+05, rho0 = 2.761567e-43, P = 9.464870e-05\n",
        "0.715006038719\n",
        "4.00010748277\n",
        "r = 5.908329e+05, rho0 = 2.761570e-43, P = 6.998741e-05\n",
        "0.715006038719\n",
        "4.0001111088\n",
        "r = 5.908329e+05, rho0 = 2.761570e-43, P = 7.003173e-05"
       ]
      },
      {
       "output_type": "stream",
       "stream": "stdout",
       "text": [
        "\n",
        "0.715006038719\n",
        "4.0001111088\n",
        "r = 5.908334e+05, rho0 = 2.761572e-43, P = 5.178646e-05\n",
        "0.715006038719\n",
        "4.00011473483\n",
        "r = 5.908334e+05, rho0 = 2.761572e-43, P = 5.181552e-05\n",
        "0.715006038719\n",
        "4.00011473483\n",
        "r = 5.908339e+05, rho0 = 2.761575e-43, P = 3.831230e-05\n",
        "0.715006038719\n",
        "4.00011836087\n",
        "r = 5.908339e+05, rho0 = 2.761575e-43, P = 3.833837e-05\n",
        "0.715006038719\n",
        "4.00011836087\n",
        "r = 5.908346e+05, rho0 = 2.761578e-43, P = 2.698871e-05\n",
        "0.715006038719\n",
        "4.00012257362\n",
        "r = 5.908346e+05, rho0 = 2.761578e-43, P = 2.701921e-05\n",
        "0.715006038719\n",
        "4.00012257362\n",
        "r = 5.908352e+05, rho0 = 2.761581e-43, P = 1.900401e-05\n",
        "0.715006038719\n",
        "4.00012678638\n",
        "r = 5.908352e+05, rho0 = 2.761581e-43, P = 1.904174e-05\n",
        "0.715006038719\n",
        "4.00012678638\n",
        "r = 5.908358e+05, rho0 = 2.761584e-43, P = 1.339557e-05\n",
        "0.715006038719\n",
        "4.00013099913\n",
        "r = 5.908358e+05, rho0 = 2.761584e-43, P = 1.341755e-05\n",
        "0.715006038719\n",
        "4.00013099913\n",
        "r = 5.908364e+05, rho0 = 2.761587e-43, P = 9.438592e-06\n",
        "0.715006038719\n",
        "4.00013521189\n",
        "r = 5.908364e+05, rho0 = 2.761587e-43, P = 9.455323e-06\n",
        "0.715006038719\n",
        "4.00013521189\n",
        "r = 5.908371e+05, rho0 = 2.761589e-43, P = 6.649451e-06\n",
        "0.715006038719\n",
        "4.00013942464\n",
        "r = 5.908371e+05, rho0 = 2.761589e-43, P = 6.663038e-06\n",
        "0.715006038719\n",
        "4.00013942464\n",
        "r = 5.908377e+05, rho0 = 2.761592e-43, P = 4.687626e-06\n",
        "0.715006038719\n",
        "4.0001436374\n",
        "r = 5.908377e+05, rho0 = 2.761592e-43, P = 4.694993e-06\n",
        "0.715006038719\n",
        "4.0001436374\n",
        "r = 5.908385e+05, rho0 = 2.761596e-43, P = 2.983295e-06\n",
        "0.715006038719\n",
        "4.00014905384\n",
        "r = 5.908385e+05, rho0 = 2.761596e-43, P = 2.995399e-06\n",
        "0.715006038719\n",
        "4.00014905384\n",
        "r = 5.908393e+05, rho0 = 2.761600e-43, P = 1.904474e-06\n",
        "0.715006038719\n",
        "4.00015447027\n",
        "r = 5.908393e+05, rho0 = 2.761600e-43, P = 1.907258e-06\n",
        "0.715006038719\n",
        "4.00015447027\n",
        "r = 5.908401e+05, rho0 = 2.761604e-43, P = 1.236369e-06\n",
        "0.715006038719\n",
        "4.00015988671\n",
        "r = 5.908401e+05, rho0 = 2.761604e-43, P = 1.211483e-06\n",
        "0.715006038719\n",
        "4.00015988671\n",
        "r = 5.908409e+05, rho0 = 2.761607e-43, P = 7.904707e-07\n",
        "0.715006038719\n",
        "4.00016530314\n",
        "r = 5.908409e+05, rho0 = 2.761607e-43, P = 7.733453e-07\n",
        "0.715006038719\n",
        "4.00016530314\n",
        "r = 5.908417e+05, rho0 = 2.761611e-43, P = 5.012421e-07\n",
        "0.715006038719\n",
        "4.00017071958\n",
        "r = 5.908417e+05, rho0 = 2.761611e-43, P = 4.939648e-07"
       ]
      },
      {
       "output_type": "stream",
       "stream": "stdout",
       "text": [
        "\n",
        "0.715006038719\n",
        "4.00017071958\n",
        "r = 5.908427e+05, rho0 = 2.761616e-43, P = 2.936157e-07\n",
        "0.715006038719\n",
        "4.00017733972\n",
        "r = 5.908427e+05, rho0 = 2.761616e-43, P = 2.845266e-07\n",
        "0.715006038719\n",
        "4.00017733972\n",
        "r = 5.908436e+05, rho0 = 2.761620e-43, P = 1.602118e-07\n",
        "0.715006038719\n",
        "4.00018395987\n",
        "r = 5.908436e+05, rho0 = 2.761620e-43, P = 1.682087e-07\n",
        "0.715006038719\n",
        "4.00018395987\n",
        "r = 5.908446e+05, rho0 = 2.761625e-43, P = 8.450942e-08\n",
        "0.715006038719\n",
        "4.00019058001\n",
        "r = 5.908446e+05, rho0 = 2.761625e-43, P = 9.837421e-08\n",
        "0.715006038719\n",
        "4.00019058001\n",
        "r = 5.908456e+05, rho0 = 2.761629e-43, P = 4.964360e-08\n",
        "0.715006038719\n",
        "4.00019720015\n",
        "r = 5.908456e+05, rho0 = 2.761629e-43, P = 5.545969e-08\n",
        "0.715006038719\n",
        "4.00019720015\n",
        "r = 5.908466e+05, rho0 = 2.761634e-43, P = 3.109080e-08\n",
        "0.715006038719\n",
        "4.00020412127\n",
        "r = 5.908466e+05, rho0 = 2.761634e-43, P = 2.924369e-08\n",
        "0.715006038719\n",
        "4.00020412127\n",
        "r = 5.908476e+05, rho0 = 2.761639e-43, P = 2.049675e-08\n",
        "0.715006038719\n",
        "4.00021104239\n",
        "r = 5.908476e+05, rho0 = 2.761639e-43, P = 1.547444e-08\n",
        "0.715006038719\n",
        "4.00021104239\n",
        "r = 5.908487e+05, rho0 = 2.761644e-43, P = 1.197923e-08\n",
        "0.715006038719\n",
        "4.00021796351\n",
        "r = 5.908487e+05, rho0 = 2.761644e-43, P = 9.025479e-09\n",
        "0.715006038719\n",
        "4.00021796351\n",
        "r = 5.908497e+05, rho0 = 2.761648e-43, P = 6.539118e-09\n",
        "0.715006038719\n",
        "4.00022488468\n",
        "r = 5.908497e+05, rho0 = 2.761648e-43, P = 5.399860e-09\n",
        "0.715006038719\n",
        "4.00022488468\n",
        "r = 5.908507e+05, rho0 = 2.761653e-43, P = 3.664848e-09\n",
        "0.715006038719\n",
        "4.00023180586\n",
        "r = 5.908507e+05, rho0 = 2.761653e-43, P = 3.121302e-09\n",
        "0.715006038719\n",
        "4.00023180586\n",
        "r = 5.908517e+05, rho0 = 2.761658e-43, P = 2.137913e-09\n",
        "0.715006038719\n",
        "4.00023872703\n",
        "r = 5.908517e+05, rho0 = 2.761658e-43, P = 1.765555e-09\n",
        "0.715006038719\n",
        "4.00023872703\n",
        "r = 5.908527e+05, rho0 = 2.761663e-43, P = 1.247193e-09\n",
        "0.715006038719\n",
        "4.00024564825\n",
        "r = 5.908527e+05, rho0 = 2.761663e-43, P = 1.006444e-09\n",
        "0.715006038719\n",
        "4.00024564825\n",
        "r = 5.908582e+05, rho0 = 2.761688e-43, P = 4.178570e-09\n",
        "0.715006038719\n",
        "4.0002824883\n",
        "r = 5.908582e+05, rho0 = 2.761688e-43, P = 4.178570e-09\n",
        "0.715006038719\n",
        "4.0002824883\n",
        "r = 5.908636e+05, rho0 = 2.761714e-43, P = 5.126652e-09\n",
        "0.715006038719\n",
        "4.00031932835\n",
        "r = 5.908691e+05, rho0 = 2.761739e-43, P = 1.836688e-09"
       ]
      },
      {
       "output_type": "stream",
       "stream": "stdout",
       "text": [
        "\n",
        "0.715006038719\n",
        "4.00035616841\n",
        "r = 5.909235e+05, rho0 = 2.761993e-43, P = 3.150800e-09\n",
        "0.715006038719\n",
        "4.00072456893\n",
        "r = 5.909235e+05, rho0 = 2.761993e-43, P = 3.150800e-09\n",
        "0.715006038719\n",
        "4.00072456893\n",
        "r = 5.909779e+05, rho0 = 2.762248e-43, P = 9.964097e-11\n",
        "0.715006038719\n",
        "4.00109296946\n",
        "r = 5.915220e+05, rho0 = 2.764791e-43, P = 3.257829e-11\n",
        "0.715006038719\n",
        "4.00477697473\n",
        "r = 5.915220e+05, rho0 = 2.764791e-43, P = 3.257829e-11\n",
        "0.715006038719\n",
        "4.00477697473\n",
        "r = 5.920662e+05, rho0 = 2.767334e-43, P = 9.407177e-14\n",
        "0.715006038719\n",
        "4.00846098001\n",
        "r = 5.975076e+05, rho0 = 2.792768e-43, P = 3.460987e-15\n",
        "0.715006038719\n",
        "4.04530103273\n",
        "r = 5.975076e+05, rho0 = 2.792768e-43, P = 3.460987e-15\n",
        "0.715006038719\n",
        "4.04530103273\n",
        "r = 6.029490e+05, rho0 = 2.818201e-43, P = -8.638152e-16\n",
        "0.715006038719\n",
        "4.08214108546\n",
        "r = 6.573633e+05, rho0 = 3.072535e-43, P = -6.525506e-16\n",
        "0.715006038719\n",
        "4.45054161271\n",
        "r = 6.573633e+05, rho0 = 3.072535e-43, P = -6.525506e-16\n",
        "0.715006038719\n",
        "4.45054161271\n",
        "r = 7.117776e+05, rho0 = 3.326869e-43, P = -5.599207e-16\n",
        "0.715006038719\n",
        "4.81894213997\n",
        "r = 1.255920e+06, rho0 = 5.870208e-43, P = -2.669880e-16\n",
        "0.715006038719\n",
        "8.50294741252\n",
        "r = 1.255920e+06, rho0 = 5.870208e-43, P = -2.669880e-16\n",
        "0.715006038719\n",
        "8.50294741252\n",
        "r = 1.800063e+06, rho0 = 8.413547e-43, P = -2.470606e-16\n",
        "0.715006038719\n",
        "12.1869526851\n",
        "r = 7.241490e+06, rho0 = 3.384694e-42, P = -1.183104e-16\n",
        "0.715006038719\n",
        "49.0270054106\n",
        "r = 7.241490e+06, rho0 = 3.384694e-42, P = -1.183103e-16\n",
        "0.715006038719\n",
        "49.0270054106\n"
       ]
      }
     ],
     "prompt_number": 149
    },
    {
     "cell_type": "code",
     "collapsed": false,
     "input": [
      "# Invert from U (sol[]) to P\n",
      "Pprofile = []\n",
      "rho0profile = []\n",
      "for i in xrange(N):\n",
      "    U = sol[i]\n",
      "    args = [r[i], U]\n",
      "    init = [P_geom]\n",
      "    soltmp = optimize.fsolve(fun, init, args=args)\n",
      "    Pprofile.append(soltmp[0]/(G/c**4.))\n",
      "    rho0profile.append(rho0func(Pprofile[i], r[i]))\n",
      "\n",
      "#print Pprofile[0]\n",
      "#Pprofile = Pprofile/(G/c**4.)\n",
      "#Eprofile = Efunc(r)\n",
      "\n",
      "#output = numpy.c_[r, rho0profile, Pprofile, Eprofile]\n",
      "#savetxt('kerrschild-atmosphere.txt', output)"
     ],
     "language": "python",
     "metadata": {},
     "outputs": [],
     "prompt_number": 138
    },
    {
     "cell_type": "code",
     "collapsed": false,
     "input": [
      "print P_geom/(G/c**4.)\n",
      "print sol[0][0]/(G/c**4.)\n",
      "print Pprofile[0]\n",
      "print rho0profile[0]"
     ],
     "language": "python",
     "metadata": {},
     "outputs": [
      {
       "output_type": "stream",
       "stream": "stdout",
       "text": [
        "8.65353002345e+48\n",
        "4.32676501173e+48\n",
        "8.65353002345e+48\n",
        "3.85134026626e+28\n"
       ]
      }
     ],
     "prompt_number": 40
    },
    {
     "cell_type": "code",
     "collapsed": false,
     "input": [
      "sol[0][0]*2."
     ],
     "language": "python",
     "metadata": {},
     "outputs": [
      {
       "output_type": "pyout",
       "prompt_number": 222,
       "text": [
        "0.71500603871935964"
       ]
      }
     ],
     "prompt_number": 222
    },
    {
     "cell_type": "code",
     "collapsed": false,
     "input": [
      "plot(r/RG, Pprofile)"
     ],
     "language": "python",
     "metadata": {},
     "outputs": [
      {
       "output_type": "pyout",
       "prompt_number": 128,
       "text": [
        "[<matplotlib.lines.Line2D at 0x6b60410>]"
       ]
      }
     ],
     "prompt_number": 128
    },
    {
     "cell_type": "code",
     "collapsed": false,
     "input": [
      "subplot(2,2,2)\n",
      "plot(r/RG, Pprofile, color='r')\n",
      "subplot(2,2,1)\n",
      "plot(r/RG, rho0profile, color='r')"
     ],
     "language": "python",
     "metadata": {},
     "outputs": [
      {
       "output_type": "pyout",
       "prompt_number": 139,
       "text": [
        "[<matplotlib.lines.Line2D at 0x7e40390>]"
       ]
      }
     ],
     "prompt_number": 139
    },
    {
     "cell_type": "code",
     "collapsed": false,
     "input": [
      "rho0_geom/(G/c**2.)"
     ],
     "language": "python",
     "metadata": {},
     "outputs": [
      {
       "output_type": "pyout",
       "prompt_number": 210,
       "text": [
        "3.851340266261854e+28"
       ]
      }
     ],
     "prompt_number": 210
    },
    {
     "cell_type": "code",
     "collapsed": false,
     "input": [
      "rho0"
     ],
     "language": "python",
     "metadata": {},
     "outputs": [
      {
       "output_type": "pyout",
       "prompt_number": 242,
       "text": [
        "3.8513402662618534e+28"
       ]
      }
     ],
     "prompt_number": 242
    },
    {
     "cell_type": "code",
     "collapsed": false,
     "input": [],
     "language": "python",
     "metadata": {},
     "outputs": [],
     "prompt_number": 13
    },
    {
     "cell_type": "code",
     "collapsed": false,
     "input": [],
     "language": "python",
     "metadata": {},
     "outputs": []
    }
   ],
   "metadata": {}
  }
 ]
}