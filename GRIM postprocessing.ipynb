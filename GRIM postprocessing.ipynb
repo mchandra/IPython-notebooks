{
 "metadata": {
  "name": "",
  "signature": "sha256:83d59c3496831622d623d42cd86d64b66eeea32112064ec6c552ae7ba647ed4e"
 },
 "nbformat": 3,
 "nbformat_minor": 0,
 "worksheets": [
  {
   "cells": [
    {
     "cell_type": "code",
     "collapsed": false,
     "input": [
      "%qtconsole"
     ],
     "language": "python",
     "metadata": {},
     "outputs": [],
     "prompt_number": 32
    },
    {
     "cell_type": "code",
     "collapsed": false,
     "input": [
      "N1 = 128\n",
      "N2 = 128\n",
      "NDIM = 4"
     ],
     "language": "python",
     "metadata": {},
     "outputs": [],
     "prompt_number": 60
    },
    {
     "cell_type": "code",
     "collapsed": false,
     "input": [
      "harmdata = loadtxt(\"/home/mc/PhD/harm_production_version/src/dumps/dump001\", skiprows=1)\n",
      "\n",
      "X1 = np.zeros([N1, N2]); X2 = np.zeros([N1, N2])\n",
      "r = np.zeros([N1, N2]); theta = np.zeros([N1, N2])\n",
      "gdet = np.zeros([N1, N2])\n",
      "primharm = zeros([N2, N1, 8])\n",
      "\n",
      "counter = 0\n",
      "X1[:, :] = np.resize(harmdata[:, counter], [N2, N1])\n",
      "counter = counter+1\n",
      "X2[:, :] = np.resize(harmdata[:, counter], [N2, N1])\n",
      "counter = counter+1\n",
      "r[:, :] = np.resize(harmdata[:, counter], [N2, N1])\n",
      "counter = counter+1\n",
      "theta[:, :] = np.resize(harmdata[:, counter], [N2, N1])\n",
      "counter = counter+1\n",
      "\n",
      "X = r*np.sin(theta)\n",
      "Z = r*np.cos(theta)\n",
      "\n",
      "for var in xrange(8):\n",
      "    primharm[:, :, var] = np.resize(harmdata[:, counter], [N2, N1])\n",
      "    counter = counter+1\n",
      "    \n",
      "gdet = np.resize(harmdata[:, counter], [N2, N1])"
     ],
     "language": "python",
     "metadata": {},
     "outputs": [],
     "prompt_number": 5
    },
    {
     "cell_type": "code",
     "collapsed": false,
     "input": [
      "import glob\n",
      "import h5py\n",
      "\n",
      "filepath = '/home/mc/PhD/grim_2/grim'\n",
      "#filepath = '/home/mc/bh/grim/plots_128x128_MHD_torus_run'\n",
      "#filepath = '/home/mc/PhD/grim_petsc/'\n",
      "files = np.sort(glob.glob(filepath+'/plot*.h5'))\n",
      "#resfiles = np.sort(glob.glob(filepath+'/residual*.h5'))\n",
      "#snesresfile = filepath+'/SNESresidual.h5'\n",
      "#datafile = h5py.File(filepath+'initialconditions.h5', 'r')\n",
      "#initialconditions = datafile[datafile.items()[0][0]][:]\n",
      "\n",
      "dof = 9\n",
      "\n",
      "data = zeros([N2, N1, dof, files.size]) \n",
      "#residual = zeros([N2, N1, dof, resfiles.size])\n",
      "#snesresidual = zeros([N2, N1, dof])\n",
      "\n",
      "#ucon = zeros([N2, N1, 4, files.size])\n",
      "#ucov = zeros([N2, N1, 4, files.size])\n",
      "#bcon = zeros([N2, N1, 4, files.size])\n",
      "#bcov = zeros([N2, N1, 4, files.size])\n",
      "\n",
      "#datafile = h5py.File(snesresfile, \"r\")\n",
      "#snesresidual[:, :, :] = datafile[datafile.items()[0][0]][:]\n",
      "\n",
      "for i, dumpfile in enumerate(files):\n",
      "    datafile = h5py.File(dumpfile, \"r\")\n",
      "    data[:, :, :, i] = datafile[datafile.items()[0][0]][:]\n",
      "    datafile.close()\n",
      "    \n",
      "#for i, dumpfile in enumerate(resfiles):\n",
      "#    datafile = h5py.File(dumpfile, \"r\")\n",
      "#    residual[:, :, :, i] = datafile[datafile.items()[0][0]][:]\n",
      "#    datafile.close()"
     ],
     "language": "python",
     "metadata": {},
     "outputs": [],
     "prompt_number": 61
    },
    {
     "cell_type": "code",
     "collapsed": false,
     "input": [
      "gam = 4./3\n",
      "phi = 10.\n",
      "\n",
      "cs = (gam*(gam-1.)*data[:, :, 1, :]/data[:, :, 0, :])**0.5\n",
      "F0 = phi*(data[:, :, 0, :] + data[:, :, 1, :])*cs**3."
     ],
     "language": "python",
     "metadata": {},
     "outputs": [],
     "prompt_number": 37
    },
    {
     "cell_type": "code",
     "collapsed": false,
     "input": [
      "#figure(figsize=(10, 15))\n",
      "#rcParams['axes.facecolor'] = 'black'\n",
      "\n",
      "#X = r*np.sin(theta)\n",
      "#Z = r*np.cos(theta)\n",
      "#F = (abs(tanh((data[:, :, -1, -1])/1e-8)))\n",
      "#F = log10(abs(data[:, :, -1, 0]))\n",
      "\n",
      "#F = log10(data_no_conduction[:, :, 1, 120]/data_no_conduction[:, :, 0, 120])\n",
      "\n",
      "#F = log10(data[:, :, 1, -1]/data[:, :, 0, -1])\n",
      "\n",
      "#contour_levels = (linspace(0, 1, 200))\n",
      "#contour_levels = (linspace(-20, 0, 200))\n",
      "#figure()\n",
      "clf()\n",
      "#contourf(log10(sqrt(sum(residual[:, :, :, -1]**2., axis=-1))), 50)\n",
      "#contourf(log10(abs(snesresidual[:, :, 3])), 50)\n",
      "#contourf(log10((data[:, :, 1, -1])/data[:, :, 0, -1]), 50)\n",
      "#contourf(data[:, :, 1, -1]/data[:, :, 0, -1], 100)\n",
      "contourf(((data[:, :, 8, -1])), 50)\n",
      "#contourf(log10(abs(primharm[:, :, 1, -1].transpose())), 50)\n",
      "#contourf(X, Z, F.transpose(), 200)\n",
      "#contourf(X, Z, log10(primharm[:, :, 1, 0]), 50)\n",
      "#contourf(log10((T_e[:, :, -1])), 50)\n",
      "\n",
      "#title('$\\\\log_{10}|nk_BT\\\\frac{ds}{d\\\\tau}|$')\n",
      "colorbar()"
     ],
     "language": "python",
     "metadata": {},
     "outputs": [
      {
       "metadata": {},
       "output_type": "pyout",
       "prompt_number": 59,
       "text": [
        "<matplotlib.colorbar.Colorbar instance at 0x7f493a8145a8>"
       ]
      }
     ],
     "prompt_number": 59
    },
    {
     "cell_type": "code",
     "collapsed": false,
     "input": [
      "data.shape"
     ],
     "language": "python",
     "metadata": {},
     "outputs": [
      {
       "metadata": {},
       "output_type": "pyout",
       "prompt_number": 26,
       "text": [
        "(128, 128, 8, 70)"
       ]
      }
     ],
     "prompt_number": 26
    },
    {
     "cell_type": "code",
     "collapsed": true,
     "input": [
      "#figure(figsize=(10, 15))\n",
      "#figure(figsize=(20, 7.5))\n",
      "figure(figsize=(20, 15))\n",
      "\n",
      "rcParams['axes.facecolor'] = 'black'\n",
      "F = zeros([N2, N1])\n",
      "\n",
      "for i in xrange(files.size):\n",
      "    print \"File number \", i\n",
      "#    contourf(X, Z, log10(((data[:, :, 0, i].transpose()))), 200)\n",
      "    subplot(121)\n",
      "    contourf(X, Z, log10(data[:, :, 0, i]).transpose(), 200)\n",
      "    colorbar()\n",
      "    j = i+599\n",
      "    title(\"$\\\\log_{10}(\\\\rho)$\")\n",
      "    subplot(122)\n",
      "    F[:, :] = log10(abs(tanh((data[:, :, -1, i])/1e-7)))\n",
      "    if (j==0):\n",
      "        F[:, :] = 0\n",
      "    contourf(X, Z, F.transpose(), linspace(-10, 0, 200))\n",
      "    colorbar()\n",
      "    title(\"$|q^\\\\mu|$ for $\\\\phi = .01$, $\\\\tau_r=10^{-5} M$\")\n",
      "    suptitle(\"t = \"+str(j)+ \" M\")\n",
      "    tight_layout()\n",
      "    savefig('/home/mc/PhD/plot_grim_mhd_conduction' + '%04d'%j + '.png')\n",
      "    clf()"
     ],
     "language": "python",
     "metadata": {},
     "outputs": [
      {
       "output_type": "stream",
       "stream": "stdout",
       "text": [
        "File number  0\n",
        "File number "
       ]
      },
      {
       "output_type": "stream",
       "stream": "stdout",
       "text": [
        " 1\n",
        "File number "
       ]
      },
      {
       "output_type": "stream",
       "stream": "stdout",
       "text": [
        " 2\n",
        "File number "
       ]
      },
      {
       "output_type": "stream",
       "stream": "stdout",
       "text": [
        " 3\n",
        "File number "
       ]
      },
      {
       "output_type": "stream",
       "stream": "stdout",
       "text": [
        " 4\n",
        "File number "
       ]
      },
      {
       "output_type": "stream",
       "stream": "stdout",
       "text": [
        " 5\n",
        "File number "
       ]
      },
      {
       "output_type": "stream",
       "stream": "stdout",
       "text": [
        " 6\n",
        "File number "
       ]
      },
      {
       "output_type": "stream",
       "stream": "stdout",
       "text": [
        " 7\n",
        "File number "
       ]
      },
      {
       "output_type": "stream",
       "stream": "stdout",
       "text": [
        " 8\n",
        "File number "
       ]
      },
      {
       "output_type": "stream",
       "stream": "stdout",
       "text": [
        " 9\n",
        "File number "
       ]
      },
      {
       "output_type": "stream",
       "stream": "stdout",
       "text": [
        " 10\n",
        "File number "
       ]
      },
      {
       "output_type": "stream",
       "stream": "stdout",
       "text": [
        " 11\n",
        "File number "
       ]
      },
      {
       "output_type": "stream",
       "stream": "stdout",
       "text": [
        " 12\n",
        "File number "
       ]
      },
      {
       "output_type": "stream",
       "stream": "stdout",
       "text": [
        " 13\n",
        "File number "
       ]
      },
      {
       "output_type": "stream",
       "stream": "stdout",
       "text": [
        " 14\n",
        "File number "
       ]
      },
      {
       "output_type": "stream",
       "stream": "stdout",
       "text": [
        " 15\n",
        "File number "
       ]
      },
      {
       "output_type": "stream",
       "stream": "stdout",
       "text": [
        " 16\n",
        "File number "
       ]
      },
      {
       "output_type": "stream",
       "stream": "stdout",
       "text": [
        " 17\n",
        "File number "
       ]
      },
      {
       "output_type": "stream",
       "stream": "stdout",
       "text": [
        " 18\n",
        "File number "
       ]
      },
      {
       "output_type": "stream",
       "stream": "stdout",
       "text": [
        " 19\n",
        "File number "
       ]
      },
      {
       "output_type": "stream",
       "stream": "stdout",
       "text": [
        " 20\n",
        "File number "
       ]
      },
      {
       "output_type": "stream",
       "stream": "stdout",
       "text": [
        " 21\n",
        "File number "
       ]
      },
      {
       "output_type": "stream",
       "stream": "stdout",
       "text": [
        " 22\n",
        "File number "
       ]
      },
      {
       "output_type": "stream",
       "stream": "stdout",
       "text": [
        " 23\n",
        "File number "
       ]
      },
      {
       "output_type": "stream",
       "stream": "stdout",
       "text": [
        " 24\n",
        "File number "
       ]
      },
      {
       "output_type": "stream",
       "stream": "stdout",
       "text": [
        " 25\n",
        "File number "
       ]
      },
      {
       "output_type": "stream",
       "stream": "stdout",
       "text": [
        " 26\n",
        "File number "
       ]
      },
      {
       "output_type": "stream",
       "stream": "stdout",
       "text": [
        " 27\n",
        "File number "
       ]
      },
      {
       "output_type": "stream",
       "stream": "stdout",
       "text": [
        " 28\n",
        "File number "
       ]
      },
      {
       "output_type": "stream",
       "stream": "stdout",
       "text": [
        " 29\n",
        "File number "
       ]
      },
      {
       "output_type": "stream",
       "stream": "stdout",
       "text": [
        " 30\n",
        "File number "
       ]
      },
      {
       "output_type": "stream",
       "stream": "stdout",
       "text": [
        " 31\n",
        "File number "
       ]
      },
      {
       "output_type": "stream",
       "stream": "stdout",
       "text": [
        " 32\n",
        "File number "
       ]
      },
      {
       "output_type": "stream",
       "stream": "stdout",
       "text": [
        " 33\n",
        "File number "
       ]
      },
      {
       "output_type": "stream",
       "stream": "stdout",
       "text": [
        " 34\n",
        "File number "
       ]
      },
      {
       "output_type": "stream",
       "stream": "stdout",
       "text": [
        " 35\n",
        "File number "
       ]
      },
      {
       "output_type": "stream",
       "stream": "stdout",
       "text": [
        " 36\n",
        "File number "
       ]
      },
      {
       "output_type": "stream",
       "stream": "stdout",
       "text": [
        " 37\n",
        "File number "
       ]
      },
      {
       "output_type": "stream",
       "stream": "stdout",
       "text": [
        " 38\n",
        "File number "
       ]
      },
      {
       "output_type": "stream",
       "stream": "stdout",
       "text": [
        " 39\n",
        "File number "
       ]
      },
      {
       "output_type": "stream",
       "stream": "stdout",
       "text": [
        " 40\n",
        "File number "
       ]
      },
      {
       "output_type": "stream",
       "stream": "stdout",
       "text": [
        " 41\n"
       ]
      }
     ],
     "prompt_number": 216
    },
    {
     "cell_type": "code",
     "collapsed": false,
     "input": [
      "import glob\n",
      "\n",
      "harmfilepath = '/home/mc/PhD/harm_production_version/src/dumps'\n",
      "#harmfilepath = '/home/mc/PhD/for_mani/dumps'\n",
      "\n",
      "harmfiles = np.sort(glob.glob(harmfilepath+'/dump*'))\n",
      "primharm = zeros([N2, N1, 8, harmfiles.size])\n",
      "X1 = np.zeros([N1, N2]); X2 = np.zeros([N1, N2])\n",
      "r = np.zeros([N1, N2]); theta = np.zeros([N1, N2])\n",
      "T_e = np.zeros([N1, N2, harmfiles.size])\n",
      "T_p = np.zeros([N1, N2, harmfiles.size])\n",
      "s_e = np.zeros([N1, N2, harmfiles.size])\n",
      "\n",
      "for i, dumpfile in enumerate(harmfiles):\n",
      "    print \"i = \", i\n",
      "    harmdata = np.loadtxt(dumpfile, skiprows=1)\n",
      "\n",
      "    counter = 0\n",
      "    X1[:, :] = np.resize(harmdata[:, counter], [N2, N1])\n",
      "    counter = counter+1\n",
      "    X2[:, :] = np.resize(harmdata[:, counter], [N2, N1])\n",
      "    counter = counter+1\n",
      "    r[:, :] = np.resize(harmdata[:, counter], [N2, N1])\n",
      "    counter = counter+1\n",
      "    theta[:, :] = np.resize(harmdata[:, counter], [N2, N1])\n",
      "    counter = counter+1\n",
      "    \n",
      "    for var in xrange(8):\n",
      "        primharm[:, :, var, i] = np.resize(harmdata[:, counter], [N2, N1])\n",
      "        counter = counter+1\n",
      "        \n",
      "#    s_e[:, :, i] = np.resize(harmdata[:, counter], [N2, N1])\n",
      "#    counter = counter+1\n",
      "#    T_e[:, :, i] = np.resize(harmdata[:, counter], [N2, N1])\n",
      "#    counter = counter+1\n",
      "#    T_p[:, :, i] = np.resize(harmdata[:, counter], [N2, N1])"
     ],
     "language": "python",
     "metadata": {},
     "outputs": [
      {
       "output_type": "stream",
       "stream": "stdout",
       "text": [
        "i =  0\n",
        "i = "
       ]
      },
      {
       "output_type": "stream",
       "stream": "stdout",
       "text": [
        " 1\n",
        "i = "
       ]
      },
      {
       "output_type": "stream",
       "stream": "stdout",
       "text": [
        " 2\n",
        "i = "
       ]
      },
      {
       "output_type": "stream",
       "stream": "stdout",
       "text": [
        " 3\n",
        "i = "
       ]
      },
      {
       "output_type": "stream",
       "stream": "stdout",
       "text": [
        " 4\n",
        "i = "
       ]
      },
      {
       "output_type": "stream",
       "stream": "stdout",
       "text": [
        " 5\n",
        "i = "
       ]
      },
      {
       "output_type": "stream",
       "stream": "stdout",
       "text": [
        " 6\n",
        "i = "
       ]
      },
      {
       "output_type": "stream",
       "stream": "stdout",
       "text": [
        " 7\n",
        "i = "
       ]
      },
      {
       "output_type": "stream",
       "stream": "stdout",
       "text": [
        " 8\n"
       ]
      }
     ],
     "prompt_number": 22
    },
    {
     "cell_type": "code",
     "collapsed": false,
     "input": [
      "a = 0.9375\n",
      "rIn = 0.98*(1. + (1 - a**2.)**0.5)\n",
      "rOut = 40.\n",
      "r0 = 0.\n",
      "hSlope = 0.3\n",
      "X1Start = log(rIn - r0)\n",
      "X2Start = 1e-10\n",
      "dX1 = log((rOut - r0)/(rIn - r0))/N1\n",
      "dX2 = (1-2.*X1Start)/N2\n",
      "\n",
      "i = arange(0, N1, 1)\n",
      "j = arange(0, N2, 1)\n",
      "i, j = meshgrid(i, j)\n",
      "X1 = X1Start + (i + 0.5)*dX1\n",
      "X2 = X2Start + (j + 0.5)*dX2\n",
      "\n",
      "r = exp(X1) + r0\n",
      "theta = pi*X2 + ((1. - hSlope)/2.)*sin(2*pi*X2)\n",
      "\n",
      "X = r*np.sin(theta)\n",
      "Z = r*np.cos(theta)"
     ],
     "language": "python",
     "metadata": {},
     "outputs": []
    }
   ],
   "metadata": {}
  }
 ]
}