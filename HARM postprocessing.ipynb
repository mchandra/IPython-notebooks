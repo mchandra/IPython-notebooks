{
 "metadata": {
  "name": ""
 },
 "nbformat": 3,
 "nbformat_minor": 0,
 "worksheets": [
  {
   "cells": [
    {
     "cell_type": "code",
     "collapsed": false,
     "input": [
      "cd /home/mc/PhD/"
     ],
     "language": "python",
     "metadata": {},
     "outputs": [
      {
       "output_type": "stream",
       "stream": "stdout",
       "text": [
        "/home/mc/PhD\n"
       ]
      }
     ],
     "prompt_number": 1
    },
    {
     "cell_type": "code",
     "collapsed": false,
     "input": [
      "import glob\n",
      "\n",
      "filepath = '/home/mc/PhD/iHARM2d/dumps'\n",
      "files = np.sort(glob.glob(filepath+'/dump*'))\n",
      "\n",
      "N = 128\n",
      "N_dim = 4\n",
      "a = 0.9375\n",
      "gamma = 4./3\n",
      "kappa = 0.1\n",
      "\n",
      "R0 = 0.0\n",
      "Rin = 0.98 * (1. + (1. - a * a)**0.5)\n",
      "Rout = 40.\n",
      "dx1 = np.log((Rout - R0) / (Rin - R0)) / N;\n",
      "dx2 = 1./N;\n",
      "\n",
      "\n",
      "x1 = np.zeros([N, N, files.size])\n",
      "x2 = np.zeros([N, N, files.size])\n",
      "\n",
      "r = np.zeros([N, N, files.size]); theta = np.zeros([N, N, files.size])\n",
      "rho = np.zeros([N, N, files.size])\n",
      "u = np.zeros([N, N, files.size])\n",
      "v = np.zeros([N_dim-1, N, N, files.size])\n",
      "B = np.zeros([N_dim-1, N, N, files.size])\n",
      "divB = np.zeros([N, N, files.size])\n",
      "\n",
      "u_con = np.zeros([N_dim, N, N, files.size])\n",
      "b_con = np.zeros([N_dim, N, N, files.size])\n",
      "\n",
      "u_cov = np.zeros([N_dim, N, N, files.size])\n",
      "b_cov = np.zeros([N_dim, N, N, files.size])\n",
      "\n",
      "alpha = np.zeros([N, N, files.size])\n",
      "\n",
      "for i, dumpfile in enumerate(files):\n",
      "    if (i%20==0):\n",
      "        print \"Loading file \", dumpfile, \" of \", files.size\n",
      "\n",
      "    dump = np.loadtxt(dumpfile, skiprows=1)\n",
      "\n",
      "    x1[:, :, i] = np.resize(dump[:, 0], [N, N])\n",
      "    x2[:, :, i] = np.resize(dump[:, 1], [N, N])\n",
      "\n",
      "    r[:, :, i] = np.resize(dump[:, 2], [N, N])\n",
      "    theta[:, :, i] = np.resize(dump[:, 3], [N, N])\n",
      "\n",
      "    rho[:, :, i] = np.resize(dump[:, 4], [N, N])\n",
      "    u[:, :, i] = np.resize(dump[:, 5], [N, N])\n",
      "    v[0, :, :, i] = np.resize(dump[:, 6], [N, N])\n",
      "    v[1, :, :, i] = np.resize(dump[:, 7], [N, N])\n",
      "    v[2, :, :, i] = np.resize(dump[:, 8], [N, N])\n",
      "    B[0, :, :, i] = np.resize(dump[:, 9], [N, N])\n",
      "    B[1, :, :, i] = np.resize(dump[:, 10], [N, N])\n",
      "    B[2, :, :, i] = np.resize(dump[:, 11], [N, N])\n",
      "\n",
      "    divB[:, :, i] = np.resize(dump[:, 12], [N, N])\n",
      "\n",
      "    u_con[0, :, :, i] = np.resize(dump[:, 13], [N, N])\n",
      "    u_con[1, :, :, i] = np.resize(dump[:, 14], [N, N])\n",
      "    u_con[2, :, :, i] = np.resize(dump[:, 15], [N, N])\n",
      "    u_con[3, :, :, i] = np.resize(dump[:, 16], [N, N])\n",
      "\n",
      "    u_cov[0, :, :, i] = np.resize(dump[:, 17], [N, N])\n",
      "    u_cov[1, :, :, i] = np.resize(dump[:, 18], [N, N])\n",
      "    u_cov[2, :, :, i] = np.resize(dump[:, 19], [N, N])\n",
      "    u_cov[3, :, :, i] = np.resize(dump[:, 20], [N, N])\n",
      "\n",
      "    b_con[0, :, :, i] = np.resize(dump[:, 21], [N, N])\n",
      "    b_con[1, :, :, i] = np.resize(dump[:, 22], [N, N])\n",
      "    b_con[2, :, :, i] = np.resize(dump[:, 23], [N, N])\n",
      "    b_con[3, :, :, i] = np.resize(dump[:, 24], [N, N])\n",
      "\n",
      "    b_cov[0, :, :, i] = np.resize(dump[:, 25], [N, N])\n",
      "    b_cov[1, :, :, i] = np.resize(dump[:, 26], [N, N])\n",
      "    b_cov[2, :, :, i] = np.resize(dump[:, 27], [N, N])\n",
      "    b_cov[3, :, :, i] = np.resize(dump[:, 28], [N, N])\n",
      "\n",
      "    alpha[:, :, i] = np.resize(dump[:, 29], [N, N])\n",
      "\n",
      "phi_ = 0. #Look at the X, Z plane\n",
      "X = r*np.sin(theta)*np.cos(phi_)\n",
      "Y = r*np.sin(theta)*np.cos(phi_)\n",
      "Z = r*np.cos(theta)"
     ],
     "language": "python",
     "metadata": {},
     "outputs": [
      {
       "output_type": "stream",
       "stream": "stdout",
       "text": [
        "Loading file  /home/mc/PhD/iHARM2d/dumps/dump000  of  401\n",
        "Loading file "
       ]
      },
      {
       "output_type": "stream",
       "stream": "stdout",
       "text": [
        " /home/mc/PhD/iHARM2d/dumps/dump020  of  401\n",
        "Loading file "
       ]
      },
      {
       "output_type": "stream",
       "stream": "stdout",
       "text": [
        " /home/mc/PhD/iHARM2d/dumps/dump040  of  401\n",
        "Loading file "
       ]
      },
      {
       "output_type": "stream",
       "stream": "stdout",
       "text": [
        " /home/mc/PhD/iHARM2d/dumps/dump060  of  401\n",
        "Loading file "
       ]
      },
      {
       "output_type": "stream",
       "stream": "stdout",
       "text": [
        " /home/mc/PhD/iHARM2d/dumps/dump080  of  401\n",
        "Loading file "
       ]
      },
      {
       "output_type": "stream",
       "stream": "stdout",
       "text": [
        " /home/mc/PhD/iHARM2d/dumps/dump100  of  401\n",
        "Loading file "
       ]
      },
      {
       "output_type": "stream",
       "stream": "stdout",
       "text": [
        " /home/mc/PhD/iHARM2d/dumps/dump120  of  401\n",
        "Loading file "
       ]
      },
      {
       "output_type": "stream",
       "stream": "stdout",
       "text": [
        " /home/mc/PhD/iHARM2d/dumps/dump140  of  401\n",
        "Loading file "
       ]
      },
      {
       "output_type": "stream",
       "stream": "stdout",
       "text": [
        " /home/mc/PhD/iHARM2d/dumps/dump160  of  401\n",
        "Loading file "
       ]
      },
      {
       "output_type": "stream",
       "stream": "stdout",
       "text": [
        " /home/mc/PhD/iHARM2d/dumps/dump180  of  401\n",
        "Loading file "
       ]
      },
      {
       "output_type": "stream",
       "stream": "stdout",
       "text": [
        " /home/mc/PhD/iHARM2d/dumps/dump200  of  401\n",
        "Loading file "
       ]
      },
      {
       "output_type": "stream",
       "stream": "stdout",
       "text": [
        " /home/mc/PhD/iHARM2d/dumps/dump220  of  401\n",
        "Loading file "
       ]
      },
      {
       "output_type": "stream",
       "stream": "stdout",
       "text": [
        " /home/mc/PhD/iHARM2d/dumps/dump240  of  401\n",
        "Loading file "
       ]
      },
      {
       "output_type": "stream",
       "stream": "stdout",
       "text": [
        " /home/mc/PhD/iHARM2d/dumps/dump260  of  401\n",
        "Loading file "
       ]
      },
      {
       "output_type": "stream",
       "stream": "stdout",
       "text": [
        " /home/mc/PhD/iHARM2d/dumps/dump280  of  401\n",
        "Loading file "
       ]
      },
      {
       "output_type": "stream",
       "stream": "stdout",
       "text": [
        " /home/mc/PhD/iHARM2d/dumps/dump300  of  401\n",
        "Loading file "
       ]
      },
      {
       "output_type": "stream",
       "stream": "stdout",
       "text": [
        " /home/mc/PhD/iHARM2d/dumps/dump320  of  401\n",
        "Loading file "
       ]
      },
      {
       "output_type": "stream",
       "stream": "stdout",
       "text": [
        " /home/mc/PhD/iHARM2d/dumps/dump340  of  401\n",
        "Loading file "
       ]
      },
      {
       "output_type": "stream",
       "stream": "stdout",
       "text": [
        " /home/mc/PhD/iHARM2d/dumps/dump360  of  401\n",
        "Loading file "
       ]
      },
      {
       "output_type": "stream",
       "stream": "stdout",
       "text": [
        " /home/mc/PhD/iHARM2d/dumps/dump380  of  401\n",
        "Loading file "
       ]
      },
      {
       "output_type": "stream",
       "stream": "stdout",
       "text": [
        " /home/mc/PhD/iHARM2d/dumps/dump400  of  401\n"
       ]
      }
     ],
     "prompt_number": 62
    },
    {
     "cell_type": "code",
     "collapsed": false,
     "input": [
      "avg_from = 200\n",
      "avg_to = 400\n",
      "\n",
      "bsq = sum(b_con*b_cov, axis=0)\n",
      "bsq_avg = mean(bsq[:, :, avg_from:avg_to], axis=-1)\n",
      "rho_avg = mean(rho[:, :, avg_from:avg_to], axis=-1)"
     ],
     "language": "python",
     "metadata": {},
     "outputs": [],
     "prompt_number": 63
    },
    {
     "cell_type": "code",
     "collapsed": false,
     "input": [
      "clf()\n",
      "subplot(121)\n",
      "contour_levels_rho = linspace(-19, 0.02, 100)\n",
      "contourf(Y[:, :, 0], Z[:, :, 0], log(mean(rho[:, :, avg_from:avg_to], axis=-1)), contour_levels_rho)\n",
      "colorbar()\n",
      "title('$\\\\log(<\\\\rho>)$')\n",
      "\n",
      "subplot(122)\n",
      "qty = mean(alpha[:, :, avg_from:avg_to], axis=-1)/mean(u[:, :, avg_from:avg_to], axis=-1)\n",
      "indices = where(bsq_avg/rho_avg>1.)\n",
      "qty[indices] = nan\n",
      "\n",
      "#countour_levels_alpha = linspace(-1000, -100, 100)\n",
      "countour_levels_alpha = 100\n",
      "contourf(Y[:, :, 0], Z[:, :, 0], qty, countour_levels_alpha)\n",
      "colorbar()\n",
      "#title('$<u.\\\\nabla T>/<\\\\rho_e c_{s,e}^2>$, $<b^{\\\\mu}b_{\\\\mu}>/<\\\\rho> < 1$')\n",
      "\n",
      "tight_layout()"
     ],
     "language": "python",
     "metadata": {},
     "outputs": [],
     "prompt_number": 66
    },
    {
     "cell_type": "code",
     "collapsed": false,
     "input": [
      "savefig('saturated_projected_flux_funnel_wall.png')"
     ],
     "language": "python",
     "metadata": {},
     "outputs": [],
     "prompt_number": 68
    },
    {
     "cell_type": "code",
     "collapsed": false,
     "input": [
      "contour_levels_alpha = linspace(-1e3, 1e3, 100)\n",
      "contour_levels_rho = linspace(-19, 0.02, 100)\n",
      "rcParams['axes.facecolor'] = 'black'\n",
      "\n",
      "for i in xrange(files.size):\n",
      "    print \"File number \", i\n",
      "    \n",
      "    subplot(121)\n",
      "    contourf(Y[:, :, 0], Z[:, :, 0], log(rho[:, :, i]), contour_levels_rho)\n",
      "    colorbar()\n",
      "    title('$\\\\log(rho)$')\n",
      "\n",
      "    subplot(122)\n",
      "    qty = alpha[:, :, i]/u[:, :, i]\n",
      "    indices = where(bsq[:, :, i]/rho[:, :, i]>1)\n",
      "    qty[indices] = nan\n",
      "    \n",
      "    contourf(Y[:, :, 0], Z[:, :, 0], qty, contour_levels_alpha)\n",
      "    colorbar()\n",
      "    title('$u.\\\\nabla T/\\\\rho_e c_{s,e}^2$, $b^{\\\\mu}b_{\\\\mu}/\\\\rho < 1$')\n",
      "    \n",
      "    suptitle('t = ' + str(5*i) + 'M')\n",
      "    \n",
      "    tight_layout()\n",
      "    \n",
      "    savefig('heating_rate' + '%04d'%i + '.png')\n",
      "    clf()"
     ],
     "language": "python",
     "metadata": {},
     "outputs": [
      {
       "output_type": "stream",
       "stream": "stdout",
       "text": [
        "File number  0\n",
        "File number "
       ]
      },
      {
       "output_type": "stream",
       "stream": "stdout",
       "text": [
        " 1\n",
        "File number "
       ]
      },
      {
       "output_type": "stream",
       "stream": "stdout",
       "text": [
        " 2\n",
        "File number "
       ]
      },
      {
       "output_type": "stream",
       "stream": "stdout",
       "text": [
        " 3\n",
        "File number "
       ]
      },
      {
       "output_type": "stream",
       "stream": "stdout",
       "text": [
        " 4\n",
        "File number "
       ]
      },
      {
       "output_type": "stream",
       "stream": "stdout",
       "text": [
        " 5\n",
        "File number "
       ]
      },
      {
       "output_type": "stream",
       "stream": "stdout",
       "text": [
        " 6\n",
        "File number "
       ]
      },
      {
       "output_type": "stream",
       "stream": "stdout",
       "text": [
        " 7\n",
        "File number "
       ]
      },
      {
       "output_type": "stream",
       "stream": "stdout",
       "text": [
        " 8\n",
        "File number "
       ]
      },
      {
       "output_type": "stream",
       "stream": "stdout",
       "text": [
        " 9\n",
        "File number "
       ]
      },
      {
       "output_type": "stream",
       "stream": "stdout",
       "text": [
        " 10\n",
        "File number "
       ]
      },
      {
       "output_type": "stream",
       "stream": "stdout",
       "text": [
        " 11\n",
        "File number "
       ]
      },
      {
       "output_type": "stream",
       "stream": "stdout",
       "text": [
        " 12\n",
        "File number "
       ]
      },
      {
       "output_type": "stream",
       "stream": "stdout",
       "text": [
        " 13\n",
        "File number "
       ]
      },
      {
       "output_type": "stream",
       "stream": "stdout",
       "text": [
        " 14\n",
        "File number "
       ]
      },
      {
       "output_type": "stream",
       "stream": "stdout",
       "text": [
        " 15\n",
        "File number "
       ]
      },
      {
       "output_type": "stream",
       "stream": "stdout",
       "text": [
        " 16\n",
        "File number "
       ]
      },
      {
       "output_type": "stream",
       "stream": "stdout",
       "text": [
        " 17\n",
        "File number "
       ]
      },
      {
       "output_type": "stream",
       "stream": "stdout",
       "text": [
        " 18\n",
        "File number "
       ]
      },
      {
       "output_type": "stream",
       "stream": "stdout",
       "text": [
        " 19\n",
        "File number "
       ]
      },
      {
       "output_type": "stream",
       "stream": "stdout",
       "text": [
        " 20\n",
        "File number "
       ]
      },
      {
       "output_type": "stream",
       "stream": "stdout",
       "text": [
        " 21\n",
        "File number "
       ]
      },
      {
       "output_type": "stream",
       "stream": "stdout",
       "text": [
        " 22\n",
        "File number "
       ]
      },
      {
       "output_type": "stream",
       "stream": "stdout",
       "text": [
        " 23\n",
        "File number "
       ]
      },
      {
       "output_type": "stream",
       "stream": "stdout",
       "text": [
        " 24\n",
        "File number "
       ]
      },
      {
       "output_type": "stream",
       "stream": "stdout",
       "text": [
        " 25\n",
        "File number "
       ]
      },
      {
       "output_type": "stream",
       "stream": "stdout",
       "text": [
        " 26\n",
        "File number "
       ]
      },
      {
       "output_type": "stream",
       "stream": "stdout",
       "text": [
        " 27\n",
        "File number "
       ]
      },
      {
       "output_type": "stream",
       "stream": "stdout",
       "text": [
        " 28\n",
        "File number "
       ]
      },
      {
       "output_type": "stream",
       "stream": "stdout",
       "text": [
        " 29\n",
        "File number "
       ]
      },
      {
       "output_type": "stream",
       "stream": "stdout",
       "text": [
        " 30\n",
        "File number "
       ]
      },
      {
       "output_type": "stream",
       "stream": "stdout",
       "text": [
        " 31\n",
        "File number "
       ]
      },
      {
       "output_type": "stream",
       "stream": "stdout",
       "text": [
        " 32\n",
        "File number "
       ]
      },
      {
       "output_type": "stream",
       "stream": "stdout",
       "text": [
        " 33\n",
        "File number "
       ]
      },
      {
       "output_type": "stream",
       "stream": "stdout",
       "text": [
        " 34\n",
        "File number "
       ]
      },
      {
       "output_type": "stream",
       "stream": "stdout",
       "text": [
        " 35\n",
        "File number "
       ]
      },
      {
       "output_type": "stream",
       "stream": "stdout",
       "text": [
        " 36\n",
        "File number "
       ]
      },
      {
       "output_type": "stream",
       "stream": "stdout",
       "text": [
        " 37\n",
        "File number "
       ]
      },
      {
       "output_type": "stream",
       "stream": "stdout",
       "text": [
        " 38\n",
        "File number "
       ]
      },
      {
       "output_type": "stream",
       "stream": "stdout",
       "text": [
        " 39\n",
        "File number "
       ]
      },
      {
       "output_type": "stream",
       "stream": "stdout",
       "text": [
        " 40\n",
        "File number "
       ]
      },
      {
       "output_type": "stream",
       "stream": "stdout",
       "text": [
        " 41\n",
        "File number "
       ]
      },
      {
       "output_type": "stream",
       "stream": "stdout",
       "text": [
        " 42\n",
        "File number "
       ]
      },
      {
       "output_type": "stream",
       "stream": "stdout",
       "text": [
        " 43\n",
        "File number "
       ]
      },
      {
       "output_type": "stream",
       "stream": "stdout",
       "text": [
        " 44\n",
        "File number "
       ]
      },
      {
       "output_type": "stream",
       "stream": "stdout",
       "text": [
        " 45\n",
        "File number "
       ]
      },
      {
       "output_type": "stream",
       "stream": "stdout",
       "text": [
        " 46\n",
        "File number "
       ]
      },
      {
       "output_type": "stream",
       "stream": "stdout",
       "text": [
        " 47\n",
        "File number "
       ]
      },
      {
       "output_type": "stream",
       "stream": "stdout",
       "text": [
        " 48\n",
        "File number "
       ]
      },
      {
       "output_type": "stream",
       "stream": "stdout",
       "text": [
        " 49\n",
        "File number "
       ]
      },
      {
       "output_type": "stream",
       "stream": "stdout",
       "text": [
        " 50\n",
        "File number "
       ]
      },
      {
       "output_type": "stream",
       "stream": "stdout",
       "text": [
        " 51\n",
        "File number "
       ]
      },
      {
       "output_type": "stream",
       "stream": "stdout",
       "text": [
        " 52\n",
        "File number "
       ]
      },
      {
       "output_type": "stream",
       "stream": "stdout",
       "text": [
        " 53\n",
        "File number "
       ]
      },
      {
       "output_type": "stream",
       "stream": "stdout",
       "text": [
        " 54\n",
        "File number "
       ]
      },
      {
       "output_type": "stream",
       "stream": "stdout",
       "text": [
        " 55\n",
        "File number "
       ]
      },
      {
       "output_type": "stream",
       "stream": "stdout",
       "text": [
        " 56\n",
        "File number "
       ]
      },
      {
       "output_type": "stream",
       "stream": "stdout",
       "text": [
        " 57\n",
        "File number "
       ]
      },
      {
       "output_type": "stream",
       "stream": "stdout",
       "text": [
        " 58\n",
        "File number "
       ]
      },
      {
       "output_type": "stream",
       "stream": "stdout",
       "text": [
        " 59\n",
        "File number "
       ]
      },
      {
       "output_type": "stream",
       "stream": "stdout",
       "text": [
        " 60\n",
        "File number "
       ]
      },
      {
       "output_type": "stream",
       "stream": "stdout",
       "text": [
        " 61\n",
        "File number "
       ]
      },
      {
       "output_type": "stream",
       "stream": "stdout",
       "text": [
        " 62\n",
        "File number "
       ]
      },
      {
       "output_type": "stream",
       "stream": "stdout",
       "text": [
        " 63\n",
        "File number "
       ]
      },
      {
       "output_type": "stream",
       "stream": "stdout",
       "text": [
        " 64\n",
        "File number "
       ]
      },
      {
       "output_type": "stream",
       "stream": "stdout",
       "text": [
        " 65\n",
        "File number "
       ]
      },
      {
       "output_type": "stream",
       "stream": "stdout",
       "text": [
        " 66\n",
        "File number "
       ]
      },
      {
       "output_type": "stream",
       "stream": "stdout",
       "text": [
        " 67\n",
        "File number "
       ]
      },
      {
       "output_type": "stream",
       "stream": "stdout",
       "text": [
        " 68\n",
        "File number "
       ]
      },
      {
       "output_type": "stream",
       "stream": "stdout",
       "text": [
        " 69\n",
        "File number "
       ]
      },
      {
       "output_type": "stream",
       "stream": "stdout",
       "text": [
        " 70\n",
        "File number "
       ]
      },
      {
       "output_type": "stream",
       "stream": "stdout",
       "text": [
        " 71\n",
        "File number "
       ]
      },
      {
       "output_type": "stream",
       "stream": "stdout",
       "text": [
        " 72\n",
        "File number "
       ]
      },
      {
       "output_type": "stream",
       "stream": "stdout",
       "text": [
        " 73\n",
        "File number "
       ]
      },
      {
       "output_type": "stream",
       "stream": "stdout",
       "text": [
        " 74\n",
        "File number "
       ]
      },
      {
       "output_type": "stream",
       "stream": "stdout",
       "text": [
        " 75\n",
        "File number "
       ]
      },
      {
       "output_type": "stream",
       "stream": "stdout",
       "text": [
        " 76\n",
        "File number "
       ]
      },
      {
       "output_type": "stream",
       "stream": "stdout",
       "text": [
        " 77\n",
        "File number "
       ]
      },
      {
       "output_type": "stream",
       "stream": "stdout",
       "text": [
        " 78\n",
        "File number "
       ]
      },
      {
       "output_type": "stream",
       "stream": "stdout",
       "text": [
        " 79\n",
        "File number "
       ]
      },
      {
       "output_type": "stream",
       "stream": "stdout",
       "text": [
        " 80\n",
        "File number "
       ]
      },
      {
       "output_type": "stream",
       "stream": "stdout",
       "text": [
        " 81\n",
        "File number "
       ]
      },
      {
       "output_type": "stream",
       "stream": "stdout",
       "text": [
        " 82\n",
        "File number "
       ]
      },
      {
       "output_type": "stream",
       "stream": "stdout",
       "text": [
        " 83\n",
        "File number "
       ]
      },
      {
       "output_type": "stream",
       "stream": "stdout",
       "text": [
        " 84\n",
        "File number "
       ]
      },
      {
       "output_type": "stream",
       "stream": "stdout",
       "text": [
        " 85\n",
        "File number "
       ]
      },
      {
       "output_type": "stream",
       "stream": "stdout",
       "text": [
        " 86\n",
        "File number "
       ]
      },
      {
       "output_type": "stream",
       "stream": "stdout",
       "text": [
        " 87\n",
        "File number "
       ]
      },
      {
       "output_type": "stream",
       "stream": "stdout",
       "text": [
        " 88\n",
        "File number "
       ]
      },
      {
       "output_type": "stream",
       "stream": "stdout",
       "text": [
        " 89\n",
        "File number "
       ]
      },
      {
       "output_type": "stream",
       "stream": "stdout",
       "text": [
        " 90\n",
        "File number "
       ]
      },
      {
       "output_type": "stream",
       "stream": "stdout",
       "text": [
        " 91\n",
        "File number "
       ]
      },
      {
       "output_type": "stream",
       "stream": "stdout",
       "text": [
        " 92\n",
        "File number "
       ]
      },
      {
       "output_type": "stream",
       "stream": "stdout",
       "text": [
        " 93\n",
        "File number "
       ]
      },
      {
       "output_type": "stream",
       "stream": "stdout",
       "text": [
        " 94\n",
        "File number "
       ]
      },
      {
       "output_type": "stream",
       "stream": "stdout",
       "text": [
        " 95\n",
        "File number "
       ]
      },
      {
       "output_type": "stream",
       "stream": "stdout",
       "text": [
        " 96\n",
        "File number "
       ]
      },
      {
       "output_type": "stream",
       "stream": "stdout",
       "text": [
        " 97\n",
        "File number "
       ]
      },
      {
       "output_type": "stream",
       "stream": "stdout",
       "text": [
        " 98\n",
        "File number "
       ]
      },
      {
       "output_type": "stream",
       "stream": "stdout",
       "text": [
        " 99\n",
        "File number "
       ]
      },
      {
       "output_type": "stream",
       "stream": "stdout",
       "text": [
        " 100\n",
        "File number "
       ]
      },
      {
       "output_type": "stream",
       "stream": "stdout",
       "text": [
        " 101\n",
        "File number "
       ]
      },
      {
       "output_type": "stream",
       "stream": "stdout",
       "text": [
        " 102\n",
        "File number "
       ]
      },
      {
       "output_type": "stream",
       "stream": "stdout",
       "text": [
        " 103\n",
        "File number "
       ]
      },
      {
       "output_type": "stream",
       "stream": "stdout",
       "text": [
        " 104\n",
        "File number "
       ]
      },
      {
       "output_type": "stream",
       "stream": "stdout",
       "text": [
        " 105\n",
        "File number "
       ]
      },
      {
       "output_type": "stream",
       "stream": "stdout",
       "text": [
        " 106\n",
        "File number "
       ]
      },
      {
       "output_type": "stream",
       "stream": "stdout",
       "text": [
        " 107\n",
        "File number "
       ]
      },
      {
       "output_type": "stream",
       "stream": "stdout",
       "text": [
        " 108\n",
        "File number "
       ]
      },
      {
       "output_type": "stream",
       "stream": "stdout",
       "text": [
        " 109\n",
        "File number "
       ]
      },
      {
       "output_type": "stream",
       "stream": "stdout",
       "text": [
        " 110\n",
        "File number "
       ]
      },
      {
       "output_type": "stream",
       "stream": "stdout",
       "text": [
        " 111\n",
        "File number "
       ]
      },
      {
       "output_type": "stream",
       "stream": "stdout",
       "text": [
        " 112\n",
        "File number "
       ]
      },
      {
       "output_type": "stream",
       "stream": "stdout",
       "text": [
        " 113\n",
        "File number "
       ]
      },
      {
       "output_type": "stream",
       "stream": "stdout",
       "text": [
        " 114\n",
        "File number "
       ]
      },
      {
       "output_type": "stream",
       "stream": "stdout",
       "text": [
        " 115\n",
        "File number "
       ]
      },
      {
       "output_type": "stream",
       "stream": "stdout",
       "text": [
        " 116\n",
        "File number "
       ]
      },
      {
       "output_type": "stream",
       "stream": "stdout",
       "text": [
        " 117\n",
        "File number "
       ]
      },
      {
       "output_type": "stream",
       "stream": "stdout",
       "text": [
        " 118\n",
        "File number "
       ]
      },
      {
       "output_type": "stream",
       "stream": "stdout",
       "text": [
        " 119\n",
        "File number "
       ]
      },
      {
       "output_type": "stream",
       "stream": "stdout",
       "text": [
        " 120\n",
        "File number "
       ]
      },
      {
       "output_type": "stream",
       "stream": "stdout",
       "text": [
        " 121\n",
        "File number "
       ]
      },
      {
       "output_type": "stream",
       "stream": "stdout",
       "text": [
        " 122\n",
        "File number "
       ]
      },
      {
       "output_type": "stream",
       "stream": "stdout",
       "text": [
        " 123\n",
        "File number "
       ]
      },
      {
       "output_type": "stream",
       "stream": "stdout",
       "text": [
        " 124\n",
        "File number "
       ]
      },
      {
       "output_type": "stream",
       "stream": "stdout",
       "text": [
        " 125\n",
        "File number "
       ]
      },
      {
       "output_type": "stream",
       "stream": "stdout",
       "text": [
        " 126\n",
        "File number "
       ]
      },
      {
       "output_type": "stream",
       "stream": "stdout",
       "text": [
        " 127\n",
        "File number "
       ]
      },
      {
       "output_type": "stream",
       "stream": "stdout",
       "text": [
        " 128\n",
        "File number "
       ]
      },
      {
       "output_type": "stream",
       "stream": "stdout",
       "text": [
        " 129\n",
        "File number "
       ]
      },
      {
       "output_type": "stream",
       "stream": "stdout",
       "text": [
        " 130\n",
        "File number "
       ]
      },
      {
       "output_type": "stream",
       "stream": "stdout",
       "text": [
        " 131\n",
        "File number "
       ]
      },
      {
       "output_type": "stream",
       "stream": "stdout",
       "text": [
        " 132\n",
        "File number "
       ]
      },
      {
       "output_type": "stream",
       "stream": "stdout",
       "text": [
        " 133\n",
        "File number "
       ]
      },
      {
       "output_type": "stream",
       "stream": "stdout",
       "text": [
        " 134\n",
        "File number "
       ]
      },
      {
       "output_type": "stream",
       "stream": "stdout",
       "text": [
        " 135\n",
        "File number "
       ]
      },
      {
       "output_type": "stream",
       "stream": "stdout",
       "text": [
        " 136\n",
        "File number "
       ]
      },
      {
       "output_type": "stream",
       "stream": "stdout",
       "text": [
        " 137\n",
        "File number "
       ]
      },
      {
       "output_type": "stream",
       "stream": "stdout",
       "text": [
        " 138\n",
        "File number "
       ]
      },
      {
       "output_type": "stream",
       "stream": "stdout",
       "text": [
        " 139\n",
        "File number "
       ]
      },
      {
       "output_type": "stream",
       "stream": "stdout",
       "text": [
        " 140\n",
        "File number "
       ]
      },
      {
       "output_type": "stream",
       "stream": "stdout",
       "text": [
        " 141\n",
        "File number "
       ]
      },
      {
       "output_type": "stream",
       "stream": "stdout",
       "text": [
        " 142\n",
        "File number "
       ]
      },
      {
       "output_type": "stream",
       "stream": "stdout",
       "text": [
        " 143\n",
        "File number "
       ]
      },
      {
       "output_type": "stream",
       "stream": "stdout",
       "text": [
        " 144\n",
        "File number "
       ]
      },
      {
       "output_type": "stream",
       "stream": "stdout",
       "text": [
        " 145\n",
        "File number "
       ]
      },
      {
       "output_type": "stream",
       "stream": "stdout",
       "text": [
        " 146\n",
        "File number "
       ]
      },
      {
       "output_type": "stream",
       "stream": "stdout",
       "text": [
        " 147\n",
        "File number "
       ]
      },
      {
       "output_type": "stream",
       "stream": "stdout",
       "text": [
        " 148\n",
        "File number "
       ]
      },
      {
       "output_type": "stream",
       "stream": "stdout",
       "text": [
        " 149\n",
        "File number "
       ]
      },
      {
       "output_type": "stream",
       "stream": "stdout",
       "text": [
        " 150\n",
        "File number "
       ]
      },
      {
       "output_type": "stream",
       "stream": "stdout",
       "text": [
        " 151\n",
        "File number "
       ]
      },
      {
       "output_type": "stream",
       "stream": "stdout",
       "text": [
        " 152\n",
        "File number "
       ]
      },
      {
       "output_type": "stream",
       "stream": "stdout",
       "text": [
        " 153\n",
        "File number "
       ]
      },
      {
       "output_type": "stream",
       "stream": "stdout",
       "text": [
        " 154\n",
        "File number "
       ]
      },
      {
       "output_type": "stream",
       "stream": "stdout",
       "text": [
        " 155\n",
        "File number "
       ]
      },
      {
       "output_type": "stream",
       "stream": "stdout",
       "text": [
        " 156\n",
        "File number "
       ]
      },
      {
       "output_type": "stream",
       "stream": "stdout",
       "text": [
        " 157\n",
        "File number "
       ]
      },
      {
       "output_type": "stream",
       "stream": "stdout",
       "text": [
        " 158\n",
        "File number "
       ]
      },
      {
       "output_type": "stream",
       "stream": "stdout",
       "text": [
        " 159\n",
        "File number "
       ]
      },
      {
       "output_type": "stream",
       "stream": "stdout",
       "text": [
        " 160\n",
        "File number "
       ]
      },
      {
       "output_type": "stream",
       "stream": "stdout",
       "text": [
        " 161\n",
        "File number "
       ]
      },
      {
       "output_type": "stream",
       "stream": "stdout",
       "text": [
        " 162\n",
        "File number "
       ]
      },
      {
       "output_type": "stream",
       "stream": "stdout",
       "text": [
        " 163\n",
        "File number "
       ]
      },
      {
       "output_type": "stream",
       "stream": "stdout",
       "text": [
        " 164\n",
        "File number "
       ]
      },
      {
       "output_type": "stream",
       "stream": "stdout",
       "text": [
        " 165\n",
        "File number "
       ]
      },
      {
       "output_type": "stream",
       "stream": "stdout",
       "text": [
        " 166\n",
        "File number "
       ]
      },
      {
       "output_type": "stream",
       "stream": "stdout",
       "text": [
        " 167\n",
        "File number "
       ]
      },
      {
       "output_type": "stream",
       "stream": "stdout",
       "text": [
        " 168\n",
        "File number "
       ]
      },
      {
       "output_type": "stream",
       "stream": "stdout",
       "text": [
        " 169\n",
        "File number "
       ]
      },
      {
       "output_type": "stream",
       "stream": "stdout",
       "text": [
        " 170\n",
        "File number "
       ]
      },
      {
       "output_type": "stream",
       "stream": "stdout",
       "text": [
        " 171\n",
        "File number "
       ]
      },
      {
       "output_type": "stream",
       "stream": "stdout",
       "text": [
        " 172\n",
        "File number "
       ]
      },
      {
       "output_type": "stream",
       "stream": "stdout",
       "text": [
        " 173\n",
        "File number "
       ]
      },
      {
       "output_type": "stream",
       "stream": "stdout",
       "text": [
        " 174\n",
        "File number "
       ]
      },
      {
       "output_type": "stream",
       "stream": "stdout",
       "text": [
        " 175\n",
        "File number "
       ]
      },
      {
       "output_type": "stream",
       "stream": "stdout",
       "text": [
        " 176\n",
        "File number "
       ]
      },
      {
       "output_type": "stream",
       "stream": "stdout",
       "text": [
        " 177\n",
        "File number "
       ]
      },
      {
       "output_type": "stream",
       "stream": "stdout",
       "text": [
        " 178\n",
        "File number "
       ]
      },
      {
       "output_type": "stream",
       "stream": "stdout",
       "text": [
        " 179\n",
        "File number "
       ]
      },
      {
       "output_type": "stream",
       "stream": "stdout",
       "text": [
        " 180\n",
        "File number "
       ]
      },
      {
       "output_type": "stream",
       "stream": "stdout",
       "text": [
        " 181\n",
        "File number "
       ]
      },
      {
       "output_type": "stream",
       "stream": "stdout",
       "text": [
        " 182\n",
        "File number "
       ]
      },
      {
       "output_type": "stream",
       "stream": "stdout",
       "text": [
        " 183\n",
        "File number "
       ]
      },
      {
       "output_type": "stream",
       "stream": "stdout",
       "text": [
        " 184\n",
        "File number "
       ]
      },
      {
       "output_type": "stream",
       "stream": "stdout",
       "text": [
        " 185\n",
        "File number "
       ]
      },
      {
       "output_type": "stream",
       "stream": "stdout",
       "text": [
        " 186\n",
        "File number "
       ]
      },
      {
       "output_type": "stream",
       "stream": "stdout",
       "text": [
        " 187\n",
        "File number "
       ]
      },
      {
       "output_type": "stream",
       "stream": "stdout",
       "text": [
        " 188\n",
        "File number "
       ]
      },
      {
       "output_type": "stream",
       "stream": "stdout",
       "text": [
        " 189\n",
        "File number "
       ]
      },
      {
       "output_type": "stream",
       "stream": "stdout",
       "text": [
        " 190\n",
        "File number "
       ]
      },
      {
       "output_type": "stream",
       "stream": "stdout",
       "text": [
        " 191\n",
        "File number "
       ]
      },
      {
       "output_type": "stream",
       "stream": "stdout",
       "text": [
        " 192\n",
        "File number "
       ]
      },
      {
       "output_type": "stream",
       "stream": "stdout",
       "text": [
        " 193\n",
        "File number "
       ]
      },
      {
       "output_type": "stream",
       "stream": "stdout",
       "text": [
        " 194\n",
        "File number "
       ]
      },
      {
       "output_type": "stream",
       "stream": "stdout",
       "text": [
        " 195\n",
        "File number "
       ]
      },
      {
       "output_type": "stream",
       "stream": "stdout",
       "text": [
        " 196\n",
        "File number "
       ]
      },
      {
       "output_type": "stream",
       "stream": "stdout",
       "text": [
        " 197\n",
        "File number "
       ]
      },
      {
       "output_type": "stream",
       "stream": "stdout",
       "text": [
        " 198\n",
        "File number "
       ]
      },
      {
       "output_type": "stream",
       "stream": "stdout",
       "text": [
        " 199\n",
        "File number "
       ]
      },
      {
       "output_type": "stream",
       "stream": "stdout",
       "text": [
        " 200\n",
        "File number "
       ]
      },
      {
       "output_type": "stream",
       "stream": "stdout",
       "text": [
        " 201\n",
        "File number "
       ]
      },
      {
       "output_type": "stream",
       "stream": "stdout",
       "text": [
        " 202\n",
        "File number "
       ]
      },
      {
       "output_type": "stream",
       "stream": "stdout",
       "text": [
        " 203\n",
        "File number "
       ]
      },
      {
       "output_type": "stream",
       "stream": "stdout",
       "text": [
        " 204\n",
        "File number "
       ]
      },
      {
       "output_type": "stream",
       "stream": "stdout",
       "text": [
        " 205\n",
        "File number "
       ]
      },
      {
       "output_type": "stream",
       "stream": "stdout",
       "text": [
        " 206\n",
        "File number "
       ]
      },
      {
       "output_type": "stream",
       "stream": "stdout",
       "text": [
        " 207\n",
        "File number "
       ]
      },
      {
       "output_type": "stream",
       "stream": "stdout",
       "text": [
        " 208\n",
        "File number "
       ]
      },
      {
       "output_type": "stream",
       "stream": "stdout",
       "text": [
        " 209\n",
        "File number "
       ]
      },
      {
       "output_type": "stream",
       "stream": "stdout",
       "text": [
        " 210\n",
        "File number "
       ]
      },
      {
       "output_type": "stream",
       "stream": "stdout",
       "text": [
        " 211\n",
        "File number "
       ]
      },
      {
       "output_type": "stream",
       "stream": "stdout",
       "text": [
        " 212\n",
        "File number "
       ]
      },
      {
       "output_type": "stream",
       "stream": "stdout",
       "text": [
        " 213\n",
        "File number "
       ]
      },
      {
       "output_type": "stream",
       "stream": "stdout",
       "text": [
        " 214\n",
        "File number "
       ]
      },
      {
       "output_type": "stream",
       "stream": "stdout",
       "text": [
        " 215\n",
        "File number "
       ]
      },
      {
       "output_type": "stream",
       "stream": "stdout",
       "text": [
        " 216\n",
        "File number "
       ]
      },
      {
       "output_type": "stream",
       "stream": "stdout",
       "text": [
        " 217\n",
        "File number "
       ]
      },
      {
       "output_type": "stream",
       "stream": "stdout",
       "text": [
        " 218\n",
        "File number "
       ]
      },
      {
       "output_type": "stream",
       "stream": "stdout",
       "text": [
        " 219\n",
        "File number "
       ]
      },
      {
       "output_type": "stream",
       "stream": "stdout",
       "text": [
        " 220\n",
        "File number "
       ]
      },
      {
       "output_type": "stream",
       "stream": "stdout",
       "text": [
        " 221\n",
        "File number "
       ]
      },
      {
       "output_type": "stream",
       "stream": "stdout",
       "text": [
        " 222\n",
        "File number "
       ]
      },
      {
       "output_type": "stream",
       "stream": "stdout",
       "text": [
        " 223\n",
        "File number "
       ]
      },
      {
       "output_type": "stream",
       "stream": "stdout",
       "text": [
        " 224\n",
        "File number "
       ]
      },
      {
       "output_type": "stream",
       "stream": "stdout",
       "text": [
        " 225\n",
        "File number "
       ]
      },
      {
       "output_type": "stream",
       "stream": "stdout",
       "text": [
        " 226\n",
        "File number "
       ]
      },
      {
       "output_type": "stream",
       "stream": "stdout",
       "text": [
        " 227\n",
        "File number "
       ]
      },
      {
       "output_type": "stream",
       "stream": "stdout",
       "text": [
        " 228\n",
        "File number "
       ]
      },
      {
       "output_type": "stream",
       "stream": "stdout",
       "text": [
        " 229\n",
        "File number "
       ]
      },
      {
       "output_type": "stream",
       "stream": "stdout",
       "text": [
        " 230\n",
        "File number "
       ]
      },
      {
       "output_type": "stream",
       "stream": "stdout",
       "text": [
        " 231\n",
        "File number "
       ]
      },
      {
       "output_type": "stream",
       "stream": "stdout",
       "text": [
        " 232\n",
        "File number "
       ]
      },
      {
       "output_type": "stream",
       "stream": "stdout",
       "text": [
        " 233\n",
        "File number "
       ]
      },
      {
       "output_type": "stream",
       "stream": "stdout",
       "text": [
        " 234\n",
        "File number "
       ]
      },
      {
       "output_type": "stream",
       "stream": "stdout",
       "text": [
        " 235\n",
        "File number "
       ]
      },
      {
       "output_type": "stream",
       "stream": "stdout",
       "text": [
        " 236\n",
        "File number "
       ]
      },
      {
       "output_type": "stream",
       "stream": "stdout",
       "text": [
        " 237\n",
        "File number "
       ]
      },
      {
       "output_type": "stream",
       "stream": "stdout",
       "text": [
        " 238\n",
        "File number "
       ]
      },
      {
       "output_type": "stream",
       "stream": "stdout",
       "text": [
        " 239\n",
        "File number "
       ]
      },
      {
       "output_type": "stream",
       "stream": "stdout",
       "text": [
        " 240\n",
        "File number "
       ]
      },
      {
       "output_type": "stream",
       "stream": "stdout",
       "text": [
        " 241\n",
        "File number "
       ]
      },
      {
       "output_type": "stream",
       "stream": "stdout",
       "text": [
        " 242\n",
        "File number "
       ]
      },
      {
       "output_type": "stream",
       "stream": "stdout",
       "text": [
        " 243\n",
        "File number "
       ]
      },
      {
       "output_type": "stream",
       "stream": "stdout",
       "text": [
        " 244\n",
        "File number "
       ]
      },
      {
       "output_type": "stream",
       "stream": "stdout",
       "text": [
        " 245\n",
        "File number "
       ]
      },
      {
       "output_type": "stream",
       "stream": "stdout",
       "text": [
        " 246\n",
        "File number "
       ]
      },
      {
       "output_type": "stream",
       "stream": "stdout",
       "text": [
        " 247\n",
        "File number "
       ]
      },
      {
       "output_type": "stream",
       "stream": "stdout",
       "text": [
        " 248\n",
        "File number "
       ]
      },
      {
       "output_type": "stream",
       "stream": "stdout",
       "text": [
        " 249\n",
        "File number "
       ]
      },
      {
       "output_type": "stream",
       "stream": "stdout",
       "text": [
        " 250\n",
        "File number "
       ]
      },
      {
       "output_type": "stream",
       "stream": "stdout",
       "text": [
        " 251\n",
        "File number "
       ]
      },
      {
       "output_type": "stream",
       "stream": "stdout",
       "text": [
        " 252\n",
        "File number "
       ]
      },
      {
       "output_type": "stream",
       "stream": "stdout",
       "text": [
        " 253\n",
        "File number "
       ]
      },
      {
       "output_type": "stream",
       "stream": "stdout",
       "text": [
        " 254\n",
        "File number "
       ]
      },
      {
       "output_type": "stream",
       "stream": "stdout",
       "text": [
        " 255\n",
        "File number "
       ]
      },
      {
       "output_type": "stream",
       "stream": "stdout",
       "text": [
        " 256\n",
        "File number "
       ]
      },
      {
       "output_type": "stream",
       "stream": "stdout",
       "text": [
        " 257\n",
        "File number "
       ]
      },
      {
       "output_type": "stream",
       "stream": "stdout",
       "text": [
        " 258\n",
        "File number "
       ]
      },
      {
       "output_type": "stream",
       "stream": "stdout",
       "text": [
        " 259\n",
        "File number "
       ]
      },
      {
       "output_type": "stream",
       "stream": "stdout",
       "text": [
        " 260\n",
        "File number "
       ]
      },
      {
       "output_type": "stream",
       "stream": "stdout",
       "text": [
        " 261\n",
        "File number "
       ]
      },
      {
       "output_type": "stream",
       "stream": "stdout",
       "text": [
        " 262\n",
        "File number "
       ]
      },
      {
       "output_type": "stream",
       "stream": "stdout",
       "text": [
        " 263\n",
        "File number "
       ]
      },
      {
       "output_type": "stream",
       "stream": "stdout",
       "text": [
        " 264\n",
        "File number "
       ]
      },
      {
       "output_type": "stream",
       "stream": "stdout",
       "text": [
        " 265\n",
        "File number "
       ]
      },
      {
       "output_type": "stream",
       "stream": "stdout",
       "text": [
        " 266\n",
        "File number "
       ]
      },
      {
       "output_type": "stream",
       "stream": "stdout",
       "text": [
        " 267\n",
        "File number "
       ]
      },
      {
       "output_type": "stream",
       "stream": "stdout",
       "text": [
        " 268\n",
        "File number "
       ]
      },
      {
       "output_type": "stream",
       "stream": "stdout",
       "text": [
        " 269\n",
        "File number "
       ]
      },
      {
       "output_type": "stream",
       "stream": "stdout",
       "text": [
        " 270\n",
        "File number "
       ]
      },
      {
       "output_type": "stream",
       "stream": "stdout",
       "text": [
        " 271\n",
        "File number "
       ]
      },
      {
       "output_type": "stream",
       "stream": "stdout",
       "text": [
        " 272\n",
        "File number "
       ]
      },
      {
       "output_type": "stream",
       "stream": "stdout",
       "text": [
        " 273\n",
        "File number "
       ]
      },
      {
       "output_type": "stream",
       "stream": "stdout",
       "text": [
        " 274\n",
        "File number "
       ]
      },
      {
       "output_type": "stream",
       "stream": "stdout",
       "text": [
        " 275\n",
        "File number "
       ]
      },
      {
       "output_type": "stream",
       "stream": "stdout",
       "text": [
        " 276\n",
        "File number "
       ]
      },
      {
       "output_type": "stream",
       "stream": "stdout",
       "text": [
        " 277\n",
        "File number "
       ]
      },
      {
       "output_type": "stream",
       "stream": "stdout",
       "text": [
        " 278\n",
        "File number "
       ]
      },
      {
       "output_type": "stream",
       "stream": "stdout",
       "text": [
        " 279\n",
        "File number "
       ]
      },
      {
       "output_type": "stream",
       "stream": "stdout",
       "text": [
        " 280\n",
        "File number "
       ]
      },
      {
       "output_type": "stream",
       "stream": "stdout",
       "text": [
        " 281\n",
        "File number "
       ]
      },
      {
       "output_type": "stream",
       "stream": "stdout",
       "text": [
        " 282\n",
        "File number "
       ]
      },
      {
       "output_type": "stream",
       "stream": "stdout",
       "text": [
        " 283\n",
        "File number "
       ]
      },
      {
       "output_type": "stream",
       "stream": "stdout",
       "text": [
        " 284\n",
        "File number "
       ]
      },
      {
       "output_type": "stream",
       "stream": "stdout",
       "text": [
        " 285\n",
        "File number "
       ]
      },
      {
       "output_type": "stream",
       "stream": "stdout",
       "text": [
        " 286\n",
        "File number "
       ]
      },
      {
       "output_type": "stream",
       "stream": "stdout",
       "text": [
        " 287\n",
        "File number "
       ]
      },
      {
       "output_type": "stream",
       "stream": "stdout",
       "text": [
        " 288\n",
        "File number "
       ]
      },
      {
       "output_type": "stream",
       "stream": "stdout",
       "text": [
        " 289\n",
        "File number "
       ]
      },
      {
       "output_type": "stream",
       "stream": "stdout",
       "text": [
        " 290\n",
        "File number "
       ]
      },
      {
       "output_type": "stream",
       "stream": "stdout",
       "text": [
        " 291\n",
        "File number "
       ]
      },
      {
       "output_type": "stream",
       "stream": "stdout",
       "text": [
        " 292\n",
        "File number "
       ]
      },
      {
       "output_type": "stream",
       "stream": "stdout",
       "text": [
        " 293\n",
        "File number "
       ]
      },
      {
       "output_type": "stream",
       "stream": "stdout",
       "text": [
        " 294\n",
        "File number "
       ]
      },
      {
       "output_type": "stream",
       "stream": "stdout",
       "text": [
        " 295\n",
        "File number "
       ]
      },
      {
       "output_type": "stream",
       "stream": "stdout",
       "text": [
        " 296\n",
        "File number "
       ]
      },
      {
       "output_type": "stream",
       "stream": "stdout",
       "text": [
        " 297\n",
        "File number "
       ]
      },
      {
       "output_type": "stream",
       "stream": "stdout",
       "text": [
        " 298\n",
        "File number "
       ]
      },
      {
       "output_type": "stream",
       "stream": "stdout",
       "text": [
        " 299\n",
        "File number "
       ]
      },
      {
       "output_type": "stream",
       "stream": "stdout",
       "text": [
        " 300\n",
        "File number "
       ]
      },
      {
       "output_type": "stream",
       "stream": "stdout",
       "text": [
        " 301\n",
        "File number "
       ]
      },
      {
       "output_type": "stream",
       "stream": "stdout",
       "text": [
        " 302\n",
        "File number "
       ]
      },
      {
       "output_type": "stream",
       "stream": "stdout",
       "text": [
        " 303\n",
        "File number "
       ]
      },
      {
       "output_type": "stream",
       "stream": "stdout",
       "text": [
        " 304\n",
        "File number "
       ]
      },
      {
       "output_type": "stream",
       "stream": "stdout",
       "text": [
        " 305\n",
        "File number "
       ]
      },
      {
       "output_type": "stream",
       "stream": "stdout",
       "text": [
        " 306\n",
        "File number "
       ]
      },
      {
       "output_type": "stream",
       "stream": "stdout",
       "text": [
        " 307\n",
        "File number "
       ]
      },
      {
       "output_type": "stream",
       "stream": "stdout",
       "text": [
        " 308\n",
        "File number "
       ]
      },
      {
       "output_type": "stream",
       "stream": "stdout",
       "text": [
        " 309\n",
        "File number "
       ]
      },
      {
       "output_type": "stream",
       "stream": "stdout",
       "text": [
        " 310\n",
        "File number "
       ]
      },
      {
       "output_type": "stream",
       "stream": "stdout",
       "text": [
        " 311\n",
        "File number "
       ]
      },
      {
       "output_type": "stream",
       "stream": "stdout",
       "text": [
        " 312\n",
        "File number "
       ]
      },
      {
       "output_type": "stream",
       "stream": "stdout",
       "text": [
        " 313\n",
        "File number "
       ]
      },
      {
       "output_type": "stream",
       "stream": "stdout",
       "text": [
        " 314\n",
        "File number "
       ]
      },
      {
       "output_type": "stream",
       "stream": "stdout",
       "text": [
        " 315\n",
        "File number "
       ]
      },
      {
       "output_type": "stream",
       "stream": "stdout",
       "text": [
        " 316\n",
        "File number "
       ]
      },
      {
       "output_type": "stream",
       "stream": "stdout",
       "text": [
        " 317\n",
        "File number "
       ]
      },
      {
       "output_type": "stream",
       "stream": "stdout",
       "text": [
        " 318\n",
        "File number "
       ]
      },
      {
       "output_type": "stream",
       "stream": "stdout",
       "text": [
        " 319\n",
        "File number "
       ]
      },
      {
       "output_type": "stream",
       "stream": "stdout",
       "text": [
        " 320\n",
        "File number "
       ]
      },
      {
       "output_type": "stream",
       "stream": "stdout",
       "text": [
        " 321\n",
        "File number "
       ]
      },
      {
       "output_type": "stream",
       "stream": "stdout",
       "text": [
        " 322\n",
        "File number "
       ]
      },
      {
       "output_type": "stream",
       "stream": "stdout",
       "text": [
        " 323\n",
        "File number "
       ]
      },
      {
       "output_type": "stream",
       "stream": "stdout",
       "text": [
        " 324\n",
        "File number "
       ]
      },
      {
       "output_type": "stream",
       "stream": "stdout",
       "text": [
        " 325\n",
        "File number "
       ]
      },
      {
       "output_type": "stream",
       "stream": "stdout",
       "text": [
        " 326\n",
        "File number "
       ]
      },
      {
       "output_type": "stream",
       "stream": "stdout",
       "text": [
        " 327\n",
        "File number "
       ]
      },
      {
       "output_type": "stream",
       "stream": "stdout",
       "text": [
        " 328\n",
        "File number "
       ]
      },
      {
       "output_type": "stream",
       "stream": "stdout",
       "text": [
        " 329\n",
        "File number "
       ]
      },
      {
       "output_type": "stream",
       "stream": "stdout",
       "text": [
        " 330\n",
        "File number "
       ]
      },
      {
       "output_type": "stream",
       "stream": "stdout",
       "text": [
        " 331\n",
        "File number "
       ]
      },
      {
       "output_type": "stream",
       "stream": "stdout",
       "text": [
        " 332\n",
        "File number "
       ]
      },
      {
       "output_type": "stream",
       "stream": "stdout",
       "text": [
        " 333\n",
        "File number "
       ]
      },
      {
       "output_type": "stream",
       "stream": "stdout",
       "text": [
        " 334\n",
        "File number "
       ]
      },
      {
       "output_type": "stream",
       "stream": "stdout",
       "text": [
        " 335\n",
        "File number "
       ]
      },
      {
       "output_type": "stream",
       "stream": "stdout",
       "text": [
        " 336\n",
        "File number "
       ]
      },
      {
       "output_type": "stream",
       "stream": "stdout",
       "text": [
        " 337\n",
        "File number "
       ]
      },
      {
       "output_type": "stream",
       "stream": "stdout",
       "text": [
        " 338\n",
        "File number "
       ]
      },
      {
       "output_type": "stream",
       "stream": "stdout",
       "text": [
        " 339\n",
        "File number "
       ]
      },
      {
       "output_type": "stream",
       "stream": "stdout",
       "text": [
        " 340\n",
        "File number "
       ]
      },
      {
       "output_type": "stream",
       "stream": "stdout",
       "text": [
        " 341\n",
        "File number "
       ]
      },
      {
       "output_type": "stream",
       "stream": "stdout",
       "text": [
        " 342\n",
        "File number "
       ]
      },
      {
       "output_type": "stream",
       "stream": "stdout",
       "text": [
        " 343\n",
        "File number "
       ]
      },
      {
       "output_type": "stream",
       "stream": "stdout",
       "text": [
        " 344\n",
        "File number "
       ]
      },
      {
       "output_type": "stream",
       "stream": "stdout",
       "text": [
        " 345\n",
        "File number "
       ]
      },
      {
       "output_type": "stream",
       "stream": "stdout",
       "text": [
        " 346\n",
        "File number "
       ]
      },
      {
       "output_type": "stream",
       "stream": "stdout",
       "text": [
        " 347\n",
        "File number "
       ]
      },
      {
       "output_type": "stream",
       "stream": "stdout",
       "text": [
        " 348\n",
        "File number "
       ]
      },
      {
       "output_type": "stream",
       "stream": "stdout",
       "text": [
        " 349\n",
        "File number "
       ]
      },
      {
       "output_type": "stream",
       "stream": "stdout",
       "text": [
        " 350\n",
        "File number "
       ]
      },
      {
       "output_type": "stream",
       "stream": "stdout",
       "text": [
        " 351\n",
        "File number "
       ]
      },
      {
       "output_type": "stream",
       "stream": "stdout",
       "text": [
        " 352\n",
        "File number "
       ]
      },
      {
       "output_type": "stream",
       "stream": "stdout",
       "text": [
        " 353\n",
        "File number "
       ]
      },
      {
       "output_type": "stream",
       "stream": "stdout",
       "text": [
        " 354\n",
        "File number "
       ]
      },
      {
       "output_type": "stream",
       "stream": "stdout",
       "text": [
        " 355\n",
        "File number "
       ]
      },
      {
       "output_type": "stream",
       "stream": "stdout",
       "text": [
        " 356\n",
        "File number "
       ]
      },
      {
       "output_type": "stream",
       "stream": "stdout",
       "text": [
        " 357\n",
        "File number "
       ]
      },
      {
       "output_type": "stream",
       "stream": "stdout",
       "text": [
        " 358\n",
        "File number "
       ]
      },
      {
       "output_type": "stream",
       "stream": "stdout",
       "text": [
        " 359\n",
        "File number "
       ]
      },
      {
       "output_type": "stream",
       "stream": "stdout",
       "text": [
        " 360\n",
        "File number "
       ]
      },
      {
       "output_type": "stream",
       "stream": "stdout",
       "text": [
        " 361\n",
        "File number "
       ]
      },
      {
       "output_type": "stream",
       "stream": "stdout",
       "text": [
        " 362\n",
        "File number "
       ]
      },
      {
       "output_type": "stream",
       "stream": "stdout",
       "text": [
        " 363\n",
        "File number "
       ]
      },
      {
       "output_type": "stream",
       "stream": "stdout",
       "text": [
        " 364\n",
        "File number "
       ]
      },
      {
       "output_type": "stream",
       "stream": "stdout",
       "text": [
        " 365\n",
        "File number "
       ]
      },
      {
       "output_type": "stream",
       "stream": "stdout",
       "text": [
        " 366\n",
        "File number "
       ]
      },
      {
       "output_type": "stream",
       "stream": "stdout",
       "text": [
        " 367\n",
        "File number "
       ]
      },
      {
       "output_type": "stream",
       "stream": "stdout",
       "text": [
        " 368\n",
        "File number "
       ]
      },
      {
       "output_type": "stream",
       "stream": "stdout",
       "text": [
        " 369\n",
        "File number "
       ]
      },
      {
       "output_type": "stream",
       "stream": "stdout",
       "text": [
        " 370\n",
        "File number "
       ]
      },
      {
       "output_type": "stream",
       "stream": "stdout",
       "text": [
        " 371\n",
        "File number "
       ]
      },
      {
       "output_type": "stream",
       "stream": "stdout",
       "text": [
        " 372\n",
        "File number "
       ]
      },
      {
       "output_type": "stream",
       "stream": "stdout",
       "text": [
        " 373\n",
        "File number "
       ]
      },
      {
       "output_type": "stream",
       "stream": "stdout",
       "text": [
        " 374\n",
        "File number "
       ]
      },
      {
       "output_type": "stream",
       "stream": "stdout",
       "text": [
        " 375\n",
        "File number "
       ]
      },
      {
       "output_type": "stream",
       "stream": "stdout",
       "text": [
        " 376\n",
        "File number "
       ]
      },
      {
       "output_type": "stream",
       "stream": "stdout",
       "text": [
        " 377\n",
        "File number "
       ]
      },
      {
       "output_type": "stream",
       "stream": "stdout",
       "text": [
        " 378\n",
        "File number "
       ]
      },
      {
       "output_type": "stream",
       "stream": "stdout",
       "text": [
        " 379\n",
        "File number "
       ]
      },
      {
       "output_type": "stream",
       "stream": "stdout",
       "text": [
        " 380\n",
        "File number "
       ]
      },
      {
       "output_type": "stream",
       "stream": "stdout",
       "text": [
        " 381\n",
        "File number "
       ]
      },
      {
       "output_type": "stream",
       "stream": "stdout",
       "text": [
        " 382\n",
        "File number "
       ]
      },
      {
       "output_type": "stream",
       "stream": "stdout",
       "text": [
        " 383\n",
        "File number "
       ]
      },
      {
       "output_type": "stream",
       "stream": "stdout",
       "text": [
        " 384\n",
        "File number "
       ]
      },
      {
       "output_type": "stream",
       "stream": "stdout",
       "text": [
        " 385\n",
        "File number "
       ]
      },
      {
       "output_type": "stream",
       "stream": "stdout",
       "text": [
        " 386\n",
        "File number "
       ]
      },
      {
       "output_type": "stream",
       "stream": "stdout",
       "text": [
        " 387\n",
        "File number "
       ]
      },
      {
       "output_type": "stream",
       "stream": "stdout",
       "text": [
        " 388\n",
        "File number "
       ]
      },
      {
       "output_type": "stream",
       "stream": "stdout",
       "text": [
        " 389\n",
        "File number "
       ]
      },
      {
       "output_type": "stream",
       "stream": "stdout",
       "text": [
        " 390\n",
        "File number "
       ]
      },
      {
       "output_type": "stream",
       "stream": "stdout",
       "text": [
        " 391\n",
        "File number "
       ]
      },
      {
       "output_type": "stream",
       "stream": "stdout",
       "text": [
        " 392\n",
        "File number "
       ]
      },
      {
       "output_type": "stream",
       "stream": "stdout",
       "text": [
        " 393\n",
        "File number "
       ]
      },
      {
       "output_type": "stream",
       "stream": "stdout",
       "text": [
        " 394\n",
        "File number "
       ]
      },
      {
       "output_type": "stream",
       "stream": "stdout",
       "text": [
        " 395\n",
        "File number "
       ]
      },
      {
       "output_type": "stream",
       "stream": "stdout",
       "text": [
        " 396\n",
        "File number "
       ]
      },
      {
       "output_type": "stream",
       "stream": "stdout",
       "text": [
        " 397\n",
        "File number "
       ]
      },
      {
       "output_type": "stream",
       "stream": "stdout",
       "text": [
        " 398\n",
        "File number "
       ]
      },
      {
       "output_type": "stream",
       "stream": "stdout",
       "text": [
        " 399\n",
        "File number "
       ]
      },
      {
       "output_type": "stream",
       "stream": "stdout",
       "text": [
        " 400\n",
        "File number "
       ]
      },
      {
       "output_type": "stream",
       "stream": "stdout",
       "text": [
        " 401\n",
        "File number "
       ]
      },
      {
       "output_type": "stream",
       "stream": "stdout",
       "text": [
        " 402\n",
        "File number "
       ]
      },
      {
       "output_type": "stream",
       "stream": "stdout",
       "text": [
        " 403\n",
        "File number "
       ]
      },
      {
       "output_type": "stream",
       "stream": "stdout",
       "text": [
        " 404\n",
        "File number "
       ]
      },
      {
       "output_type": "stream",
       "stream": "stdout",
       "text": [
        " 405\n",
        "File number "
       ]
      },
      {
       "output_type": "stream",
       "stream": "stdout",
       "text": [
        " 406\n",
        "File number "
       ]
      },
      {
       "output_type": "stream",
       "stream": "stdout",
       "text": [
        " 407\n",
        "File number "
       ]
      },
      {
       "output_type": "stream",
       "stream": "stdout",
       "text": [
        " 408\n",
        "File number "
       ]
      },
      {
       "output_type": "stream",
       "stream": "stdout",
       "text": [
        " 409\n",
        "File number "
       ]
      },
      {
       "output_type": "stream",
       "stream": "stdout",
       "text": [
        " 410\n",
        "File number "
       ]
      },
      {
       "output_type": "stream",
       "stream": "stdout",
       "text": [
        " 411\n",
        "File number "
       ]
      },
      {
       "output_type": "stream",
       "stream": "stdout",
       "text": [
        " 412\n",
        "File number "
       ]
      },
      {
       "output_type": "stream",
       "stream": "stdout",
       "text": [
        " 413\n",
        "File number "
       ]
      },
      {
       "output_type": "stream",
       "stream": "stdout",
       "text": [
        " 414\n",
        "File number "
       ]
      },
      {
       "output_type": "stream",
       "stream": "stdout",
       "text": [
        " 415\n",
        "File number "
       ]
      },
      {
       "output_type": "stream",
       "stream": "stdout",
       "text": [
        " 416\n",
        "File number "
       ]
      },
      {
       "output_type": "stream",
       "stream": "stdout",
       "text": [
        " 417\n",
        "File number "
       ]
      },
      {
       "output_type": "stream",
       "stream": "stdout",
       "text": [
        " 418\n",
        "File number "
       ]
      },
      {
       "output_type": "stream",
       "stream": "stdout",
       "text": [
        " 419\n",
        "File number "
       ]
      },
      {
       "output_type": "stream",
       "stream": "stdout",
       "text": [
        " 420\n",
        "File number "
       ]
      },
      {
       "output_type": "stream",
       "stream": "stdout",
       "text": [
        " 421\n",
        "File number "
       ]
      },
      {
       "output_type": "stream",
       "stream": "stdout",
       "text": [
        " 422\n",
        "File number "
       ]
      },
      {
       "output_type": "stream",
       "stream": "stdout",
       "text": [
        " 423\n",
        "File number "
       ]
      },
      {
       "output_type": "stream",
       "stream": "stdout",
       "text": [
        " 424\n",
        "File number "
       ]
      },
      {
       "output_type": "stream",
       "stream": "stdout",
       "text": [
        " 425\n",
        "File number "
       ]
      },
      {
       "output_type": "stream",
       "stream": "stdout",
       "text": [
        " 426\n",
        "File number "
       ]
      },
      {
       "output_type": "stream",
       "stream": "stdout",
       "text": [
        " 427\n",
        "File number "
       ]
      },
      {
       "output_type": "stream",
       "stream": "stdout",
       "text": [
        " 428\n",
        "File number "
       ]
      },
      {
       "output_type": "stream",
       "stream": "stdout",
       "text": [
        " 429\n",
        "File number "
       ]
      },
      {
       "output_type": "stream",
       "stream": "stdout",
       "text": [
        " 430\n",
        "File number "
       ]
      },
      {
       "output_type": "stream",
       "stream": "stdout",
       "text": [
        " 431\n",
        "File number "
       ]
      },
      {
       "output_type": "stream",
       "stream": "stdout",
       "text": [
        " 432\n",
        "File number "
       ]
      },
      {
       "output_type": "stream",
       "stream": "stdout",
       "text": [
        " 433\n",
        "File number "
       ]
      },
      {
       "output_type": "stream",
       "stream": "stdout",
       "text": [
        " 434\n",
        "File number "
       ]
      },
      {
       "output_type": "stream",
       "stream": "stdout",
       "text": [
        " 435\n",
        "File number "
       ]
      },
      {
       "output_type": "stream",
       "stream": "stdout",
       "text": [
        " 436\n",
        "File number "
       ]
      },
      {
       "output_type": "stream",
       "stream": "stdout",
       "text": [
        " 437\n",
        "File number "
       ]
      },
      {
       "output_type": "stream",
       "stream": "stdout",
       "text": [
        " 438\n",
        "File number "
       ]
      },
      {
       "output_type": "stream",
       "stream": "stdout",
       "text": [
        " 439\n",
        "File number "
       ]
      },
      {
       "output_type": "stream",
       "stream": "stdout",
       "text": [
        " 440\n",
        "File number "
       ]
      },
      {
       "output_type": "stream",
       "stream": "stdout",
       "text": [
        " 441\n",
        "File number "
       ]
      },
      {
       "output_type": "stream",
       "stream": "stdout",
       "text": [
        " 442\n",
        "File number "
       ]
      },
      {
       "output_type": "stream",
       "stream": "stdout",
       "text": [
        " 443\n",
        "File number "
       ]
      },
      {
       "output_type": "stream",
       "stream": "stdout",
       "text": [
        " 444\n",
        "File number "
       ]
      },
      {
       "output_type": "stream",
       "stream": "stdout",
       "text": [
        " 445\n",
        "File number "
       ]
      },
      {
       "output_type": "stream",
       "stream": "stdout",
       "text": [
        " 446\n",
        "File number "
       ]
      },
      {
       "output_type": "stream",
       "stream": "stdout",
       "text": [
        " 447\n",
        "File number "
       ]
      },
      {
       "output_type": "stream",
       "stream": "stdout",
       "text": [
        " 448\n",
        "File number "
       ]
      },
      {
       "output_type": "stream",
       "stream": "stdout",
       "text": [
        " 449\n",
        "File number "
       ]
      },
      {
       "output_type": "stream",
       "stream": "stdout",
       "text": [
        " 450\n",
        "File number "
       ]
      },
      {
       "output_type": "stream",
       "stream": "stdout",
       "text": [
        " 451\n",
        "File number "
       ]
      },
      {
       "output_type": "stream",
       "stream": "stdout",
       "text": [
        " 452\n",
        "File number "
       ]
      },
      {
       "output_type": "stream",
       "stream": "stdout",
       "text": [
        " 453\n",
        "File number "
       ]
      },
      {
       "output_type": "stream",
       "stream": "stdout",
       "text": [
        " 454\n",
        "File number "
       ]
      },
      {
       "output_type": "stream",
       "stream": "stdout",
       "text": [
        " 455\n",
        "File number "
       ]
      },
      {
       "output_type": "stream",
       "stream": "stdout",
       "text": [
        " 456\n",
        "File number "
       ]
      },
      {
       "output_type": "stream",
       "stream": "stdout",
       "text": [
        " 457\n",
        "File number "
       ]
      },
      {
       "output_type": "stream",
       "stream": "stdout",
       "text": [
        " 458\n",
        "File number "
       ]
      },
      {
       "output_type": "stream",
       "stream": "stdout",
       "text": [
        " 459\n",
        "File number "
       ]
      },
      {
       "output_type": "stream",
       "stream": "stdout",
       "text": [
        " 460\n",
        "File number "
       ]
      },
      {
       "output_type": "stream",
       "stream": "stdout",
       "text": [
        " 461\n",
        "File number "
       ]
      },
      {
       "output_type": "stream",
       "stream": "stdout",
       "text": [
        " 462\n",
        "File number "
       ]
      },
      {
       "output_type": "stream",
       "stream": "stdout",
       "text": [
        " 463\n",
        "File number "
       ]
      },
      {
       "output_type": "stream",
       "stream": "stdout",
       "text": [
        " 464\n",
        "File number "
       ]
      },
      {
       "output_type": "stream",
       "stream": "stdout",
       "text": [
        " 465\n",
        "File number "
       ]
      },
      {
       "output_type": "stream",
       "stream": "stdout",
       "text": [
        " 466\n",
        "File number "
       ]
      },
      {
       "output_type": "stream",
       "stream": "stdout",
       "text": [
        " 467\n",
        "File number "
       ]
      },
      {
       "output_type": "stream",
       "stream": "stdout",
       "text": [
        " 468\n",
        "File number "
       ]
      },
      {
       "output_type": "stream",
       "stream": "stdout",
       "text": [
        " 469\n",
        "File number "
       ]
      },
      {
       "output_type": "stream",
       "stream": "stdout",
       "text": [
        " 470\n",
        "File number "
       ]
      },
      {
       "output_type": "stream",
       "stream": "stdout",
       "text": [
        " 471\n",
        "File number "
       ]
      },
      {
       "output_type": "stream",
       "stream": "stdout",
       "text": [
        " 472\n",
        "File number "
       ]
      },
      {
       "output_type": "stream",
       "stream": "stdout",
       "text": [
        " 473\n",
        "File number "
       ]
      },
      {
       "output_type": "stream",
       "stream": "stdout",
       "text": [
        " 474\n",
        "File number "
       ]
      },
      {
       "output_type": "stream",
       "stream": "stdout",
       "text": [
        " 475\n",
        "File number "
       ]
      },
      {
       "output_type": "stream",
       "stream": "stdout",
       "text": [
        " 476\n",
        "File number "
       ]
      },
      {
       "output_type": "stream",
       "stream": "stdout",
       "text": [
        " 477\n",
        "File number "
       ]
      },
      {
       "output_type": "stream",
       "stream": "stdout",
       "text": [
        " 478\n",
        "File number "
       ]
      },
      {
       "output_type": "stream",
       "stream": "stdout",
       "text": [
        " 479\n",
        "File number "
       ]
      },
      {
       "output_type": "stream",
       "stream": "stdout",
       "text": [
        " 480\n",
        "File number "
       ]
      },
      {
       "output_type": "stream",
       "stream": "stdout",
       "text": [
        " 481\n",
        "File number "
       ]
      },
      {
       "output_type": "stream",
       "stream": "stdout",
       "text": [
        " 482\n",
        "File number "
       ]
      },
      {
       "output_type": "stream",
       "stream": "stdout",
       "text": [
        " 483\n",
        "File number "
       ]
      },
      {
       "output_type": "stream",
       "stream": "stdout",
       "text": [
        " 484\n",
        "File number "
       ]
      },
      {
       "output_type": "stream",
       "stream": "stdout",
       "text": [
        " 485\n",
        "File number "
       ]
      },
      {
       "output_type": "stream",
       "stream": "stdout",
       "text": [
        " 486\n",
        "File number "
       ]
      },
      {
       "output_type": "stream",
       "stream": "stdout",
       "text": [
        " 487\n",
        "File number "
       ]
      },
      {
       "output_type": "stream",
       "stream": "stdout",
       "text": [
        " 488\n",
        "File number "
       ]
      },
      {
       "output_type": "stream",
       "stream": "stdout",
       "text": [
        " 489\n",
        "File number "
       ]
      },
      {
       "output_type": "stream",
       "stream": "stdout",
       "text": [
        " 490\n",
        "File number "
       ]
      },
      {
       "output_type": "stream",
       "stream": "stdout",
       "text": [
        " 491\n",
        "File number "
       ]
      },
      {
       "output_type": "stream",
       "stream": "stdout",
       "text": [
        " 492\n",
        "File number "
       ]
      },
      {
       "output_type": "stream",
       "stream": "stdout",
       "text": [
        " 493\n",
        "File number "
       ]
      },
      {
       "output_type": "stream",
       "stream": "stdout",
       "text": [
        " 494\n",
        "File number "
       ]
      },
      {
       "output_type": "stream",
       "stream": "stdout",
       "text": [
        " 495\n",
        "File number "
       ]
      },
      {
       "output_type": "stream",
       "stream": "stdout",
       "text": [
        " 496\n",
        "File number "
       ]
      },
      {
       "output_type": "stream",
       "stream": "stdout",
       "text": [
        " 497\n",
        "File number "
       ]
      },
      {
       "output_type": "stream",
       "stream": "stdout",
       "text": [
        " 498\n",
        "File number "
       ]
      },
      {
       "output_type": "stream",
       "stream": "stdout",
       "text": [
        " 499\n",
        "File number "
       ]
      },
      {
       "output_type": "stream",
       "stream": "stdout",
       "text": [
        " 500\n",
        "File number "
       ]
      },
      {
       "output_type": "stream",
       "stream": "stdout",
       "text": [
        " 501\n",
        "File number "
       ]
      },
      {
       "output_type": "stream",
       "stream": "stdout",
       "text": [
        " 502\n",
        "File number "
       ]
      },
      {
       "output_type": "stream",
       "stream": "stdout",
       "text": [
        " 503\n",
        "File number "
       ]
      },
      {
       "output_type": "stream",
       "stream": "stdout",
       "text": [
        " 504\n",
        "File number "
       ]
      },
      {
       "output_type": "stream",
       "stream": "stdout",
       "text": [
        " 505\n",
        "File number "
       ]
      },
      {
       "output_type": "stream",
       "stream": "stdout",
       "text": [
        " 506\n",
        "File number "
       ]
      },
      {
       "output_type": "stream",
       "stream": "stdout",
       "text": [
        " 507\n",
        "File number "
       ]
      },
      {
       "output_type": "stream",
       "stream": "stdout",
       "text": [
        " 508\n",
        "File number "
       ]
      },
      {
       "output_type": "stream",
       "stream": "stdout",
       "text": [
        " 509\n",
        "File number "
       ]
      },
      {
       "output_type": "stream",
       "stream": "stdout",
       "text": [
        " 510\n",
        "File number "
       ]
      },
      {
       "output_type": "stream",
       "stream": "stdout",
       "text": [
        " 511\n",
        "File number "
       ]
      },
      {
       "output_type": "stream",
       "stream": "stdout",
       "text": [
        " 512\n",
        "File number "
       ]
      },
      {
       "output_type": "stream",
       "stream": "stdout",
       "text": [
        " 513\n",
        "File number "
       ]
      },
      {
       "output_type": "stream",
       "stream": "stdout",
       "text": [
        " 514\n",
        "File number "
       ]
      },
      {
       "output_type": "stream",
       "stream": "stdout",
       "text": [
        " 515\n",
        "File number "
       ]
      },
      {
       "output_type": "stream",
       "stream": "stdout",
       "text": [
        " 516\n",
        "File number "
       ]
      },
      {
       "output_type": "stream",
       "stream": "stdout",
       "text": [
        " 517\n",
        "File number "
       ]
      },
      {
       "output_type": "stream",
       "stream": "stdout",
       "text": [
        " 518\n",
        "File number "
       ]
      },
      {
       "output_type": "stream",
       "stream": "stdout",
       "text": [
        " 519\n",
        "File number "
       ]
      },
      {
       "output_type": "stream",
       "stream": "stdout",
       "text": [
        " 520\n",
        "File number "
       ]
      },
      {
       "output_type": "stream",
       "stream": "stdout",
       "text": [
        " 521\n",
        "File number "
       ]
      },
      {
       "output_type": "stream",
       "stream": "stdout",
       "text": [
        " 522\n",
        "File number "
       ]
      },
      {
       "output_type": "stream",
       "stream": "stdout",
       "text": [
        " 523\n",
        "File number "
       ]
      },
      {
       "output_type": "stream",
       "stream": "stdout",
       "text": [
        " 524\n",
        "File number "
       ]
      },
      {
       "output_type": "stream",
       "stream": "stdout",
       "text": [
        " 525\n",
        "File number "
       ]
      },
      {
       "output_type": "stream",
       "stream": "stdout",
       "text": [
        " 526\n",
        "File number "
       ]
      },
      {
       "output_type": "stream",
       "stream": "stdout",
       "text": [
        " 527\n",
        "File number "
       ]
      },
      {
       "output_type": "stream",
       "stream": "stdout",
       "text": [
        " 528\n",
        "File number "
       ]
      },
      {
       "output_type": "stream",
       "stream": "stdout",
       "text": [
        " 529\n",
        "File number "
       ]
      },
      {
       "output_type": "stream",
       "stream": "stdout",
       "text": [
        " 530\n",
        "File number "
       ]
      },
      {
       "output_type": "stream",
       "stream": "stdout",
       "text": [
        " 531\n",
        "File number "
       ]
      },
      {
       "output_type": "stream",
       "stream": "stdout",
       "text": [
        " 532\n",
        "File number "
       ]
      },
      {
       "output_type": "stream",
       "stream": "stdout",
       "text": [
        " 533\n",
        "File number "
       ]
      },
      {
       "output_type": "stream",
       "stream": "stdout",
       "text": [
        " 534\n",
        "File number "
       ]
      },
      {
       "output_type": "stream",
       "stream": "stdout",
       "text": [
        " 535\n",
        "File number "
       ]
      },
      {
       "output_type": "stream",
       "stream": "stdout",
       "text": [
        " 536\n",
        "File number "
       ]
      },
      {
       "output_type": "stream",
       "stream": "stdout",
       "text": [
        " 537\n",
        "File number "
       ]
      },
      {
       "output_type": "stream",
       "stream": "stdout",
       "text": [
        " 538\n",
        "File number "
       ]
      },
      {
       "output_type": "stream",
       "stream": "stdout",
       "text": [
        " 539\n",
        "File number "
       ]
      },
      {
       "output_type": "stream",
       "stream": "stdout",
       "text": [
        " 540\n",
        "File number "
       ]
      },
      {
       "output_type": "stream",
       "stream": "stdout",
       "text": [
        " 541\n",
        "File number "
       ]
      },
      {
       "output_type": "stream",
       "stream": "stdout",
       "text": [
        " 542\n",
        "File number "
       ]
      },
      {
       "output_type": "stream",
       "stream": "stdout",
       "text": [
        " 543\n",
        "File number "
       ]
      },
      {
       "output_type": "stream",
       "stream": "stdout",
       "text": [
        " 544\n",
        "File number "
       ]
      },
      {
       "output_type": "stream",
       "stream": "stdout",
       "text": [
        " 545\n",
        "File number "
       ]
      },
      {
       "output_type": "stream",
       "stream": "stdout",
       "text": [
        " 546\n",
        "File number "
       ]
      },
      {
       "output_type": "stream",
       "stream": "stdout",
       "text": [
        " 547\n",
        "File number "
       ]
      },
      {
       "output_type": "stream",
       "stream": "stdout",
       "text": [
        " 548\n",
        "File number "
       ]
      },
      {
       "output_type": "stream",
       "stream": "stdout",
       "text": [
        " 549\n",
        "File number "
       ]
      },
      {
       "output_type": "stream",
       "stream": "stdout",
       "text": [
        " 550\n",
        "File number "
       ]
      },
      {
       "output_type": "stream",
       "stream": "stdout",
       "text": [
        " 551\n",
        "File number "
       ]
      },
      {
       "output_type": "stream",
       "stream": "stdout",
       "text": [
        " 552\n",
        "File number "
       ]
      },
      {
       "output_type": "stream",
       "stream": "stdout",
       "text": [
        " 553\n",
        "File number "
       ]
      },
      {
       "output_type": "stream",
       "stream": "stdout",
       "text": [
        " 554\n",
        "File number "
       ]
      },
      {
       "output_type": "stream",
       "stream": "stdout",
       "text": [
        " 555\n",
        "File number "
       ]
      },
      {
       "output_type": "stream",
       "stream": "stdout",
       "text": [
        " 556\n",
        "File number "
       ]
      },
      {
       "output_type": "stream",
       "stream": "stdout",
       "text": [
        " 557\n",
        "File number "
       ]
      },
      {
       "output_type": "stream",
       "stream": "stdout",
       "text": [
        " 558\n",
        "File number "
       ]
      },
      {
       "output_type": "stream",
       "stream": "stdout",
       "text": [
        " 559\n",
        "File number "
       ]
      },
      {
       "output_type": "stream",
       "stream": "stdout",
       "text": [
        " 560\n",
        "File number "
       ]
      },
      {
       "output_type": "stream",
       "stream": "stdout",
       "text": [
        " 561\n",
        "File number "
       ]
      },
      {
       "output_type": "stream",
       "stream": "stdout",
       "text": [
        " 562\n",
        "File number "
       ]
      },
      {
       "output_type": "stream",
       "stream": "stdout",
       "text": [
        " 563\n",
        "File number "
       ]
      },
      {
       "output_type": "stream",
       "stream": "stdout",
       "text": [
        " 564\n",
        "File number "
       ]
      },
      {
       "output_type": "stream",
       "stream": "stdout",
       "text": [
        " 565\n",
        "File number "
       ]
      },
      {
       "output_type": "stream",
       "stream": "stdout",
       "text": [
        " 566\n",
        "File number "
       ]
      },
      {
       "output_type": "stream",
       "stream": "stdout",
       "text": [
        " 567\n",
        "File number "
       ]
      },
      {
       "output_type": "stream",
       "stream": "stdout",
       "text": [
        " 568\n",
        "File number "
       ]
      },
      {
       "output_type": "stream",
       "stream": "stdout",
       "text": [
        " 569\n",
        "File number "
       ]
      },
      {
       "output_type": "stream",
       "stream": "stdout",
       "text": [
        " 570\n",
        "File number "
       ]
      },
      {
       "output_type": "stream",
       "stream": "stdout",
       "text": [
        " 571\n",
        "File number "
       ]
      },
      {
       "output_type": "stream",
       "stream": "stdout",
       "text": [
        " 572\n",
        "File number "
       ]
      },
      {
       "output_type": "stream",
       "stream": "stdout",
       "text": [
        " 573\n",
        "File number "
       ]
      },
      {
       "output_type": "stream",
       "stream": "stdout",
       "text": [
        " 574\n",
        "File number "
       ]
      },
      {
       "output_type": "stream",
       "stream": "stdout",
       "text": [
        " 575\n",
        "File number "
       ]
      },
      {
       "output_type": "stream",
       "stream": "stdout",
       "text": [
        " 576\n",
        "File number "
       ]
      },
      {
       "output_type": "stream",
       "stream": "stdout",
       "text": [
        " 577\n",
        "File number "
       ]
      },
      {
       "output_type": "stream",
       "stream": "stdout",
       "text": [
        " 578\n",
        "File number "
       ]
      },
      {
       "output_type": "stream",
       "stream": "stdout",
       "text": [
        " 579\n",
        "File number "
       ]
      },
      {
       "output_type": "stream",
       "stream": "stdout",
       "text": [
        " 580\n",
        "File number "
       ]
      },
      {
       "output_type": "stream",
       "stream": "stdout",
       "text": [
        " 581\n",
        "File number "
       ]
      },
      {
       "output_type": "stream",
       "stream": "stdout",
       "text": [
        " 582\n",
        "File number "
       ]
      },
      {
       "output_type": "stream",
       "stream": "stdout",
       "text": [
        " 583\n",
        "File number "
       ]
      },
      {
       "output_type": "stream",
       "stream": "stdout",
       "text": [
        " 584\n",
        "File number "
       ]
      },
      {
       "output_type": "stream",
       "stream": "stdout",
       "text": [
        " 585\n",
        "File number "
       ]
      },
      {
       "output_type": "stream",
       "stream": "stdout",
       "text": [
        " 586\n",
        "File number "
       ]
      },
      {
       "output_type": "stream",
       "stream": "stdout",
       "text": [
        " 587\n",
        "File number "
       ]
      },
      {
       "output_type": "stream",
       "stream": "stdout",
       "text": [
        " 588\n",
        "File number "
       ]
      },
      {
       "output_type": "stream",
       "stream": "stdout",
       "text": [
        " 589\n",
        "File number "
       ]
      },
      {
       "output_type": "stream",
       "stream": "stdout",
       "text": [
        " 590\n",
        "File number "
       ]
      },
      {
       "output_type": "stream",
       "stream": "stdout",
       "text": [
        " 591\n",
        "File number "
       ]
      },
      {
       "output_type": "stream",
       "stream": "stdout",
       "text": [
        " 592\n",
        "File number "
       ]
      },
      {
       "output_type": "stream",
       "stream": "stdout",
       "text": [
        " 593\n",
        "File number "
       ]
      },
      {
       "output_type": "stream",
       "stream": "stdout",
       "text": [
        " 594\n",
        "File number "
       ]
      },
      {
       "output_type": "stream",
       "stream": "stdout",
       "text": [
        " 595\n",
        "File number "
       ]
      },
      {
       "output_type": "stream",
       "stream": "stdout",
       "text": [
        " 596\n",
        "File number "
       ]
      },
      {
       "output_type": "stream",
       "stream": "stdout",
       "text": [
        " 597\n",
        "File number "
       ]
      },
      {
       "output_type": "stream",
       "stream": "stdout",
       "text": [
        " 598\n",
        "File number "
       ]
      },
      {
       "output_type": "stream",
       "stream": "stdout",
       "text": [
        " 599\n",
        "File number "
       ]
      },
      {
       "output_type": "stream",
       "stream": "stdout",
       "text": [
        " 600\n",
        "File number "
       ]
      },
      {
       "output_type": "stream",
       "stream": "stdout",
       "text": [
        " 601\n",
        "File number "
       ]
      },
      {
       "output_type": "stream",
       "stream": "stdout",
       "text": [
        " 602\n",
        "File number "
       ]
      },
      {
       "output_type": "stream",
       "stream": "stdout",
       "text": [
        " 603\n",
        "File number "
       ]
      },
      {
       "output_type": "stream",
       "stream": "stdout",
       "text": [
        " 604\n",
        "File number "
       ]
      },
      {
       "output_type": "stream",
       "stream": "stdout",
       "text": [
        " 605\n",
        "File number "
       ]
      },
      {
       "output_type": "stream",
       "stream": "stdout",
       "text": [
        " 606\n",
        "File number "
       ]
      },
      {
       "output_type": "stream",
       "stream": "stdout",
       "text": [
        " 607\n",
        "File number "
       ]
      },
      {
       "output_type": "stream",
       "stream": "stdout",
       "text": [
        " 608\n",
        "File number "
       ]
      },
      {
       "output_type": "stream",
       "stream": "stdout",
       "text": [
        " 609\n",
        "File number "
       ]
      },
      {
       "output_type": "stream",
       "stream": "stdout",
       "text": [
        " 610\n",
        "File number "
       ]
      },
      {
       "output_type": "stream",
       "stream": "stdout",
       "text": [
        " 611\n",
        "File number "
       ]
      },
      {
       "output_type": "stream",
       "stream": "stdout",
       "text": [
        " 612\n",
        "File number "
       ]
      },
      {
       "output_type": "stream",
       "stream": "stdout",
       "text": [
        " 613\n",
        "File number "
       ]
      },
      {
       "output_type": "stream",
       "stream": "stdout",
       "text": [
        " 614\n",
        "File number "
       ]
      },
      {
       "output_type": "stream",
       "stream": "stdout",
       "text": [
        " 615\n",
        "File number "
       ]
      },
      {
       "output_type": "stream",
       "stream": "stdout",
       "text": [
        " 616\n",
        "File number "
       ]
      },
      {
       "output_type": "stream",
       "stream": "stdout",
       "text": [
        " 617\n",
        "File number "
       ]
      },
      {
       "output_type": "stream",
       "stream": "stdout",
       "text": [
        " 618\n",
        "File number "
       ]
      },
      {
       "output_type": "stream",
       "stream": "stdout",
       "text": [
        " 619\n",
        "File number "
       ]
      },
      {
       "output_type": "stream",
       "stream": "stdout",
       "text": [
        " 620\n",
        "File number "
       ]
      },
      {
       "output_type": "stream",
       "stream": "stdout",
       "text": [
        " 621\n",
        "File number "
       ]
      },
      {
       "output_type": "stream",
       "stream": "stdout",
       "text": [
        " 622\n",
        "File number "
       ]
      },
      {
       "output_type": "stream",
       "stream": "stdout",
       "text": [
        " 623\n",
        "File number "
       ]
      },
      {
       "output_type": "stream",
       "stream": "stdout",
       "text": [
        " 624\n",
        "File number "
       ]
      },
      {
       "output_type": "stream",
       "stream": "stdout",
       "text": [
        " 625\n",
        "File number "
       ]
      },
      {
       "output_type": "stream",
       "stream": "stdout",
       "text": [
        " 626\n",
        "File number "
       ]
      },
      {
       "output_type": "stream",
       "stream": "stdout",
       "text": [
        " 627\n",
        "File number "
       ]
      },
      {
       "output_type": "stream",
       "stream": "stdout",
       "text": [
        " 628\n",
        "File number "
       ]
      },
      {
       "output_type": "stream",
       "stream": "stdout",
       "text": [
        " 629\n",
        "File number "
       ]
      },
      {
       "output_type": "stream",
       "stream": "stdout",
       "text": [
        " 630\n",
        "File number "
       ]
      },
      {
       "output_type": "stream",
       "stream": "stdout",
       "text": [
        " 631\n",
        "File number "
       ]
      },
      {
       "output_type": "stream",
       "stream": "stdout",
       "text": [
        " 632\n",
        "File number "
       ]
      },
      {
       "output_type": "stream",
       "stream": "stdout",
       "text": [
        " 633\n",
        "File number "
       ]
      },
      {
       "output_type": "stream",
       "stream": "stdout",
       "text": [
        " 634\n",
        "File number "
       ]
      },
      {
       "output_type": "stream",
       "stream": "stdout",
       "text": [
        " 635\n",
        "File number "
       ]
      },
      {
       "output_type": "stream",
       "stream": "stdout",
       "text": [
        " 636\n",
        "File number "
       ]
      },
      {
       "output_type": "stream",
       "stream": "stdout",
       "text": [
        " 637\n",
        "File number "
       ]
      },
      {
       "output_type": "stream",
       "stream": "stdout",
       "text": [
        " 638\n",
        "File number "
       ]
      },
      {
       "output_type": "stream",
       "stream": "stdout",
       "text": [
        " 639\n",
        "File number "
       ]
      },
      {
       "output_type": "stream",
       "stream": "stdout",
       "text": [
        " 640\n",
        "File number "
       ]
      },
      {
       "output_type": "stream",
       "stream": "stdout",
       "text": [
        " 641\n",
        "File number "
       ]
      },
      {
       "output_type": "stream",
       "stream": "stdout",
       "text": [
        " 642\n",
        "File number "
       ]
      },
      {
       "output_type": "stream",
       "stream": "stdout",
       "text": [
        " 643\n",
        "File number "
       ]
      },
      {
       "output_type": "stream",
       "stream": "stdout",
       "text": [
        " 644\n",
        "File number "
       ]
      },
      {
       "output_type": "stream",
       "stream": "stdout",
       "text": [
        " 645\n",
        "File number "
       ]
      },
      {
       "output_type": "stream",
       "stream": "stdout",
       "text": [
        " 646\n",
        "File number "
       ]
      },
      {
       "output_type": "stream",
       "stream": "stdout",
       "text": [
        " 647\n",
        "File number "
       ]
      },
      {
       "output_type": "stream",
       "stream": "stdout",
       "text": [
        " 648\n",
        "File number "
       ]
      },
      {
       "output_type": "stream",
       "stream": "stdout",
       "text": [
        " 649\n",
        "File number "
       ]
      },
      {
       "output_type": "stream",
       "stream": "stdout",
       "text": [
        " 650\n",
        "File number "
       ]
      },
      {
       "output_type": "stream",
       "stream": "stdout",
       "text": [
        " 651\n",
        "File number "
       ]
      },
      {
       "output_type": "stream",
       "stream": "stdout",
       "text": [
        " 652\n",
        "File number "
       ]
      },
      {
       "output_type": "stream",
       "stream": "stdout",
       "text": [
        " 653\n",
        "File number "
       ]
      },
      {
       "output_type": "stream",
       "stream": "stdout",
       "text": [
        " 654\n",
        "File number "
       ]
      },
      {
       "output_type": "stream",
       "stream": "stdout",
       "text": [
        " 655\n",
        "File number "
       ]
      },
      {
       "output_type": "stream",
       "stream": "stdout",
       "text": [
        " 656\n",
        "File number "
       ]
      },
      {
       "output_type": "stream",
       "stream": "stdout",
       "text": [
        " 657\n",
        "File number "
       ]
      },
      {
       "output_type": "stream",
       "stream": "stdout",
       "text": [
        " 658\n",
        "File number "
       ]
      },
      {
       "output_type": "stream",
       "stream": "stdout",
       "text": [
        " 659\n",
        "File number "
       ]
      },
      {
       "output_type": "stream",
       "stream": "stdout",
       "text": [
        " 660\n",
        "File number "
       ]
      },
      {
       "output_type": "stream",
       "stream": "stdout",
       "text": [
        " 661\n",
        "File number "
       ]
      },
      {
       "output_type": "stream",
       "stream": "stdout",
       "text": [
        " 662\n",
        "File number "
       ]
      },
      {
       "output_type": "stream",
       "stream": "stdout",
       "text": [
        " 663\n",
        "File number "
       ]
      },
      {
       "output_type": "stream",
       "stream": "stdout",
       "text": [
        " 664\n",
        "File number "
       ]
      },
      {
       "output_type": "stream",
       "stream": "stdout",
       "text": [
        " 665\n",
        "File number "
       ]
      },
      {
       "output_type": "stream",
       "stream": "stdout",
       "text": [
        " 666\n",
        "File number "
       ]
      },
      {
       "output_type": "stream",
       "stream": "stdout",
       "text": [
        " 667\n",
        "File number "
       ]
      },
      {
       "output_type": "stream",
       "stream": "stdout",
       "text": [
        " 668\n",
        "File number "
       ]
      },
      {
       "output_type": "stream",
       "stream": "stdout",
       "text": [
        " 669\n",
        "File number "
       ]
      },
      {
       "output_type": "stream",
       "stream": "stdout",
       "text": [
        " 670\n",
        "File number "
       ]
      },
      {
       "output_type": "stream",
       "stream": "stdout",
       "text": [
        " 671\n",
        "File number "
       ]
      },
      {
       "output_type": "stream",
       "stream": "stdout",
       "text": [
        " 672\n",
        "File number "
       ]
      },
      {
       "output_type": "stream",
       "stream": "stdout",
       "text": [
        " 673\n",
        "File number "
       ]
      },
      {
       "output_type": "stream",
       "stream": "stdout",
       "text": [
        " 674\n",
        "File number "
       ]
      },
      {
       "output_type": "stream",
       "stream": "stdout",
       "text": [
        " 675\n",
        "File number "
       ]
      },
      {
       "output_type": "stream",
       "stream": "stdout",
       "text": [
        " 676\n",
        "File number "
       ]
      },
      {
       "output_type": "stream",
       "stream": "stdout",
       "text": [
        " 677\n",
        "File number "
       ]
      },
      {
       "output_type": "stream",
       "stream": "stdout",
       "text": [
        " 678\n",
        "File number "
       ]
      },
      {
       "output_type": "stream",
       "stream": "stdout",
       "text": [
        " 679\n",
        "File number "
       ]
      },
      {
       "output_type": "stream",
       "stream": "stdout",
       "text": [
        " 680\n",
        "File number "
       ]
      },
      {
       "output_type": "stream",
       "stream": "stdout",
       "text": [
        " 681\n",
        "File number "
       ]
      },
      {
       "output_type": "stream",
       "stream": "stdout",
       "text": [
        " 682\n",
        "File number "
       ]
      },
      {
       "output_type": "stream",
       "stream": "stdout",
       "text": [
        " 683\n",
        "File number "
       ]
      },
      {
       "output_type": "stream",
       "stream": "stdout",
       "text": [
        " 684\n",
        "File number "
       ]
      },
      {
       "output_type": "stream",
       "stream": "stdout",
       "text": [
        " 685\n",
        "File number "
       ]
      },
      {
       "output_type": "stream",
       "stream": "stdout",
       "text": [
        " 686\n",
        "File number "
       ]
      },
      {
       "output_type": "stream",
       "stream": "stdout",
       "text": [
        " 687\n",
        "File number "
       ]
      },
      {
       "output_type": "stream",
       "stream": "stdout",
       "text": [
        " 688\n",
        "File number "
       ]
      },
      {
       "output_type": "stream",
       "stream": "stdout",
       "text": [
        " 689\n",
        "File number "
       ]
      },
      {
       "output_type": "stream",
       "stream": "stdout",
       "text": [
        " 690\n",
        "File number "
       ]
      },
      {
       "output_type": "stream",
       "stream": "stdout",
       "text": [
        " 691\n",
        "File number "
       ]
      },
      {
       "output_type": "stream",
       "stream": "stdout",
       "text": [
        " 692\n",
        "File number "
       ]
      },
      {
       "output_type": "stream",
       "stream": "stdout",
       "text": [
        " 693\n",
        "File number "
       ]
      },
      {
       "output_type": "stream",
       "stream": "stdout",
       "text": [
        " 694\n",
        "File number "
       ]
      },
      {
       "output_type": "stream",
       "stream": "stdout",
       "text": [
        " 695\n",
        "File number "
       ]
      },
      {
       "output_type": "stream",
       "stream": "stdout",
       "text": [
        " 696\n",
        "File number "
       ]
      },
      {
       "output_type": "stream",
       "stream": "stdout",
       "text": [
        " 697\n",
        "File number "
       ]
      },
      {
       "output_type": "stream",
       "stream": "stdout",
       "text": [
        " 698\n",
        "File number "
       ]
      },
      {
       "output_type": "stream",
       "stream": "stdout",
       "text": [
        " 699\n",
        "File number "
       ]
      },
      {
       "output_type": "stream",
       "stream": "stdout",
       "text": [
        " 700\n",
        "File number "
       ]
      },
      {
       "output_type": "stream",
       "stream": "stdout",
       "text": [
        " 701\n",
        "File number "
       ]
      },
      {
       "output_type": "stream",
       "stream": "stdout",
       "text": [
        " 702\n",
        "File number "
       ]
      },
      {
       "output_type": "stream",
       "stream": "stdout",
       "text": [
        " 703\n",
        "File number "
       ]
      },
      {
       "output_type": "stream",
       "stream": "stdout",
       "text": [
        " 704\n",
        "File number "
       ]
      },
      {
       "output_type": "stream",
       "stream": "stdout",
       "text": [
        " 705\n",
        "File number "
       ]
      },
      {
       "output_type": "stream",
       "stream": "stdout",
       "text": [
        " 706\n",
        "File number "
       ]
      },
      {
       "output_type": "stream",
       "stream": "stdout",
       "text": [
        " 707\n",
        "File number "
       ]
      },
      {
       "output_type": "stream",
       "stream": "stdout",
       "text": [
        " 708\n",
        "File number "
       ]
      },
      {
       "output_type": "stream",
       "stream": "stdout",
       "text": [
        " 709\n",
        "File number "
       ]
      },
      {
       "output_type": "stream",
       "stream": "stdout",
       "text": [
        " 710\n",
        "File number "
       ]
      },
      {
       "output_type": "stream",
       "stream": "stdout",
       "text": [
        " 711\n",
        "File number "
       ]
      },
      {
       "output_type": "stream",
       "stream": "stdout",
       "text": [
        " 712\n",
        "File number "
       ]
      },
      {
       "output_type": "stream",
       "stream": "stdout",
       "text": [
        " 713\n",
        "File number "
       ]
      },
      {
       "output_type": "stream",
       "stream": "stdout",
       "text": [
        " 714\n",
        "File number "
       ]
      },
      {
       "output_type": "stream",
       "stream": "stdout",
       "text": [
        " 715\n",
        "File number "
       ]
      },
      {
       "output_type": "stream",
       "stream": "stdout",
       "text": [
        " 716\n",
        "File number "
       ]
      },
      {
       "output_type": "stream",
       "stream": "stdout",
       "text": [
        " 717\n",
        "File number "
       ]
      },
      {
       "output_type": "stream",
       "stream": "stdout",
       "text": [
        " 718\n",
        "File number "
       ]
      },
      {
       "output_type": "stream",
       "stream": "stdout",
       "text": [
        " 719\n",
        "File number "
       ]
      },
      {
       "output_type": "stream",
       "stream": "stdout",
       "text": [
        " 720\n",
        "File number "
       ]
      },
      {
       "output_type": "stream",
       "stream": "stdout",
       "text": [
        " 721\n",
        "File number "
       ]
      },
      {
       "output_type": "stream",
       "stream": "stdout",
       "text": [
        " 722\n",
        "File number "
       ]
      },
      {
       "output_type": "stream",
       "stream": "stdout",
       "text": [
        " 723\n",
        "File number "
       ]
      },
      {
       "output_type": "stream",
       "stream": "stdout",
       "text": [
        " 724\n",
        "File number "
       ]
      },
      {
       "output_type": "stream",
       "stream": "stdout",
       "text": [
        " 725\n",
        "File number "
       ]
      },
      {
       "output_type": "stream",
       "stream": "stdout",
       "text": [
        " 726\n",
        "File number "
       ]
      },
      {
       "output_type": "stream",
       "stream": "stdout",
       "text": [
        " 727\n",
        "File number "
       ]
      },
      {
       "output_type": "stream",
       "stream": "stdout",
       "text": [
        " 728\n",
        "File number "
       ]
      },
      {
       "output_type": "stream",
       "stream": "stdout",
       "text": [
        " 729\n",
        "File number "
       ]
      },
      {
       "output_type": "stream",
       "stream": "stdout",
       "text": [
        " 730\n",
        "File number "
       ]
      },
      {
       "output_type": "stream",
       "stream": "stdout",
       "text": [
        " 731\n",
        "File number "
       ]
      },
      {
       "output_type": "stream",
       "stream": "stdout",
       "text": [
        " 732\n",
        "File number "
       ]
      },
      {
       "output_type": "stream",
       "stream": "stdout",
       "text": [
        " 733\n",
        "File number "
       ]
      },
      {
       "output_type": "stream",
       "stream": "stdout",
       "text": [
        " 734\n",
        "File number "
       ]
      },
      {
       "output_type": "stream",
       "stream": "stdout",
       "text": [
        " 735\n",
        "File number "
       ]
      },
      {
       "output_type": "stream",
       "stream": "stdout",
       "text": [
        " 736\n",
        "File number "
       ]
      },
      {
       "output_type": "stream",
       "stream": "stdout",
       "text": [
        " 737\n",
        "File number "
       ]
      },
      {
       "output_type": "stream",
       "stream": "stdout",
       "text": [
        " 738\n",
        "File number "
       ]
      },
      {
       "output_type": "stream",
       "stream": "stdout",
       "text": [
        " 739\n",
        "File number "
       ]
      },
      {
       "output_type": "stream",
       "stream": "stdout",
       "text": [
        " 740\n",
        "File number "
       ]
      },
      {
       "output_type": "stream",
       "stream": "stdout",
       "text": [
        " 741\n",
        "File number "
       ]
      },
      {
       "output_type": "stream",
       "stream": "stdout",
       "text": [
        " 742\n",
        "File number "
       ]
      },
      {
       "output_type": "stream",
       "stream": "stdout",
       "text": [
        " 743\n",
        "File number "
       ]
      },
      {
       "output_type": "stream",
       "stream": "stdout",
       "text": [
        " 744\n",
        "File number "
       ]
      },
      {
       "output_type": "stream",
       "stream": "stdout",
       "text": [
        " 745\n",
        "File number "
       ]
      },
      {
       "output_type": "stream",
       "stream": "stdout",
       "text": [
        " 746\n",
        "File number "
       ]
      },
      {
       "output_type": "stream",
       "stream": "stdout",
       "text": [
        " 747\n",
        "File number "
       ]
      },
      {
       "output_type": "stream",
       "stream": "stdout",
       "text": [
        " 748\n",
        "File number "
       ]
      },
      {
       "output_type": "stream",
       "stream": "stdout",
       "text": [
        " 749\n",
        "File number "
       ]
      },
      {
       "output_type": "stream",
       "stream": "stdout",
       "text": [
        " 750\n",
        "File number "
       ]
      },
      {
       "output_type": "stream",
       "stream": "stdout",
       "text": [
        " 751\n",
        "File number "
       ]
      },
      {
       "output_type": "stream",
       "stream": "stdout",
       "text": [
        " 752\n",
        "File number "
       ]
      },
      {
       "output_type": "stream",
       "stream": "stdout",
       "text": [
        " 753\n",
        "File number "
       ]
      },
      {
       "output_type": "stream",
       "stream": "stdout",
       "text": [
        " 754\n",
        "File number "
       ]
      },
      {
       "output_type": "stream",
       "stream": "stdout",
       "text": [
        " 755\n",
        "File number "
       ]
      },
      {
       "output_type": "stream",
       "stream": "stdout",
       "text": [
        " 756\n",
        "File number "
       ]
      },
      {
       "output_type": "stream",
       "stream": "stdout",
       "text": [
        " 757\n",
        "File number "
       ]
      },
      {
       "output_type": "stream",
       "stream": "stdout",
       "text": [
        " 758\n",
        "File number "
       ]
      },
      {
       "output_type": "stream",
       "stream": "stdout",
       "text": [
        " 759\n",
        "File number "
       ]
      },
      {
       "output_type": "stream",
       "stream": "stdout",
       "text": [
        " 760\n",
        "File number "
       ]
      },
      {
       "output_type": "stream",
       "stream": "stdout",
       "text": [
        " 761\n",
        "File number "
       ]
      },
      {
       "output_type": "stream",
       "stream": "stdout",
       "text": [
        " 762\n",
        "File number "
       ]
      },
      {
       "output_type": "stream",
       "stream": "stdout",
       "text": [
        " 763\n",
        "File number "
       ]
      },
      {
       "output_type": "stream",
       "stream": "stdout",
       "text": [
        " 764\n",
        "File number "
       ]
      },
      {
       "output_type": "stream",
       "stream": "stdout",
       "text": [
        " 765\n",
        "File number "
       ]
      },
      {
       "output_type": "stream",
       "stream": "stdout",
       "text": [
        " 766\n",
        "File number "
       ]
      },
      {
       "output_type": "stream",
       "stream": "stdout",
       "text": [
        " 767\n",
        "File number "
       ]
      },
      {
       "output_type": "stream",
       "stream": "stdout",
       "text": [
        " 768\n",
        "File number "
       ]
      },
      {
       "output_type": "stream",
       "stream": "stdout",
       "text": [
        " 769\n",
        "File number "
       ]
      },
      {
       "output_type": "stream",
       "stream": "stdout",
       "text": [
        " 770\n",
        "File number "
       ]
      },
      {
       "output_type": "stream",
       "stream": "stdout",
       "text": [
        " 771\n",
        "File number "
       ]
      },
      {
       "output_type": "stream",
       "stream": "stdout",
       "text": [
        " 772\n",
        "File number "
       ]
      },
      {
       "output_type": "stream",
       "stream": "stdout",
       "text": [
        " 773\n",
        "File number "
       ]
      },
      {
       "output_type": "stream",
       "stream": "stdout",
       "text": [
        " 774\n",
        "File number "
       ]
      },
      {
       "output_type": "stream",
       "stream": "stdout",
       "text": [
        " 775\n",
        "File number "
       ]
      },
      {
       "output_type": "stream",
       "stream": "stdout",
       "text": [
        " 776\n",
        "File number "
       ]
      },
      {
       "output_type": "stream",
       "stream": "stdout",
       "text": [
        " 777\n",
        "File number "
       ]
      },
      {
       "output_type": "stream",
       "stream": "stdout",
       "text": [
        " 778\n",
        "File number "
       ]
      },
      {
       "output_type": "stream",
       "stream": "stdout",
       "text": [
        " 779\n",
        "File number "
       ]
      },
      {
       "output_type": "stream",
       "stream": "stdout",
       "text": [
        " 780\n",
        "File number "
       ]
      },
      {
       "output_type": "stream",
       "stream": "stdout",
       "text": [
        " 781\n",
        "File number "
       ]
      },
      {
       "output_type": "stream",
       "stream": "stdout",
       "text": [
        " 782\n",
        "File number "
       ]
      },
      {
       "output_type": "stream",
       "stream": "stdout",
       "text": [
        " 783\n",
        "File number "
       ]
      },
      {
       "output_type": "stream",
       "stream": "stdout",
       "text": [
        " 784\n",
        "File number "
       ]
      },
      {
       "output_type": "stream",
       "stream": "stdout",
       "text": [
        " 785\n",
        "File number "
       ]
      },
      {
       "output_type": "stream",
       "stream": "stdout",
       "text": [
        " 786\n",
        "File number "
       ]
      },
      {
       "output_type": "stream",
       "stream": "stdout",
       "text": [
        " 787\n",
        "File number "
       ]
      },
      {
       "output_type": "stream",
       "stream": "stdout",
       "text": [
        " 788\n",
        "File number "
       ]
      },
      {
       "output_type": "stream",
       "stream": "stdout",
       "text": [
        " 789\n",
        "File number "
       ]
      },
      {
       "output_type": "stream",
       "stream": "stdout",
       "text": [
        " 790\n",
        "File number "
       ]
      },
      {
       "output_type": "stream",
       "stream": "stdout",
       "text": [
        " 791\n",
        "File number "
       ]
      },
      {
       "output_type": "stream",
       "stream": "stdout",
       "text": [
        " 792\n",
        "File number "
       ]
      },
      {
       "output_type": "stream",
       "stream": "stdout",
       "text": [
        " 793\n",
        "File number "
       ]
      },
      {
       "output_type": "stream",
       "stream": "stdout",
       "text": [
        " 794\n",
        "File number "
       ]
      },
      {
       "output_type": "stream",
       "stream": "stdout",
       "text": [
        " 795\n",
        "File number "
       ]
      },
      {
       "output_type": "stream",
       "stream": "stdout",
       "text": [
        " 796\n",
        "File number "
       ]
      },
      {
       "output_type": "stream",
       "stream": "stdout",
       "text": [
        " 797\n",
        "File number "
       ]
      },
      {
       "output_type": "stream",
       "stream": "stdout",
       "text": [
        " 798\n",
        "File number "
       ]
      },
      {
       "output_type": "stream",
       "stream": "stdout",
       "text": [
        " 799\n",
        "File number "
       ]
      },
      {
       "output_type": "stream",
       "stream": "stdout",
       "text": [
        " 800\n"
       ]
      }
     ],
     "prompt_number": 89
    },
    {
     "cell_type": "code",
     "collapsed": false,
     "input": [],
     "language": "python",
     "metadata": {},
     "outputs": []
    }
   ],
   "metadata": {}
  }
 ]
}