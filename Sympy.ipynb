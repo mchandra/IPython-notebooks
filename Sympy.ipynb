{
 "metadata": {
  "name": "",
  "signature": "sha256:82c943549e533756b06ec8e931bacd17963cc13385b25e100de1f1eb7e9b7a7c"
 },
 "nbformat": 3,
 "nbformat_minor": 0,
 "worksheets": [
  {
   "cells": [
    {
     "cell_type": "code",
     "collapsed": false,
     "input": [
      "rho0 = var('rho0')\n",
      "u0 = var('u0')\n",
      "u10 = var('u10')\n",
      "delta_rho = var('delta_rho')\n",
      "delta_u = var('delta_u')\n",
      "delta_u1 = var('delta_u1')\n",
      "\n",
      "Gamma = var('Gamma')"
     ],
     "language": "python",
     "metadata": {},
     "outputs": [],
     "prompt_number": 276
    },
    {
     "cell_type": "code",
     "collapsed": false,
     "input": [
      "next_order = O(delta_rho**2) + O(delta_u**2) + O(delta_u1**2) + O(delta_rho*delta_u) + O(delta_rho*delta_u1) + O(delta_u*delta_u1)\n",
      "\n",
      "rho = rho0 + delta_rho + next_order\n",
      "u = u0 + delta_u + next_order\n",
      "u1 = u10 + delta_u1 + next_order\n",
      "\n",
      "#rho, u, u1 = symbols('rho u u1')"
     ],
     "language": "python",
     "metadata": {},
     "outputs": [],
     "prompt_number": 279
    },
    {
     "cell_type": "code",
     "collapsed": false,
     "input": [
      "gamma = sqrt(1 + u1*u1)\n",
      "    \n",
      "ucon = [gamma, u1, 0, 0]\n",
      "ucov = [-gamma, u1, 0, 0]\n",
      "\n",
      "P = (Gamma - 1)*u\n",
      "\n",
      "def delta(mu, nu):\n",
      "    if (mu==nu):\n",
      "        return 1\n",
      "    else:\n",
      "        return 0\n",
      "\n",
      "def TUpDown(mu, nu):\n",
      "    \n",
      "    return (rho + u + P)*ucon[mu]*ucov[nu] + P*delta(mu, nu)"
     ],
     "language": "python",
     "metadata": {},
     "outputs": [],
     "prompt_number": 272
    },
    {
     "cell_type": "code",
     "collapsed": false,
     "input": [
      "TUpDown(0, 0).expand().removeO()"
     ],
     "language": "python",
     "metadata": {},
     "outputs": [
      {
       "latex": [
        "$$- \\Gamma \\delta_{u} \\delta_{u1}^{2} - 2 \\Gamma \\delta_{u} \\delta_{u1} u_{10} - \\Gamma \\delta_{u} u_{10}^{2} - \\Gamma \\delta_{u1}^{2} u_{0} - 2 \\Gamma \\delta_{u1} u_{0} u_{10} - \\Gamma u_{0} u_{10}^{2} - \\delta_{\\rho} u_{10}^{2} - \\delta_{\\rho} - \\delta_{u} - \\delta_{u1}^{2} \\rho_{0} - 2 \\delta_{u1} \\rho_{0} u_{10} - \\rho_{0} u_{10}^{2} - \\rho_{0} - u_{0}$$"
       ],
       "metadata": {},
       "output_type": "pyout",
       "png": "[encoded data removed]",
       "prompt_number": 273,
       "text": [
        "\n",
        "          2                            2        2                             \n",
        "- \u0393\u22c5\u03b4\u1d64\u22c5\u03b4\u1d64\u2081  - 2\u22c5\u0393\u22c5\u03b4\u1d64\u22c5\u03b4\u1d64\u2081\u22c5u\u2081\u2080 - \u0393\u22c5\u03b4\u1d64\u22c5u\u2081\u2080  - \u0393\u22c5\u03b4\u1d64\u2081 \u22c5u\u2080 - 2\u22c5\u0393\u22c5\u03b4\u1d64\u2081\u22c5u\u2080\u22c5u\u2081\u2080 - \u0393\u22c5u\u2080\u22c5u\n",
        "\n",
        "  2         2                2                           2          \n",
        "\u2081\u2080  - \u03b4\u1d68\u22c5u\u2081\u2080  - \u03b4\u1d68 - \u03b4\u1d64 - \u03b4\u1d64\u2081 \u22c5\u03c1\u2080 - 2\u22c5\u03b4\u1d64\u2081\u22c5\u03c1\u2080\u22c5u\u2081\u2080 - \u03c1\u2080\u22c5u\u2081\u2080  - \u03c1\u2080 - u\u2080"
       ]
      }
     ],
     "prompt_number": 273
    },
    {
     "cell_type": "code",
     "collapsed": false,
     "input": [
      "TUpDown(0, 0).expand().removeO"
     ],
     "language": "python",
     "metadata": {},
     "outputs": []
    },
    {
     "cell_type": "code",
     "collapsed": false,
     "input": [
      "TUpDown(0, 0).series(delta_rho, 0, 2).series(delta_u, 0, 2).series(delta_u1, 0, 2).as_leading_term(rho0, u0, u10)"
     ],
     "language": "python",
     "metadata": {},
     "outputs": [
      {
       "latex": [
        "$$- \\delta_{\\rho} - \\delta_{u} - \\rho_{0} + u_{10}^{2} \\left(- \\rho_{0} - \\delta_{\\rho} - \\Gamma \\delta_{u} + \\mathcal{O}\\left(\\delta_{u1}^{2}\\right)\\right)$$"
       ],
       "metadata": {},
       "output_type": "pyout",
       "png": "[encoded data removed]",
       "prompt_number": 207,
       "text": [
        "\n",
        "                   2 \u239b                   \u239b   2\u239e\u239e\n",
        "-\u03b4\u1d68 - \u03b4\u1d64 - \u03c1\u2080 + u\u2081\u2080 \u22c5\u239d-\u03c1\u2080 - \u03b4\u1d68 - \u0393\u22c5\u03b4\u1d64 + O\u239d\u03b4\u1d64\u2081 \u23a0\u23a0"
       ]
      }
     ],
     "prompt_number": 207
    },
    {
     "cell_type": "code",
     "collapsed": false,
     "input": [
      "TUpDown(0, 0).series(delta_rho, 0, 2).removeO()"
     ],
     "language": "python",
     "metadata": {},
     "outputs": [
      {
       "latex": [
        "$$- \\Gamma \\delta_{u} \\delta_{u1}^{2} - 2 \\Gamma \\delta_{u} \\delta_{u1} u_{10} - \\Gamma \\delta_{u} u_{10}^{2} - \\Gamma \\delta_{u} - \\Gamma \\delta_{u1}^{2} u_{0} - 2 \\Gamma \\delta_{u1} u_{0} u_{10} - \\Gamma u_{0} u_{10}^{2} - \\Gamma u_{0} + \\delta_{\\rho} \\left(- \\delta_{u1}^{2} - 2 \\delta_{u1} u_{10} - u_{10}^{2} -1\\right) - \\delta_{u1}^{2} \\rho_{0} - 2 \\delta_{u1} \\rho_{0} u_{10} - \\rho_{0} u_{10}^{2} - \\rho_{0} + \\left(\\Gamma -1\\right) \\left(\\delta_{u} + u_{0}\\right)$$"
       ],
       "metadata": {},
       "output_type": "pyout",
       "png": "[encoded data removed]",
       "prompt_number": 80,
       "text": [
        "\n",
        "          2                            2               2                      \n",
        "- \u0393\u22c5\u03b4\u1d64\u22c5\u03b4\u1d64\u2081  - 2\u22c5\u0393\u22c5\u03b4\u1d64\u22c5\u03b4\u1d64\u2081\u22c5u\u2081\u2080 - \u0393\u22c5\u03b4\u1d64\u22c5u\u2081\u2080  - \u0393\u22c5\u03b4\u1d64 - \u0393\u22c5\u03b4\u1d64\u2081 \u22c5u\u2080 - 2\u22c5\u0393\u22c5\u03b4\u1d64\u2081\u22c5u\u2080\u22c5u\u2081\u2080 -\n",
        "\n",
        "         2             \u239b     2                  2    \u239e      2                 \n",
        " \u0393\u22c5u\u2080\u22c5u\u2081\u2080  - \u0393\u22c5u\u2080 + \u03b4\u1d68\u22c5\u239d- \u03b4\u1d64\u2081  - 2\u22c5\u03b4\u1d64\u2081\u22c5u\u2081\u2080 - u\u2081\u2080  - 1\u23a0 - \u03b4\u1d64\u2081 \u22c5\u03c1\u2080 - 2\u22c5\u03b4\u1d64\u2081\u22c5\u03c1\u2080\u22c5u\u2081\n",
        "\n",
        "          2                         \n",
        "\u2080 - \u03c1\u2080\u22c5u\u2081\u2080  - \u03c1\u2080 + (\u0393 - 1)\u22c5(\u03b4\u1d64 + u\u2080)"
       ]
      }
     ],
     "prompt_number": 80
    },
    {
     "cell_type": "code",
     "collapsed": false,
     "input": [
      "(TUpDown(0, 0).expand() -  TUpDown(0, 0).as_leading_term(rho0, u0, u10)).simplify()"
     ],
     "language": "python",
     "metadata": {},
     "outputs": [
      {
       "latex": [
        "$$- 2 \\Gamma \\delta_{u} \\delta_{u1} u_{10} - \\Gamma \\delta_{u} u_{10}^{2} - \\Gamma \\delta_{u1}^{2} u_{0} - 2 \\Gamma \\delta_{u1} u_{0} u_{10} - \\Gamma u_{0} u_{10}^{2} - 2 \\delta_{\\rho} \\delta_{u1} u_{10} - \\delta_{\\rho} u_{10}^{2} - \\delta_{u1}^{2} \\rho_{0} - 2 \\delta_{u1} \\rho_{0} u_{10} - \\rho_{0} u_{10}^{2} - \\rho_{0} - u_{0}$$"
       ],
       "metadata": {},
       "output_type": "pyout",
       "png": "[encoded data removed]",
       "prompt_number": 172,
       "text": [
        "\n",
        "                          2        2                               2          \n",
        "-2\u22c5\u0393\u22c5\u03b4\u1d64\u22c5\u03b4\u1d64\u2081\u22c5u\u2081\u2080 - \u0393\u22c5\u03b4\u1d64\u22c5u\u2081\u2080  - \u0393\u22c5\u03b4\u1d64\u2081 \u22c5u\u2080 - 2\u22c5\u0393\u22c5\u03b4\u1d64\u2081\u22c5u\u2080\u22c5u\u2081\u2080 - \u0393\u22c5u\u2080\u22c5u\u2081\u2080  - 2\u22c5\u03b4\u1d68\u22c5\u03b4\u1d64\n",
        "\n",
        "              2      2                           2          \n",
        "\u2081\u22c5u\u2081\u2080 - \u03b4\u1d68\u22c5u\u2081\u2080  - \u03b4\u1d64\u2081 \u22c5\u03c1\u2080 - 2\u22c5\u03b4\u1d64\u2081\u22c5\u03c1\u2080\u22c5u\u2081\u2080 - \u03c1\u2080\u22c5u\u2081\u2080  - \u03c1\u2080 - u\u2080"
       ]
      }
     ],
     "prompt_number": 172
    },
    {
     "cell_type": "code",
     "collapsed": false,
     "input": [
      "next_order"
     ],
     "language": "python",
     "metadata": {},
     "outputs": [
      {
       "latex": [
        "$$\\mathcal{O}\\left(\\delta_{\\rho} \\delta_{u1}\\right)$$"
       ],
       "metadata": {},
       "output_type": "pyout",
       "png": "[encoded data removed]",
       "prompt_number": 280,
       "text": [
        "O(\u03b4\u1d68\u22c5\u03b4\u1d64\u2081)"
       ]
      }
     ],
     "prompt_number": 280
    }
   ],
   "metadata": {}
  }
 ]
}