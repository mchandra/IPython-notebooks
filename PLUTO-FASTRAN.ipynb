{
 "metadata": {
  "name": "",
  "signature": "sha256:d253f215b2907f49b1bf59d152ba4d3a80802d70576d33aeacf58859bd2de3fe"
 },
 "nbformat": 3,
 "nbformat_minor": 0,
 "worksheets": [
  {
   "cells": [
    {
     "cell_type": "code",
     "collapsed": false,
     "input": [
      "import h5py\n",
      "import glob\n",
      "filepath = '/home/mc/data/mc/Downloads/PLUTO/build/'\n",
      "files = np.sort(glob.glob(filepath+'/data*.h5'))\n",
      "\n",
      "N1 = 200; N2 = 200\n",
      "\n",
      "data = zeros([N2, N1, files.size])\n",
      "\n",
      "for i, dumpfile in enumerate(files):\n",
      "    print \"i = \", i\n",
      "    datafile = h5py.File(dumpfile, \"r\")\n",
      "    data[:, :, i] = datafile[datafile.items()[0][0]][:]\n",
      "    datafile.close()"
     ],
     "language": "python",
     "metadata": {},
     "outputs": [
      {
       "output_type": "stream",
       "stream": "stdout",
       "text": [
        "i =  0\n",
        "i =  1\n",
        "i =  2\n",
        "i =  3\n",
        "i =  4\n",
        "i =  5\n",
        "i =  6\n",
        "i =  7\n",
        "i =  8\n",
        "i =  9\n",
        "i =  10\n",
        "i =  11\n",
        "i =  12\n",
        "i =  13\n",
        "i =  14\n",
        "i =  15\n",
        "i =  16\n",
        "i =  17\n",
        "i =  18\n",
        "i =  19\n",
        "i = "
       ]
      },
      {
       "output_type": "stream",
       "stream": "stdout",
       "text": [
        " 20\n",
        "i =  21\n",
        "i =  22\n",
        "i =  23\n",
        "i =  24\n",
        "i =  25\n",
        "i =  26\n",
        "i =  27\n",
        "i =  28\n",
        "i =  29\n",
        "i =  30\n",
        "i =  31\n",
        "i =  32\n",
        "i =  33\n",
        "i =  34\n",
        "i =  35\n",
        "i =  36\n",
        "i =  37\n",
        "i =  38\n",
        "i =  39\n",
        "i =  40\n",
        "i =  41\n",
        "i =  42\n",
        "i = "
       ]
      },
      {
       "output_type": "stream",
       "stream": "stdout",
       "text": [
        " 43\n",
        "i =  44\n",
        "i =  45\n",
        "i =  46\n",
        "i =  47\n",
        "i =  48\n",
        "i =  49\n",
        "i =  50\n",
        "i =  51\n",
        "i =  52\n",
        "i =  53\n",
        "i =  54\n",
        "i =  55\n",
        "i =  56\n",
        "i =  57\n",
        "i =  58\n",
        "i =  59\n",
        "i =  60\n",
        "i =  61\n",
        "i =  62\n",
        "i =  63\n",
        "i =  64\n",
        "i =  65\n",
        "i =  66\n",
        "i = "
       ]
      },
      {
       "output_type": "stream",
       "stream": "stdout",
       "text": [
        " 67\n",
        "i =  68\n",
        "i =  69\n",
        "i =  70\n",
        "i =  71\n",
        "i =  72\n",
        "i =  73\n",
        "i =  74\n",
        "i =  75\n",
        "i =  76\n",
        "i =  77\n",
        "i =  78\n",
        "i =  79\n",
        "i =  80\n",
        "i =  81\n",
        "i =  82\n",
        "i =  83\n",
        "i =  84\n",
        "i =  85\n",
        "i =  86\n",
        "i =  87\n",
        "i =  88\n",
        "i =  89\n",
        "i = "
       ]
      },
      {
       "output_type": "stream",
       "stream": "stdout",
       "text": [
        " 90\n",
        "i =  91\n",
        "i =  92\n",
        "i =  93\n",
        "i =  94\n",
        "i =  95\n",
        "i =  96\n",
        "i =  97\n",
        "i =  98\n",
        "i =  99\n",
        "i =  100\n"
       ]
      }
     ],
     "prompt_number": 173
    },
    {
     "cell_type": "code",
     "collapsed": false,
     "input": [
      "step = 0\n",
      "\n",
      "clf()\n",
      "contourf(data[:, :, step], 100)\n",
      "colorbar()"
     ],
     "language": "python",
     "metadata": {},
     "outputs": [],
     "prompt_number": 176
    }
   ],
   "metadata": {}
  }
 ]
}