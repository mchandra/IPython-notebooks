{
 "metadata": {
  "name": "",
  "signature": "sha256:b02fe9670b8f2400b83bb60841a8d0c58b725e73238a6dbbff5140f26a0a1d64"
 },
 "nbformat": 3,
 "nbformat_minor": 0,
 "worksheets": [
  {
   "cells": [
    {
     "cell_type": "code",
     "collapsed": false,
     "input": [
      "import h5py\n",
      "import glob\n",
      "import numpy as np\n",
      "import pylab as pl\n",
      "import yt\n",
      "yt.enable_parallelism()\n",
      "\n",
      "%matplotlib inline\n",
      "\n",
      "# Set plot parameters to make beautiful plots\n",
      "pl.rcParams['figure.figsize']  = 12, 7.5\n",
      "pl.rcParams['lines.linewidth'] = 1.5\n",
      "pl.rcParams['font.family']     = 'serif'\n",
      "pl.rcParams['font.weight']     = 'bold'\n",
      "pl.rcParams['font.size']       = 20 \n",
      "pl.rcParams['font.sans-serif'] = 'serif'\n",
      "pl.rcParams['text.usetex']     = True\n",
      "pl.rcParams['axes.linewidth']  = 1.5\n",
      "pl.rcParams['axes.titlesize']  = 'medium'\n",
      "pl.rcParams['axes.labelsize']  = 'medium'\n",
      "\n",
      "pl.rcParams['xtick.major.size'] = 8    \n",
      "pl.rcParams['xtick.minor.size'] = 4    \n",
      "pl.rcParams['xtick.major.pad']  = 8    \n",
      "pl.rcParams['xtick.minor.pad']  = 8    \n",
      "pl.rcParams['xtick.color']      = 'k'    \n",
      "pl.rcParams['xtick.labelsize']  = 'medium'\n",
      "pl.rcParams['xtick.direction']  = 'in'   \n",
      "\n",
      "pl.rcParams['ytick.major.size'] = 8    \n",
      "pl.rcParams['ytick.minor.size'] = 4    \n",
      "pl.rcParams['ytick.major.pad']  = 8    \n",
      "pl.rcParams['ytick.minor.pad']  = 8    \n",
      "pl.rcParams['ytick.color']      = 'k'    \n",
      "pl.rcParams['ytick.labelsize']  = 'medium'\n",
      "pl.rcParams['ytick.direction']  = 'in'    \n",
      "\n",
      "filepath = '/home/astro/work/pluto/ring_diffusion_test'\n",
      "files = np.sort(glob.glob(filepath+'/data*.h5'))\n",
      "\n",
      "N1 = 200; N2 = 200\n",
      "\n",
      "data = np.zeros([N2, N1, files.size])\n",
      "\n",
      "for i, dumpfile in enumerate(files):\n",
      "    print \"i = \", i\n",
      "    datafile = h5py.File(dumpfile, \"r\")\n",
      "    data[:, :, i] = datafile[datafile.items()[0][0]][:]\n",
      "    datafile.close()"
     ],
     "language": "python",
     "metadata": {},
     "outputs": [
      {
       "output_type": "stream",
       "stream": "stderr",
       "text": [
        "yt : [INFO     ] 2015-09-13 17:32:38,075 mpi4py was not found. Disabling parallel computation\n"
       ]
      },
      {
       "output_type": "stream",
       "stream": "stdout",
       "text": [
        "i =  0\n"
       ]
      }
     ],
     "prompt_number": 1
    },
    {
     "cell_type": "code",
     "collapsed": false,
     "input": [
      "step = 0\n",
      "\n",
      "pl.clf()\n",
      "pl.contourf(data[:, :, step], 100)\n",
      "pl.colorbar()"
     ],
     "language": "python",
     "metadata": {},
     "outputs": [
      {
       "metadata": {},
       "output_type": "pyout",
       "prompt_number": 12,
       "text": [
        "<matplotlib.colorbar.Colorbar instance at 0x7f1d190b7368>"
       ]
      },
      {
       "metadata": {},
       "output_type": "display_data",
       "png": "[encoded data removed]",
       "text": [
        "<matplotlib.figure.Figure at 0x7f1d196d75d0>"
       ]
      }
     ],
     "prompt_number": 12
    },
    {
     "cell_type": "code",
     "collapsed": false,
     "input": [],
     "language": "python",
     "metadata": {},
     "outputs": []
    }
   ],
   "metadata": {}
  }
 ]
}