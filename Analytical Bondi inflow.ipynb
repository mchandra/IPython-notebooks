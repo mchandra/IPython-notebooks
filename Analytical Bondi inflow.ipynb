{
 "metadata": {
  "name": ""
 },
 "nbformat": 3,
 "nbformat_minor": 0,
 "worksheets": [
  {
   "cells": [
    {
     "cell_type": "code",
     "collapsed": false,
     "input": [
      "from scipy.optimize import root"
     ],
     "language": "python",
     "metadata": {},
     "outputs": [],
     "prompt_number": 1
    },
    {
     "cell_type": "code",
     "collapsed": false,
     "input": [
      "def func(x, r):\n",
      "    T = x[0]\n",
      "    \n",
      "    return ((1+(1+n)*T)**2*(1-2*m/r+C1**2/(r**4*T**(2*n)))-C2)"
     ],
     "language": "python",
     "metadata": {},
     "outputs": [],
     "prompt_number": 2
    },
    {
     "cell_type": "code",
     "collapsed": false,
     "input": [
      "m = 1.\n",
      "r_c = 20. # Choose the sonic point here\n",
      "Gamma = 5./3\n",
      "n = 1./(Gamma - 1.)\n",
      "\n",
      "u_c = sqrt(m/(2*r_c)) # uc = sqrt(m/2*rc)\n",
      "V_c = -sqrt(u_c**2/(1-3*u_c**2))\n",
      "T_c = -n*V_c**2./((n+1.)*(n*V_c**2.-1.))\n",
      "\n",
      "# Establish constants determining problem\n",
      "C1 = u_c*r_c**2.*T_c**n\n",
      "C2 = (1+(1+n)*T_c)**2*(1-2*m/r_c+C1**2/(r_c**4*T_c**(2*n)))\n",
      "\n",
      "N1 = 128\n",
      "N2 = 128\n",
      "NG = 2\n",
      "A_SPIN = 0.9375\n",
      "H_SLOPE = 0.3\n",
      "R_IN = 0.8*(1. + sqrt(1. - A_SPIN**2.))\n",
      "R_OUT = 40.\n",
      "X1_START = log(R_IN)\n",
      "X2_START = 1e-3\n",
      "DX1 = (log((R_OUT)/(R_IN))/N1)\n",
      "DX2 = ((1. - 2.*X2_START)/N2)\n",
      "i = arange(-NG, N1+NG, 1)\n",
      "j = arange(-NG, N2+NG, 1)\n",
      "X1 = (X1_START + (i + 0.5)*DX1)\n",
      "X2 = (X2_START + (j + 0.5)*DX2)\n",
      "R = exp(X1)\n",
      "THETA = pi*(X2) + ((1 - H_SLOPE)/2.)*sin(2.*pi*(X2))\n",
      "\n",
      "# Get Bondi soln\n",
      "T = np.zeros(R.size)\n",
      "for index, r in enumerate(R):\n",
      "#    print \"r = \", r\n",
      "    for i in xrange(10):\n",
      "        T0 = T_c\n",
      "        sol = root(func, [T0], args=(r))\n",
      "    T[index] = sol.x[0]\n",
      "    if (sol.success!=True):\n",
      "        print \"Not converged at r = \", r\n",
      "        \n",
      "ur = -C1/(T**n*R**2.)\n",
      "rho = T**n\n",
      "P = rho*T\n",
      "u = P/(Gamma-1.)\n",
      "gCovtt = -(1. - 2./R); gContt = 1./gCovtt\n",
      "gamma = sqrt(1. + gCovtt*ur*ur)\n",
      "alpha = -1./sqrt(-gContt)\n",
      "V = alpha*ur/gamma\n",
      "\n",
      "savetxt('/tmp/bondi_soln_rCoords.txt', R, delimiter=\"\\n\")\n",
      "savetxt('/tmp/bondi_soln_rho.txt', rho, delimiter=\"\\n\")\n",
      "savetxt('/tmp/bondi_soln_u.txt', u, delimiter=\"\\n\")\n",
      "savetxt('/tmp/bondi_soln_ur.txt', ur, delimiter=\"\\n\")"
     ],
     "language": "python",
     "metadata": {},
     "outputs": [],
     "prompt_number": 5
    },
    {
     "cell_type": "code",
     "collapsed": false,
     "input": [],
     "language": "python",
     "metadata": {},
     "outputs": []
    }
   ],
   "metadata": {}
  }
 ]
}